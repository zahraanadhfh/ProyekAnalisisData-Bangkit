{
  "cells": [
    {
      "cell_type": "markdown",
      "metadata": {
        "id": "H9wADwK78DCz"
      },
      "source": [
        "# Proyek Analisis Data: [Bike Sharing]\n",
        "- **Nama:** [Zahra Nadhifah]\n",
        "- **Email:** [zahraanadhfh@gmail.com]\n",
        "- **ID Dicoding:** [yourloops]"
      ]
    },
    {
      "cell_type": "markdown",
      "metadata": {
        "id": "eE0raob58DC0"
      },
      "source": [
        "## Menentukan Pertanyaan Bisnis"
      ]
    },
    {
      "cell_type": "markdown",
      "metadata": {
        "id": "GmQeQ5YF8DC0"
      },
      "source": [
        "- Spesific\n",
        "1.   Berapa jumlah perbandingan total sewa sepeda pada holiday dan workingday di tahun 2012?\n",
        "\n",
        "- Measurable\n",
        "2.    Berapa prediksi jumlah sewa sepeda per jam (hourly) berdasarkan pengaturan lingkungan dan musiman?\n",
        "\n",
        "- Time-bound\n",
        "3.   Pada hari libur atau hari kerja, pada jam berapa sepanjang tahun 2012 terjadi peningkatan peminjaman sepeda yang paling signifikan?\n",
        "\n"
      ]
    },
    {
      "cell_type": "markdown",
      "metadata": {
        "id": "H-z4QGlO8DC1"
      },
      "source": [
        "## Import Semua Packages/Library yang Digunakan"
      ]
    },
    {
      "cell_type": "markdown",
      "metadata": {
        "id": "dT9gC5UyiUPR"
      },
      "source": [
        "Data Processing Library"
      ]
    },
    {
      "cell_type": "code",
      "execution_count": 1,
      "metadata": {
        "id": "FVYwaObI8DC1"
      },
      "outputs": [
        {
          "name": "stdout",
          "output_type": "stream",
          "text": [
            "Requirement already satisfied: numpy in c:\\users\\user\\appdata\\local\\programs\\python\\python310\\lib\\site-packages (1.26.2)\n"
          ]
        },
        {
          "name": "stderr",
          "output_type": "stream",
          "text": [
            "WARNING: You are using pip version 21.2.3; however, version 24.0 is available.\n",
            "You should consider upgrading via the 'C:\\Users\\User\\AppData\\Local\\Programs\\Python\\Python310\\python.exe -m pip install --upgrade pip' command.\n"
          ]
        },
        {
          "name": "stdout",
          "output_type": "stream",
          "text": [
            "Requirement already satisfied: pandas in c:\\users\\user\\appdata\\local\\programs\\python\\python310\\lib\\site-packages (2.1.4)\n",
            "Requirement already satisfied: pytz>=2020.1 in c:\\users\\user\\appdata\\local\\programs\\python\\python310\\lib\\site-packages (from pandas) (2023.3.post1)\n",
            "Requirement already satisfied: numpy<2,>=1.22.4 in c:\\users\\user\\appdata\\local\\programs\\python\\python310\\lib\\site-packages (from pandas) (1.26.2)\n",
            "Requirement already satisfied: python-dateutil>=2.8.2 in c:\\users\\user\\appdata\\local\\programs\\python\\python310\\lib\\site-packages (from pandas) (2.8.2)\n",
            "Requirement already satisfied: tzdata>=2022.1 in c:\\users\\user\\appdata\\local\\programs\\python\\python310\\lib\\site-packages (from pandas) (2023.3)\n",
            "Requirement already satisfied: six>=1.5 in c:\\users\\user\\appdata\\local\\programs\\python\\python310\\lib\\site-packages (from python-dateutil>=2.8.2->pandas) (1.16.0)\n"
          ]
        },
        {
          "name": "stderr",
          "output_type": "stream",
          "text": [
            "WARNING: You are using pip version 21.2.3; however, version 24.0 is available.\n",
            "You should consider upgrading via the 'C:\\Users\\User\\AppData\\Local\\Programs\\Python\\Python310\\python.exe -m pip install --upgrade pip' command.\n"
          ]
        },
        {
          "name": "stdout",
          "output_type": "stream",
          "text": [
            "Requirement already satisfied: scipy in c:\\users\\user\\appdata\\local\\programs\\python\\python310\\lib\\site-packages (1.11.4)\n",
            "Requirement already satisfied: numpy<1.28.0,>=1.21.6 in c:\\users\\user\\appdata\\local\\programs\\python\\python310\\lib\\site-packages (from scipy) (1.26.2)\n"
          ]
        },
        {
          "name": "stderr",
          "output_type": "stream",
          "text": [
            "WARNING: You are using pip version 21.2.3; however, version 24.0 is available.\n",
            "You should consider upgrading via the 'C:\\Users\\User\\AppData\\Local\\Programs\\Python\\Python310\\python.exe -m pip install --upgrade pip' command.\n"
          ]
        },
        {
          "name": "stdout",
          "output_type": "stream",
          "text": [
            "Requirement already satisfied: scikit-learn in c:\\users\\user\\appdata\\local\\programs\\python\\python310\\lib\\site-packages (1.4.1.post1)\n",
            "Requirement already satisfied: numpy<2.0,>=1.19.5 in c:\\users\\user\\appdata\\local\\programs\\python\\python310\\lib\\site-packages (from scikit-learn) (1.26.2)\n",
            "Requirement already satisfied: joblib>=1.2.0 in c:\\users\\user\\appdata\\local\\programs\\python\\python310\\lib\\site-packages (from scikit-learn) (1.3.2)\n",
            "Requirement already satisfied: threadpoolctl>=2.0.0 in c:\\users\\user\\appdata\\local\\programs\\python\\python310\\lib\\site-packages (from scikit-learn) (3.3.0)\n",
            "Requirement already satisfied: scipy>=1.6.0 in c:\\users\\user\\appdata\\local\\programs\\python\\python310\\lib\\site-packages (from scikit-learn) (1.11.4)\n"
          ]
        },
        {
          "name": "stderr",
          "output_type": "stream",
          "text": [
            "WARNING: You are using pip version 21.2.3; however, version 24.0 is available.\n",
            "You should consider upgrading via the 'C:\\Users\\User\\AppData\\Local\\Programs\\Python\\Python310\\python.exe -m pip install --upgrade pip' command.\n"
          ]
        },
        {
          "name": "stdout",
          "output_type": "stream",
          "text": [
            "Requirement already satisfied: nbformat in c:\\users\\user\\appdata\\local\\programs\\python\\python310\\lib\\site-packages (5.9.2)\n",
            "Requirement already satisfied: jupyter-core in c:\\users\\user\\appdata\\roaming\\python\\python310\\site-packages (from nbformat) (5.7.1)\n",
            "Requirement already satisfied: traitlets>=5.1 in c:\\users\\user\\appdata\\roaming\\python\\python310\\site-packages (from nbformat) (5.14.1)\n",
            "Requirement already satisfied: jsonschema>=2.6 in c:\\users\\user\\appdata\\local\\programs\\python\\python310\\lib\\site-packages (from nbformat) (4.21.1)\n",
            "Requirement already satisfied: fastjsonschema in c:\\users\\user\\appdata\\local\\programs\\python\\python310\\lib\\site-packages (from nbformat) (2.19.1)\n",
            "Requirement already satisfied: jsonschema-specifications>=2023.03.6 in c:\\users\\user\\appdata\\local\\programs\\python\\python310\\lib\\site-packages (from jsonschema>=2.6->nbformat) (2023.12.1)\n",
            "Requirement already satisfied: rpds-py>=0.7.1 in c:\\users\\user\\appdata\\local\\programs\\python\\python310\\lib\\site-packages (from jsonschema>=2.6->nbformat) (0.18.0)\n",
            "Requirement already satisfied: referencing>=0.28.4 in c:\\users\\user\\appdata\\local\\programs\\python\\python310\\lib\\site-packages (from jsonschema>=2.6->nbformat) (0.33.0)\n",
            "Requirement already satisfied: attrs>=22.2.0 in c:\\users\\user\\appdata\\local\\programs\\python\\python310\\lib\\site-packages (from jsonschema>=2.6->nbformat) (23.2.0)\n",
            "Requirement already satisfied: pywin32>=300 in c:\\users\\user\\appdata\\roaming\\python\\python310\\site-packages (from jupyter-core->nbformat) (306)\n",
            "Requirement already satisfied: platformdirs>=2.5 in c:\\users\\user\\appdata\\roaming\\python\\python310\\site-packages (from jupyter-core->nbformat) (4.2.0)\n"
          ]
        },
        {
          "name": "stderr",
          "output_type": "stream",
          "text": [
            "WARNING: You are using pip version 21.2.3; however, version 24.0 is available.\n",
            "You should consider upgrading via the 'C:\\Users\\User\\AppData\\Local\\Programs\\Python\\Python310\\python.exe -m pip install --upgrade pip' command.\n"
          ]
        }
      ],
      "source": [
        "!pip install numpy\n",
        "!pip install pandas\n",
        "!pip install scipy\n",
        "!pip install scikit-learn\n",
        "!pip install nbformat --upgrade"
      ]
    },
    {
      "cell_type": "code",
      "execution_count": 2,
      "metadata": {
        "id": "ETmeHrM1kQHo"
      },
      "outputs": [],
      "source": [
        "import pandas as pd\n",
        "import numpy as np\n",
        "import seaborn as sns\n",
        "import plotly.express as px\n",
        "import matplotlib.pyplot as plt\n",
        "import plotly.graph_objects as go\n",
        "import sklearn\n",
        "from sklearn.cluster import KMeans\n",
        "from plotly.subplots import make_subplots"
      ]
    },
    {
      "cell_type": "markdown",
      "metadata": {
        "id": "XrmlLMwXod5i"
      },
      "source": [
        "Data Visualization Library"
      ]
    },
    {
      "cell_type": "code",
      "execution_count": 3,
      "metadata": {
        "id": "1SIjtxL0ibfP"
      },
      "outputs": [
        {
          "name": "stdout",
          "output_type": "stream",
          "text": [
            "Requirement already satisfied: matplotlib in c:\\users\\user\\appdata\\local\\programs\\python\\python310\\lib\\site-packages (3.8.2)\n",
            "Requirement already satisfied: pyparsing>=2.3.1 in c:\\users\\user\\appdata\\local\\programs\\python\\python310\\lib\\site-packages (from matplotlib) (3.1.1)\n",
            "Requirement already satisfied: kiwisolver>=1.3.1 in c:\\users\\user\\appdata\\local\\programs\\python\\python310\\lib\\site-packages (from matplotlib) (1.4.5)\n",
            "Requirement already satisfied: fonttools>=4.22.0 in c:\\users\\user\\appdata\\local\\programs\\python\\python310\\lib\\site-packages (from matplotlib) (4.46.0)\n",
            "Requirement already satisfied: python-dateutil>=2.7 in c:\\users\\user\\appdata\\local\\programs\\python\\python310\\lib\\site-packages (from matplotlib) (2.8.2)\n",
            "Requirement already satisfied: cycler>=0.10 in c:\\users\\user\\appdata\\local\\programs\\python\\python310\\lib\\site-packages (from matplotlib) (0.12.1)\n",
            "Requirement already satisfied: packaging>=20.0 in c:\\users\\user\\appdata\\local\\programs\\python\\python310\\lib\\site-packages (from matplotlib) (23.2)\n",
            "Requirement already satisfied: contourpy>=1.0.1 in c:\\users\\user\\appdata\\local\\programs\\python\\python310\\lib\\site-packages (from matplotlib) (1.2.0)\n",
            "Requirement already satisfied: numpy<2,>=1.21 in c:\\users\\user\\appdata\\local\\programs\\python\\python310\\lib\\site-packages (from matplotlib) (1.26.2)\n",
            "Requirement already satisfied: pillow>=8 in c:\\users\\user\\appdata\\local\\programs\\python\\python310\\lib\\site-packages (from matplotlib) (10.1.0)\n",
            "Requirement already satisfied: six>=1.5 in c:\\users\\user\\appdata\\local\\programs\\python\\python310\\lib\\site-packages (from python-dateutil>=2.7->matplotlib) (1.16.0)\n"
          ]
        },
        {
          "name": "stderr",
          "output_type": "stream",
          "text": [
            "WARNING: You are using pip version 21.2.3; however, version 24.0 is available.\n",
            "You should consider upgrading via the 'C:\\Users\\User\\AppData\\Local\\Programs\\Python\\Python310\\python.exe -m pip install --upgrade pip' command.\n"
          ]
        },
        {
          "name": "stdout",
          "output_type": "stream",
          "text": [
            "Requirement already satisfied: seaborn in c:\\users\\user\\appdata\\local\\programs\\python\\python310\\lib\\site-packages (0.13.0)\n",
            "Requirement already satisfied: matplotlib!=3.6.1,>=3.3 in c:\\users\\user\\appdata\\local\\programs\\python\\python310\\lib\\site-packages (from seaborn) (3.8.2)\n",
            "Requirement already satisfied: pandas>=1.2 in c:\\users\\user\\appdata\\local\\programs\\python\\python310\\lib\\site-packages (from seaborn) (2.1.4)\n",
            "Requirement already satisfied: numpy!=1.24.0,>=1.20 in c:\\users\\user\\appdata\\local\\programs\\python\\python310\\lib\\site-packages (from seaborn) (1.26.2)\n",
            "Requirement already satisfied: fonttools>=4.22.0 in c:\\users\\user\\appdata\\local\\programs\\python\\python310\\lib\\site-packages (from matplotlib!=3.6.1,>=3.3->seaborn) (4.46.0)\n",
            "Requirement already satisfied: cycler>=0.10 in c:\\users\\user\\appdata\\local\\programs\\python\\python310\\lib\\site-packages (from matplotlib!=3.6.1,>=3.3->seaborn) (0.12.1)\n",
            "Requirement already satisfied: packaging>=20.0 in c:\\users\\user\\appdata\\local\\programs\\python\\python310\\lib\\site-packages (from matplotlib!=3.6.1,>=3.3->seaborn) (23.2)\n",
            "Requirement already satisfied: contourpy>=1.0.1 in c:\\users\\user\\appdata\\local\\programs\\python\\python310\\lib\\site-packages (from matplotlib!=3.6.1,>=3.3->seaborn) (1.2.0)\n",
            "Requirement already satisfied: kiwisolver>=1.3.1 in c:\\users\\user\\appdata\\local\\programs\\python\\python310\\lib\\site-packages (from matplotlib!=3.6.1,>=3.3->seaborn) (1.4.5)\n",
            "Requirement already satisfied: python-dateutil>=2.7 in c:\\users\\user\\appdata\\local\\programs\\python\\python310\\lib\\site-packages (from matplotlib!=3.6.1,>=3.3->seaborn) (2.8.2)\n",
            "Requirement already satisfied: pyparsing>=2.3.1 in c:\\users\\user\\appdata\\local\\programs\\python\\python310\\lib\\site-packages (from matplotlib!=3.6.1,>=3.3->seaborn) (3.1.1)\n",
            "Requirement already satisfied: pillow>=8 in c:\\users\\user\\appdata\\local\\programs\\python\\python310\\lib\\site-packages (from matplotlib!=3.6.1,>=3.3->seaborn) (10.1.0)\n",
            "Requirement already satisfied: tzdata>=2022.1 in c:\\users\\user\\appdata\\local\\programs\\python\\python310\\lib\\site-packages (from pandas>=1.2->seaborn) (2023.3)\n",
            "Requirement already satisfied: pytz>=2020.1 in c:\\users\\user\\appdata\\local\\programs\\python\\python310\\lib\\site-packages (from pandas>=1.2->seaborn) (2023.3.post1)\n",
            "Requirement already satisfied: six>=1.5 in c:\\users\\user\\appdata\\local\\programs\\python\\python310\\lib\\site-packages (from python-dateutil>=2.7->matplotlib!=3.6.1,>=3.3->seaborn) (1.16.0)\n"
          ]
        },
        {
          "name": "stderr",
          "output_type": "stream",
          "text": [
            "WARNING: You are using pip version 21.2.3; however, version 24.0 is available.\n",
            "You should consider upgrading via the 'C:\\Users\\User\\AppData\\Local\\Programs\\Python\\Python310\\python.exe -m pip install --upgrade pip' command.\n"
          ]
        }
      ],
      "source": [
        "!pip install matplotlib\n",
        "!pip install seaborn"
      ]
    },
    {
      "cell_type": "markdown",
      "metadata": {
        "id": "h_Sh51Xy8DC1"
      },
      "source": [
        "## Data Wrangling"
      ]
    },
    {
      "cell_type": "markdown",
      "metadata": {
        "id": "sXU2GBYu8DC1"
      },
      "source": [
        "### Gathering Data"
      ]
    },
    {
      "cell_type": "code",
      "execution_count": 4,
      "metadata": {
        "id": "zjCBk1BI8DC1"
      },
      "outputs": [],
      "source": [
        "df_day = pd.read_csv(\"data\\day.csv\")\n",
        "df_hour = pd.read_csv(\"data/hour.csv\")"
      ]
    },
    {
      "cell_type": "code",
      "execution_count": 5,
      "metadata": {
        "colab": {
          "base_uri": "https://localhost:8080/",
          "height": 206
        },
        "id": "a8qeZoy0nSkJ",
        "outputId": "8c49cb1c-5e3c-45e8-e174-08d78f857bd3"
      },
      "outputs": [
        {
          "data": {
            "text/html": [
              "<div>\n",
              "<style scoped>\n",
              "    .dataframe tbody tr th:only-of-type {\n",
              "        vertical-align: middle;\n",
              "    }\n",
              "\n",
              "    .dataframe tbody tr th {\n",
              "        vertical-align: top;\n",
              "    }\n",
              "\n",
              "    .dataframe thead th {\n",
              "        text-align: right;\n",
              "    }\n",
              "</style>\n",
              "<table border=\"1\" class=\"dataframe\">\n",
              "  <thead>\n",
              "    <tr style=\"text-align: right;\">\n",
              "      <th></th>\n",
              "      <th>instant</th>\n",
              "      <th>dteday</th>\n",
              "      <th>season</th>\n",
              "      <th>yr</th>\n",
              "      <th>mnth</th>\n",
              "      <th>holiday</th>\n",
              "      <th>weekday</th>\n",
              "      <th>workingday</th>\n",
              "      <th>weathersit</th>\n",
              "      <th>temp</th>\n",
              "      <th>atemp</th>\n",
              "      <th>hum</th>\n",
              "      <th>windspeed</th>\n",
              "      <th>casual</th>\n",
              "      <th>registered</th>\n",
              "      <th>cnt</th>\n",
              "    </tr>\n",
              "  </thead>\n",
              "  <tbody>\n",
              "    <tr>\n",
              "      <th>0</th>\n",
              "      <td>1</td>\n",
              "      <td>2011-01-01</td>\n",
              "      <td>1</td>\n",
              "      <td>0</td>\n",
              "      <td>1</td>\n",
              "      <td>0</td>\n",
              "      <td>6</td>\n",
              "      <td>0</td>\n",
              "      <td>2</td>\n",
              "      <td>0.344167</td>\n",
              "      <td>0.363625</td>\n",
              "      <td>0.805833</td>\n",
              "      <td>0.160446</td>\n",
              "      <td>331</td>\n",
              "      <td>654</td>\n",
              "      <td>985</td>\n",
              "    </tr>\n",
              "    <tr>\n",
              "      <th>1</th>\n",
              "      <td>2</td>\n",
              "      <td>2011-01-02</td>\n",
              "      <td>1</td>\n",
              "      <td>0</td>\n",
              "      <td>1</td>\n",
              "      <td>0</td>\n",
              "      <td>0</td>\n",
              "      <td>0</td>\n",
              "      <td>2</td>\n",
              "      <td>0.363478</td>\n",
              "      <td>0.353739</td>\n",
              "      <td>0.696087</td>\n",
              "      <td>0.248539</td>\n",
              "      <td>131</td>\n",
              "      <td>670</td>\n",
              "      <td>801</td>\n",
              "    </tr>\n",
              "    <tr>\n",
              "      <th>2</th>\n",
              "      <td>3</td>\n",
              "      <td>2011-01-03</td>\n",
              "      <td>1</td>\n",
              "      <td>0</td>\n",
              "      <td>1</td>\n",
              "      <td>0</td>\n",
              "      <td>1</td>\n",
              "      <td>1</td>\n",
              "      <td>1</td>\n",
              "      <td>0.196364</td>\n",
              "      <td>0.189405</td>\n",
              "      <td>0.437273</td>\n",
              "      <td>0.248309</td>\n",
              "      <td>120</td>\n",
              "      <td>1229</td>\n",
              "      <td>1349</td>\n",
              "    </tr>\n",
              "    <tr>\n",
              "      <th>3</th>\n",
              "      <td>4</td>\n",
              "      <td>2011-01-04</td>\n",
              "      <td>1</td>\n",
              "      <td>0</td>\n",
              "      <td>1</td>\n",
              "      <td>0</td>\n",
              "      <td>2</td>\n",
              "      <td>1</td>\n",
              "      <td>1</td>\n",
              "      <td>0.200000</td>\n",
              "      <td>0.212122</td>\n",
              "      <td>0.590435</td>\n",
              "      <td>0.160296</td>\n",
              "      <td>108</td>\n",
              "      <td>1454</td>\n",
              "      <td>1562</td>\n",
              "    </tr>\n",
              "    <tr>\n",
              "      <th>4</th>\n",
              "      <td>5</td>\n",
              "      <td>2011-01-05</td>\n",
              "      <td>1</td>\n",
              "      <td>0</td>\n",
              "      <td>1</td>\n",
              "      <td>0</td>\n",
              "      <td>3</td>\n",
              "      <td>1</td>\n",
              "      <td>1</td>\n",
              "      <td>0.226957</td>\n",
              "      <td>0.229270</td>\n",
              "      <td>0.436957</td>\n",
              "      <td>0.186900</td>\n",
              "      <td>82</td>\n",
              "      <td>1518</td>\n",
              "      <td>1600</td>\n",
              "    </tr>\n",
              "  </tbody>\n",
              "</table>\n",
              "</div>"
            ],
            "text/plain": [
              "   instant      dteday  season  yr  mnth  holiday  weekday  workingday  \\\n",
              "0        1  2011-01-01       1   0     1        0        6           0   \n",
              "1        2  2011-01-02       1   0     1        0        0           0   \n",
              "2        3  2011-01-03       1   0     1        0        1           1   \n",
              "3        4  2011-01-04       1   0     1        0        2           1   \n",
              "4        5  2011-01-05       1   0     1        0        3           1   \n",
              "\n",
              "   weathersit      temp     atemp       hum  windspeed  casual  registered  \\\n",
              "0           2  0.344167  0.363625  0.805833   0.160446     331         654   \n",
              "1           2  0.363478  0.353739  0.696087   0.248539     131         670   \n",
              "2           1  0.196364  0.189405  0.437273   0.248309     120        1229   \n",
              "3           1  0.200000  0.212122  0.590435   0.160296     108        1454   \n",
              "4           1  0.226957  0.229270  0.436957   0.186900      82        1518   \n",
              "\n",
              "    cnt  \n",
              "0   985  \n",
              "1   801  \n",
              "2  1349  \n",
              "3  1562  \n",
              "4  1600  "
            ]
          },
          "execution_count": 5,
          "metadata": {},
          "output_type": "execute_result"
        }
      ],
      "source": [
        "df_day.head()"
      ]
    },
    {
      "cell_type": "code",
      "execution_count": 6,
      "metadata": {
        "colab": {
          "base_uri": "https://localhost:8080/",
          "height": 206
        },
        "id": "7oyKfFNonrXi",
        "outputId": "62f10214-55cd-490b-b00b-40b10e9d1b59"
      },
      "outputs": [
        {
          "data": {
            "text/html": [
              "<div>\n",
              "<style scoped>\n",
              "    .dataframe tbody tr th:only-of-type {\n",
              "        vertical-align: middle;\n",
              "    }\n",
              "\n",
              "    .dataframe tbody tr th {\n",
              "        vertical-align: top;\n",
              "    }\n",
              "\n",
              "    .dataframe thead th {\n",
              "        text-align: right;\n",
              "    }\n",
              "</style>\n",
              "<table border=\"1\" class=\"dataframe\">\n",
              "  <thead>\n",
              "    <tr style=\"text-align: right;\">\n",
              "      <th></th>\n",
              "      <th>instant</th>\n",
              "      <th>dteday</th>\n",
              "      <th>season</th>\n",
              "      <th>yr</th>\n",
              "      <th>mnth</th>\n",
              "      <th>hr</th>\n",
              "      <th>holiday</th>\n",
              "      <th>weekday</th>\n",
              "      <th>workingday</th>\n",
              "      <th>weathersit</th>\n",
              "      <th>temp</th>\n",
              "      <th>atemp</th>\n",
              "      <th>hum</th>\n",
              "      <th>windspeed</th>\n",
              "      <th>casual</th>\n",
              "      <th>registered</th>\n",
              "      <th>cnt</th>\n",
              "    </tr>\n",
              "  </thead>\n",
              "  <tbody>\n",
              "    <tr>\n",
              "      <th>0</th>\n",
              "      <td>1</td>\n",
              "      <td>2011-01-01</td>\n",
              "      <td>1</td>\n",
              "      <td>0</td>\n",
              "      <td>1</td>\n",
              "      <td>0</td>\n",
              "      <td>0</td>\n",
              "      <td>6</td>\n",
              "      <td>0</td>\n",
              "      <td>1</td>\n",
              "      <td>0.24</td>\n",
              "      <td>0.2879</td>\n",
              "      <td>0.81</td>\n",
              "      <td>0.0</td>\n",
              "      <td>3</td>\n",
              "      <td>13</td>\n",
              "      <td>16</td>\n",
              "    </tr>\n",
              "    <tr>\n",
              "      <th>1</th>\n",
              "      <td>2</td>\n",
              "      <td>2011-01-01</td>\n",
              "      <td>1</td>\n",
              "      <td>0</td>\n",
              "      <td>1</td>\n",
              "      <td>1</td>\n",
              "      <td>0</td>\n",
              "      <td>6</td>\n",
              "      <td>0</td>\n",
              "      <td>1</td>\n",
              "      <td>0.22</td>\n",
              "      <td>0.2727</td>\n",
              "      <td>0.80</td>\n",
              "      <td>0.0</td>\n",
              "      <td>8</td>\n",
              "      <td>32</td>\n",
              "      <td>40</td>\n",
              "    </tr>\n",
              "    <tr>\n",
              "      <th>2</th>\n",
              "      <td>3</td>\n",
              "      <td>2011-01-01</td>\n",
              "      <td>1</td>\n",
              "      <td>0</td>\n",
              "      <td>1</td>\n",
              "      <td>2</td>\n",
              "      <td>0</td>\n",
              "      <td>6</td>\n",
              "      <td>0</td>\n",
              "      <td>1</td>\n",
              "      <td>0.22</td>\n",
              "      <td>0.2727</td>\n",
              "      <td>0.80</td>\n",
              "      <td>0.0</td>\n",
              "      <td>5</td>\n",
              "      <td>27</td>\n",
              "      <td>32</td>\n",
              "    </tr>\n",
              "    <tr>\n",
              "      <th>3</th>\n",
              "      <td>4</td>\n",
              "      <td>2011-01-01</td>\n",
              "      <td>1</td>\n",
              "      <td>0</td>\n",
              "      <td>1</td>\n",
              "      <td>3</td>\n",
              "      <td>0</td>\n",
              "      <td>6</td>\n",
              "      <td>0</td>\n",
              "      <td>1</td>\n",
              "      <td>0.24</td>\n",
              "      <td>0.2879</td>\n",
              "      <td>0.75</td>\n",
              "      <td>0.0</td>\n",
              "      <td>3</td>\n",
              "      <td>10</td>\n",
              "      <td>13</td>\n",
              "    </tr>\n",
              "    <tr>\n",
              "      <th>4</th>\n",
              "      <td>5</td>\n",
              "      <td>2011-01-01</td>\n",
              "      <td>1</td>\n",
              "      <td>0</td>\n",
              "      <td>1</td>\n",
              "      <td>4</td>\n",
              "      <td>0</td>\n",
              "      <td>6</td>\n",
              "      <td>0</td>\n",
              "      <td>1</td>\n",
              "      <td>0.24</td>\n",
              "      <td>0.2879</td>\n",
              "      <td>0.75</td>\n",
              "      <td>0.0</td>\n",
              "      <td>0</td>\n",
              "      <td>1</td>\n",
              "      <td>1</td>\n",
              "    </tr>\n",
              "  </tbody>\n",
              "</table>\n",
              "</div>"
            ],
            "text/plain": [
              "   instant      dteday  season  yr  mnth  hr  holiday  weekday  workingday  \\\n",
              "0        1  2011-01-01       1   0     1   0        0        6           0   \n",
              "1        2  2011-01-01       1   0     1   1        0        6           0   \n",
              "2        3  2011-01-01       1   0     1   2        0        6           0   \n",
              "3        4  2011-01-01       1   0     1   3        0        6           0   \n",
              "4        5  2011-01-01       1   0     1   4        0        6           0   \n",
              "\n",
              "   weathersit  temp   atemp   hum  windspeed  casual  registered  cnt  \n",
              "0           1  0.24  0.2879  0.81        0.0       3          13   16  \n",
              "1           1  0.22  0.2727  0.80        0.0       8          32   40  \n",
              "2           1  0.22  0.2727  0.80        0.0       5          27   32  \n",
              "3           1  0.24  0.2879  0.75        0.0       3          10   13  \n",
              "4           1  0.24  0.2879  0.75        0.0       0           1    1  "
            ]
          },
          "execution_count": 6,
          "metadata": {},
          "output_type": "execute_result"
        }
      ],
      "source": [
        "df_hour.head()"
      ]
    },
    {
      "cell_type": "markdown",
      "metadata": {
        "id": "drFZOajweZd1"
      },
      "source": [
        "Displays the top 5 data from a dataframe using head() function."
      ]
    },
    {
      "cell_type": "markdown",
      "metadata": {
        "id": "FHSiqaZp8DC1"
      },
      "source": [
        "### Assessing Data"
      ]
    },
    {
      "cell_type": "markdown",
      "metadata": {
        "id": "LrquKS1Qr0IG"
      },
      "source": [
        "Datatype Information"
      ]
    },
    {
      "cell_type": "code",
      "execution_count": 7,
      "metadata": {
        "colab": {
          "base_uri": "https://localhost:8080/"
        },
        "id": "ax-3tEjc9Cj1",
        "outputId": "977cdfb4-876f-405c-e57a-e7881fc97de5"
      },
      "outputs": [
        {
          "name": "stdout",
          "output_type": "stream",
          "text": [
            "Dataframe (day) information: \n",
            "<class 'pandas.core.frame.DataFrame'>\n",
            "RangeIndex: 731 entries, 0 to 730\n",
            "Data columns (total 16 columns):\n",
            " #   Column      Non-Null Count  Dtype  \n",
            "---  ------      --------------  -----  \n",
            " 0   instant     731 non-null    int64  \n",
            " 1   dteday      731 non-null    object \n",
            " 2   season      731 non-null    int64  \n",
            " 3   yr          731 non-null    int64  \n",
            " 4   mnth        731 non-null    int64  \n",
            " 5   holiday     731 non-null    int64  \n",
            " 6   weekday     731 non-null    int64  \n",
            " 7   workingday  731 non-null    int64  \n",
            " 8   weathersit  731 non-null    int64  \n",
            " 9   temp        731 non-null    float64\n",
            " 10  atemp       731 non-null    float64\n",
            " 11  hum         731 non-null    float64\n",
            " 12  windspeed   731 non-null    float64\n",
            " 13  casual      731 non-null    int64  \n",
            " 14  registered  731 non-null    int64  \n",
            " 15  cnt         731 non-null    int64  \n",
            "dtypes: float64(4), int64(11), object(1)\n",
            "memory usage: 91.5+ KB\n",
            "None\n",
            "Dataframe (hour) information: \n",
            "<class 'pandas.core.frame.DataFrame'>\n",
            "RangeIndex: 17379 entries, 0 to 17378\n",
            "Data columns (total 17 columns):\n",
            " #   Column      Non-Null Count  Dtype  \n",
            "---  ------      --------------  -----  \n",
            " 0   instant     17379 non-null  int64  \n",
            " 1   dteday      17379 non-null  object \n",
            " 2   season      17379 non-null  int64  \n",
            " 3   yr          17379 non-null  int64  \n",
            " 4   mnth        17379 non-null  int64  \n",
            " 5   hr          17379 non-null  int64  \n",
            " 6   holiday     17379 non-null  int64  \n",
            " 7   weekday     17379 non-null  int64  \n",
            " 8   workingday  17379 non-null  int64  \n",
            " 9   weathersit  17379 non-null  int64  \n",
            " 10  temp        17379 non-null  float64\n",
            " 11  atemp       17379 non-null  float64\n",
            " 12  hum         17379 non-null  float64\n",
            " 13  windspeed   17379 non-null  float64\n",
            " 14  casual      17379 non-null  int64  \n",
            " 15  registered  17379 non-null  int64  \n",
            " 16  cnt         17379 non-null  int64  \n",
            "dtypes: float64(4), int64(12), object(1)\n",
            "memory usage: 2.3+ MB\n",
            "None\n"
          ]
        }
      ],
      "source": [
        "print('Dataframe (day) information: ')\n",
        "print(df_day.info())\n",
        "\n",
        "print('Dataframe (hour) information: ')\n",
        "print(df_hour.info())"
      ]
    },
    {
      "cell_type": "markdown",
      "metadata": {
        "id": "id073-t0Rchu"
      },
      "source": [
        "The result is that in df_day there is a data type error in the dte_day column which is listed as an object, it should be a datetime data type."
      ]
    },
    {
      "cell_type": "markdown",
      "metadata": {
        "id": "QI3MbhmUr38Z"
      },
      "source": [
        "Handling Missing Value"
      ]
    },
    {
      "cell_type": "code",
      "execution_count": 8,
      "metadata": {
        "colab": {
          "base_uri": "https://localhost:8080/"
        },
        "id": "T-6v9Q4EsArS",
        "outputId": "20cbcedd-f1f7-4d42-cee5-460fdd49cec1"
      },
      "outputs": [
        {
          "name": "stdout",
          "output_type": "stream",
          "text": [
            "Total missing value (DF day): \n",
            "instant       0\n",
            "dteday        0\n",
            "season        0\n",
            "yr            0\n",
            "mnth          0\n",
            "holiday       0\n",
            "weekday       0\n",
            "workingday    0\n",
            "weathersit    0\n",
            "temp          0\n",
            "atemp         0\n",
            "hum           0\n",
            "windspeed     0\n",
            "casual        0\n",
            "registered    0\n",
            "cnt           0\n",
            "dtype: int64\n"
          ]
        }
      ],
      "source": [
        "print('Total missing value (DF day): ')\n",
        "print(df_day.isnull().sum())"
      ]
    },
    {
      "cell_type": "markdown",
      "metadata": {
        "id": "bh4dJvOszEKr"
      },
      "source": [
        "No missing value in dataframe day."
      ]
    },
    {
      "cell_type": "code",
      "execution_count": 9,
      "metadata": {
        "colab": {
          "base_uri": "https://localhost:8080/"
        },
        "id": "PWfw2HE-s2-S",
        "outputId": "4a4a79b1-927b-4010-846d-444c567b44fd"
      },
      "outputs": [
        {
          "name": "stdout",
          "output_type": "stream",
          "text": [
            "Total missing value (DF hour): \n",
            "instant       0\n",
            "dteday        0\n",
            "season        0\n",
            "yr            0\n",
            "mnth          0\n",
            "hr            0\n",
            "holiday       0\n",
            "weekday       0\n",
            "workingday    0\n",
            "weathersit    0\n",
            "temp          0\n",
            "atemp         0\n",
            "hum           0\n",
            "windspeed     0\n",
            "casual        0\n",
            "registered    0\n",
            "cnt           0\n",
            "dtype: int64\n"
          ]
        }
      ],
      "source": [
        "print('Total missing value (DF hour): ')\n",
        "print(df_hour.isnull().sum())"
      ]
    },
    {
      "cell_type": "markdown",
      "metadata": {
        "id": "uERhejquzHs4"
      },
      "source": [
        "No missing value in dataframe hour."
      ]
    },
    {
      "cell_type": "markdown",
      "metadata": {
        "id": "KnkWLoGlwRIC"
      },
      "source": [
        "Handling Duplicate Data"
      ]
    },
    {
      "cell_type": "code",
      "execution_count": 10,
      "metadata": {
        "colab": {
          "base_uri": "https://localhost:8080/"
        },
        "id": "8urx8UwrwZkH",
        "outputId": "edfdd6f0-67e6-4e2c-8162-5afc30c52664"
      },
      "outputs": [
        {
          "name": "stdout",
          "output_type": "stream",
          "text": [
            "Total Duplicate (DF day):  0\n",
            "Total Duplicate (DF hour):  0\n"
          ]
        }
      ],
      "source": [
        "print('Total Duplicate (DF day): ', df_day.duplicated().sum())\n",
        "print('Total Duplicate (DF hour): ', df_hour.duplicated().sum())"
      ]
    },
    {
      "cell_type": "markdown",
      "metadata": {
        "id": "1VD_mUHUeJ5x"
      },
      "source": [
        "No duplicate data for Dataframe day and hour."
      ]
    },
    {
      "cell_type": "markdown",
      "metadata": {
        "id": "tvYUzdRs4A_A"
      },
      "source": [
        "Descriptive Statistics"
      ]
    },
    {
      "cell_type": "code",
      "execution_count": 11,
      "metadata": {
        "colab": {
          "base_uri": "https://localhost:8080/",
          "height": 320
        },
        "id": "yswnFduX3y9Y",
        "outputId": "a0611519-7f1e-4796-c3f6-f01051848a12"
      },
      "outputs": [
        {
          "data": {
            "text/html": [
              "<div>\n",
              "<style scoped>\n",
              "    .dataframe tbody tr th:only-of-type {\n",
              "        vertical-align: middle;\n",
              "    }\n",
              "\n",
              "    .dataframe tbody tr th {\n",
              "        vertical-align: top;\n",
              "    }\n",
              "\n",
              "    .dataframe thead th {\n",
              "        text-align: right;\n",
              "    }\n",
              "</style>\n",
              "<table border=\"1\" class=\"dataframe\">\n",
              "  <thead>\n",
              "    <tr style=\"text-align: right;\">\n",
              "      <th></th>\n",
              "      <th>instant</th>\n",
              "      <th>season</th>\n",
              "      <th>yr</th>\n",
              "      <th>mnth</th>\n",
              "      <th>holiday</th>\n",
              "      <th>weekday</th>\n",
              "      <th>workingday</th>\n",
              "      <th>weathersit</th>\n",
              "      <th>temp</th>\n",
              "      <th>atemp</th>\n",
              "      <th>hum</th>\n",
              "      <th>windspeed</th>\n",
              "      <th>casual</th>\n",
              "      <th>registered</th>\n",
              "      <th>cnt</th>\n",
              "    </tr>\n",
              "  </thead>\n",
              "  <tbody>\n",
              "    <tr>\n",
              "      <th>count</th>\n",
              "      <td>731.000000</td>\n",
              "      <td>731.000000</td>\n",
              "      <td>731.000000</td>\n",
              "      <td>731.000000</td>\n",
              "      <td>731.000000</td>\n",
              "      <td>731.000000</td>\n",
              "      <td>731.000000</td>\n",
              "      <td>731.000000</td>\n",
              "      <td>731.000000</td>\n",
              "      <td>731.000000</td>\n",
              "      <td>731.000000</td>\n",
              "      <td>731.000000</td>\n",
              "      <td>731.000000</td>\n",
              "      <td>731.000000</td>\n",
              "      <td>731.000000</td>\n",
              "    </tr>\n",
              "    <tr>\n",
              "      <th>mean</th>\n",
              "      <td>366.000000</td>\n",
              "      <td>2.496580</td>\n",
              "      <td>0.500684</td>\n",
              "      <td>6.519836</td>\n",
              "      <td>0.028728</td>\n",
              "      <td>2.997264</td>\n",
              "      <td>0.683995</td>\n",
              "      <td>1.395349</td>\n",
              "      <td>0.495385</td>\n",
              "      <td>0.474354</td>\n",
              "      <td>0.627894</td>\n",
              "      <td>0.190486</td>\n",
              "      <td>848.176471</td>\n",
              "      <td>3656.172367</td>\n",
              "      <td>4504.348837</td>\n",
              "    </tr>\n",
              "    <tr>\n",
              "      <th>std</th>\n",
              "      <td>211.165812</td>\n",
              "      <td>1.110807</td>\n",
              "      <td>0.500342</td>\n",
              "      <td>3.451913</td>\n",
              "      <td>0.167155</td>\n",
              "      <td>2.004787</td>\n",
              "      <td>0.465233</td>\n",
              "      <td>0.544894</td>\n",
              "      <td>0.183051</td>\n",
              "      <td>0.162961</td>\n",
              "      <td>0.142429</td>\n",
              "      <td>0.077498</td>\n",
              "      <td>686.622488</td>\n",
              "      <td>1560.256377</td>\n",
              "      <td>1937.211452</td>\n",
              "    </tr>\n",
              "    <tr>\n",
              "      <th>min</th>\n",
              "      <td>1.000000</td>\n",
              "      <td>1.000000</td>\n",
              "      <td>0.000000</td>\n",
              "      <td>1.000000</td>\n",
              "      <td>0.000000</td>\n",
              "      <td>0.000000</td>\n",
              "      <td>0.000000</td>\n",
              "      <td>1.000000</td>\n",
              "      <td>0.059130</td>\n",
              "      <td>0.079070</td>\n",
              "      <td>0.000000</td>\n",
              "      <td>0.022392</td>\n",
              "      <td>2.000000</td>\n",
              "      <td>20.000000</td>\n",
              "      <td>22.000000</td>\n",
              "    </tr>\n",
              "    <tr>\n",
              "      <th>25%</th>\n",
              "      <td>183.500000</td>\n",
              "      <td>2.000000</td>\n",
              "      <td>0.000000</td>\n",
              "      <td>4.000000</td>\n",
              "      <td>0.000000</td>\n",
              "      <td>1.000000</td>\n",
              "      <td>0.000000</td>\n",
              "      <td>1.000000</td>\n",
              "      <td>0.337083</td>\n",
              "      <td>0.337842</td>\n",
              "      <td>0.520000</td>\n",
              "      <td>0.134950</td>\n",
              "      <td>315.500000</td>\n",
              "      <td>2497.000000</td>\n",
              "      <td>3152.000000</td>\n",
              "    </tr>\n",
              "    <tr>\n",
              "      <th>50%</th>\n",
              "      <td>366.000000</td>\n",
              "      <td>3.000000</td>\n",
              "      <td>1.000000</td>\n",
              "      <td>7.000000</td>\n",
              "      <td>0.000000</td>\n",
              "      <td>3.000000</td>\n",
              "      <td>1.000000</td>\n",
              "      <td>1.000000</td>\n",
              "      <td>0.498333</td>\n",
              "      <td>0.486733</td>\n",
              "      <td>0.626667</td>\n",
              "      <td>0.180975</td>\n",
              "      <td>713.000000</td>\n",
              "      <td>3662.000000</td>\n",
              "      <td>4548.000000</td>\n",
              "    </tr>\n",
              "    <tr>\n",
              "      <th>75%</th>\n",
              "      <td>548.500000</td>\n",
              "      <td>3.000000</td>\n",
              "      <td>1.000000</td>\n",
              "      <td>10.000000</td>\n",
              "      <td>0.000000</td>\n",
              "      <td>5.000000</td>\n",
              "      <td>1.000000</td>\n",
              "      <td>2.000000</td>\n",
              "      <td>0.655417</td>\n",
              "      <td>0.608602</td>\n",
              "      <td>0.730209</td>\n",
              "      <td>0.233214</td>\n",
              "      <td>1096.000000</td>\n",
              "      <td>4776.500000</td>\n",
              "      <td>5956.000000</td>\n",
              "    </tr>\n",
              "    <tr>\n",
              "      <th>max</th>\n",
              "      <td>731.000000</td>\n",
              "      <td>4.000000</td>\n",
              "      <td>1.000000</td>\n",
              "      <td>12.000000</td>\n",
              "      <td>1.000000</td>\n",
              "      <td>6.000000</td>\n",
              "      <td>1.000000</td>\n",
              "      <td>3.000000</td>\n",
              "      <td>0.861667</td>\n",
              "      <td>0.840896</td>\n",
              "      <td>0.972500</td>\n",
              "      <td>0.507463</td>\n",
              "      <td>3410.000000</td>\n",
              "      <td>6946.000000</td>\n",
              "      <td>8714.000000</td>\n",
              "    </tr>\n",
              "  </tbody>\n",
              "</table>\n",
              "</div>"
            ],
            "text/plain": [
              "          instant      season          yr        mnth     holiday     weekday  \\\n",
              "count  731.000000  731.000000  731.000000  731.000000  731.000000  731.000000   \n",
              "mean   366.000000    2.496580    0.500684    6.519836    0.028728    2.997264   \n",
              "std    211.165812    1.110807    0.500342    3.451913    0.167155    2.004787   \n",
              "min      1.000000    1.000000    0.000000    1.000000    0.000000    0.000000   \n",
              "25%    183.500000    2.000000    0.000000    4.000000    0.000000    1.000000   \n",
              "50%    366.000000    3.000000    1.000000    7.000000    0.000000    3.000000   \n",
              "75%    548.500000    3.000000    1.000000   10.000000    0.000000    5.000000   \n",
              "max    731.000000    4.000000    1.000000   12.000000    1.000000    6.000000   \n",
              "\n",
              "       workingday  weathersit        temp       atemp         hum   windspeed  \\\n",
              "count  731.000000  731.000000  731.000000  731.000000  731.000000  731.000000   \n",
              "mean     0.683995    1.395349    0.495385    0.474354    0.627894    0.190486   \n",
              "std      0.465233    0.544894    0.183051    0.162961    0.142429    0.077498   \n",
              "min      0.000000    1.000000    0.059130    0.079070    0.000000    0.022392   \n",
              "25%      0.000000    1.000000    0.337083    0.337842    0.520000    0.134950   \n",
              "50%      1.000000    1.000000    0.498333    0.486733    0.626667    0.180975   \n",
              "75%      1.000000    2.000000    0.655417    0.608602    0.730209    0.233214   \n",
              "max      1.000000    3.000000    0.861667    0.840896    0.972500    0.507463   \n",
              "\n",
              "            casual   registered          cnt  \n",
              "count   731.000000   731.000000   731.000000  \n",
              "mean    848.176471  3656.172367  4504.348837  \n",
              "std     686.622488  1560.256377  1937.211452  \n",
              "min       2.000000    20.000000    22.000000  \n",
              "25%     315.500000  2497.000000  3152.000000  \n",
              "50%     713.000000  3662.000000  4548.000000  \n",
              "75%    1096.000000  4776.500000  5956.000000  \n",
              "max    3410.000000  6946.000000  8714.000000  "
            ]
          },
          "execution_count": 11,
          "metadata": {},
          "output_type": "execute_result"
        }
      ],
      "source": [
        "df_day.describe()"
      ]
    },
    {
      "cell_type": "code",
      "execution_count": 12,
      "metadata": {
        "colab": {
          "base_uri": "https://localhost:8080/",
          "height": 320
        },
        "id": "o_9f6uWk33t3",
        "outputId": "c9a2b9c8-530c-4615-c771-8f6e4ed2a197"
      },
      "outputs": [
        {
          "data": {
            "text/html": [
              "<div>\n",
              "<style scoped>\n",
              "    .dataframe tbody tr th:only-of-type {\n",
              "        vertical-align: middle;\n",
              "    }\n",
              "\n",
              "    .dataframe tbody tr th {\n",
              "        vertical-align: top;\n",
              "    }\n",
              "\n",
              "    .dataframe thead th {\n",
              "        text-align: right;\n",
              "    }\n",
              "</style>\n",
              "<table border=\"1\" class=\"dataframe\">\n",
              "  <thead>\n",
              "    <tr style=\"text-align: right;\">\n",
              "      <th></th>\n",
              "      <th>instant</th>\n",
              "      <th>season</th>\n",
              "      <th>yr</th>\n",
              "      <th>mnth</th>\n",
              "      <th>hr</th>\n",
              "      <th>holiday</th>\n",
              "      <th>weekday</th>\n",
              "      <th>workingday</th>\n",
              "      <th>weathersit</th>\n",
              "      <th>temp</th>\n",
              "      <th>atemp</th>\n",
              "      <th>hum</th>\n",
              "      <th>windspeed</th>\n",
              "      <th>casual</th>\n",
              "      <th>registered</th>\n",
              "      <th>cnt</th>\n",
              "    </tr>\n",
              "  </thead>\n",
              "  <tbody>\n",
              "    <tr>\n",
              "      <th>count</th>\n",
              "      <td>17379.0000</td>\n",
              "      <td>17379.000000</td>\n",
              "      <td>17379.000000</td>\n",
              "      <td>17379.000000</td>\n",
              "      <td>17379.000000</td>\n",
              "      <td>17379.000000</td>\n",
              "      <td>17379.000000</td>\n",
              "      <td>17379.000000</td>\n",
              "      <td>17379.000000</td>\n",
              "      <td>17379.000000</td>\n",
              "      <td>17379.000000</td>\n",
              "      <td>17379.000000</td>\n",
              "      <td>17379.000000</td>\n",
              "      <td>17379.000000</td>\n",
              "      <td>17379.000000</td>\n",
              "      <td>17379.000000</td>\n",
              "    </tr>\n",
              "    <tr>\n",
              "      <th>mean</th>\n",
              "      <td>8690.0000</td>\n",
              "      <td>2.501640</td>\n",
              "      <td>0.502561</td>\n",
              "      <td>6.537775</td>\n",
              "      <td>11.546752</td>\n",
              "      <td>0.028770</td>\n",
              "      <td>3.003683</td>\n",
              "      <td>0.682721</td>\n",
              "      <td>1.425283</td>\n",
              "      <td>0.496987</td>\n",
              "      <td>0.475775</td>\n",
              "      <td>0.627229</td>\n",
              "      <td>0.190098</td>\n",
              "      <td>35.676218</td>\n",
              "      <td>153.786869</td>\n",
              "      <td>189.463088</td>\n",
              "    </tr>\n",
              "    <tr>\n",
              "      <th>std</th>\n",
              "      <td>5017.0295</td>\n",
              "      <td>1.106918</td>\n",
              "      <td>0.500008</td>\n",
              "      <td>3.438776</td>\n",
              "      <td>6.914405</td>\n",
              "      <td>0.167165</td>\n",
              "      <td>2.005771</td>\n",
              "      <td>0.465431</td>\n",
              "      <td>0.639357</td>\n",
              "      <td>0.192556</td>\n",
              "      <td>0.171850</td>\n",
              "      <td>0.192930</td>\n",
              "      <td>0.122340</td>\n",
              "      <td>49.305030</td>\n",
              "      <td>151.357286</td>\n",
              "      <td>181.387599</td>\n",
              "    </tr>\n",
              "    <tr>\n",
              "      <th>min</th>\n",
              "      <td>1.0000</td>\n",
              "      <td>1.000000</td>\n",
              "      <td>0.000000</td>\n",
              "      <td>1.000000</td>\n",
              "      <td>0.000000</td>\n",
              "      <td>0.000000</td>\n",
              "      <td>0.000000</td>\n",
              "      <td>0.000000</td>\n",
              "      <td>1.000000</td>\n",
              "      <td>0.020000</td>\n",
              "      <td>0.000000</td>\n",
              "      <td>0.000000</td>\n",
              "      <td>0.000000</td>\n",
              "      <td>0.000000</td>\n",
              "      <td>0.000000</td>\n",
              "      <td>1.000000</td>\n",
              "    </tr>\n",
              "    <tr>\n",
              "      <th>25%</th>\n",
              "      <td>4345.5000</td>\n",
              "      <td>2.000000</td>\n",
              "      <td>0.000000</td>\n",
              "      <td>4.000000</td>\n",
              "      <td>6.000000</td>\n",
              "      <td>0.000000</td>\n",
              "      <td>1.000000</td>\n",
              "      <td>0.000000</td>\n",
              "      <td>1.000000</td>\n",
              "      <td>0.340000</td>\n",
              "      <td>0.333300</td>\n",
              "      <td>0.480000</td>\n",
              "      <td>0.104500</td>\n",
              "      <td>4.000000</td>\n",
              "      <td>34.000000</td>\n",
              "      <td>40.000000</td>\n",
              "    </tr>\n",
              "    <tr>\n",
              "      <th>50%</th>\n",
              "      <td>8690.0000</td>\n",
              "      <td>3.000000</td>\n",
              "      <td>1.000000</td>\n",
              "      <td>7.000000</td>\n",
              "      <td>12.000000</td>\n",
              "      <td>0.000000</td>\n",
              "      <td>3.000000</td>\n",
              "      <td>1.000000</td>\n",
              "      <td>1.000000</td>\n",
              "      <td>0.500000</td>\n",
              "      <td>0.484800</td>\n",
              "      <td>0.630000</td>\n",
              "      <td>0.194000</td>\n",
              "      <td>17.000000</td>\n",
              "      <td>115.000000</td>\n",
              "      <td>142.000000</td>\n",
              "    </tr>\n",
              "    <tr>\n",
              "      <th>75%</th>\n",
              "      <td>13034.5000</td>\n",
              "      <td>3.000000</td>\n",
              "      <td>1.000000</td>\n",
              "      <td>10.000000</td>\n",
              "      <td>18.000000</td>\n",
              "      <td>0.000000</td>\n",
              "      <td>5.000000</td>\n",
              "      <td>1.000000</td>\n",
              "      <td>2.000000</td>\n",
              "      <td>0.660000</td>\n",
              "      <td>0.621200</td>\n",
              "      <td>0.780000</td>\n",
              "      <td>0.253700</td>\n",
              "      <td>48.000000</td>\n",
              "      <td>220.000000</td>\n",
              "      <td>281.000000</td>\n",
              "    </tr>\n",
              "    <tr>\n",
              "      <th>max</th>\n",
              "      <td>17379.0000</td>\n",
              "      <td>4.000000</td>\n",
              "      <td>1.000000</td>\n",
              "      <td>12.000000</td>\n",
              "      <td>23.000000</td>\n",
              "      <td>1.000000</td>\n",
              "      <td>6.000000</td>\n",
              "      <td>1.000000</td>\n",
              "      <td>4.000000</td>\n",
              "      <td>1.000000</td>\n",
              "      <td>1.000000</td>\n",
              "      <td>1.000000</td>\n",
              "      <td>0.850700</td>\n",
              "      <td>367.000000</td>\n",
              "      <td>886.000000</td>\n",
              "      <td>977.000000</td>\n",
              "    </tr>\n",
              "  </tbody>\n",
              "</table>\n",
              "</div>"
            ],
            "text/plain": [
              "          instant        season            yr          mnth            hr  \\\n",
              "count  17379.0000  17379.000000  17379.000000  17379.000000  17379.000000   \n",
              "mean    8690.0000      2.501640      0.502561      6.537775     11.546752   \n",
              "std     5017.0295      1.106918      0.500008      3.438776      6.914405   \n",
              "min        1.0000      1.000000      0.000000      1.000000      0.000000   \n",
              "25%     4345.5000      2.000000      0.000000      4.000000      6.000000   \n",
              "50%     8690.0000      3.000000      1.000000      7.000000     12.000000   \n",
              "75%    13034.5000      3.000000      1.000000     10.000000     18.000000   \n",
              "max    17379.0000      4.000000      1.000000     12.000000     23.000000   \n",
              "\n",
              "            holiday       weekday    workingday    weathersit          temp  \\\n",
              "count  17379.000000  17379.000000  17379.000000  17379.000000  17379.000000   \n",
              "mean       0.028770      3.003683      0.682721      1.425283      0.496987   \n",
              "std        0.167165      2.005771      0.465431      0.639357      0.192556   \n",
              "min        0.000000      0.000000      0.000000      1.000000      0.020000   \n",
              "25%        0.000000      1.000000      0.000000      1.000000      0.340000   \n",
              "50%        0.000000      3.000000      1.000000      1.000000      0.500000   \n",
              "75%        0.000000      5.000000      1.000000      2.000000      0.660000   \n",
              "max        1.000000      6.000000      1.000000      4.000000      1.000000   \n",
              "\n",
              "              atemp           hum     windspeed        casual    registered  \\\n",
              "count  17379.000000  17379.000000  17379.000000  17379.000000  17379.000000   \n",
              "mean       0.475775      0.627229      0.190098     35.676218    153.786869   \n",
              "std        0.171850      0.192930      0.122340     49.305030    151.357286   \n",
              "min        0.000000      0.000000      0.000000      0.000000      0.000000   \n",
              "25%        0.333300      0.480000      0.104500      4.000000     34.000000   \n",
              "50%        0.484800      0.630000      0.194000     17.000000    115.000000   \n",
              "75%        0.621200      0.780000      0.253700     48.000000    220.000000   \n",
              "max        1.000000      1.000000      0.850700    367.000000    886.000000   \n",
              "\n",
              "                cnt  \n",
              "count  17379.000000  \n",
              "mean     189.463088  \n",
              "std      181.387599  \n",
              "min        1.000000  \n",
              "25%       40.000000  \n",
              "50%      142.000000  \n",
              "75%      281.000000  \n",
              "max      977.000000  "
            ]
          },
          "execution_count": 12,
          "metadata": {},
          "output_type": "execute_result"
        }
      ],
      "source": [
        "df_hour.describe()"
      ]
    },
    {
      "cell_type": "markdown",
      "metadata": {
        "id": "OKzXtzhm6F5b"
      },
      "source": [
        "### Descriptive Analysis"
      ]
    },
    {
      "cell_type": "markdown",
      "metadata": {
        "id": "cz0kZmZE6uv-"
      },
      "source": [
        "\n",
        "*   **Dataset Day**\n",
        "\n",
        "1.   Total entry data: 731 data.\n",
        "2.   Peak season: season 2 (musim panas).\n",
        "3.   Dominant year to rental bike: year 1 (2012).\n",
        "4.   Dominant month to rental bike: month 7 (July).\n",
        "5.   Persentage - Holiday: 2.87%.\n",
        "6.   Persentage - mayoritas: 68.40%.\n",
        "7.   Cuaca baik (weathersit): 1.\n",
        "8.   Normalized Temperature: 0.50 °C.\n",
        "9.   Normalized Atemperature: 0.47 °C.\n",
        "10.  Humidity: 47%.\n",
        "11.  Windspeed: 67%.\n",
        "12.  Casual users: 848.\n",
        "13.  Registered users: 3656.\n",
        "14.  Total rental users: 4504/day.  \n",
        "\n"
      ]
    },
    {
      "cell_type": "markdown",
      "metadata": {
        "id": "7_CYfYr-7pjX"
      },
      "source": [
        "\n",
        "*   **Dataset Hour**\n",
        "\n",
        "1.   Total entry data: 17,739 data.\n",
        "2.   Peak season: season 2 (musim panas).\n",
        "3.   Dominant year to rental bike: year 1 (2012).\n",
        "4.   Dominant month to rental bike: month 6 (June).\n",
        "5.   Hour/day: 11.55.\n",
        "6.   Persentage - Holiday: 2.87\n",
        "7.   Persentage - workingday: 68.27%.\n",
        "8.   Cuaca baik (weathersit): 1.43\n",
        "9.   Normalized temperature: 0.50 °C.\n",
        "10.   Normalized atemperature: 0.48 °C.\n",
        "11.  Humidity: 48%.\n",
        "12.  Windspeed: 67%.\n",
        "13.  Casual users: 35.68.\n",
        "14.  Registered users: 153.79.\n",
        "15.  Total rental users: 189.46.  \n",
        "\n"
      ]
    },
    {
      "cell_type": "markdown",
      "metadata": {
        "id": "EhN5R4hr8DC1"
      },
      "source": [
        "### Cleaning Data"
      ]
    },
    {
      "cell_type": "markdown",
      "metadata": {
        "id": "JR2zrJB_ULUS"
      },
      "source": [
        "Fixing data type"
      ]
    },
    {
      "cell_type": "code",
      "execution_count": 13,
      "metadata": {
        "id": "jVnYpprE9Evz"
      },
      "outputs": [],
      "source": [
        "df_day[\"dteday\"] = pd.to_datetime(df_day[\"dteday\"])\n",
        "df_hour[\"dteday\"] = pd.to_datetime(df_hour[\"dteday\"])"
      ]
    },
    {
      "cell_type": "code",
      "execution_count": 14,
      "metadata": {
        "colab": {
          "base_uri": "https://localhost:8080/"
        },
        "id": "nVNglVl5UF50",
        "outputId": "f221a160-edb0-4ac9-9bce-9ed35f40296d"
      },
      "outputs": [
        {
          "name": "stdout",
          "output_type": "stream",
          "text": [
            "df_day[\"dteday\"] :  datetime64[ns]\n",
            "df_hour[\"dteday\"] :  datetime64[ns]\n"
          ]
        }
      ],
      "source": [
        "print('df_day[\"dteday\"] : ', df_day[\"dteday\"].dtypes)\n",
        "print('df_hour[\"dteday\"] : ', df_hour[\"dteday\"].dtypes)"
      ]
    },
    {
      "cell_type": "markdown",
      "metadata": {
        "id": "gp-Y6wU38DC1"
      },
      "source": [
        "## Exploratory Data Analysis (EDA)"
      ]
    },
    {
      "cell_type": "markdown",
      "metadata": {
        "id": "MW7WF2kr8DC1"
      },
      "source": [
        "### Explore ..."
      ]
    },
    {
      "cell_type": "code",
      "execution_count": 15,
      "metadata": {
        "colab": {
          "base_uri": "https://localhost:8080/",
          "height": 320
        },
        "id": "NBasfvYzMmOo",
        "outputId": "cc06435b-b979-4b7f-d2ff-ef109531d089"
      },
      "outputs": [
        {
          "data": {
            "text/html": [
              "<div>\n",
              "<style scoped>\n",
              "    .dataframe tbody tr th:only-of-type {\n",
              "        vertical-align: middle;\n",
              "    }\n",
              "\n",
              "    .dataframe tbody tr th {\n",
              "        vertical-align: top;\n",
              "    }\n",
              "\n",
              "    .dataframe thead th {\n",
              "        text-align: right;\n",
              "    }\n",
              "</style>\n",
              "<table border=\"1\" class=\"dataframe\">\n",
              "  <thead>\n",
              "    <tr style=\"text-align: right;\">\n",
              "      <th></th>\n",
              "      <th>instant</th>\n",
              "      <th>dteday</th>\n",
              "      <th>season</th>\n",
              "      <th>yr</th>\n",
              "      <th>mnth</th>\n",
              "      <th>holiday</th>\n",
              "      <th>weekday</th>\n",
              "      <th>workingday</th>\n",
              "      <th>weathersit</th>\n",
              "      <th>temp</th>\n",
              "      <th>atemp</th>\n",
              "      <th>hum</th>\n",
              "      <th>windspeed</th>\n",
              "      <th>casual</th>\n",
              "      <th>registered</th>\n",
              "      <th>cnt</th>\n",
              "    </tr>\n",
              "  </thead>\n",
              "  <tbody>\n",
              "    <tr>\n",
              "      <th>count</th>\n",
              "      <td>731.000000</td>\n",
              "      <td>731</td>\n",
              "      <td>731.000000</td>\n",
              "      <td>731.000000</td>\n",
              "      <td>731.000000</td>\n",
              "      <td>731.000000</td>\n",
              "      <td>731.000000</td>\n",
              "      <td>731.000000</td>\n",
              "      <td>731.000000</td>\n",
              "      <td>731.000000</td>\n",
              "      <td>731.000000</td>\n",
              "      <td>731.000000</td>\n",
              "      <td>731.000000</td>\n",
              "      <td>731.000000</td>\n",
              "      <td>731.000000</td>\n",
              "      <td>731.000000</td>\n",
              "    </tr>\n",
              "    <tr>\n",
              "      <th>mean</th>\n",
              "      <td>366.000000</td>\n",
              "      <td>2012-01-01 00:00:00</td>\n",
              "      <td>2.496580</td>\n",
              "      <td>0.500684</td>\n",
              "      <td>6.519836</td>\n",
              "      <td>0.028728</td>\n",
              "      <td>2.997264</td>\n",
              "      <td>0.683995</td>\n",
              "      <td>1.395349</td>\n",
              "      <td>0.495385</td>\n",
              "      <td>0.474354</td>\n",
              "      <td>0.627894</td>\n",
              "      <td>0.190486</td>\n",
              "      <td>848.176471</td>\n",
              "      <td>3656.172367</td>\n",
              "      <td>4504.348837</td>\n",
              "    </tr>\n",
              "    <tr>\n",
              "      <th>min</th>\n",
              "      <td>1.000000</td>\n",
              "      <td>2011-01-01 00:00:00</td>\n",
              "      <td>1.000000</td>\n",
              "      <td>0.000000</td>\n",
              "      <td>1.000000</td>\n",
              "      <td>0.000000</td>\n",
              "      <td>0.000000</td>\n",
              "      <td>0.000000</td>\n",
              "      <td>1.000000</td>\n",
              "      <td>0.059130</td>\n",
              "      <td>0.079070</td>\n",
              "      <td>0.000000</td>\n",
              "      <td>0.022392</td>\n",
              "      <td>2.000000</td>\n",
              "      <td>20.000000</td>\n",
              "      <td>22.000000</td>\n",
              "    </tr>\n",
              "    <tr>\n",
              "      <th>25%</th>\n",
              "      <td>183.500000</td>\n",
              "      <td>2011-07-02 12:00:00</td>\n",
              "      <td>2.000000</td>\n",
              "      <td>0.000000</td>\n",
              "      <td>4.000000</td>\n",
              "      <td>0.000000</td>\n",
              "      <td>1.000000</td>\n",
              "      <td>0.000000</td>\n",
              "      <td>1.000000</td>\n",
              "      <td>0.337083</td>\n",
              "      <td>0.337842</td>\n",
              "      <td>0.520000</td>\n",
              "      <td>0.134950</td>\n",
              "      <td>315.500000</td>\n",
              "      <td>2497.000000</td>\n",
              "      <td>3152.000000</td>\n",
              "    </tr>\n",
              "    <tr>\n",
              "      <th>50%</th>\n",
              "      <td>366.000000</td>\n",
              "      <td>2012-01-01 00:00:00</td>\n",
              "      <td>3.000000</td>\n",
              "      <td>1.000000</td>\n",
              "      <td>7.000000</td>\n",
              "      <td>0.000000</td>\n",
              "      <td>3.000000</td>\n",
              "      <td>1.000000</td>\n",
              "      <td>1.000000</td>\n",
              "      <td>0.498333</td>\n",
              "      <td>0.486733</td>\n",
              "      <td>0.626667</td>\n",
              "      <td>0.180975</td>\n",
              "      <td>713.000000</td>\n",
              "      <td>3662.000000</td>\n",
              "      <td>4548.000000</td>\n",
              "    </tr>\n",
              "    <tr>\n",
              "      <th>75%</th>\n",
              "      <td>548.500000</td>\n",
              "      <td>2012-07-01 12:00:00</td>\n",
              "      <td>3.000000</td>\n",
              "      <td>1.000000</td>\n",
              "      <td>10.000000</td>\n",
              "      <td>0.000000</td>\n",
              "      <td>5.000000</td>\n",
              "      <td>1.000000</td>\n",
              "      <td>2.000000</td>\n",
              "      <td>0.655417</td>\n",
              "      <td>0.608602</td>\n",
              "      <td>0.730209</td>\n",
              "      <td>0.233214</td>\n",
              "      <td>1096.000000</td>\n",
              "      <td>4776.500000</td>\n",
              "      <td>5956.000000</td>\n",
              "    </tr>\n",
              "    <tr>\n",
              "      <th>max</th>\n",
              "      <td>731.000000</td>\n",
              "      <td>2012-12-31 00:00:00</td>\n",
              "      <td>4.000000</td>\n",
              "      <td>1.000000</td>\n",
              "      <td>12.000000</td>\n",
              "      <td>1.000000</td>\n",
              "      <td>6.000000</td>\n",
              "      <td>1.000000</td>\n",
              "      <td>3.000000</td>\n",
              "      <td>0.861667</td>\n",
              "      <td>0.840896</td>\n",
              "      <td>0.972500</td>\n",
              "      <td>0.507463</td>\n",
              "      <td>3410.000000</td>\n",
              "      <td>6946.000000</td>\n",
              "      <td>8714.000000</td>\n",
              "    </tr>\n",
              "    <tr>\n",
              "      <th>std</th>\n",
              "      <td>211.165812</td>\n",
              "      <td>NaN</td>\n",
              "      <td>1.110807</td>\n",
              "      <td>0.500342</td>\n",
              "      <td>3.451913</td>\n",
              "      <td>0.167155</td>\n",
              "      <td>2.004787</td>\n",
              "      <td>0.465233</td>\n",
              "      <td>0.544894</td>\n",
              "      <td>0.183051</td>\n",
              "      <td>0.162961</td>\n",
              "      <td>0.142429</td>\n",
              "      <td>0.077498</td>\n",
              "      <td>686.622488</td>\n",
              "      <td>1560.256377</td>\n",
              "      <td>1937.211452</td>\n",
              "    </tr>\n",
              "  </tbody>\n",
              "</table>\n",
              "</div>"
            ],
            "text/plain": [
              "          instant               dteday      season          yr        mnth  \\\n",
              "count  731.000000                  731  731.000000  731.000000  731.000000   \n",
              "mean   366.000000  2012-01-01 00:00:00    2.496580    0.500684    6.519836   \n",
              "min      1.000000  2011-01-01 00:00:00    1.000000    0.000000    1.000000   \n",
              "25%    183.500000  2011-07-02 12:00:00    2.000000    0.000000    4.000000   \n",
              "50%    366.000000  2012-01-01 00:00:00    3.000000    1.000000    7.000000   \n",
              "75%    548.500000  2012-07-01 12:00:00    3.000000    1.000000   10.000000   \n",
              "max    731.000000  2012-12-31 00:00:00    4.000000    1.000000   12.000000   \n",
              "std    211.165812                  NaN    1.110807    0.500342    3.451913   \n",
              "\n",
              "          holiday     weekday  workingday  weathersit        temp       atemp  \\\n",
              "count  731.000000  731.000000  731.000000  731.000000  731.000000  731.000000   \n",
              "mean     0.028728    2.997264    0.683995    1.395349    0.495385    0.474354   \n",
              "min      0.000000    0.000000    0.000000    1.000000    0.059130    0.079070   \n",
              "25%      0.000000    1.000000    0.000000    1.000000    0.337083    0.337842   \n",
              "50%      0.000000    3.000000    1.000000    1.000000    0.498333    0.486733   \n",
              "75%      0.000000    5.000000    1.000000    2.000000    0.655417    0.608602   \n",
              "max      1.000000    6.000000    1.000000    3.000000    0.861667    0.840896   \n",
              "std      0.167155    2.004787    0.465233    0.544894    0.183051    0.162961   \n",
              "\n",
              "              hum   windspeed       casual   registered          cnt  \n",
              "count  731.000000  731.000000   731.000000   731.000000   731.000000  \n",
              "mean     0.627894    0.190486   848.176471  3656.172367  4504.348837  \n",
              "min      0.000000    0.022392     2.000000    20.000000    22.000000  \n",
              "25%      0.520000    0.134950   315.500000  2497.000000  3152.000000  \n",
              "50%      0.626667    0.180975   713.000000  3662.000000  4548.000000  \n",
              "75%      0.730209    0.233214  1096.000000  4776.500000  5956.000000  \n",
              "max      0.972500    0.507463  3410.000000  6946.000000  8714.000000  \n",
              "std      0.142429    0.077498   686.622488  1560.256377  1937.211452  "
            ]
          },
          "execution_count": 15,
          "metadata": {},
          "output_type": "execute_result"
        }
      ],
      "source": [
        "df_day.describe()"
      ]
    },
    {
      "cell_type": "markdown",
      "metadata": {
        "id": "a-U_bBJKOXCe"
      },
      "source": [
        "Berdasarkan rangkuman parameter statistik diatas, informasi yang diperoleh pada tahun 2012 sekitar 2.87% user casual dan registered merental sepeda pada hari libur (holiday). Sedangkan, pada hari kerja (workingday) user casual maupun registered yang menyewa sepeda lebih tinggi daripada holiday yaitu sekitar 68.40%. Informasi ini memberikan gambaran bahwa segmentasi user casual dan registered yang merental sepeda pada tahun 2012 di hari kerja (weekday) dan hari libur (holiday) lebih besar peminatnya."
      ]
    },
    {
      "cell_type": "code",
      "execution_count": 16,
      "metadata": {
        "colab": {
          "base_uri": "https://localhost:8080/",
          "height": 320
        },
        "id": "-WS5_MZE7o6o",
        "outputId": "4c7ace75-7f42-4cd8-8eb6-a24b63456a54"
      },
      "outputs": [
        {
          "data": {
            "text/html": [
              "<div>\n",
              "<style scoped>\n",
              "    .dataframe tbody tr th:only-of-type {\n",
              "        vertical-align: middle;\n",
              "    }\n",
              "\n",
              "    .dataframe tbody tr th {\n",
              "        vertical-align: top;\n",
              "    }\n",
              "\n",
              "    .dataframe thead th {\n",
              "        text-align: right;\n",
              "    }\n",
              "</style>\n",
              "<table border=\"1\" class=\"dataframe\">\n",
              "  <thead>\n",
              "    <tr style=\"text-align: right;\">\n",
              "      <th></th>\n",
              "      <th>instant</th>\n",
              "      <th>dteday</th>\n",
              "      <th>season</th>\n",
              "      <th>yr</th>\n",
              "      <th>mnth</th>\n",
              "      <th>hr</th>\n",
              "      <th>holiday</th>\n",
              "      <th>weekday</th>\n",
              "      <th>workingday</th>\n",
              "      <th>weathersit</th>\n",
              "      <th>temp</th>\n",
              "      <th>atemp</th>\n",
              "      <th>hum</th>\n",
              "      <th>windspeed</th>\n",
              "      <th>casual</th>\n",
              "      <th>registered</th>\n",
              "      <th>cnt</th>\n",
              "    </tr>\n",
              "  </thead>\n",
              "  <tbody>\n",
              "    <tr>\n",
              "      <th>count</th>\n",
              "      <td>17379.0000</td>\n",
              "      <td>17379</td>\n",
              "      <td>17379.000000</td>\n",
              "      <td>17379.000000</td>\n",
              "      <td>17379.000000</td>\n",
              "      <td>17379.000000</td>\n",
              "      <td>17379.000000</td>\n",
              "      <td>17379.000000</td>\n",
              "      <td>17379.000000</td>\n",
              "      <td>17379.000000</td>\n",
              "      <td>17379.000000</td>\n",
              "      <td>17379.000000</td>\n",
              "      <td>17379.000000</td>\n",
              "      <td>17379.000000</td>\n",
              "      <td>17379.000000</td>\n",
              "      <td>17379.000000</td>\n",
              "      <td>17379.000000</td>\n",
              "    </tr>\n",
              "    <tr>\n",
              "      <th>mean</th>\n",
              "      <td>8690.0000</td>\n",
              "      <td>2012-01-02 04:08:34.552045568</td>\n",
              "      <td>2.501640</td>\n",
              "      <td>0.502561</td>\n",
              "      <td>6.537775</td>\n",
              "      <td>11.546752</td>\n",
              "      <td>0.028770</td>\n",
              "      <td>3.003683</td>\n",
              "      <td>0.682721</td>\n",
              "      <td>1.425283</td>\n",
              "      <td>0.496987</td>\n",
              "      <td>0.475775</td>\n",
              "      <td>0.627229</td>\n",
              "      <td>0.190098</td>\n",
              "      <td>35.676218</td>\n",
              "      <td>153.786869</td>\n",
              "      <td>189.463088</td>\n",
              "    </tr>\n",
              "    <tr>\n",
              "      <th>min</th>\n",
              "      <td>1.0000</td>\n",
              "      <td>2011-01-01 00:00:00</td>\n",
              "      <td>1.000000</td>\n",
              "      <td>0.000000</td>\n",
              "      <td>1.000000</td>\n",
              "      <td>0.000000</td>\n",
              "      <td>0.000000</td>\n",
              "      <td>0.000000</td>\n",
              "      <td>0.000000</td>\n",
              "      <td>1.000000</td>\n",
              "      <td>0.020000</td>\n",
              "      <td>0.000000</td>\n",
              "      <td>0.000000</td>\n",
              "      <td>0.000000</td>\n",
              "      <td>0.000000</td>\n",
              "      <td>0.000000</td>\n",
              "      <td>1.000000</td>\n",
              "    </tr>\n",
              "    <tr>\n",
              "      <th>25%</th>\n",
              "      <td>4345.5000</td>\n",
              "      <td>2011-07-04 00:00:00</td>\n",
              "      <td>2.000000</td>\n",
              "      <td>0.000000</td>\n",
              "      <td>4.000000</td>\n",
              "      <td>6.000000</td>\n",
              "      <td>0.000000</td>\n",
              "      <td>1.000000</td>\n",
              "      <td>0.000000</td>\n",
              "      <td>1.000000</td>\n",
              "      <td>0.340000</td>\n",
              "      <td>0.333300</td>\n",
              "      <td>0.480000</td>\n",
              "      <td>0.104500</td>\n",
              "      <td>4.000000</td>\n",
              "      <td>34.000000</td>\n",
              "      <td>40.000000</td>\n",
              "    </tr>\n",
              "    <tr>\n",
              "      <th>50%</th>\n",
              "      <td>8690.0000</td>\n",
              "      <td>2012-01-02 00:00:00</td>\n",
              "      <td>3.000000</td>\n",
              "      <td>1.000000</td>\n",
              "      <td>7.000000</td>\n",
              "      <td>12.000000</td>\n",
              "      <td>0.000000</td>\n",
              "      <td>3.000000</td>\n",
              "      <td>1.000000</td>\n",
              "      <td>1.000000</td>\n",
              "      <td>0.500000</td>\n",
              "      <td>0.484800</td>\n",
              "      <td>0.630000</td>\n",
              "      <td>0.194000</td>\n",
              "      <td>17.000000</td>\n",
              "      <td>115.000000</td>\n",
              "      <td>142.000000</td>\n",
              "    </tr>\n",
              "    <tr>\n",
              "      <th>75%</th>\n",
              "      <td>13034.5000</td>\n",
              "      <td>2012-07-02 00:00:00</td>\n",
              "      <td>3.000000</td>\n",
              "      <td>1.000000</td>\n",
              "      <td>10.000000</td>\n",
              "      <td>18.000000</td>\n",
              "      <td>0.000000</td>\n",
              "      <td>5.000000</td>\n",
              "      <td>1.000000</td>\n",
              "      <td>2.000000</td>\n",
              "      <td>0.660000</td>\n",
              "      <td>0.621200</td>\n",
              "      <td>0.780000</td>\n",
              "      <td>0.253700</td>\n",
              "      <td>48.000000</td>\n",
              "      <td>220.000000</td>\n",
              "      <td>281.000000</td>\n",
              "    </tr>\n",
              "    <tr>\n",
              "      <th>max</th>\n",
              "      <td>17379.0000</td>\n",
              "      <td>2012-12-31 00:00:00</td>\n",
              "      <td>4.000000</td>\n",
              "      <td>1.000000</td>\n",
              "      <td>12.000000</td>\n",
              "      <td>23.000000</td>\n",
              "      <td>1.000000</td>\n",
              "      <td>6.000000</td>\n",
              "      <td>1.000000</td>\n",
              "      <td>4.000000</td>\n",
              "      <td>1.000000</td>\n",
              "      <td>1.000000</td>\n",
              "      <td>1.000000</td>\n",
              "      <td>0.850700</td>\n",
              "      <td>367.000000</td>\n",
              "      <td>886.000000</td>\n",
              "      <td>977.000000</td>\n",
              "    </tr>\n",
              "    <tr>\n",
              "      <th>std</th>\n",
              "      <td>5017.0295</td>\n",
              "      <td>NaN</td>\n",
              "      <td>1.106918</td>\n",
              "      <td>0.500008</td>\n",
              "      <td>3.438776</td>\n",
              "      <td>6.914405</td>\n",
              "      <td>0.167165</td>\n",
              "      <td>2.005771</td>\n",
              "      <td>0.465431</td>\n",
              "      <td>0.639357</td>\n",
              "      <td>0.192556</td>\n",
              "      <td>0.171850</td>\n",
              "      <td>0.192930</td>\n",
              "      <td>0.122340</td>\n",
              "      <td>49.305030</td>\n",
              "      <td>151.357286</td>\n",
              "      <td>181.387599</td>\n",
              "    </tr>\n",
              "  </tbody>\n",
              "</table>\n",
              "</div>"
            ],
            "text/plain": [
              "          instant                         dteday        season            yr  \\\n",
              "count  17379.0000                          17379  17379.000000  17379.000000   \n",
              "mean    8690.0000  2012-01-02 04:08:34.552045568      2.501640      0.502561   \n",
              "min        1.0000            2011-01-01 00:00:00      1.000000      0.000000   \n",
              "25%     4345.5000            2011-07-04 00:00:00      2.000000      0.000000   \n",
              "50%     8690.0000            2012-01-02 00:00:00      3.000000      1.000000   \n",
              "75%    13034.5000            2012-07-02 00:00:00      3.000000      1.000000   \n",
              "max    17379.0000            2012-12-31 00:00:00      4.000000      1.000000   \n",
              "std     5017.0295                            NaN      1.106918      0.500008   \n",
              "\n",
              "               mnth            hr       holiday       weekday    workingday  \\\n",
              "count  17379.000000  17379.000000  17379.000000  17379.000000  17379.000000   \n",
              "mean       6.537775     11.546752      0.028770      3.003683      0.682721   \n",
              "min        1.000000      0.000000      0.000000      0.000000      0.000000   \n",
              "25%        4.000000      6.000000      0.000000      1.000000      0.000000   \n",
              "50%        7.000000     12.000000      0.000000      3.000000      1.000000   \n",
              "75%       10.000000     18.000000      0.000000      5.000000      1.000000   \n",
              "max       12.000000     23.000000      1.000000      6.000000      1.000000   \n",
              "std        3.438776      6.914405      0.167165      2.005771      0.465431   \n",
              "\n",
              "         weathersit          temp         atemp           hum     windspeed  \\\n",
              "count  17379.000000  17379.000000  17379.000000  17379.000000  17379.000000   \n",
              "mean       1.425283      0.496987      0.475775      0.627229      0.190098   \n",
              "min        1.000000      0.020000      0.000000      0.000000      0.000000   \n",
              "25%        1.000000      0.340000      0.333300      0.480000      0.104500   \n",
              "50%        1.000000      0.500000      0.484800      0.630000      0.194000   \n",
              "75%        2.000000      0.660000      0.621200      0.780000      0.253700   \n",
              "max        4.000000      1.000000      1.000000      1.000000      0.850700   \n",
              "std        0.639357      0.192556      0.171850      0.192930      0.122340   \n",
              "\n",
              "             casual    registered           cnt  \n",
              "count  17379.000000  17379.000000  17379.000000  \n",
              "mean      35.676218    153.786869    189.463088  \n",
              "min        0.000000      0.000000      1.000000  \n",
              "25%        4.000000     34.000000     40.000000  \n",
              "50%       17.000000    115.000000    142.000000  \n",
              "75%       48.000000    220.000000    281.000000  \n",
              "max      367.000000    886.000000    977.000000  \n",
              "std       49.305030    151.357286    181.387599  "
            ]
          },
          "execution_count": 16,
          "metadata": {},
          "output_type": "execute_result"
        }
      ],
      "source": [
        "df_hour.describe()"
      ]
    },
    {
      "cell_type": "markdown",
      "metadata": {
        "id": "A1k9M5JCxTOU"
      },
      "source": [
        "Distribusi variabel numerik"
      ]
    },
    {
      "cell_type": "code",
      "execution_count": 17,
      "metadata": {
        "colab": {
          "base_uri": "https://localhost:8080/",
          "height": 1000
        },
        "id": "BqdpUCgHeyPw",
        "outputId": "c15d84f8-4f7c-49c6-c337-6ca8b825a2e1"
      },
      "outputs": [
        {
          "data": {
            "application/vnd.plotly.v1+json": {
              "config": {
                "plotlyServerURL": "https://plot.ly"
              },
              "data": [
                {
                  "type": "heatmap",
                  "x": [
                    "instant",
                    "dteday",
                    "season",
                    "yr",
                    "mnth",
                    "holiday",
                    "weekday",
                    "workingday",
                    "weathersit",
                    "temp",
                    "atemp",
                    "hum",
                    "windspeed",
                    "casual",
                    "registered",
                    "cnt"
                  ],
                  "y": [
                    "instant",
                    "dteday",
                    "season",
                    "yr",
                    "mnth",
                    "holiday",
                    "weekday",
                    "workingday",
                    "weathersit",
                    "temp",
                    "atemp",
                    "hum",
                    "windspeed",
                    "casual",
                    "registered",
                    "cnt"
                  ],
                  "z": [
                    [
                      1,
                      1.0000000000000002,
                      0.41222417881222106,
                      0.8660254037844386,
                      0.49670188922126657,
                      0.016144632414758376,
                      -0.000016179135734028904,
                      -0.004336536931477851,
                      -0.02147720531029272,
                      0.15058030193191735,
                      0.1526382378831442,
                      0.016374713216624308,
                      -0.11261955555790659,
                      0.27525521247218826,
                      0.659622867564585,
                      0.6288302722083062
                    ],
                    [
                      1.0000000000000002,
                      1,
                      0.41222417881222106,
                      0.8660254037844387,
                      0.4967018892212667,
                      0.01614463241475837,
                      -0.000016179135734027278,
                      -0.004336536931477849,
                      -0.021477205310292718,
                      0.15058030193191868,
                      0.1526382378831434,
                      0.01637471321662398,
                      -0.1126195555579061,
                      0.27525521247218887,
                      0.6596228675645853,
                      0.6288302722083058
                    ],
                    [
                      0.41222417881222106,
                      0.41222417881222106,
                      1,
                      -0.0018443425624099271,
                      0.8314401142104252,
                      -0.01053665873599923,
                      -0.0030798813391720477,
                      0.012484963237440971,
                      0.019211028056670312,
                      0.3343148563990942,
                      0.3428756127075339,
                      0.2054447645397416,
                      -0.22904633734684485,
                      0.21039916455044252,
                      0.41162305142951494,
                      0.40610037079863526
                    ],
                    [
                      0.8660254037844386,
                      0.8660254037844387,
                      -0.0018443425624099271,
                      1,
                      -0.0017924338411962346,
                      0.007954310803060295,
                      -0.005460765185946364,
                      -0.0020126211935202138,
                      -0.04872654120020068,
                      0.04760357191602173,
                      0.046106148538422924,
                      -0.11065104471777891,
                      -0.011817059907782052,
                      0.24854566400672742,
                      0.5942481679351358,
                      0.5667097078680867
                    ],
                    [
                      0.49670188922126657,
                      0.4967018892212667,
                      0.8314401142104252,
                      -0.0017924338411962346,
                      1,
                      0.01919089525339548,
                      0.009509312860349974,
                      -0.005900951270197498,
                      0.04352809839245861,
                      0.22020533515337273,
                      0.2274586297415553,
                      0.22220369068898285,
                      -0.20750175158464143,
                      0.12300588926882507,
                      0.2934878299255224,
                      0.27997711221927024
                    ],
                    [
                      0.016144632414758376,
                      0.01614463241475837,
                      -0.01053665873599923,
                      0.007954310803060295,
                      0.01919089525339548,
                      1,
                      -0.10196026886035356,
                      -0.2530226996846281,
                      -0.03462684136900051,
                      -0.028555534981074403,
                      -0.032506692300223856,
                      -0.01593747850652252,
                      0.00629150654378877,
                      0.054274203475103505,
                      -0.10874486338121468,
                      -0.068347715892484
                    ],
                    [
                      -0.000016179135734028904,
                      -0.000016179135734027278,
                      -0.0030798813391720477,
                      -0.005460765185946364,
                      0.009509312860349974,
                      -0.10196026886035356,
                      1,
                      0.0357896735897842,
                      0.031087469411441058,
                      -0.0001699623848035753,
                      -0.007537131822513728,
                      -0.05223210040137859,
                      0.014282124142083541,
                      0.05992263750227411,
                      0.05736744403680416,
                      0.06744341241063077
                    ],
                    [
                      -0.004336536931477851,
                      -0.004336536931477849,
                      0.012484963237440971,
                      -0.0020126211935202138,
                      -0.005900951270197498,
                      -0.2530226996846281,
                      0.0357896735897842,
                      1,
                      0.061200430008790545,
                      0.05265981017710374,
                      0.05218227505959599,
                      0.024327045787561587,
                      -0.018796486567174007,
                      -0.5180441913348242,
                      0.3039071170459174,
                      0.06115606306052114
                    ],
                    [
                      -0.02147720531029272,
                      -0.021477205310292718,
                      0.019211028056670312,
                      -0.04872654120020068,
                      0.04352809839245861,
                      -0.03462684136900051,
                      0.031087469411441058,
                      0.061200430008790545,
                      1,
                      -0.12060223649971505,
                      -0.1215833542032326,
                      0.5910445992972735,
                      0.03951105859346716,
                      -0.2473529953302609,
                      -0.2603877095630741,
                      -0.2973912388346634
                    ],
                    [
                      0.15058030193191735,
                      0.15058030193191868,
                      0.3343148563990942,
                      0.04760357191602173,
                      0.22020533515337273,
                      -0.028555534981074403,
                      -0.0001699623848035753,
                      0.05265981017710374,
                      -0.12060223649971505,
                      1,
                      0.9917015532294647,
                      0.12696293902718886,
                      -0.15794412041209957,
                      0.5432846616821875,
                      0.5400119661617868,
                      0.6274940090334914
                    ],
                    [
                      0.1526382378831442,
                      0.1526382378831434,
                      0.3428756127075339,
                      0.046106148538422924,
                      0.2274586297415553,
                      -0.032506692300223856,
                      -0.007537131822513728,
                      0.05218227505959599,
                      -0.1215833542032326,
                      0.9917015532294647,
                      1,
                      0.13998805994655997,
                      -0.18364296669082888,
                      0.5438636902622062,
                      0.5441917576380151,
                      0.6310656998491828
                    ],
                    [
                      0.016374713216624308,
                      0.01637471321662398,
                      0.2054447645397416,
                      -0.11065104471777891,
                      0.22220369068898285,
                      -0.01593747850652252,
                      -0.05223210040137859,
                      0.024327045787561587,
                      0.5910445992972735,
                      0.12696293902718886,
                      0.13998805994655997,
                      1,
                      -0.24848909864371393,
                      -0.07700788276308992,
                      -0.09108860395542409,
                      -0.1006585621371548
                    ],
                    [
                      -0.11261955555790659,
                      -0.1126195555579061,
                      -0.22904633734684485,
                      -0.011817059907782052,
                      -0.20750175158464143,
                      0.00629150654378877,
                      0.014282124142083541,
                      -0.018796486567174007,
                      0.03951105859346716,
                      -0.15794412041209957,
                      -0.18364296669082888,
                      -0.24848909864371393,
                      1,
                      -0.16761334930380709,
                      -0.21744898143250424,
                      -0.23454499742167056
                    ],
                    [
                      0.27525521247218826,
                      0.27525521247218887,
                      0.21039916455044252,
                      0.24854566400672742,
                      0.12300588926882507,
                      0.054274203475103505,
                      0.05992263750227411,
                      -0.5180441913348242,
                      -0.2473529953302609,
                      0.5432846616821875,
                      0.5438636902622062,
                      -0.07700788276308992,
                      -0.16761334930380709,
                      1,
                      0.3952824508604645,
                      0.6728044333386828
                    ],
                    [
                      0.659622867564585,
                      0.6596228675645853,
                      0.41162305142951494,
                      0.5942481679351358,
                      0.2934878299255224,
                      -0.10874486338121468,
                      0.05736744403680416,
                      0.3039071170459174,
                      -0.2603877095630741,
                      0.5400119661617868,
                      0.5441917576380151,
                      -0.09108860395542409,
                      -0.21744898143250424,
                      0.3952824508604645,
                      1,
                      0.9455169158090359
                    ],
                    [
                      0.6288302722083062,
                      0.6288302722083058,
                      0.40610037079863526,
                      0.5667097078680867,
                      0.27997711221927024,
                      -0.068347715892484,
                      0.06744341241063077,
                      0.06115606306052114,
                      -0.2973912388346634,
                      0.6274940090334914,
                      0.6310656998491828,
                      -0.1006585621371548,
                      -0.23454499742167056,
                      0.6728044333386828,
                      0.9455169158090359,
                      1
                    ]
                  ]
                }
              ],
              "layout": {
                "template": {
                  "data": {
                    "bar": [
                      {
                        "error_x": {
                          "color": "#2a3f5f"
                        },
                        "error_y": {
                          "color": "#2a3f5f"
                        },
                        "marker": {
                          "line": {
                            "color": "#E5ECF6",
                            "width": 0.5
                          },
                          "pattern": {
                            "fillmode": "overlay",
                            "size": 10,
                            "solidity": 0.2
                          }
                        },
                        "type": "bar"
                      }
                    ],
                    "barpolar": [
                      {
                        "marker": {
                          "line": {
                            "color": "#E5ECF6",
                            "width": 0.5
                          },
                          "pattern": {
                            "fillmode": "overlay",
                            "size": 10,
                            "solidity": 0.2
                          }
                        },
                        "type": "barpolar"
                      }
                    ],
                    "carpet": [
                      {
                        "aaxis": {
                          "endlinecolor": "#2a3f5f",
                          "gridcolor": "white",
                          "linecolor": "white",
                          "minorgridcolor": "white",
                          "startlinecolor": "#2a3f5f"
                        },
                        "baxis": {
                          "endlinecolor": "#2a3f5f",
                          "gridcolor": "white",
                          "linecolor": "white",
                          "minorgridcolor": "white",
                          "startlinecolor": "#2a3f5f"
                        },
                        "type": "carpet"
                      }
                    ],
                    "choropleth": [
                      {
                        "colorbar": {
                          "outlinewidth": 0,
                          "ticks": ""
                        },
                        "type": "choropleth"
                      }
                    ],
                    "contour": [
                      {
                        "colorbar": {
                          "outlinewidth": 0,
                          "ticks": ""
                        },
                        "colorscale": [
                          [
                            0,
                            "#0d0887"
                          ],
                          [
                            0.1111111111111111,
                            "#46039f"
                          ],
                          [
                            0.2222222222222222,
                            "#7201a8"
                          ],
                          [
                            0.3333333333333333,
                            "#9c179e"
                          ],
                          [
                            0.4444444444444444,
                            "#bd3786"
                          ],
                          [
                            0.5555555555555556,
                            "#d8576b"
                          ],
                          [
                            0.6666666666666666,
                            "#ed7953"
                          ],
                          [
                            0.7777777777777778,
                            "#fb9f3a"
                          ],
                          [
                            0.8888888888888888,
                            "#fdca26"
                          ],
                          [
                            1,
                            "#f0f921"
                          ]
                        ],
                        "type": "contour"
                      }
                    ],
                    "contourcarpet": [
                      {
                        "colorbar": {
                          "outlinewidth": 0,
                          "ticks": ""
                        },
                        "type": "contourcarpet"
                      }
                    ],
                    "heatmap": [
                      {
                        "colorbar": {
                          "outlinewidth": 0,
                          "ticks": ""
                        },
                        "colorscale": [
                          [
                            0,
                            "#0d0887"
                          ],
                          [
                            0.1111111111111111,
                            "#46039f"
                          ],
                          [
                            0.2222222222222222,
                            "#7201a8"
                          ],
                          [
                            0.3333333333333333,
                            "#9c179e"
                          ],
                          [
                            0.4444444444444444,
                            "#bd3786"
                          ],
                          [
                            0.5555555555555556,
                            "#d8576b"
                          ],
                          [
                            0.6666666666666666,
                            "#ed7953"
                          ],
                          [
                            0.7777777777777778,
                            "#fb9f3a"
                          ],
                          [
                            0.8888888888888888,
                            "#fdca26"
                          ],
                          [
                            1,
                            "#f0f921"
                          ]
                        ],
                        "type": "heatmap"
                      }
                    ],
                    "heatmapgl": [
                      {
                        "colorbar": {
                          "outlinewidth": 0,
                          "ticks": ""
                        },
                        "colorscale": [
                          [
                            0,
                            "#0d0887"
                          ],
                          [
                            0.1111111111111111,
                            "#46039f"
                          ],
                          [
                            0.2222222222222222,
                            "#7201a8"
                          ],
                          [
                            0.3333333333333333,
                            "#9c179e"
                          ],
                          [
                            0.4444444444444444,
                            "#bd3786"
                          ],
                          [
                            0.5555555555555556,
                            "#d8576b"
                          ],
                          [
                            0.6666666666666666,
                            "#ed7953"
                          ],
                          [
                            0.7777777777777778,
                            "#fb9f3a"
                          ],
                          [
                            0.8888888888888888,
                            "#fdca26"
                          ],
                          [
                            1,
                            "#f0f921"
                          ]
                        ],
                        "type": "heatmapgl"
                      }
                    ],
                    "histogram": [
                      {
                        "marker": {
                          "pattern": {
                            "fillmode": "overlay",
                            "size": 10,
                            "solidity": 0.2
                          }
                        },
                        "type": "histogram"
                      }
                    ],
                    "histogram2d": [
                      {
                        "colorbar": {
                          "outlinewidth": 0,
                          "ticks": ""
                        },
                        "colorscale": [
                          [
                            0,
                            "#0d0887"
                          ],
                          [
                            0.1111111111111111,
                            "#46039f"
                          ],
                          [
                            0.2222222222222222,
                            "#7201a8"
                          ],
                          [
                            0.3333333333333333,
                            "#9c179e"
                          ],
                          [
                            0.4444444444444444,
                            "#bd3786"
                          ],
                          [
                            0.5555555555555556,
                            "#d8576b"
                          ],
                          [
                            0.6666666666666666,
                            "#ed7953"
                          ],
                          [
                            0.7777777777777778,
                            "#fb9f3a"
                          ],
                          [
                            0.8888888888888888,
                            "#fdca26"
                          ],
                          [
                            1,
                            "#f0f921"
                          ]
                        ],
                        "type": "histogram2d"
                      }
                    ],
                    "histogram2dcontour": [
                      {
                        "colorbar": {
                          "outlinewidth": 0,
                          "ticks": ""
                        },
                        "colorscale": [
                          [
                            0,
                            "#0d0887"
                          ],
                          [
                            0.1111111111111111,
                            "#46039f"
                          ],
                          [
                            0.2222222222222222,
                            "#7201a8"
                          ],
                          [
                            0.3333333333333333,
                            "#9c179e"
                          ],
                          [
                            0.4444444444444444,
                            "#bd3786"
                          ],
                          [
                            0.5555555555555556,
                            "#d8576b"
                          ],
                          [
                            0.6666666666666666,
                            "#ed7953"
                          ],
                          [
                            0.7777777777777778,
                            "#fb9f3a"
                          ],
                          [
                            0.8888888888888888,
                            "#fdca26"
                          ],
                          [
                            1,
                            "#f0f921"
                          ]
                        ],
                        "type": "histogram2dcontour"
                      }
                    ],
                    "mesh3d": [
                      {
                        "colorbar": {
                          "outlinewidth": 0,
                          "ticks": ""
                        },
                        "type": "mesh3d"
                      }
                    ],
                    "parcoords": [
                      {
                        "line": {
                          "colorbar": {
                            "outlinewidth": 0,
                            "ticks": ""
                          }
                        },
                        "type": "parcoords"
                      }
                    ],
                    "pie": [
                      {
                        "automargin": true,
                        "type": "pie"
                      }
                    ],
                    "scatter": [
                      {
                        "fillpattern": {
                          "fillmode": "overlay",
                          "size": 10,
                          "solidity": 0.2
                        },
                        "type": "scatter"
                      }
                    ],
                    "scatter3d": [
                      {
                        "line": {
                          "colorbar": {
                            "outlinewidth": 0,
                            "ticks": ""
                          }
                        },
                        "marker": {
                          "colorbar": {
                            "outlinewidth": 0,
                            "ticks": ""
                          }
                        },
                        "type": "scatter3d"
                      }
                    ],
                    "scattercarpet": [
                      {
                        "marker": {
                          "colorbar": {
                            "outlinewidth": 0,
                            "ticks": ""
                          }
                        },
                        "type": "scattercarpet"
                      }
                    ],
                    "scattergeo": [
                      {
                        "marker": {
                          "colorbar": {
                            "outlinewidth": 0,
                            "ticks": ""
                          }
                        },
                        "type": "scattergeo"
                      }
                    ],
                    "scattergl": [
                      {
                        "marker": {
                          "colorbar": {
                            "outlinewidth": 0,
                            "ticks": ""
                          }
                        },
                        "type": "scattergl"
                      }
                    ],
                    "scattermapbox": [
                      {
                        "marker": {
                          "colorbar": {
                            "outlinewidth": 0,
                            "ticks": ""
                          }
                        },
                        "type": "scattermapbox"
                      }
                    ],
                    "scatterpolar": [
                      {
                        "marker": {
                          "colorbar": {
                            "outlinewidth": 0,
                            "ticks": ""
                          }
                        },
                        "type": "scatterpolar"
                      }
                    ],
                    "scatterpolargl": [
                      {
                        "marker": {
                          "colorbar": {
                            "outlinewidth": 0,
                            "ticks": ""
                          }
                        },
                        "type": "scatterpolargl"
                      }
                    ],
                    "scatterternary": [
                      {
                        "marker": {
                          "colorbar": {
                            "outlinewidth": 0,
                            "ticks": ""
                          }
                        },
                        "type": "scatterternary"
                      }
                    ],
                    "surface": [
                      {
                        "colorbar": {
                          "outlinewidth": 0,
                          "ticks": ""
                        },
                        "colorscale": [
                          [
                            0,
                            "#0d0887"
                          ],
                          [
                            0.1111111111111111,
                            "#46039f"
                          ],
                          [
                            0.2222222222222222,
                            "#7201a8"
                          ],
                          [
                            0.3333333333333333,
                            "#9c179e"
                          ],
                          [
                            0.4444444444444444,
                            "#bd3786"
                          ],
                          [
                            0.5555555555555556,
                            "#d8576b"
                          ],
                          [
                            0.6666666666666666,
                            "#ed7953"
                          ],
                          [
                            0.7777777777777778,
                            "#fb9f3a"
                          ],
                          [
                            0.8888888888888888,
                            "#fdca26"
                          ],
                          [
                            1,
                            "#f0f921"
                          ]
                        ],
                        "type": "surface"
                      }
                    ],
                    "table": [
                      {
                        "cells": {
                          "fill": {
                            "color": "#EBF0F8"
                          },
                          "line": {
                            "color": "white"
                          }
                        },
                        "header": {
                          "fill": {
                            "color": "#C8D4E3"
                          },
                          "line": {
                            "color": "white"
                          }
                        },
                        "type": "table"
                      }
                    ]
                  },
                  "layout": {
                    "annotationdefaults": {
                      "arrowcolor": "#2a3f5f",
                      "arrowhead": 0,
                      "arrowwidth": 1
                    },
                    "autotypenumbers": "strict",
                    "coloraxis": {
                      "colorbar": {
                        "outlinewidth": 0,
                        "ticks": ""
                      }
                    },
                    "colorscale": {
                      "diverging": [
                        [
                          0,
                          "#8e0152"
                        ],
                        [
                          0.1,
                          "#c51b7d"
                        ],
                        [
                          0.2,
                          "#de77ae"
                        ],
                        [
                          0.3,
                          "#f1b6da"
                        ],
                        [
                          0.4,
                          "#fde0ef"
                        ],
                        [
                          0.5,
                          "#f7f7f7"
                        ],
                        [
                          0.6,
                          "#e6f5d0"
                        ],
                        [
                          0.7,
                          "#b8e186"
                        ],
                        [
                          0.8,
                          "#7fbc41"
                        ],
                        [
                          0.9,
                          "#4d9221"
                        ],
                        [
                          1,
                          "#276419"
                        ]
                      ],
                      "sequential": [
                        [
                          0,
                          "#0d0887"
                        ],
                        [
                          0.1111111111111111,
                          "#46039f"
                        ],
                        [
                          0.2222222222222222,
                          "#7201a8"
                        ],
                        [
                          0.3333333333333333,
                          "#9c179e"
                        ],
                        [
                          0.4444444444444444,
                          "#bd3786"
                        ],
                        [
                          0.5555555555555556,
                          "#d8576b"
                        ],
                        [
                          0.6666666666666666,
                          "#ed7953"
                        ],
                        [
                          0.7777777777777778,
                          "#fb9f3a"
                        ],
                        [
                          0.8888888888888888,
                          "#fdca26"
                        ],
                        [
                          1,
                          "#f0f921"
                        ]
                      ],
                      "sequentialminus": [
                        [
                          0,
                          "#0d0887"
                        ],
                        [
                          0.1111111111111111,
                          "#46039f"
                        ],
                        [
                          0.2222222222222222,
                          "#7201a8"
                        ],
                        [
                          0.3333333333333333,
                          "#9c179e"
                        ],
                        [
                          0.4444444444444444,
                          "#bd3786"
                        ],
                        [
                          0.5555555555555556,
                          "#d8576b"
                        ],
                        [
                          0.6666666666666666,
                          "#ed7953"
                        ],
                        [
                          0.7777777777777778,
                          "#fb9f3a"
                        ],
                        [
                          0.8888888888888888,
                          "#fdca26"
                        ],
                        [
                          1,
                          "#f0f921"
                        ]
                      ]
                    },
                    "colorway": [
                      "#636efa",
                      "#EF553B",
                      "#00cc96",
                      "#ab63fa",
                      "#FFA15A",
                      "#19d3f3",
                      "#FF6692",
                      "#B6E880",
                      "#FF97FF",
                      "#FECB52"
                    ],
                    "font": {
                      "color": "#2a3f5f"
                    },
                    "geo": {
                      "bgcolor": "white",
                      "lakecolor": "white",
                      "landcolor": "#E5ECF6",
                      "showlakes": true,
                      "showland": true,
                      "subunitcolor": "white"
                    },
                    "hoverlabel": {
                      "align": "left"
                    },
                    "hovermode": "closest",
                    "mapbox": {
                      "style": "light"
                    },
                    "paper_bgcolor": "white",
                    "plot_bgcolor": "#E5ECF6",
                    "polar": {
                      "angularaxis": {
                        "gridcolor": "white",
                        "linecolor": "white",
                        "ticks": ""
                      },
                      "bgcolor": "#E5ECF6",
                      "radialaxis": {
                        "gridcolor": "white",
                        "linecolor": "white",
                        "ticks": ""
                      }
                    },
                    "scene": {
                      "xaxis": {
                        "backgroundcolor": "#E5ECF6",
                        "gridcolor": "white",
                        "gridwidth": 2,
                        "linecolor": "white",
                        "showbackground": true,
                        "ticks": "",
                        "zerolinecolor": "white"
                      },
                      "yaxis": {
                        "backgroundcolor": "#E5ECF6",
                        "gridcolor": "white",
                        "gridwidth": 2,
                        "linecolor": "white",
                        "showbackground": true,
                        "ticks": "",
                        "zerolinecolor": "white"
                      },
                      "zaxis": {
                        "backgroundcolor": "#E5ECF6",
                        "gridcolor": "white",
                        "gridwidth": 2,
                        "linecolor": "white",
                        "showbackground": true,
                        "ticks": "",
                        "zerolinecolor": "white"
                      }
                    },
                    "shapedefaults": {
                      "line": {
                        "color": "#2a3f5f"
                      }
                    },
                    "ternary": {
                      "aaxis": {
                        "gridcolor": "white",
                        "linecolor": "white",
                        "ticks": ""
                      },
                      "baxis": {
                        "gridcolor": "white",
                        "linecolor": "white",
                        "ticks": ""
                      },
                      "bgcolor": "#E5ECF6",
                      "caxis": {
                        "gridcolor": "white",
                        "linecolor": "white",
                        "ticks": ""
                      }
                    },
                    "title": {
                      "x": 0.05
                    },
                    "xaxis": {
                      "automargin": true,
                      "gridcolor": "white",
                      "linecolor": "white",
                      "ticks": "",
                      "title": {
                        "standoff": 15
                      },
                      "zerolinecolor": "white",
                      "zerolinewidth": 2
                    },
                    "yaxis": {
                      "automargin": true,
                      "gridcolor": "white",
                      "linecolor": "white",
                      "ticks": "",
                      "title": {
                        "standoff": 15
                      },
                      "zerolinecolor": "white",
                      "zerolinewidth": 2
                    }
                  }
                },
                "title": {
                  "text": "Korelasi antara Variabel Numerik"
                },
                "xaxis": {
                  "title": {
                    "text": "Variabel"
                  }
                },
                "yaxis": {
                  "title": {
                    "text": "Variabel"
                  }
                }
              }
            }
          },
          "metadata": {},
          "output_type": "display_data"
        }
      ],
      "source": [
        "import plotly.graph_objects as go\n",
        "\n",
        "correlation_matrix = df_day.corr()\n",
        "\n",
        "fig = go.Figure(data=go.Heatmap(z=correlation_matrix.values,\n",
        "                                x=correlation_matrix.columns,\n",
        "                                y=correlation_matrix.index))\n",
        "\n",
        "fig.update_layout(title=\"Korelasi antara Variabel Numerik\",\n",
        "                  xaxis_title=\"Variabel\",\n",
        "                  yaxis_title=\"Variabel\")\n",
        "\n",
        "fig.show()"
      ]
    },
    {
      "cell_type": "markdown",
      "metadata": {
        "id": "o6L1pQLoxmO0"
      },
      "source": [
        "Distribusi variabel kategorikal"
      ]
    },
    {
      "cell_type": "code",
      "execution_count": 19,
      "metadata": {
        "colab": {
          "base_uri": "https://localhost:8080/",
          "height": 1000
        },
        "id": "sl6wWewrjYkg",
        "outputId": "08b39f8a-8ab9-4555-8660-a4cc73cf8328"
      },
      "outputs": [
        {
          "data": {
            "application/vnd.plotly.v1+json": {
              "config": {
                "plotlyServerURL": "https://plot.ly"
              },
              "data": [
                {
                  "type": "histogram",
                  "x": [
                    0.344167,
                    0.363478,
                    0.196364,
                    0.2,
                    0.226957,
                    0.204348,
                    0.196522,
                    0.165,
                    0.138333,
                    0.150833,
                    0.169091,
                    0.172727,
                    0.165,
                    0.16087,
                    0.233333,
                    0.231667,
                    0.175833,
                    0.216667,
                    0.292174,
                    0.261667,
                    0.1775,
                    0.0591304,
                    0.0965217,
                    0.0973913,
                    0.223478,
                    0.2175,
                    0.195,
                    0.203478,
                    0.196522,
                    0.216522,
                    0.180833,
                    0.192174,
                    0.26,
                    0.186957,
                    0.211304,
                    0.233333,
                    0.285833,
                    0.271667,
                    0.220833,
                    0.134783,
                    0.144348,
                    0.189091,
                    0.2225,
                    0.316522,
                    0.415,
                    0.266087,
                    0.318261,
                    0.435833,
                    0.521667,
                    0.399167,
                    0.285217,
                    0.303333,
                    0.182222,
                    0.221739,
                    0.295652,
                    0.364348,
                    0.2825,
                    0.343478,
                    0.407273,
                    0.266667,
                    0.335,
                    0.198333,
                    0.261667,
                    0.384167,
                    0.376522,
                    0.261739,
                    0.2925,
                    0.295833,
                    0.389091,
                    0.316522,
                    0.329167,
                    0.384348,
                    0.325217,
                    0.317391,
                    0.365217,
                    0.415,
                    0.54,
                    0.4725,
                    0.3325,
                    0.430435,
                    0.441667,
                    0.346957,
                    0.285,
                    0.264167,
                    0.265833,
                    0.253043,
                    0.264348,
                    0.3025,
                    0.3,
                    0.268333,
                    0.3,
                    0.315,
                    0.378333,
                    0.573333,
                    0.414167,
                    0.390833,
                    0.4375,
                    0.335833,
                    0.3425,
                    0.426667,
                    0.595652,
                    0.5025,
                    0.4125,
                    0.4675,
                    0.446667,
                    0.430833,
                    0.456667,
                    0.5125,
                    0.505833,
                    0.595,
                    0.459167,
                    0.336667,
                    0.46,
                    0.581667,
                    0.606667,
                    0.631667,
                    0.62,
                    0.6175,
                    0.51,
                    0.4725,
                    0.451667,
                    0.549167,
                    0.616667,
                    0.414167,
                    0.459167,
                    0.479167,
                    0.52,
                    0.528333,
                    0.5325,
                    0.5325,
                    0.5425,
                    0.535,
                    0.5125,
                    0.520833,
                    0.5625,
                    0.5775,
                    0.561667,
                    0.55,
                    0.530833,
                    0.536667,
                    0.6025,
                    0.604167,
                    0.631667,
                    0.66,
                    0.660833,
                    0.708333,
                    0.681667,
                    0.655833,
                    0.6675,
                    0.733333,
                    0.775,
                    0.764167,
                    0.715,
                    0.62,
                    0.635,
                    0.648333,
                    0.678333,
                    0.7075,
                    0.775833,
                    0.808333,
                    0.755,
                    0.725,
                    0.6925,
                    0.635,
                    0.604167,
                    0.626667,
                    0.628333,
                    0.649167,
                    0.696667,
                    0.699167,
                    0.635,
                    0.680833,
                    0.733333,
                    0.728333,
                    0.724167,
                    0.695,
                    0.68,
                    0.6825,
                    0.744167,
                    0.728333,
                    0.696667,
                    0.7225,
                    0.738333,
                    0.716667,
                    0.726667,
                    0.746667,
                    0.72,
                    0.75,
                    0.709167,
                    0.733333,
                    0.7475,
                    0.7625,
                    0.794167,
                    0.746667,
                    0.680833,
                    0.663333,
                    0.686667,
                    0.719167,
                    0.746667,
                    0.776667,
                    0.768333,
                    0.815,
                    0.848333,
                    0.849167,
                    0.83,
                    0.743333,
                    0.771667,
                    0.775,
                    0.779167,
                    0.838333,
                    0.804167,
                    0.805833,
                    0.771667,
                    0.783333,
                    0.731667,
                    0.71,
                    0.710833,
                    0.716667,
                    0.7425,
                    0.765,
                    0.775,
                    0.766667,
                    0.7175,
                    0.708333,
                    0.685833,
                    0.676667,
                    0.665833,
                    0.700833,
                    0.723333,
                    0.711667,
                    0.685,
                    0.6975,
                    0.710833,
                    0.691667,
                    0.640833,
                    0.673333,
                    0.684167,
                    0.7,
                    0.68,
                    0.707059,
                    0.636667,
                    0.639167,
                    0.656667,
                    0.655,
                    0.643333,
                    0.669167,
                    0.709167,
                    0.673333,
                    0.54,
                    0.599167,
                    0.633913,
                    0.65,
                    0.66,
                    0.653333,
                    0.644348,
                    0.650833,
                    0.673333,
                    0.5775,
                    0.469167,
                    0.491667,
                    0.5075,
                    0.549167,
                    0.561667,
                    0.595,
                    0.628333,
                    0.609167,
                    0.606667,
                    0.634167,
                    0.649167,
                    0.636667,
                    0.635,
                    0.616667,
                    0.564167,
                    0.41,
                    0.356667,
                    0.384167,
                    0.484167,
                    0.538333,
                    0.494167,
                    0.510833,
                    0.521667,
                    0.540833,
                    0.570833,
                    0.566667,
                    0.543333,
                    0.589167,
                    0.550833,
                    0.506667,
                    0.511667,
                    0.534167,
                    0.5325,
                    0.541739,
                    0.475833,
                    0.4275,
                    0.4225,
                    0.421667,
                    0.463333,
                    0.471667,
                    0.484167,
                    0.47,
                    0.330833,
                    0.254167,
                    0.319167,
                    0.34,
                    0.400833,
                    0.3775,
                    0.408333,
                    0.403333,
                    0.326667,
                    0.348333,
                    0.395,
                    0.408333,
                    0.4,
                    0.38,
                    0.324167,
                    0.356667,
                    0.440833,
                    0.53,
                    0.53,
                    0.456667,
                    0.341667,
                    0.274167,
                    0.329167,
                    0.463333,
                    0.4475,
                    0.416667,
                    0.440833,
                    0.373333,
                    0.375,
                    0.375833,
                    0.459167,
                    0.503478,
                    0.458333,
                    0.325,
                    0.3125,
                    0.314167,
                    0.299167,
                    0.330833,
                    0.385833,
                    0.4625,
                    0.41,
                    0.265833,
                    0.290833,
                    0.275,
                    0.220833,
                    0.238333,
                    0.2825,
                    0.3175,
                    0.4225,
                    0.375,
                    0.258333,
                    0.238333,
                    0.276667,
                    0.385833,
                    0.428333,
                    0.423333,
                    0.373333,
                    0.3025,
                    0.274783,
                    0.321739,
                    0.325,
                    0.29913,
                    0.248333,
                    0.311667,
                    0.41,
                    0.37,
                    0.273043,
                    0.15,
                    0.1075,
                    0.265833,
                    0.334167,
                    0.393333,
                    0.3375,
                    0.224167,
                    0.308696,
                    0.274167,
                    0.3825,
                    0.274167,
                    0.18,
                    0.166667,
                    0.19,
                    0.373043,
                    0.303333,
                    0.19,
                    0.2175,
                    0.173333,
                    0.1625,
                    0.218333,
                    0.3425,
                    0.294167,
                    0.341667,
                    0.425,
                    0.315833,
                    0.2825,
                    0.269167,
                    0.39,
                    0.469167,
                    0.399167,
                    0.313333,
                    0.264167,
                    0.265833,
                    0.282609,
                    0.354167,
                    0.256667,
                    0.265,
                    0.280833,
                    0.224167,
                    0.1275,
                    0.2225,
                    0.319167,
                    0.348333,
                    0.316667,
                    0.343333,
                    0.346667,
                    0.28,
                    0.28,
                    0.287826,
                    0.395833,
                    0.454167,
                    0.4075,
                    0.290833,
                    0.279167,
                    0.366667,
                    0.359167,
                    0.344348,
                    0.485833,
                    0.353333,
                    0.414167,
                    0.325833,
                    0.243333,
                    0.258333,
                    0.404167,
                    0.5275,
                    0.410833,
                    0.2875,
                    0.361739,
                    0.466667,
                    0.565,
                    0.5725,
                    0.5575,
                    0.435833,
                    0.514167,
                    0.4725,
                    0.545,
                    0.560833,
                    0.531667,
                    0.554167,
                    0.601667,
                    0.5025,
                    0.4375,
                    0.445833,
                    0.323333,
                    0.484167,
                    0.494167,
                    0.37,
                    0.424167,
                    0.425833,
                    0.433913,
                    0.466667,
                    0.541667,
                    0.435,
                    0.403333,
                    0.4375,
                    0.5,
                    0.489167,
                    0.446667,
                    0.348696,
                    0.3975,
                    0.4425,
                    0.495,
                    0.606667,
                    0.664167,
                    0.608333,
                    0.463333,
                    0.498333,
                    0.526667,
                    0.57,
                    0.396667,
                    0.321667,
                    0.413333,
                    0.476667,
                    0.498333,
                    0.4575,
                    0.376667,
                    0.458333,
                    0.464167,
                    0.613333,
                    0.564167,
                    0.56,
                    0.6275,
                    0.621667,
                    0.5625,
                    0.5375,
                    0.581667,
                    0.575,
                    0.505833,
                    0.533333,
                    0.564167,
                    0.6125,
                    0.573333,
                    0.611667,
                    0.636667,
                    0.593333,
                    0.564167,
                    0.6,
                    0.620833,
                    0.598333,
                    0.615,
                    0.621667,
                    0.655,
                    0.68,
                    0.6925,
                    0.69,
                    0.7125,
                    0.7225,
                    0.656667,
                    0.68,
                    0.654167,
                    0.583333,
                    0.6025,
                    0.5975,
                    0.540833,
                    0.554167,
                    0.6025,
                    0.649167,
                    0.710833,
                    0.726667,
                    0.720833,
                    0.653333,
                    0.655833,
                    0.648333,
                    0.639167,
                    0.631667,
                    0.5925,
                    0.568333,
                    0.688333,
                    0.7825,
                    0.805833,
                    0.7775,
                    0.731667,
                    0.743333,
                    0.715833,
                    0.630833,
                    0.6975,
                    0.749167,
                    0.834167,
                    0.765,
                    0.815833,
                    0.781667,
                    0.780833,
                    0.789167,
                    0.8275,
                    0.828333,
                    0.861667,
                    0.8225,
                    0.710833,
                    0.720833,
                    0.716667,
                    0.715833,
                    0.731667,
                    0.703333,
                    0.745833,
                    0.763333,
                    0.818333,
                    0.793333,
                    0.77,
                    0.665833,
                    0.595833,
                    0.6675,
                    0.741667,
                    0.750833,
                    0.724167,
                    0.776667,
                    0.781667,
                    0.755833,
                    0.721667,
                    0.730833,
                    0.713333,
                    0.7175,
                    0.7525,
                    0.765833,
                    0.793333,
                    0.769167,
                    0.7525,
                    0.735833,
                    0.75,
                    0.755833,
                    0.715833,
                    0.6925,
                    0.700833,
                    0.720833,
                    0.726667,
                    0.706667,
                    0.719167,
                    0.723333,
                    0.678333,
                    0.635833,
                    0.635833,
                    0.649167,
                    0.6675,
                    0.695833,
                    0.7025,
                    0.661667,
                    0.653333,
                    0.703333,
                    0.728333,
                    0.685,
                    0.706667,
                    0.764167,
                    0.753333,
                    0.696667,
                    0.7075,
                    0.725833,
                    0.736667,
                    0.696667,
                    0.703333,
                    0.659167,
                    0.61,
                    0.583333,
                    0.5775,
                    0.599167,
                    0.6125,
                    0.633333,
                    0.608333,
                    0.58,
                    0.580833,
                    0.623333,
                    0.5525,
                    0.546667,
                    0.599167,
                    0.65,
                    0.529167,
                    0.514167,
                    0.55,
                    0.635,
                    0.65,
                    0.619167,
                    0.5425,
                    0.526667,
                    0.520833,
                    0.590833,
                    0.6575,
                    0.6575,
                    0.615,
                    0.554167,
                    0.415833,
                    0.383333,
                    0.446667,
                    0.514167,
                    0.435,
                    0.4375,
                    0.393333,
                    0.521667,
                    0.561667,
                    0.468333,
                    0.455833,
                    0.5225,
                    0.563333,
                    0.484167,
                    0.464167,
                    0.4875,
                    0.544167,
                    0.5875,
                    0.55,
                    0.545833,
                    0.53,
                    0.4775,
                    0.44,
                    0.318182,
                    0.3575,
                    0.365833,
                    0.355,
                    0.343333,
                    0.325833,
                    0.319167,
                    0.280833,
                    0.295833,
                    0.352174,
                    0.361667,
                    0.389167,
                    0.420833,
                    0.485,
                    0.343333,
                    0.289167,
                    0.321667,
                    0.345,
                    0.325,
                    0.3425,
                    0.380833,
                    0.374167,
                    0.353333,
                    0.34,
                    0.368333,
                    0.278333,
                    0.245833,
                    0.313333,
                    0.291667,
                    0.296667,
                    0.28087,
                    0.298333,
                    0.298333,
                    0.3475,
                    0.4525,
                    0.475833,
                    0.438333,
                    0.255833,
                    0.320833,
                    0.381667,
                    0.384167,
                    0.435833,
                    0.353333,
                    0.2975,
                    0.295833,
                    0.281667,
                    0.324167,
                    0.3625,
                    0.393333,
                    0.410833,
                    0.3325,
                    0.33,
                    0.326667,
                    0.265833,
                    0.245833,
                    0.231304,
                    0.291304,
                    0.243333,
                    0.254167,
                    0.253333,
                    0.253333,
                    0.255833,
                    0.215833
                  ]
                }
              ],
              "layout": {
                "template": {
                  "data": {
                    "bar": [
                      {
                        "error_x": {
                          "color": "#2a3f5f"
                        },
                        "error_y": {
                          "color": "#2a3f5f"
                        },
                        "marker": {
                          "line": {
                            "color": "#E5ECF6",
                            "width": 0.5
                          },
                          "pattern": {
                            "fillmode": "overlay",
                            "size": 10,
                            "solidity": 0.2
                          }
                        },
                        "type": "bar"
                      }
                    ],
                    "barpolar": [
                      {
                        "marker": {
                          "line": {
                            "color": "#E5ECF6",
                            "width": 0.5
                          },
                          "pattern": {
                            "fillmode": "overlay",
                            "size": 10,
                            "solidity": 0.2
                          }
                        },
                        "type": "barpolar"
                      }
                    ],
                    "carpet": [
                      {
                        "aaxis": {
                          "endlinecolor": "#2a3f5f",
                          "gridcolor": "white",
                          "linecolor": "white",
                          "minorgridcolor": "white",
                          "startlinecolor": "#2a3f5f"
                        },
                        "baxis": {
                          "endlinecolor": "#2a3f5f",
                          "gridcolor": "white",
                          "linecolor": "white",
                          "minorgridcolor": "white",
                          "startlinecolor": "#2a3f5f"
                        },
                        "type": "carpet"
                      }
                    ],
                    "choropleth": [
                      {
                        "colorbar": {
                          "outlinewidth": 0,
                          "ticks": ""
                        },
                        "type": "choropleth"
                      }
                    ],
                    "contour": [
                      {
                        "colorbar": {
                          "outlinewidth": 0,
                          "ticks": ""
                        },
                        "colorscale": [
                          [
                            0,
                            "#0d0887"
                          ],
                          [
                            0.1111111111111111,
                            "#46039f"
                          ],
                          [
                            0.2222222222222222,
                            "#7201a8"
                          ],
                          [
                            0.3333333333333333,
                            "#9c179e"
                          ],
                          [
                            0.4444444444444444,
                            "#bd3786"
                          ],
                          [
                            0.5555555555555556,
                            "#d8576b"
                          ],
                          [
                            0.6666666666666666,
                            "#ed7953"
                          ],
                          [
                            0.7777777777777778,
                            "#fb9f3a"
                          ],
                          [
                            0.8888888888888888,
                            "#fdca26"
                          ],
                          [
                            1,
                            "#f0f921"
                          ]
                        ],
                        "type": "contour"
                      }
                    ],
                    "contourcarpet": [
                      {
                        "colorbar": {
                          "outlinewidth": 0,
                          "ticks": ""
                        },
                        "type": "contourcarpet"
                      }
                    ],
                    "heatmap": [
                      {
                        "colorbar": {
                          "outlinewidth": 0,
                          "ticks": ""
                        },
                        "colorscale": [
                          [
                            0,
                            "#0d0887"
                          ],
                          [
                            0.1111111111111111,
                            "#46039f"
                          ],
                          [
                            0.2222222222222222,
                            "#7201a8"
                          ],
                          [
                            0.3333333333333333,
                            "#9c179e"
                          ],
                          [
                            0.4444444444444444,
                            "#bd3786"
                          ],
                          [
                            0.5555555555555556,
                            "#d8576b"
                          ],
                          [
                            0.6666666666666666,
                            "#ed7953"
                          ],
                          [
                            0.7777777777777778,
                            "#fb9f3a"
                          ],
                          [
                            0.8888888888888888,
                            "#fdca26"
                          ],
                          [
                            1,
                            "#f0f921"
                          ]
                        ],
                        "type": "heatmap"
                      }
                    ],
                    "heatmapgl": [
                      {
                        "colorbar": {
                          "outlinewidth": 0,
                          "ticks": ""
                        },
                        "colorscale": [
                          [
                            0,
                            "#0d0887"
                          ],
                          [
                            0.1111111111111111,
                            "#46039f"
                          ],
                          [
                            0.2222222222222222,
                            "#7201a8"
                          ],
                          [
                            0.3333333333333333,
                            "#9c179e"
                          ],
                          [
                            0.4444444444444444,
                            "#bd3786"
                          ],
                          [
                            0.5555555555555556,
                            "#d8576b"
                          ],
                          [
                            0.6666666666666666,
                            "#ed7953"
                          ],
                          [
                            0.7777777777777778,
                            "#fb9f3a"
                          ],
                          [
                            0.8888888888888888,
                            "#fdca26"
                          ],
                          [
                            1,
                            "#f0f921"
                          ]
                        ],
                        "type": "heatmapgl"
                      }
                    ],
                    "histogram": [
                      {
                        "marker": {
                          "pattern": {
                            "fillmode": "overlay",
                            "size": 10,
                            "solidity": 0.2
                          }
                        },
                        "type": "histogram"
                      }
                    ],
                    "histogram2d": [
                      {
                        "colorbar": {
                          "outlinewidth": 0,
                          "ticks": ""
                        },
                        "colorscale": [
                          [
                            0,
                            "#0d0887"
                          ],
                          [
                            0.1111111111111111,
                            "#46039f"
                          ],
                          [
                            0.2222222222222222,
                            "#7201a8"
                          ],
                          [
                            0.3333333333333333,
                            "#9c179e"
                          ],
                          [
                            0.4444444444444444,
                            "#bd3786"
                          ],
                          [
                            0.5555555555555556,
                            "#d8576b"
                          ],
                          [
                            0.6666666666666666,
                            "#ed7953"
                          ],
                          [
                            0.7777777777777778,
                            "#fb9f3a"
                          ],
                          [
                            0.8888888888888888,
                            "#fdca26"
                          ],
                          [
                            1,
                            "#f0f921"
                          ]
                        ],
                        "type": "histogram2d"
                      }
                    ],
                    "histogram2dcontour": [
                      {
                        "colorbar": {
                          "outlinewidth": 0,
                          "ticks": ""
                        },
                        "colorscale": [
                          [
                            0,
                            "#0d0887"
                          ],
                          [
                            0.1111111111111111,
                            "#46039f"
                          ],
                          [
                            0.2222222222222222,
                            "#7201a8"
                          ],
                          [
                            0.3333333333333333,
                            "#9c179e"
                          ],
                          [
                            0.4444444444444444,
                            "#bd3786"
                          ],
                          [
                            0.5555555555555556,
                            "#d8576b"
                          ],
                          [
                            0.6666666666666666,
                            "#ed7953"
                          ],
                          [
                            0.7777777777777778,
                            "#fb9f3a"
                          ],
                          [
                            0.8888888888888888,
                            "#fdca26"
                          ],
                          [
                            1,
                            "#f0f921"
                          ]
                        ],
                        "type": "histogram2dcontour"
                      }
                    ],
                    "mesh3d": [
                      {
                        "colorbar": {
                          "outlinewidth": 0,
                          "ticks": ""
                        },
                        "type": "mesh3d"
                      }
                    ],
                    "parcoords": [
                      {
                        "line": {
                          "colorbar": {
                            "outlinewidth": 0,
                            "ticks": ""
                          }
                        },
                        "type": "parcoords"
                      }
                    ],
                    "pie": [
                      {
                        "automargin": true,
                        "type": "pie"
                      }
                    ],
                    "scatter": [
                      {
                        "fillpattern": {
                          "fillmode": "overlay",
                          "size": 10,
                          "solidity": 0.2
                        },
                        "type": "scatter"
                      }
                    ],
                    "scatter3d": [
                      {
                        "line": {
                          "colorbar": {
                            "outlinewidth": 0,
                            "ticks": ""
                          }
                        },
                        "marker": {
                          "colorbar": {
                            "outlinewidth": 0,
                            "ticks": ""
                          }
                        },
                        "type": "scatter3d"
                      }
                    ],
                    "scattercarpet": [
                      {
                        "marker": {
                          "colorbar": {
                            "outlinewidth": 0,
                            "ticks": ""
                          }
                        },
                        "type": "scattercarpet"
                      }
                    ],
                    "scattergeo": [
                      {
                        "marker": {
                          "colorbar": {
                            "outlinewidth": 0,
                            "ticks": ""
                          }
                        },
                        "type": "scattergeo"
                      }
                    ],
                    "scattergl": [
                      {
                        "marker": {
                          "colorbar": {
                            "outlinewidth": 0,
                            "ticks": ""
                          }
                        },
                        "type": "scattergl"
                      }
                    ],
                    "scattermapbox": [
                      {
                        "marker": {
                          "colorbar": {
                            "outlinewidth": 0,
                            "ticks": ""
                          }
                        },
                        "type": "scattermapbox"
                      }
                    ],
                    "scatterpolar": [
                      {
                        "marker": {
                          "colorbar": {
                            "outlinewidth": 0,
                            "ticks": ""
                          }
                        },
                        "type": "scatterpolar"
                      }
                    ],
                    "scatterpolargl": [
                      {
                        "marker": {
                          "colorbar": {
                            "outlinewidth": 0,
                            "ticks": ""
                          }
                        },
                        "type": "scatterpolargl"
                      }
                    ],
                    "scatterternary": [
                      {
                        "marker": {
                          "colorbar": {
                            "outlinewidth": 0,
                            "ticks": ""
                          }
                        },
                        "type": "scatterternary"
                      }
                    ],
                    "surface": [
                      {
                        "colorbar": {
                          "outlinewidth": 0,
                          "ticks": ""
                        },
                        "colorscale": [
                          [
                            0,
                            "#0d0887"
                          ],
                          [
                            0.1111111111111111,
                            "#46039f"
                          ],
                          [
                            0.2222222222222222,
                            "#7201a8"
                          ],
                          [
                            0.3333333333333333,
                            "#9c179e"
                          ],
                          [
                            0.4444444444444444,
                            "#bd3786"
                          ],
                          [
                            0.5555555555555556,
                            "#d8576b"
                          ],
                          [
                            0.6666666666666666,
                            "#ed7953"
                          ],
                          [
                            0.7777777777777778,
                            "#fb9f3a"
                          ],
                          [
                            0.8888888888888888,
                            "#fdca26"
                          ],
                          [
                            1,
                            "#f0f921"
                          ]
                        ],
                        "type": "surface"
                      }
                    ],
                    "table": [
                      {
                        "cells": {
                          "fill": {
                            "color": "#EBF0F8"
                          },
                          "line": {
                            "color": "white"
                          }
                        },
                        "header": {
                          "fill": {
                            "color": "#C8D4E3"
                          },
                          "line": {
                            "color": "white"
                          }
                        },
                        "type": "table"
                      }
                    ]
                  },
                  "layout": {
                    "annotationdefaults": {
                      "arrowcolor": "#2a3f5f",
                      "arrowhead": 0,
                      "arrowwidth": 1
                    },
                    "autotypenumbers": "strict",
                    "coloraxis": {
                      "colorbar": {
                        "outlinewidth": 0,
                        "ticks": ""
                      }
                    },
                    "colorscale": {
                      "diverging": [
                        [
                          0,
                          "#8e0152"
                        ],
                        [
                          0.1,
                          "#c51b7d"
                        ],
                        [
                          0.2,
                          "#de77ae"
                        ],
                        [
                          0.3,
                          "#f1b6da"
                        ],
                        [
                          0.4,
                          "#fde0ef"
                        ],
                        [
                          0.5,
                          "#f7f7f7"
                        ],
                        [
                          0.6,
                          "#e6f5d0"
                        ],
                        [
                          0.7,
                          "#b8e186"
                        ],
                        [
                          0.8,
                          "#7fbc41"
                        ],
                        [
                          0.9,
                          "#4d9221"
                        ],
                        [
                          1,
                          "#276419"
                        ]
                      ],
                      "sequential": [
                        [
                          0,
                          "#0d0887"
                        ],
                        [
                          0.1111111111111111,
                          "#46039f"
                        ],
                        [
                          0.2222222222222222,
                          "#7201a8"
                        ],
                        [
                          0.3333333333333333,
                          "#9c179e"
                        ],
                        [
                          0.4444444444444444,
                          "#bd3786"
                        ],
                        [
                          0.5555555555555556,
                          "#d8576b"
                        ],
                        [
                          0.6666666666666666,
                          "#ed7953"
                        ],
                        [
                          0.7777777777777778,
                          "#fb9f3a"
                        ],
                        [
                          0.8888888888888888,
                          "#fdca26"
                        ],
                        [
                          1,
                          "#f0f921"
                        ]
                      ],
                      "sequentialminus": [
                        [
                          0,
                          "#0d0887"
                        ],
                        [
                          0.1111111111111111,
                          "#46039f"
                        ],
                        [
                          0.2222222222222222,
                          "#7201a8"
                        ],
                        [
                          0.3333333333333333,
                          "#9c179e"
                        ],
                        [
                          0.4444444444444444,
                          "#bd3786"
                        ],
                        [
                          0.5555555555555556,
                          "#d8576b"
                        ],
                        [
                          0.6666666666666666,
                          "#ed7953"
                        ],
                        [
                          0.7777777777777778,
                          "#fb9f3a"
                        ],
                        [
                          0.8888888888888888,
                          "#fdca26"
                        ],
                        [
                          1,
                          "#f0f921"
                        ]
                      ]
                    },
                    "colorway": [
                      "#636efa",
                      "#EF553B",
                      "#00cc96",
                      "#ab63fa",
                      "#FFA15A",
                      "#19d3f3",
                      "#FF6692",
                      "#B6E880",
                      "#FF97FF",
                      "#FECB52"
                    ],
                    "font": {
                      "color": "#2a3f5f"
                    },
                    "geo": {
                      "bgcolor": "white",
                      "lakecolor": "white",
                      "landcolor": "#E5ECF6",
                      "showlakes": true,
                      "showland": true,
                      "subunitcolor": "white"
                    },
                    "hoverlabel": {
                      "align": "left"
                    },
                    "hovermode": "closest",
                    "mapbox": {
                      "style": "light"
                    },
                    "paper_bgcolor": "white",
                    "plot_bgcolor": "#E5ECF6",
                    "polar": {
                      "angularaxis": {
                        "gridcolor": "white",
                        "linecolor": "white",
                        "ticks": ""
                      },
                      "bgcolor": "#E5ECF6",
                      "radialaxis": {
                        "gridcolor": "white",
                        "linecolor": "white",
                        "ticks": ""
                      }
                    },
                    "scene": {
                      "xaxis": {
                        "backgroundcolor": "#E5ECF6",
                        "gridcolor": "white",
                        "gridwidth": 2,
                        "linecolor": "white",
                        "showbackground": true,
                        "ticks": "",
                        "zerolinecolor": "white"
                      },
                      "yaxis": {
                        "backgroundcolor": "#E5ECF6",
                        "gridcolor": "white",
                        "gridwidth": 2,
                        "linecolor": "white",
                        "showbackground": true,
                        "ticks": "",
                        "zerolinecolor": "white"
                      },
                      "zaxis": {
                        "backgroundcolor": "#E5ECF6",
                        "gridcolor": "white",
                        "gridwidth": 2,
                        "linecolor": "white",
                        "showbackground": true,
                        "ticks": "",
                        "zerolinecolor": "white"
                      }
                    },
                    "shapedefaults": {
                      "line": {
                        "color": "#2a3f5f"
                      }
                    },
                    "ternary": {
                      "aaxis": {
                        "gridcolor": "white",
                        "linecolor": "white",
                        "ticks": ""
                      },
                      "baxis": {
                        "gridcolor": "white",
                        "linecolor": "white",
                        "ticks": ""
                      },
                      "bgcolor": "#E5ECF6",
                      "caxis": {
                        "gridcolor": "white",
                        "linecolor": "white",
                        "ticks": ""
                      }
                    },
                    "title": {
                      "x": 0.05
                    },
                    "xaxis": {
                      "automargin": true,
                      "gridcolor": "white",
                      "linecolor": "white",
                      "ticks": "",
                      "title": {
                        "standoff": 15
                      },
                      "zerolinecolor": "white",
                      "zerolinewidth": 2
                    },
                    "yaxis": {
                      "automargin": true,
                      "gridcolor": "white",
                      "linecolor": "white",
                      "ticks": "",
                      "title": {
                        "standoff": 15
                      },
                      "zerolinecolor": "white",
                      "zerolinewidth": 2
                    }
                  }
                },
                "title": {
                  "text": "Distribusi temp"
                },
                "xaxis": {
                  "title": {
                    "text": "temp"
                  }
                },
                "yaxis": {
                  "title": {
                    "text": "Frekuensi"
                  }
                }
              }
            }
          },
          "metadata": {},
          "output_type": "display_data"
        },
        {
          "data": {
            "application/vnd.plotly.v1+json": {
              "config": {
                "plotlyServerURL": "https://plot.ly"
              },
              "data": [
                {
                  "type": "histogram",
                  "x": [
                    0.363625,
                    0.353739,
                    0.189405,
                    0.212122,
                    0.22927,
                    0.233209,
                    0.208839,
                    0.162254,
                    0.116175,
                    0.150888,
                    0.191464,
                    0.160473,
                    0.150883,
                    0.188413,
                    0.248112,
                    0.234217,
                    0.176771,
                    0.232333,
                    0.298422,
                    0.25505,
                    0.157833,
                    0.0790696,
                    0.0988391,
                    0.11793,
                    0.234526,
                    0.2036,
                    0.2197,
                    0.223317,
                    0.212126,
                    0.250322,
                    0.18625,
                    0.23453,
                    0.254417,
                    0.177878,
                    0.228587,
                    0.243058,
                    0.291671,
                    0.303658,
                    0.198246,
                    0.144283,
                    0.149548,
                    0.213509,
                    0.232954,
                    0.324113,
                    0.39835,
                    0.254274,
                    0.3162,
                    0.428658,
                    0.511983,
                    0.391404,
                    0.27733,
                    0.284075,
                    0.186033,
                    0.245717,
                    0.289191,
                    0.350461,
                    0.282192,
                    0.351109,
                    0.400118,
                    0.263879,
                    0.320071,
                    0.200133,
                    0.255679,
                    0.378779,
                    0.366252,
                    0.238461,
                    0.3024,
                    0.286608,
                    0.385668,
                    0.305,
                    0.32575,
                    0.380091,
                    0.332,
                    0.318178,
                    0.36693,
                    0.410333,
                    0.527009,
                    0.466525,
                    0.32575,
                    0.409735,
                    0.440642,
                    0.337939,
                    0.270833,
                    0.256312,
                    0.257571,
                    0.250339,
                    0.257574,
                    0.292908,
                    0.29735,
                    0.257575,
                    0.283454,
                    0.315637,
                    0.378767,
                    0.542929,
                    0.39835,
                    0.387608,
                    0.433696,
                    0.324479,
                    0.341529,
                    0.426737,
                    0.565217,
                    0.493054,
                    0.417283,
                    0.462742,
                    0.441913,
                    0.425492,
                    0.445696,
                    0.503146,
                    0.489258,
                    0.564392,
                    0.453892,
                    0.321954,
                    0.450121,
                    0.551763,
                    0.5745,
                    0.594083,
                    0.575142,
                    0.578929,
                    0.497463,
                    0.464021,
                    0.448204,
                    0.532833,
                    0.582079,
                    0.40465,
                    0.441917,
                    0.474117,
                    0.512621,
                    0.518933,
                    0.525246,
                    0.522721,
                    0.5284,
                    0.523363,
                    0.4943,
                    0.500629,
                    0.536,
                    0.550512,
                    0.538529,
                    0.527158,
                    0.510742,
                    0.529042,
                    0.571975,
                    0.5745,
                    0.590296,
                    0.604813,
                    0.615542,
                    0.654688,
                    0.637008,
                    0.612379,
                    0.61555,
                    0.671092,
                    0.725383,
                    0.720967,
                    0.643942,
                    0.587133,
                    0.594696,
                    0.616804,
                    0.621858,
                    0.65595,
                    0.727279,
                    0.757579,
                    0.703292,
                    0.678038,
                    0.643325,
                    0.601654,
                    0.591546,
                    0.587754,
                    0.595346,
                    0.600383,
                    0.643954,
                    0.645846,
                    0.595346,
                    0.637646,
                    0.693829,
                    0.693833,
                    0.656583,
                    0.643313,
                    0.637629,
                    0.637004,
                    0.692558,
                    0.654688,
                    0.637008,
                    0.652162,
                    0.667308,
                    0.668575,
                    0.665417,
                    0.696338,
                    0.685633,
                    0.686871,
                    0.670483,
                    0.664158,
                    0.690025,
                    0.729804,
                    0.739275,
                    0.689404,
                    0.635104,
                    0.624371,
                    0.638263,
                    0.669833,
                    0.703925,
                    0.747479,
                    0.74685,
                    0.826371,
                    0.840896,
                    0.804287,
                    0.794829,
                    0.720958,
                    0.696979,
                    0.690667,
                    0.7399,
                    0.785967,
                    0.728537,
                    0.729796,
                    0.703292,
                    0.707071,
                    0.679937,
                    0.664788,
                    0.656567,
                    0.676154,
                    0.715292,
                    0.703283,
                    0.724121,
                    0.684983,
                    0.651521,
                    0.654042,
                    0.645858,
                    0.624388,
                    0.616167,
                    0.645837,
                    0.666671,
                    0.662258,
                    0.633221,
                    0.648996,
                    0.675525,
                    0.638254,
                    0.606067,
                    0.630692,
                    0.645854,
                    0.659733,
                    0.635556,
                    0.647959,
                    0.607958,
                    0.594704,
                    0.611121,
                    0.614921,
                    0.604808,
                    0.633213,
                    0.665429,
                    0.625646,
                    0.5152,
                    0.544229,
                    0.555361,
                    0.578946,
                    0.607962,
                    0.609229,
                    0.60213,
                    0.603554,
                    0.6269,
                    0.553671,
                    0.461475,
                    0.478512,
                    0.490537,
                    0.529675,
                    0.532217,
                    0.550533,
                    0.554963,
                    0.522125,
                    0.564412,
                    0.572637,
                    0.589042,
                    0.574525,
                    0.575158,
                    0.574512,
                    0.544829,
                    0.412863,
                    0.345317,
                    0.392046,
                    0.472858,
                    0.527138,
                    0.480425,
                    0.504404,
                    0.513242,
                    0.523983,
                    0.542925,
                    0.546096,
                    0.517717,
                    0.551804,
                    0.529675,
                    0.498725,
                    0.503154,
                    0.510725,
                    0.522721,
                    0.513848,
                    0.466525,
                    0.423596,
                    0.425492,
                    0.422333,
                    0.457067,
                    0.463375,
                    0.472846,
                    0.457046,
                    0.318812,
                    0.227913,
                    0.321329,
                    0.356063,
                    0.397088,
                    0.390133,
                    0.405921,
                    0.403392,
                    0.323854,
                    0.362358,
                    0.400871,
                    0.412246,
                    0.409079,
                    0.373721,
                    0.306817,
                    0.357942,
                    0.43055,
                    0.524612,
                    0.507579,
                    0.451988,
                    0.323221,
                    0.272721,
                    0.324483,
                    0.457058,
                    0.445062,
                    0.421696,
                    0.430537,
                    0.372471,
                    0.380671,
                    0.385087,
                    0.4558,
                    0.490122,
                    0.451375,
                    0.311221,
                    0.305554,
                    0.331433,
                    0.310604,
                    0.3491,
                    0.393925,
                    0.4564,
                    0.400246,
                    0.256938,
                    0.317542,
                    0.266412,
                    0.253154,
                    0.270196,
                    0.301138,
                    0.338362,
                    0.412237,
                    0.359825,
                    0.249371,
                    0.245579,
                    0.280933,
                    0.396454,
                    0.428017,
                    0.426121,
                    0.377513,
                    0.299242,
                    0.279961,
                    0.315535,
                    0.327633,
                    0.279974,
                    0.263892,
                    0.318812,
                    0.414121,
                    0.375621,
                    0.252304,
                    0.126275,
                    0.119337,
                    0.278412,
                    0.340267,
                    0.390779,
                    0.340258,
                    0.247479,
                    0.318826,
                    0.282821,
                    0.381938,
                    0.249362,
                    0.183087,
                    0.161625,
                    0.190663,
                    0.364278,
                    0.275254,
                    0.190038,
                    0.220958,
                    0.174875,
                    0.16225,
                    0.243058,
                    0.349108,
                    0.294821,
                    0.35605,
                    0.415383,
                    0.326379,
                    0.272721,
                    0.262625,
                    0.381317,
                    0.466538,
                    0.398971,
                    0.309346,
                    0.272725,
                    0.264521,
                    0.296426,
                    0.361104,
                    0.266421,
                    0.261988,
                    0.293558,
                    0.210867,
                    0.101658,
                    0.227913,
                    0.333946,
                    0.351629,
                    0.330162,
                    0.351629,
                    0.355425,
                    0.265788,
                    0.273391,
                    0.295113,
                    0.392667,
                    0.444446,
                    0.410971,
                    0.255675,
                    0.268308,
                    0.357954,
                    0.353525,
                    0.34847,
                    0.475371,
                    0.359842,
                    0.413492,
                    0.303021,
                    0.241171,
                    0.255042,
                    0.3851,
                    0.524604,
                    0.397083,
                    0.277767,
                    0.35967,
                    0.459592,
                    0.542929,
                    0.548617,
                    0.532825,
                    0.436229,
                    0.505046,
                    0.464,
                    0.532821,
                    0.538533,
                    0.513258,
                    0.531567,
                    0.570067,
                    0.486733,
                    0.437488,
                    0.43875,
                    0.315654,
                    0.47095,
                    0.482304,
                    0.375621,
                    0.421708,
                    0.417287,
                    0.427513,
                    0.461483,
                    0.53345,
                    0.431163,
                    0.390767,
                    0.426129,
                    0.492425,
                    0.476638,
                    0.436233,
                    0.337274,
                    0.387604,
                    0.431808,
                    0.487996,
                    0.573875,
                    0.614925,
                    0.598487,
                    0.457038,
                    0.493046,
                    0.515775,
                    0.542921,
                    0.389504,
                    0.301125,
                    0.405283,
                    0.470317,
                    0.483583,
                    0.452637,
                    0.377504,
                    0.450121,
                    0.457696,
                    0.577021,
                    0.537896,
                    0.537242,
                    0.590917,
                    0.584608,
                    0.546737,
                    0.527142,
                    0.557471,
                    0.553025,
                    0.491783,
                    0.520833,
                    0.544817,
                    0.585238,
                    0.5499,
                    0.576404,
                    0.595975,
                    0.572613,
                    0.551121,
                    0.566908,
                    0.583967,
                    0.565667,
                    0.580825,
                    0.584612,
                    0.6067,
                    0.627529,
                    0.642696,
                    0.641425,
                    0.6793,
                    0.672992,
                    0.611129,
                    0.631329,
                    0.607962,
                    0.566288,
                    0.575133,
                    0.578283,
                    0.525892,
                    0.542292,
                    0.569442,
                    0.597862,
                    0.648367,
                    0.663517,
                    0.659721,
                    0.597875,
                    0.611117,
                    0.624383,
                    0.599754,
                    0.594708,
                    0.571975,
                    0.544842,
                    0.654692,
                    0.720975,
                    0.752542,
                    0.724121,
                    0.652792,
                    0.674254,
                    0.654042,
                    0.594704,
                    0.640792,
                    0.675512,
                    0.786613,
                    0.687508,
                    0.750629,
                    0.702038,
                    0.70265,
                    0.732337,
                    0.761367,
                    0.752533,
                    0.804913,
                    0.790396,
                    0.654054,
                    0.664796,
                    0.650271,
                    0.654683,
                    0.667933,
                    0.666042,
                    0.705196,
                    0.724125,
                    0.755683,
                    0.745583,
                    0.714642,
                    0.613025,
                    0.549912,
                    0.623125,
                    0.690017,
                    0.70645,
                    0.654054,
                    0.739263,
                    0.734217,
                    0.697604,
                    0.667933,
                    0.684987,
                    0.662896,
                    0.667308,
                    0.707088,
                    0.722867,
                    0.751267,
                    0.731079,
                    0.710246,
                    0.697621,
                    0.707717,
                    0.699508,
                    0.667942,
                    0.638267,
                    0.644579,
                    0.662254,
                    0.676779,
                    0.654037,
                    0.654688,
                    0.2424,
                    0.618071,
                    0.603554,
                    0.595967,
                    0.601025,
                    0.621854,
                    0.637008,
                    0.6471,
                    0.618696,
                    0.595996,
                    0.654688,
                    0.66605,
                    0.635733,
                    0.652779,
                    0.6894,
                    0.702654,
                    0.649,
                    0.661629,
                    0.686888,
                    0.708983,
                    0.655329,
                    0.657204,
                    0.611121,
                    0.578925,
                    0.565654,
                    0.554292,
                    0.570075,
                    0.579558,
                    0.594083,
                    0.585867,
                    0.563125,
                    0.55305,
                    0.565067,
                    0.540404,
                    0.532192,
                    0.571971,
                    0.610488,
                    0.518933,
                    0.502513,
                    0.544179,
                    0.596613,
                    0.607975,
                    0.585863,
                    0.530296,
                    0.517663,
                    0.512,
                    0.542333,
                    0.599133,
                    0.607975,
                    0.580187,
                    0.538521,
                    0.419813,
                    0.387608,
                    0.438112,
                    0.503142,
                    0.431167,
                    0.433071,
                    0.391396,
                    0.508204,
                    0.53915,
                    0.460846,
                    0.450108,
                    0.512625,
                    0.537896,
                    0.472842,
                    0.456429,
                    0.482942,
                    0.530304,
                    0.558721,
                    0.529688,
                    0.52275,
                    0.515133,
                    0.467771,
                    0.4394,
                    0.309909,
                    0.3611,
                    0.369942,
                    0.356042,
                    0.323846,
                    0.329538,
                    0.308075,
                    0.281567,
                    0.274621,
                    0.341891,
                    0.355413,
                    0.393937,
                    0.421713,
                    0.475383,
                    0.323225,
                    0.281563,
                    0.324492,
                    0.347204,
                    0.326383,
                    0.337746,
                    0.375621,
                    0.380667,
                    0.364892,
                    0.350371,
                    0.378779,
                    0.248742,
                    0.257583,
                    0.339004,
                    0.281558,
                    0.289762,
                    0.298422,
                    0.323867,
                    0.316904,
                    0.359208,
                    0.455796,
                    0.469054,
                    0.428012,
                    0.258204,
                    0.321958,
                    0.389508,
                    0.390146,
                    0.435575,
                    0.338363,
                    0.297338,
                    0.294188,
                    0.294192,
                    0.338383,
                    0.369938,
                    0.4015,
                    0.409708,
                    0.342162,
                    0.335217,
                    0.301767,
                    0.236113,
                    0.259471,
                    0.2589,
                    0.294465,
                    0.220333,
                    0.226642,
                    0.255046,
                    0.2424,
                    0.2317,
                    0.223487
                  ]
                }
              ],
              "layout": {
                "template": {
                  "data": {
                    "bar": [
                      {
                        "error_x": {
                          "color": "#2a3f5f"
                        },
                        "error_y": {
                          "color": "#2a3f5f"
                        },
                        "marker": {
                          "line": {
                            "color": "#E5ECF6",
                            "width": 0.5
                          },
                          "pattern": {
                            "fillmode": "overlay",
                            "size": 10,
                            "solidity": 0.2
                          }
                        },
                        "type": "bar"
                      }
                    ],
                    "barpolar": [
                      {
                        "marker": {
                          "line": {
                            "color": "#E5ECF6",
                            "width": 0.5
                          },
                          "pattern": {
                            "fillmode": "overlay",
                            "size": 10,
                            "solidity": 0.2
                          }
                        },
                        "type": "barpolar"
                      }
                    ],
                    "carpet": [
                      {
                        "aaxis": {
                          "endlinecolor": "#2a3f5f",
                          "gridcolor": "white",
                          "linecolor": "white",
                          "minorgridcolor": "white",
                          "startlinecolor": "#2a3f5f"
                        },
                        "baxis": {
                          "endlinecolor": "#2a3f5f",
                          "gridcolor": "white",
                          "linecolor": "white",
                          "minorgridcolor": "white",
                          "startlinecolor": "#2a3f5f"
                        },
                        "type": "carpet"
                      }
                    ],
                    "choropleth": [
                      {
                        "colorbar": {
                          "outlinewidth": 0,
                          "ticks": ""
                        },
                        "type": "choropleth"
                      }
                    ],
                    "contour": [
                      {
                        "colorbar": {
                          "outlinewidth": 0,
                          "ticks": ""
                        },
                        "colorscale": [
                          [
                            0,
                            "#0d0887"
                          ],
                          [
                            0.1111111111111111,
                            "#46039f"
                          ],
                          [
                            0.2222222222222222,
                            "#7201a8"
                          ],
                          [
                            0.3333333333333333,
                            "#9c179e"
                          ],
                          [
                            0.4444444444444444,
                            "#bd3786"
                          ],
                          [
                            0.5555555555555556,
                            "#d8576b"
                          ],
                          [
                            0.6666666666666666,
                            "#ed7953"
                          ],
                          [
                            0.7777777777777778,
                            "#fb9f3a"
                          ],
                          [
                            0.8888888888888888,
                            "#fdca26"
                          ],
                          [
                            1,
                            "#f0f921"
                          ]
                        ],
                        "type": "contour"
                      }
                    ],
                    "contourcarpet": [
                      {
                        "colorbar": {
                          "outlinewidth": 0,
                          "ticks": ""
                        },
                        "type": "contourcarpet"
                      }
                    ],
                    "heatmap": [
                      {
                        "colorbar": {
                          "outlinewidth": 0,
                          "ticks": ""
                        },
                        "colorscale": [
                          [
                            0,
                            "#0d0887"
                          ],
                          [
                            0.1111111111111111,
                            "#46039f"
                          ],
                          [
                            0.2222222222222222,
                            "#7201a8"
                          ],
                          [
                            0.3333333333333333,
                            "#9c179e"
                          ],
                          [
                            0.4444444444444444,
                            "#bd3786"
                          ],
                          [
                            0.5555555555555556,
                            "#d8576b"
                          ],
                          [
                            0.6666666666666666,
                            "#ed7953"
                          ],
                          [
                            0.7777777777777778,
                            "#fb9f3a"
                          ],
                          [
                            0.8888888888888888,
                            "#fdca26"
                          ],
                          [
                            1,
                            "#f0f921"
                          ]
                        ],
                        "type": "heatmap"
                      }
                    ],
                    "heatmapgl": [
                      {
                        "colorbar": {
                          "outlinewidth": 0,
                          "ticks": ""
                        },
                        "colorscale": [
                          [
                            0,
                            "#0d0887"
                          ],
                          [
                            0.1111111111111111,
                            "#46039f"
                          ],
                          [
                            0.2222222222222222,
                            "#7201a8"
                          ],
                          [
                            0.3333333333333333,
                            "#9c179e"
                          ],
                          [
                            0.4444444444444444,
                            "#bd3786"
                          ],
                          [
                            0.5555555555555556,
                            "#d8576b"
                          ],
                          [
                            0.6666666666666666,
                            "#ed7953"
                          ],
                          [
                            0.7777777777777778,
                            "#fb9f3a"
                          ],
                          [
                            0.8888888888888888,
                            "#fdca26"
                          ],
                          [
                            1,
                            "#f0f921"
                          ]
                        ],
                        "type": "heatmapgl"
                      }
                    ],
                    "histogram": [
                      {
                        "marker": {
                          "pattern": {
                            "fillmode": "overlay",
                            "size": 10,
                            "solidity": 0.2
                          }
                        },
                        "type": "histogram"
                      }
                    ],
                    "histogram2d": [
                      {
                        "colorbar": {
                          "outlinewidth": 0,
                          "ticks": ""
                        },
                        "colorscale": [
                          [
                            0,
                            "#0d0887"
                          ],
                          [
                            0.1111111111111111,
                            "#46039f"
                          ],
                          [
                            0.2222222222222222,
                            "#7201a8"
                          ],
                          [
                            0.3333333333333333,
                            "#9c179e"
                          ],
                          [
                            0.4444444444444444,
                            "#bd3786"
                          ],
                          [
                            0.5555555555555556,
                            "#d8576b"
                          ],
                          [
                            0.6666666666666666,
                            "#ed7953"
                          ],
                          [
                            0.7777777777777778,
                            "#fb9f3a"
                          ],
                          [
                            0.8888888888888888,
                            "#fdca26"
                          ],
                          [
                            1,
                            "#f0f921"
                          ]
                        ],
                        "type": "histogram2d"
                      }
                    ],
                    "histogram2dcontour": [
                      {
                        "colorbar": {
                          "outlinewidth": 0,
                          "ticks": ""
                        },
                        "colorscale": [
                          [
                            0,
                            "#0d0887"
                          ],
                          [
                            0.1111111111111111,
                            "#46039f"
                          ],
                          [
                            0.2222222222222222,
                            "#7201a8"
                          ],
                          [
                            0.3333333333333333,
                            "#9c179e"
                          ],
                          [
                            0.4444444444444444,
                            "#bd3786"
                          ],
                          [
                            0.5555555555555556,
                            "#d8576b"
                          ],
                          [
                            0.6666666666666666,
                            "#ed7953"
                          ],
                          [
                            0.7777777777777778,
                            "#fb9f3a"
                          ],
                          [
                            0.8888888888888888,
                            "#fdca26"
                          ],
                          [
                            1,
                            "#f0f921"
                          ]
                        ],
                        "type": "histogram2dcontour"
                      }
                    ],
                    "mesh3d": [
                      {
                        "colorbar": {
                          "outlinewidth": 0,
                          "ticks": ""
                        },
                        "type": "mesh3d"
                      }
                    ],
                    "parcoords": [
                      {
                        "line": {
                          "colorbar": {
                            "outlinewidth": 0,
                            "ticks": ""
                          }
                        },
                        "type": "parcoords"
                      }
                    ],
                    "pie": [
                      {
                        "automargin": true,
                        "type": "pie"
                      }
                    ],
                    "scatter": [
                      {
                        "fillpattern": {
                          "fillmode": "overlay",
                          "size": 10,
                          "solidity": 0.2
                        },
                        "type": "scatter"
                      }
                    ],
                    "scatter3d": [
                      {
                        "line": {
                          "colorbar": {
                            "outlinewidth": 0,
                            "ticks": ""
                          }
                        },
                        "marker": {
                          "colorbar": {
                            "outlinewidth": 0,
                            "ticks": ""
                          }
                        },
                        "type": "scatter3d"
                      }
                    ],
                    "scattercarpet": [
                      {
                        "marker": {
                          "colorbar": {
                            "outlinewidth": 0,
                            "ticks": ""
                          }
                        },
                        "type": "scattercarpet"
                      }
                    ],
                    "scattergeo": [
                      {
                        "marker": {
                          "colorbar": {
                            "outlinewidth": 0,
                            "ticks": ""
                          }
                        },
                        "type": "scattergeo"
                      }
                    ],
                    "scattergl": [
                      {
                        "marker": {
                          "colorbar": {
                            "outlinewidth": 0,
                            "ticks": ""
                          }
                        },
                        "type": "scattergl"
                      }
                    ],
                    "scattermapbox": [
                      {
                        "marker": {
                          "colorbar": {
                            "outlinewidth": 0,
                            "ticks": ""
                          }
                        },
                        "type": "scattermapbox"
                      }
                    ],
                    "scatterpolar": [
                      {
                        "marker": {
                          "colorbar": {
                            "outlinewidth": 0,
                            "ticks": ""
                          }
                        },
                        "type": "scatterpolar"
                      }
                    ],
                    "scatterpolargl": [
                      {
                        "marker": {
                          "colorbar": {
                            "outlinewidth": 0,
                            "ticks": ""
                          }
                        },
                        "type": "scatterpolargl"
                      }
                    ],
                    "scatterternary": [
                      {
                        "marker": {
                          "colorbar": {
                            "outlinewidth": 0,
                            "ticks": ""
                          }
                        },
                        "type": "scatterternary"
                      }
                    ],
                    "surface": [
                      {
                        "colorbar": {
                          "outlinewidth": 0,
                          "ticks": ""
                        },
                        "colorscale": [
                          [
                            0,
                            "#0d0887"
                          ],
                          [
                            0.1111111111111111,
                            "#46039f"
                          ],
                          [
                            0.2222222222222222,
                            "#7201a8"
                          ],
                          [
                            0.3333333333333333,
                            "#9c179e"
                          ],
                          [
                            0.4444444444444444,
                            "#bd3786"
                          ],
                          [
                            0.5555555555555556,
                            "#d8576b"
                          ],
                          [
                            0.6666666666666666,
                            "#ed7953"
                          ],
                          [
                            0.7777777777777778,
                            "#fb9f3a"
                          ],
                          [
                            0.8888888888888888,
                            "#fdca26"
                          ],
                          [
                            1,
                            "#f0f921"
                          ]
                        ],
                        "type": "surface"
                      }
                    ],
                    "table": [
                      {
                        "cells": {
                          "fill": {
                            "color": "#EBF0F8"
                          },
                          "line": {
                            "color": "white"
                          }
                        },
                        "header": {
                          "fill": {
                            "color": "#C8D4E3"
                          },
                          "line": {
                            "color": "white"
                          }
                        },
                        "type": "table"
                      }
                    ]
                  },
                  "layout": {
                    "annotationdefaults": {
                      "arrowcolor": "#2a3f5f",
                      "arrowhead": 0,
                      "arrowwidth": 1
                    },
                    "autotypenumbers": "strict",
                    "coloraxis": {
                      "colorbar": {
                        "outlinewidth": 0,
                        "ticks": ""
                      }
                    },
                    "colorscale": {
                      "diverging": [
                        [
                          0,
                          "#8e0152"
                        ],
                        [
                          0.1,
                          "#c51b7d"
                        ],
                        [
                          0.2,
                          "#de77ae"
                        ],
                        [
                          0.3,
                          "#f1b6da"
                        ],
                        [
                          0.4,
                          "#fde0ef"
                        ],
                        [
                          0.5,
                          "#f7f7f7"
                        ],
                        [
                          0.6,
                          "#e6f5d0"
                        ],
                        [
                          0.7,
                          "#b8e186"
                        ],
                        [
                          0.8,
                          "#7fbc41"
                        ],
                        [
                          0.9,
                          "#4d9221"
                        ],
                        [
                          1,
                          "#276419"
                        ]
                      ],
                      "sequential": [
                        [
                          0,
                          "#0d0887"
                        ],
                        [
                          0.1111111111111111,
                          "#46039f"
                        ],
                        [
                          0.2222222222222222,
                          "#7201a8"
                        ],
                        [
                          0.3333333333333333,
                          "#9c179e"
                        ],
                        [
                          0.4444444444444444,
                          "#bd3786"
                        ],
                        [
                          0.5555555555555556,
                          "#d8576b"
                        ],
                        [
                          0.6666666666666666,
                          "#ed7953"
                        ],
                        [
                          0.7777777777777778,
                          "#fb9f3a"
                        ],
                        [
                          0.8888888888888888,
                          "#fdca26"
                        ],
                        [
                          1,
                          "#f0f921"
                        ]
                      ],
                      "sequentialminus": [
                        [
                          0,
                          "#0d0887"
                        ],
                        [
                          0.1111111111111111,
                          "#46039f"
                        ],
                        [
                          0.2222222222222222,
                          "#7201a8"
                        ],
                        [
                          0.3333333333333333,
                          "#9c179e"
                        ],
                        [
                          0.4444444444444444,
                          "#bd3786"
                        ],
                        [
                          0.5555555555555556,
                          "#d8576b"
                        ],
                        [
                          0.6666666666666666,
                          "#ed7953"
                        ],
                        [
                          0.7777777777777778,
                          "#fb9f3a"
                        ],
                        [
                          0.8888888888888888,
                          "#fdca26"
                        ],
                        [
                          1,
                          "#f0f921"
                        ]
                      ]
                    },
                    "colorway": [
                      "#636efa",
                      "#EF553B",
                      "#00cc96",
                      "#ab63fa",
                      "#FFA15A",
                      "#19d3f3",
                      "#FF6692",
                      "#B6E880",
                      "#FF97FF",
                      "#FECB52"
                    ],
                    "font": {
                      "color": "#2a3f5f"
                    },
                    "geo": {
                      "bgcolor": "white",
                      "lakecolor": "white",
                      "landcolor": "#E5ECF6",
                      "showlakes": true,
                      "showland": true,
                      "subunitcolor": "white"
                    },
                    "hoverlabel": {
                      "align": "left"
                    },
                    "hovermode": "closest",
                    "mapbox": {
                      "style": "light"
                    },
                    "paper_bgcolor": "white",
                    "plot_bgcolor": "#E5ECF6",
                    "polar": {
                      "angularaxis": {
                        "gridcolor": "white",
                        "linecolor": "white",
                        "ticks": ""
                      },
                      "bgcolor": "#E5ECF6",
                      "radialaxis": {
                        "gridcolor": "white",
                        "linecolor": "white",
                        "ticks": ""
                      }
                    },
                    "scene": {
                      "xaxis": {
                        "backgroundcolor": "#E5ECF6",
                        "gridcolor": "white",
                        "gridwidth": 2,
                        "linecolor": "white",
                        "showbackground": true,
                        "ticks": "",
                        "zerolinecolor": "white"
                      },
                      "yaxis": {
                        "backgroundcolor": "#E5ECF6",
                        "gridcolor": "white",
                        "gridwidth": 2,
                        "linecolor": "white",
                        "showbackground": true,
                        "ticks": "",
                        "zerolinecolor": "white"
                      },
                      "zaxis": {
                        "backgroundcolor": "#E5ECF6",
                        "gridcolor": "white",
                        "gridwidth": 2,
                        "linecolor": "white",
                        "showbackground": true,
                        "ticks": "",
                        "zerolinecolor": "white"
                      }
                    },
                    "shapedefaults": {
                      "line": {
                        "color": "#2a3f5f"
                      }
                    },
                    "ternary": {
                      "aaxis": {
                        "gridcolor": "white",
                        "linecolor": "white",
                        "ticks": ""
                      },
                      "baxis": {
                        "gridcolor": "white",
                        "linecolor": "white",
                        "ticks": ""
                      },
                      "bgcolor": "#E5ECF6",
                      "caxis": {
                        "gridcolor": "white",
                        "linecolor": "white",
                        "ticks": ""
                      }
                    },
                    "title": {
                      "x": 0.05
                    },
                    "xaxis": {
                      "automargin": true,
                      "gridcolor": "white",
                      "linecolor": "white",
                      "ticks": "",
                      "title": {
                        "standoff": 15
                      },
                      "zerolinecolor": "white",
                      "zerolinewidth": 2
                    },
                    "yaxis": {
                      "automargin": true,
                      "gridcolor": "white",
                      "linecolor": "white",
                      "ticks": "",
                      "title": {
                        "standoff": 15
                      },
                      "zerolinecolor": "white",
                      "zerolinewidth": 2
                    }
                  }
                },
                "title": {
                  "text": "Distribusi atemp"
                },
                "xaxis": {
                  "title": {
                    "text": "atemp"
                  }
                },
                "yaxis": {
                  "title": {
                    "text": "Frekuensi"
                  }
                }
              }
            }
          },
          "metadata": {},
          "output_type": "display_data"
        },
        {
          "data": {
            "application/vnd.plotly.v1+json": {
              "config": {
                "plotlyServerURL": "https://plot.ly"
              },
              "data": [
                {
                  "type": "histogram",
                  "x": [
                    0.805833,
                    0.696087,
                    0.437273,
                    0.590435,
                    0.436957,
                    0.518261,
                    0.498696,
                    0.535833,
                    0.434167,
                    0.482917,
                    0.686364,
                    0.599545,
                    0.470417,
                    0.537826,
                    0.49875,
                    0.48375,
                    0.5375,
                    0.861667,
                    0.741739,
                    0.538333,
                    0.457083,
                    0.4,
                    0.436522,
                    0.491739,
                    0.616957,
                    0.8625,
                    0.6875,
                    0.793043,
                    0.651739,
                    0.722174,
                    0.60375,
                    0.829565,
                    0.775417,
                    0.437826,
                    0.585217,
                    0.929167,
                    0.568333,
                    0.738333,
                    0.537917,
                    0.494783,
                    0.437391,
                    0.506364,
                    0.544167,
                    0.457391,
                    0.375833,
                    0.314348,
                    0.423478,
                    0.505,
                    0.516667,
                    0.187917,
                    0.407826,
                    0.605,
                    0.577778,
                    0.423043,
                    0.697391,
                    0.712174,
                    0.537917,
                    0.68,
                    0.876364,
                    0.535,
                    0.449583,
                    0.318333,
                    0.610417,
                    0.789167,
                    0.948261,
                    0.551304,
                    0.420833,
                    0.775417,
                    0,
                    0.649565,
                    0.594583,
                    0.527391,
                    0.496957,
                    0.655652,
                    0.776522,
                    0.602917,
                    0.525217,
                    0.379167,
                    0.47375,
                    0.737391,
                    0.624583,
                    0.839565,
                    0.805833,
                    0.495,
                    0.394167,
                    0.493913,
                    0.302174,
                    0.314167,
                    0.646667,
                    0.918333,
                    0.68625,
                    0.65375,
                    0.48,
                    0.42625,
                    0.642083,
                    0.470833,
                    0.602917,
                    0.83625,
                    0.8775,
                    0.8575,
                    0.716956,
                    0.739167,
                    0.819167,
                    0.540417,
                    0.67125,
                    0.888333,
                    0.479583,
                    0.5425,
                    0.665833,
                    0.614167,
                    0.407083,
                    0.729583,
                    0.887917,
                    0.810833,
                    0.776667,
                    0.729167,
                    0.835417,
                    0.700833,
                    0.457083,
                    0.503333,
                    0.762083,
                    0.73,
                    0.697083,
                    0.737083,
                    0.444167,
                    0.59,
                    0.54125,
                    0.631667,
                    0.58875,
                    0.489167,
                    0.632917,
                    0.7475,
                    0.863333,
                    0.9225,
                    0.867083,
                    0.787917,
                    0.837917,
                    0.87,
                    0.829583,
                    0.719583,
                    0.626667,
                    0.749583,
                    0.81,
                    0.740833,
                    0.69625,
                    0.6775,
                    0.65375,
                    0.729583,
                    0.81875,
                    0.685,
                    0.636667,
                    0.677083,
                    0.305,
                    0.354167,
                    0.45625,
                    0.6525,
                    0.6,
                    0.597917,
                    0.622083,
                    0.568333,
                    0.605,
                    0.654583,
                    0.747917,
                    0.494583,
                    0.507083,
                    0.471667,
                    0.688333,
                    0.735833,
                    0.670417,
                    0.666667,
                    0.74625,
                    0.770417,
                    0.7075,
                    0.703333,
                    0.573333,
                    0.483333,
                    0.513333,
                    0.658333,
                    0.634167,
                    0.497917,
                    0.434167,
                    0.39625,
                    0.444583,
                    0.6825,
                    0.637917,
                    0.590417,
                    0.743333,
                    0.65125,
                    0.757917,
                    0.609167,
                    0.578333,
                    0.635833,
                    0.559167,
                    0.631667,
                    0.47625,
                    0.59125,
                    0.585,
                    0.604167,
                    0.65125,
                    0.650417,
                    0.707083,
                    0.69125,
                    0.580417,
                    0.5,
                    0.550833,
                    0.757083,
                    0.540833,
                    0.402917,
                    0.583333,
                    0.5425,
                    0.465833,
                    0.480833,
                    0.550833,
                    0.49125,
                    0.6575,
                    0.7575,
                    0.630833,
                    0.755,
                    0.752917,
                    0.592083,
                    0.570417,
                    0.424167,
                    0.42375,
                    0.415,
                    0.729583,
                    0.8175,
                    0.712083,
                    0.578333,
                    0.575417,
                    0.654583,
                    0.722917,
                    0.674167,
                    0.77,
                    0.47,
                    0.455417,
                    0.605,
                    0.771667,
                    0.76125,
                    0.85,
                    0.561765,
                    0.554583,
                    0.548333,
                    0.597917,
                    0.639167,
                    0.727083,
                    0.716667,
                    0.742083,
                    0.790417,
                    0.886957,
                    0.917083,
                    0.939565,
                    0.897917,
                    0.75375,
                    0.71375,
                    0.692174,
                    0.7125,
                    0.697083,
                    0.709167,
                    0.590417,
                    0.718333,
                    0.695,
                    0.69,
                    0.88125,
                    0.9,
                    0.902083,
                    0.9725,
                    0.8625,
                    0.845,
                    0.848333,
                    0.885417,
                    0.84875,
                    0.699167,
                    0.6475,
                    0.75375,
                    0.791667,
                    0.760833,
                    0.71,
                    0.647917,
                    0.620833,
                    0.684167,
                    0.70125,
                    0.7275,
                    0.73375,
                    0.80875,
                    0.90625,
                    0.896667,
                    0.71625,
                    0.483333,
                    0.486667,
                    0.579583,
                    0.701667,
                    0.895217,
                    0.63625,
                    0.574167,
                    0.629167,
                    0.74125,
                    0.772083,
                    0.622917,
                    0.720417,
                    0.812917,
                    0.585833,
                    0.8825,
                    0.62375,
                    0.703333,
                    0.68375,
                    0.71875,
                    0.702083,
                    0.6225,
                    0.519167,
                    0.734583,
                    0.75875,
                    0.721667,
                    0.758333,
                    0.813333,
                    0.44625,
                    0.552917,
                    0.458333,
                    0.587083,
                    0.68875,
                    0.93,
                    0.575833,
                    0.41,
                    0.502083,
                    0.684583,
                    0.91,
                    0.9625,
                    0.757917,
                    0.549167,
                    0.64375,
                    0.681667,
                    0.698333,
                    0.743043,
                    0.830833,
                    0.613333,
                    0.524583,
                    0.625833,
                    0.612917,
                    0.775833,
                    0.827083,
                    0.949583,
                    0.970417,
                    0.58,
                    0.695833,
                    0.5075,
                    0.49,
                    0.670833,
                    0.59,
                    0.66375,
                    0.634167,
                    0.500417,
                    0.560833,
                    0.58625,
                    0.6375,
                    0.595417,
                    0.858333,
                    0.7575,
                    0.68625,
                    0.5425,
                    0.681304,
                    0.506957,
                    0.7625,
                    0.503913,
                    0.574167,
                    0.636667,
                    0.615833,
                    0.6925,
                    0.381304,
                    0.44125,
                    0.414583,
                    0.524167,
                    0.542083,
                    0.531667,
                    0.465,
                    0.701667,
                    0.646522,
                    0.8475,
                    0.802917,
                    0.5075,
                    0.4575,
                    0.419167,
                    0.5225,
                    0.716087,
                    0.443333,
                    0.4975,
                    0.45,
                    0.83125,
                    0.79625,
                    0.91125,
                    0.835833,
                    0.64375,
                    0.769583,
                    0.74125,
                    0.543333,
                    0.31125,
                    0.400833,
                    0.416667,
                    0.507917,
                    0.672917,
                    0.526667,
                    0.779583,
                    0.687917,
                    0.622174,
                    0.49625,
                    0.722917,
                    0.562083,
                    0.54,
                    0.73125,
                    0.464583,
                    0.41125,
                    0.50875,
                    0.53125,
                    0.752917,
                    0.634583,
                    0.534583,
                    0.515833,
                    0.507826,
                    0.594348,
                    0.567917,
                    0.554583,
                    0.7375,
                    0.395833,
                    0.41,
                    0.490833,
                    0.395833,
                    0.804783,
                    0.615417,
                    0.657083,
                    0.62125,
                    0.403333,
                    0.50625,
                    0.456667,
                    0.513333,
                    0.5675,
                    0.407083,
                    0.350417,
                    0.476957,
                    0.489167,
                    0.6175,
                    0.507083,
                    0.579583,
                    0.842083,
                    0.755833,
                    0.81,
                    0.72875,
                    0.807917,
                    0.82125,
                    0.83125,
                    0.694167,
                    0.885417,
                    0.880833,
                    0.477917,
                    0.29,
                    0.48125,
                    0.439167,
                    0.580833,
                    0.738333,
                    0.67625,
                    0.504348,
                    0.396667,
                    0.469583,
                    0.374167,
                    0.377083,
                    0.254167,
                    0.275833,
                    0.3175,
                    0.435,
                    0.469565,
                    0.46625,
                    0.408333,
                    0.502917,
                    0.507917,
                    0.561667,
                    0.390417,
                    0.569167,
                    0.6125,
                    0.694583,
                    0.682917,
                    0.835417,
                    0.766667,
                    0.454167,
                    0.427917,
                    0.756667,
                    0.400833,
                    0.489583,
                    0.587083,
                    0.57,
                    0.659583,
                    0.797083,
                    0.768333,
                    0.735417,
                    0.756667,
                    0.74,
                    0.664167,
                    0.685833,
                    0.744167,
                    0.552083,
                    0.360417,
                    0.480417,
                    0.57625,
                    0.789583,
                    0.794583,
                    0.697917,
                    0.52,
                    0.523333,
                    0.45625,
                    0.530417,
                    0.81125,
                    0.765833,
                    0.774583,
                    0.716667,
                    0.747083,
                    0.7325,
                    0.697083,
                    0.67625,
                    0.684583,
                    0.67,
                    0.492917,
                    0.755417,
                    0.549167,
                    0.493333,
                    0.487083,
                    0.613333,
                    0.61125,
                    0.567083,
                    0.467917,
                    0.437083,
                    0.538333,
                    0.587917,
                    0.833333,
                    0.582083,
                    0.569583,
                    0.589583,
                    0.504167,
                    0.59875,
                    0.777917,
                    0.69,
                    0.592083,
                    0.567917,
                    0.57375,
                    0.534583,
                    0.479167,
                    0.504167,
                    0.373333,
                    0.36,
                    0.4225,
                    0.48875,
                    0.60125,
                    0.51875,
                    0.447083,
                    0.492083,
                    0.53875,
                    0.457917,
                    0.450833,
                    0.492083,
                    0.57375,
                    0.683333,
                    0.6675,
                    0.633333,
                    0.529583,
                    0.485833,
                    0.699167,
                    0.717917,
                    0.645,
                    0.505833,
                    0.577083,
                    0.600417,
                    0.844167,
                    0.865417,
                    0.7625,
                    0.694167,
                    0.655,
                    0.45,
                    0.596667,
                    0.594583,
                    0.613333,
                    0.62375,
                    0.66875,
                    0.704167,
                    0.6775,
                    0.659583,
                    0.6425,
                    0.613333,
                    0.6525,
                    0.654167,
                    0.70375,
                    0.672917,
                    0.620417,
                    0.715833,
                    0.732917,
                    0.530417,
                    0.545417,
                    0.686667,
                    0.619583,
                    0.519167,
                    0.570833,
                    0.603333,
                    0.711667,
                    0.734167,
                    0.67375,
                    0.677083,
                    0.635833,
                    0.615,
                    0.712917,
                    0.845833,
                    0.730417,
                    0.62,
                    0.552083,
                    0.590417,
                    0.5875,
                    0.638333,
                    0.815,
                    0.790833,
                    0.755,
                    0.74125,
                    0.810417,
                    0.73625,
                    0.799167,
                    0.5475,
                    0.50375,
                    0.52,
                    0.577083,
                    0.637083,
                    0.6725,
                    0.501667,
                    0.57,
                    0.734583,
                    0.8725,
                    0.536667,
                    0.618333,
                    0.66875,
                    0.646667,
                    0.467083,
                    0.492917,
                    0.57,
                    0.630833,
                    0.690833,
                    0.69,
                    0.542917,
                    0.583333,
                    0.649167,
                    0.871667,
                    0.79375,
                    0.722917,
                    0.6275,
                    0.664167,
                    0.708333,
                    0.709583,
                    0.761667,
                    0.630833,
                    0.463333,
                    0.539167,
                    0.494583,
                    0.640417,
                    0.7075,
                    0.558333,
                    0.692917,
                    0.728333,
                    0.815,
                    0.572917,
                    0.51,
                    0.568333,
                    0.641667,
                    0.63625,
                    0.800417,
                    0.807083,
                    0.72,
                    0.694583,
                    0.88,
                    0.825455,
                    0.666667,
                    0.581667,
                    0.522083,
                    0.49125,
                    0.532917,
                    0.494167,
                    0.567083,
                    0.5475,
                    0.333478,
                    0.540833,
                    0.645417,
                    0.659167,
                    0.741667,
                    0.662917,
                    0.552083,
                    0.620417,
                    0.524583,
                    0.545417,
                    0.692917,
                    0.623333,
                    0.685,
                    0.61375,
                    0.580417,
                    0.56875,
                    0.404583,
                    0.468333,
                    0.535417,
                    0.786667,
                    0.50625,
                    0.555652,
                    0.649583,
                    0.806667,
                    0.823333,
                    0.7675,
                    0.73375,
                    0.485,
                    0.50875,
                    0.764167,
                    0.91125,
                    0.905417,
                    0.925,
                    0.596667,
                    0.538333,
                    0.485833,
                    0.642917,
                    0.650417,
                    0.83875,
                    0.907083,
                    0.66625,
                    0.625417,
                    0.667917,
                    0.556667,
                    0.44125,
                    0.515417,
                    0.791304,
                    0.734783,
                    0.823333,
                    0.652917,
                    0.59,
                    0.752917,
                    0.483333,
                    0.5775
                  ]
                }
              ],
              "layout": {
                "template": {
                  "data": {
                    "bar": [
                      {
                        "error_x": {
                          "color": "#2a3f5f"
                        },
                        "error_y": {
                          "color": "#2a3f5f"
                        },
                        "marker": {
                          "line": {
                            "color": "#E5ECF6",
                            "width": 0.5
                          },
                          "pattern": {
                            "fillmode": "overlay",
                            "size": 10,
                            "solidity": 0.2
                          }
                        },
                        "type": "bar"
                      }
                    ],
                    "barpolar": [
                      {
                        "marker": {
                          "line": {
                            "color": "#E5ECF6",
                            "width": 0.5
                          },
                          "pattern": {
                            "fillmode": "overlay",
                            "size": 10,
                            "solidity": 0.2
                          }
                        },
                        "type": "barpolar"
                      }
                    ],
                    "carpet": [
                      {
                        "aaxis": {
                          "endlinecolor": "#2a3f5f",
                          "gridcolor": "white",
                          "linecolor": "white",
                          "minorgridcolor": "white",
                          "startlinecolor": "#2a3f5f"
                        },
                        "baxis": {
                          "endlinecolor": "#2a3f5f",
                          "gridcolor": "white",
                          "linecolor": "white",
                          "minorgridcolor": "white",
                          "startlinecolor": "#2a3f5f"
                        },
                        "type": "carpet"
                      }
                    ],
                    "choropleth": [
                      {
                        "colorbar": {
                          "outlinewidth": 0,
                          "ticks": ""
                        },
                        "type": "choropleth"
                      }
                    ],
                    "contour": [
                      {
                        "colorbar": {
                          "outlinewidth": 0,
                          "ticks": ""
                        },
                        "colorscale": [
                          [
                            0,
                            "#0d0887"
                          ],
                          [
                            0.1111111111111111,
                            "#46039f"
                          ],
                          [
                            0.2222222222222222,
                            "#7201a8"
                          ],
                          [
                            0.3333333333333333,
                            "#9c179e"
                          ],
                          [
                            0.4444444444444444,
                            "#bd3786"
                          ],
                          [
                            0.5555555555555556,
                            "#d8576b"
                          ],
                          [
                            0.6666666666666666,
                            "#ed7953"
                          ],
                          [
                            0.7777777777777778,
                            "#fb9f3a"
                          ],
                          [
                            0.8888888888888888,
                            "#fdca26"
                          ],
                          [
                            1,
                            "#f0f921"
                          ]
                        ],
                        "type": "contour"
                      }
                    ],
                    "contourcarpet": [
                      {
                        "colorbar": {
                          "outlinewidth": 0,
                          "ticks": ""
                        },
                        "type": "contourcarpet"
                      }
                    ],
                    "heatmap": [
                      {
                        "colorbar": {
                          "outlinewidth": 0,
                          "ticks": ""
                        },
                        "colorscale": [
                          [
                            0,
                            "#0d0887"
                          ],
                          [
                            0.1111111111111111,
                            "#46039f"
                          ],
                          [
                            0.2222222222222222,
                            "#7201a8"
                          ],
                          [
                            0.3333333333333333,
                            "#9c179e"
                          ],
                          [
                            0.4444444444444444,
                            "#bd3786"
                          ],
                          [
                            0.5555555555555556,
                            "#d8576b"
                          ],
                          [
                            0.6666666666666666,
                            "#ed7953"
                          ],
                          [
                            0.7777777777777778,
                            "#fb9f3a"
                          ],
                          [
                            0.8888888888888888,
                            "#fdca26"
                          ],
                          [
                            1,
                            "#f0f921"
                          ]
                        ],
                        "type": "heatmap"
                      }
                    ],
                    "heatmapgl": [
                      {
                        "colorbar": {
                          "outlinewidth": 0,
                          "ticks": ""
                        },
                        "colorscale": [
                          [
                            0,
                            "#0d0887"
                          ],
                          [
                            0.1111111111111111,
                            "#46039f"
                          ],
                          [
                            0.2222222222222222,
                            "#7201a8"
                          ],
                          [
                            0.3333333333333333,
                            "#9c179e"
                          ],
                          [
                            0.4444444444444444,
                            "#bd3786"
                          ],
                          [
                            0.5555555555555556,
                            "#d8576b"
                          ],
                          [
                            0.6666666666666666,
                            "#ed7953"
                          ],
                          [
                            0.7777777777777778,
                            "#fb9f3a"
                          ],
                          [
                            0.8888888888888888,
                            "#fdca26"
                          ],
                          [
                            1,
                            "#f0f921"
                          ]
                        ],
                        "type": "heatmapgl"
                      }
                    ],
                    "histogram": [
                      {
                        "marker": {
                          "pattern": {
                            "fillmode": "overlay",
                            "size": 10,
                            "solidity": 0.2
                          }
                        },
                        "type": "histogram"
                      }
                    ],
                    "histogram2d": [
                      {
                        "colorbar": {
                          "outlinewidth": 0,
                          "ticks": ""
                        },
                        "colorscale": [
                          [
                            0,
                            "#0d0887"
                          ],
                          [
                            0.1111111111111111,
                            "#46039f"
                          ],
                          [
                            0.2222222222222222,
                            "#7201a8"
                          ],
                          [
                            0.3333333333333333,
                            "#9c179e"
                          ],
                          [
                            0.4444444444444444,
                            "#bd3786"
                          ],
                          [
                            0.5555555555555556,
                            "#d8576b"
                          ],
                          [
                            0.6666666666666666,
                            "#ed7953"
                          ],
                          [
                            0.7777777777777778,
                            "#fb9f3a"
                          ],
                          [
                            0.8888888888888888,
                            "#fdca26"
                          ],
                          [
                            1,
                            "#f0f921"
                          ]
                        ],
                        "type": "histogram2d"
                      }
                    ],
                    "histogram2dcontour": [
                      {
                        "colorbar": {
                          "outlinewidth": 0,
                          "ticks": ""
                        },
                        "colorscale": [
                          [
                            0,
                            "#0d0887"
                          ],
                          [
                            0.1111111111111111,
                            "#46039f"
                          ],
                          [
                            0.2222222222222222,
                            "#7201a8"
                          ],
                          [
                            0.3333333333333333,
                            "#9c179e"
                          ],
                          [
                            0.4444444444444444,
                            "#bd3786"
                          ],
                          [
                            0.5555555555555556,
                            "#d8576b"
                          ],
                          [
                            0.6666666666666666,
                            "#ed7953"
                          ],
                          [
                            0.7777777777777778,
                            "#fb9f3a"
                          ],
                          [
                            0.8888888888888888,
                            "#fdca26"
                          ],
                          [
                            1,
                            "#f0f921"
                          ]
                        ],
                        "type": "histogram2dcontour"
                      }
                    ],
                    "mesh3d": [
                      {
                        "colorbar": {
                          "outlinewidth": 0,
                          "ticks": ""
                        },
                        "type": "mesh3d"
                      }
                    ],
                    "parcoords": [
                      {
                        "line": {
                          "colorbar": {
                            "outlinewidth": 0,
                            "ticks": ""
                          }
                        },
                        "type": "parcoords"
                      }
                    ],
                    "pie": [
                      {
                        "automargin": true,
                        "type": "pie"
                      }
                    ],
                    "scatter": [
                      {
                        "fillpattern": {
                          "fillmode": "overlay",
                          "size": 10,
                          "solidity": 0.2
                        },
                        "type": "scatter"
                      }
                    ],
                    "scatter3d": [
                      {
                        "line": {
                          "colorbar": {
                            "outlinewidth": 0,
                            "ticks": ""
                          }
                        },
                        "marker": {
                          "colorbar": {
                            "outlinewidth": 0,
                            "ticks": ""
                          }
                        },
                        "type": "scatter3d"
                      }
                    ],
                    "scattercarpet": [
                      {
                        "marker": {
                          "colorbar": {
                            "outlinewidth": 0,
                            "ticks": ""
                          }
                        },
                        "type": "scattercarpet"
                      }
                    ],
                    "scattergeo": [
                      {
                        "marker": {
                          "colorbar": {
                            "outlinewidth": 0,
                            "ticks": ""
                          }
                        },
                        "type": "scattergeo"
                      }
                    ],
                    "scattergl": [
                      {
                        "marker": {
                          "colorbar": {
                            "outlinewidth": 0,
                            "ticks": ""
                          }
                        },
                        "type": "scattergl"
                      }
                    ],
                    "scattermapbox": [
                      {
                        "marker": {
                          "colorbar": {
                            "outlinewidth": 0,
                            "ticks": ""
                          }
                        },
                        "type": "scattermapbox"
                      }
                    ],
                    "scatterpolar": [
                      {
                        "marker": {
                          "colorbar": {
                            "outlinewidth": 0,
                            "ticks": ""
                          }
                        },
                        "type": "scatterpolar"
                      }
                    ],
                    "scatterpolargl": [
                      {
                        "marker": {
                          "colorbar": {
                            "outlinewidth": 0,
                            "ticks": ""
                          }
                        },
                        "type": "scatterpolargl"
                      }
                    ],
                    "scatterternary": [
                      {
                        "marker": {
                          "colorbar": {
                            "outlinewidth": 0,
                            "ticks": ""
                          }
                        },
                        "type": "scatterternary"
                      }
                    ],
                    "surface": [
                      {
                        "colorbar": {
                          "outlinewidth": 0,
                          "ticks": ""
                        },
                        "colorscale": [
                          [
                            0,
                            "#0d0887"
                          ],
                          [
                            0.1111111111111111,
                            "#46039f"
                          ],
                          [
                            0.2222222222222222,
                            "#7201a8"
                          ],
                          [
                            0.3333333333333333,
                            "#9c179e"
                          ],
                          [
                            0.4444444444444444,
                            "#bd3786"
                          ],
                          [
                            0.5555555555555556,
                            "#d8576b"
                          ],
                          [
                            0.6666666666666666,
                            "#ed7953"
                          ],
                          [
                            0.7777777777777778,
                            "#fb9f3a"
                          ],
                          [
                            0.8888888888888888,
                            "#fdca26"
                          ],
                          [
                            1,
                            "#f0f921"
                          ]
                        ],
                        "type": "surface"
                      }
                    ],
                    "table": [
                      {
                        "cells": {
                          "fill": {
                            "color": "#EBF0F8"
                          },
                          "line": {
                            "color": "white"
                          }
                        },
                        "header": {
                          "fill": {
                            "color": "#C8D4E3"
                          },
                          "line": {
                            "color": "white"
                          }
                        },
                        "type": "table"
                      }
                    ]
                  },
                  "layout": {
                    "annotationdefaults": {
                      "arrowcolor": "#2a3f5f",
                      "arrowhead": 0,
                      "arrowwidth": 1
                    },
                    "autotypenumbers": "strict",
                    "coloraxis": {
                      "colorbar": {
                        "outlinewidth": 0,
                        "ticks": ""
                      }
                    },
                    "colorscale": {
                      "diverging": [
                        [
                          0,
                          "#8e0152"
                        ],
                        [
                          0.1,
                          "#c51b7d"
                        ],
                        [
                          0.2,
                          "#de77ae"
                        ],
                        [
                          0.3,
                          "#f1b6da"
                        ],
                        [
                          0.4,
                          "#fde0ef"
                        ],
                        [
                          0.5,
                          "#f7f7f7"
                        ],
                        [
                          0.6,
                          "#e6f5d0"
                        ],
                        [
                          0.7,
                          "#b8e186"
                        ],
                        [
                          0.8,
                          "#7fbc41"
                        ],
                        [
                          0.9,
                          "#4d9221"
                        ],
                        [
                          1,
                          "#276419"
                        ]
                      ],
                      "sequential": [
                        [
                          0,
                          "#0d0887"
                        ],
                        [
                          0.1111111111111111,
                          "#46039f"
                        ],
                        [
                          0.2222222222222222,
                          "#7201a8"
                        ],
                        [
                          0.3333333333333333,
                          "#9c179e"
                        ],
                        [
                          0.4444444444444444,
                          "#bd3786"
                        ],
                        [
                          0.5555555555555556,
                          "#d8576b"
                        ],
                        [
                          0.6666666666666666,
                          "#ed7953"
                        ],
                        [
                          0.7777777777777778,
                          "#fb9f3a"
                        ],
                        [
                          0.8888888888888888,
                          "#fdca26"
                        ],
                        [
                          1,
                          "#f0f921"
                        ]
                      ],
                      "sequentialminus": [
                        [
                          0,
                          "#0d0887"
                        ],
                        [
                          0.1111111111111111,
                          "#46039f"
                        ],
                        [
                          0.2222222222222222,
                          "#7201a8"
                        ],
                        [
                          0.3333333333333333,
                          "#9c179e"
                        ],
                        [
                          0.4444444444444444,
                          "#bd3786"
                        ],
                        [
                          0.5555555555555556,
                          "#d8576b"
                        ],
                        [
                          0.6666666666666666,
                          "#ed7953"
                        ],
                        [
                          0.7777777777777778,
                          "#fb9f3a"
                        ],
                        [
                          0.8888888888888888,
                          "#fdca26"
                        ],
                        [
                          1,
                          "#f0f921"
                        ]
                      ]
                    },
                    "colorway": [
                      "#636efa",
                      "#EF553B",
                      "#00cc96",
                      "#ab63fa",
                      "#FFA15A",
                      "#19d3f3",
                      "#FF6692",
                      "#B6E880",
                      "#FF97FF",
                      "#FECB52"
                    ],
                    "font": {
                      "color": "#2a3f5f"
                    },
                    "geo": {
                      "bgcolor": "white",
                      "lakecolor": "white",
                      "landcolor": "#E5ECF6",
                      "showlakes": true,
                      "showland": true,
                      "subunitcolor": "white"
                    },
                    "hoverlabel": {
                      "align": "left"
                    },
                    "hovermode": "closest",
                    "mapbox": {
                      "style": "light"
                    },
                    "paper_bgcolor": "white",
                    "plot_bgcolor": "#E5ECF6",
                    "polar": {
                      "angularaxis": {
                        "gridcolor": "white",
                        "linecolor": "white",
                        "ticks": ""
                      },
                      "bgcolor": "#E5ECF6",
                      "radialaxis": {
                        "gridcolor": "white",
                        "linecolor": "white",
                        "ticks": ""
                      }
                    },
                    "scene": {
                      "xaxis": {
                        "backgroundcolor": "#E5ECF6",
                        "gridcolor": "white",
                        "gridwidth": 2,
                        "linecolor": "white",
                        "showbackground": true,
                        "ticks": "",
                        "zerolinecolor": "white"
                      },
                      "yaxis": {
                        "backgroundcolor": "#E5ECF6",
                        "gridcolor": "white",
                        "gridwidth": 2,
                        "linecolor": "white",
                        "showbackground": true,
                        "ticks": "",
                        "zerolinecolor": "white"
                      },
                      "zaxis": {
                        "backgroundcolor": "#E5ECF6",
                        "gridcolor": "white",
                        "gridwidth": 2,
                        "linecolor": "white",
                        "showbackground": true,
                        "ticks": "",
                        "zerolinecolor": "white"
                      }
                    },
                    "shapedefaults": {
                      "line": {
                        "color": "#2a3f5f"
                      }
                    },
                    "ternary": {
                      "aaxis": {
                        "gridcolor": "white",
                        "linecolor": "white",
                        "ticks": ""
                      },
                      "baxis": {
                        "gridcolor": "white",
                        "linecolor": "white",
                        "ticks": ""
                      },
                      "bgcolor": "#E5ECF6",
                      "caxis": {
                        "gridcolor": "white",
                        "linecolor": "white",
                        "ticks": ""
                      }
                    },
                    "title": {
                      "x": 0.05
                    },
                    "xaxis": {
                      "automargin": true,
                      "gridcolor": "white",
                      "linecolor": "white",
                      "ticks": "",
                      "title": {
                        "standoff": 15
                      },
                      "zerolinecolor": "white",
                      "zerolinewidth": 2
                    },
                    "yaxis": {
                      "automargin": true,
                      "gridcolor": "white",
                      "linecolor": "white",
                      "ticks": "",
                      "title": {
                        "standoff": 15
                      },
                      "zerolinecolor": "white",
                      "zerolinewidth": 2
                    }
                  }
                },
                "title": {
                  "text": "Distribusi hum"
                },
                "xaxis": {
                  "title": {
                    "text": "hum"
                  }
                },
                "yaxis": {
                  "title": {
                    "text": "Frekuensi"
                  }
                }
              }
            }
          },
          "metadata": {},
          "output_type": "display_data"
        },
        {
          "data": {
            "application/vnd.plotly.v1+json": {
              "config": {
                "plotlyServerURL": "https://plot.ly"
              },
              "data": [
                {
                  "type": "histogram",
                  "x": [
                    0.160446,
                    0.248539,
                    0.248309,
                    0.160296,
                    0.1869,
                    0.0895652,
                    0.168726,
                    0.266804,
                    0.36195,
                    0.223267,
                    0.122132,
                    0.304627,
                    0.301,
                    0.126548,
                    0.157963,
                    0.188433,
                    0.194017,
                    0.146775,
                    0.208317,
                    0.195904,
                    0.353242,
                    0.17197,
                    0.2466,
                    0.15833,
                    0.129796,
                    0.29385,
                    0.113837,
                    0.1233,
                    0.145365,
                    0.0739826,
                    0.187192,
                    0.053213,
                    0.264308,
                    0.277752,
                    0.127839,
                    0.161079,
                    0.1418,
                    0.0454083,
                    0.36195,
                    0.188839,
                    0.221935,
                    0.10855,
                    0.203367,
                    0.260883,
                    0.417908,
                    0.291374,
                    0.251791,
                    0.230104,
                    0.264925,
                    0.507463,
                    0.223235,
                    0.307846,
                    0.195683,
                    0.094113,
                    0.250496,
                    0.346539,
                    0.186571,
                    0.125248,
                    0.289686,
                    0.216425,
                    0.307833,
                    0.225754,
                    0.203346,
                    0.251871,
                    0.343287,
                    0.341352,
                    0.12065,
                    0.22015,
                    0.261877,
                    0.23297,
                    0.220775,
                    0.270604,
                    0.136926,
                    0.184309,
                    0.203117,
                    0.209579,
                    0.231017,
                    0.368167,
                    0.207721,
                    0.288783,
                    0.22575,
                    0.234261,
                    0.243787,
                    0.230725,
                    0.209571,
                    0.1843,
                    0.212204,
                    0.226996,
                    0.172888,
                    0.217646,
                    0.258708,
                    0.197146,
                    0.182213,
                    0.385571,
                    0.388067,
                    0.263063,
                    0.162312,
                    0.226992,
                    0.133083,
                    0.146767,
                    0.324474,
                    0.274879,
                    0.250617,
                    0.1107,
                    0.226375,
                    0.340808,
                    0.303496,
                    0.163567,
                    0.157971,
                    0.241925,
                    0.325258,
                    0.219521,
                    0.230725,
                    0.192175,
                    0.185333,
                    0.3265,
                    0.3122,
                    0.320908,
                    0.240063,
                    0.235075,
                    0.106354,
                    0.183454,
                    0.342667,
                    0.328996,
                    0.295392,
                    0.228246,
                    0.16045,
                    0.0746375,
                    0.176,
                    0.115671,
                    0.120642,
                    0.189667,
                    0.179725,
                    0.13495,
                    0.152979,
                    0.126871,
                    0.277354,
                    0.201492,
                    0.108213,
                    0.125013,
                    0.12065,
                    0.148008,
                    0.233842,
                    0.207092,
                    0.154233,
                    0.199642,
                    0.240679,
                    0.230092,
                    0.213938,
                    0.131225,
                    0.111329,
                    0.207092,
                    0.292287,
                    0.253121,
                    0.123142,
                    0.138692,
                    0.121896,
                    0.187808,
                    0.136817,
                    0.149883,
                    0.140554,
                    0.15485,
                    0.163567,
                    0.30535,
                    0.269283,
                    0.167912,
                    0.206471,
                    0.143029,
                    0.119408,
                    0.102,
                    0.155475,
                    0.171025,
                    0.172262,
                    0.238804,
                    0.222025,
                    0.209571,
                    0.0945333,
                    0.107588,
                    0.144283,
                    0.261821,
                    0.185312,
                    0.102608,
                    0.115062,
                    0.228858,
                    0.0814792,
                    0.126258,
                    0.149883,
                    0.1592,
                    0.225129,
                    0.167912,
                    0.183471,
                    0.282337,
                    0.200254,
                    0.146133,
                    0.240667,
                    0.182833,
                    0.208342,
                    0.245033,
                    0.215804,
                    0.1306,
                    0.113817,
                    0.222021,
                    0.1331,
                    0.131221,
                    0.169171,
                    0.0908083,
                    0.200258,
                    0.183463,
                    0.178479,
                    0.174138,
                    0.168537,
                    0.164813,
                    0.156717,
                    0.20585,
                    0.135583,
                    0.19715,
                    0.184696,
                    0.22825,
                    0.201487,
                    0.192175,
                    0.151121,
                    0.200258,
                    0.164796,
                    0.125621,
                    0.211454,
                    0.222633,
                    0.208954,
                    0.236329,
                    0.143667,
                    0.233208,
                    0.139308,
                    0.104467,
                    0.248754,
                    0.27675,
                    0.146763,
                    0.253108,
                    0.210833,
                    0.0839625,
                    0.375617,
                    0.304659,
                    0.159825,
                    0.125008,
                    0.0833333,
                    0.141796,
                    0.139929,
                    0.185325,
                    0.206467,
                    0.212696,
                    0.343943,
                    0.0970208,
                    0.192748,
                    0.124379,
                    0.153608,
                    0.115054,
                    0.088913,
                    0.141804,
                    0.1673,
                    0.271146,
                    0.164183,
                    0.189675,
                    0.178483,
                    0.151742,
                    0.134954,
                    0.0964042,
                    0.128125,
                    0.0783667,
                    0.0783833,
                    0.0503792,
                    0.1107,
                    0.118171,
                    0.148629,
                    0.172883,
                    0.206475,
                    0.292296,
                    0.222013,
                    0.0833458,
                    0.205854,
                    0.17725,
                    0.134954,
                    0.0223917,
                    0.0454042,
                    0.06345,
                    0.0423042,
                    0.143042,
                    0.24815,
                    0.141787,
                    0.223883,
                    0.258083,
                    0.281717,
                    0.175379,
                    0.110087,
                    0.243339,
                    0.422275,
                    0.221396,
                    0.0926667,
                    0.0995125,
                    0.118792,
                    0.166658,
                    0.148642,
                    0.197763,
                    0.229479,
                    0.351371,
                    0.176617,
                    0.10635,
                    0.135571,
                    0.0820917,
                    0.136817,
                    0.271779,
                    0.189062,
                    0.0920542,
                    0.057225,
                    0.0690375,
                    0.0621958,
                    0.189067,
                    0.314675,
                    0.212062,
                    0.281721,
                    0.306596,
                    0.199633,
                    0.136829,
                    0.305362,
                    0.168533,
                    0.224496,
                    0.18595,
                    0.138054,
                    0.118792,
                    0.335825,
                    0.167304,
                    0.0988958,
                    0.0684208,
                    0.208954,
                    0.142122,
                    0.258092,
                    0.271158,
                    0.220158,
                    0.100754,
                    0.0957833,
                    0.0839583,
                    0.0622083,
                    0.232583,
                    0.266175,
                    0.240058,
                    0.0827167,
                    0.233221,
                    0.0665417,
                    0.06345,
                    0.14055,
                    0.0609583,
                    0.268042,
                    0.260575,
                    0.243167,
                    0.169779,
                    0.172896,
                    0.0615708,
                    0.2214,
                    0.047275,
                    0.274246,
                    0.190304,
                    0.155091,
                    0.239465,
                    0.18845,
                    0.293961,
                    0.119412,
                    0.134337,
                    0.220154,
                    0.192167,
                    0.329665,
                    0.365671,
                    0.1847,
                    0.129987,
                    0.167908,
                    0.174758,
                    0.191542,
                    0.0989,
                    0.187552,
                    0.131221,
                    0.180967,
                    0.378108,
                    0.187183,
                    0.251258,
                    0.231358,
                    0.34913,
                    0.415429,
                    0.220158,
                    0.20275,
                    0.222642,
                    0.199638,
                    0.110708,
                    0.123767,
                    0.161071,
                    0.0733958,
                    0.342667,
                    0.210829,
                    0.24005,
                    0.215792,
                    0.261817,
                    0.189067,
                    0.187187,
                    0.178496,
                    0.121896,
                    0.175996,
                    0.1538,
                    0.147379,
                    0.133721,
                    0.194037,
                    0.116929,
                    0.289796,
                    0.409212,
                    0.167283,
                    0.141179,
                    0.1816,
                    0.091425,
                    0.205846,
                    0.190929,
                    0.253112,
                    0.229083,
                    0.205717,
                    0.234471,
                    0.190913,
                    0.237567,
                    0.421642,
                    0.205229,
                    0.268033,
                    0.193417,
                    0.179117,
                    0.226987,
                    0.144904,
                    0.161079,
                    0.334571,
                    0.228858,
                    0.200875,
                    0.345779,
                    0.441563,
                    0.4148,
                    0.22575,
                    0.222587,
                    0.207713,
                    0.23695,
                    0.115062,
                    0.149883,
                    0.113192,
                    0.110704,
                    0.126883,
                    0.162317,
                    0.121271,
                    0.0895583,
                    0.117562,
                    0.1163,
                    0.192783,
                    0.220775,
                    0.386821,
                    0.187192,
                    0.291671,
                    0.31965,
                    0.138067,
                    0.250617,
                    0.172267,
                    0.312139,
                    0.100133,
                    0.180975,
                    0.219529,
                    0.300388,
                    0.274871,
                    0.232596,
                    0.358196,
                    0.249375,
                    0.295274,
                    0.290429,
                    0.155471,
                    0.190917,
                    0.225129,
                    0.284829,
                    0.273629,
                    0.167912,
                    0.0659292,
                    0.149871,
                    0.283587,
                    0.344546,
                    0.303496,
                    0.249383,
                    0.118792,
                    0.176625,
                    0.347633,
                    0.129975,
                    0.116908,
                    0.171638,
                    0.156096,
                    0.138058,
                    0.133696,
                    0.162938,
                    0.152992,
                    0.149879,
                    0.230721,
                    0.296029,
                    0.216412,
                    0.314063,
                    0.236937,
                    0.123133,
                    0.225117,
                    0.212692,
                    0.147392,
                    0.122512,
                    0.229475,
                    0.136817,
                    0.083975,
                    0.254367,
                    0.233204,
                    0.118167,
                    0.102,
                    0.172896,
                    0.14055,
                    0.198992,
                    0.215171,
                    0.196521,
                    0.2954,
                    0.134329,
                    0.195279,
                    0.237563,
                    0.186562,
                    0.184087,
                    0.284833,
                    0.209575,
                    0.077125,
                    0.15735,
                    0.175383,
                    0.144287,
                    0.133721,
                    0.207713,
                    0.214546,
                    0.343279,
                    0.253733,
                    0.176617,
                    0.166667,
                    0.144904,
                    0.174746,
                    0.148017,
                    0.113812,
                    0.118787,
                    0.182842,
                    0.179721,
                    0.145525,
                    0.300383,
                    0.347642,
                    0.271775,
                    0.17165,
                    0.165417,
                    0.161071,
                    0.168529,
                    0.195267,
                    0.126237,
                    0.13495,
                    0.194029,
                    0.146142,
                    0.163554,
                    0.125629,
                    0.180975,
                    0.151737,
                    0.151733,
                    0.146775,
                    0.08085,
                    0.143679,
                    0.166667,
                    0.164187,
                    0.114429,
                    0.137442,
                    0.165429,
                    0.208967,
                    0.2133,
                    0.0939208,
                    0.138683,
                    0.211454,
                    0.1648,
                    0.284813,
                    0.152992,
                    0.15735,
                    0.170396,
                    0.153617,
                    0.165425,
                    0.141179,
                    0.129354,
                    0.215792,
                    0.257458,
                    0.290421,
                    0.129354,
                    0.116908,
                    0.1107,
                    0.1561,
                    0.238813,
                    0.206479,
                    0.122512,
                    0.136212,
                    0.169158,
                    0.169771,
                    0.141796,
                    0.231354,
                    0.177867,
                    0.08645,
                    0.129979,
                    0.0727708,
                    0.0702833,
                    0.0845958,
                    0.0721458,
                    0.244408,
                    0.228858,
                    0.128733,
                    0.190925,
                    0.112562,
                    0.0771167,
                    0.168533,
                    0.113187,
                    0.0640708,
                    0.151121,
                    0.236321,
                    0.187808,
                    0.142421,
                    0.171646,
                    0.281104,
                    0.224496,
                    0.258713,
                    0.0920542,
                    0.131846,
                    0.0827208,
                    0.103863,
                    0.247521,
                    0.0901833,
                    0.151742,
                    0.357587,
                    0.215175,
                    0.118167,
                    0.154229,
                    0.283583,
                    0.223258,
                    0.142404,
                    0.236321,
                    0.2444,
                    0.134342,
                    0.164179,
                    0.227604,
                    0.134958,
                    0.0908042,
                    0.104475,
                    0.0665458,
                    0.117546,
                    0.10635,
                    0.268025,
                    0.141162,
                    0.189679,
                    0.1903,
                    0.187821,
                    0.181596,
                    0.235092,
                    0.146142,
                    0.278612,
                    0.296037,
                    0.182221,
                    0.101371,
                    0.236937,
                    0.134954,
                    0.117537,
                    0.166054,
                    0.0814833,
                    0.0945458,
                    0.0727792,
                    0.124375,
                    0.132467,
                    0.235692,
                    0.398008,
                    0.3582,
                    0.213009,
                    0.166667,
                    0.157346,
                    0.266175,
                    0.270529,
                    0.179108,
                    0.236325,
                    0.173513,
                    0.304108,
                    0.347835,
                    0.214558,
                    0.0578458,
                    0.1275,
                    0.173517,
                    0.342046,
                    0.199625,
                    0.152987,
                    0.171025,
                    0.179729,
                    0.227612,
                    0.235067,
                    0.082725,
                    0.103246,
                    0.0528708,
                    0.148021,
                    0.376871,
                    0.1505,
                    0.04665,
                    0.237562,
                    0.210821,
                    0.115522,
                    0.0584708,
                    0.0597042,
                    0.124379,
                    0.0827208,
                    0.174129,
                    0.324021,
                    0.174754,
                    0.1306,
                    0.101379,
                    0.157975,
                    0.190308,
                    0.296037,
                    0.162937,
                    0.174129,
                    0.131229,
                    0.10635,
                    0.100742,
                    0.0982583,
                    0.221404,
                    0.184092,
                    0.132463,
                    0.374383,
                    0.407346,
                    0.133083,
                    0.0772304,
                    0.168726,
                    0.316546,
                    0.350133,
                    0.155471,
                    0.124383,
                    0.350754,
                    0.154846
                  ]
                }
              ],
              "layout": {
                "template": {
                  "data": {
                    "bar": [
                      {
                        "error_x": {
                          "color": "#2a3f5f"
                        },
                        "error_y": {
                          "color": "#2a3f5f"
                        },
                        "marker": {
                          "line": {
                            "color": "#E5ECF6",
                            "width": 0.5
                          },
                          "pattern": {
                            "fillmode": "overlay",
                            "size": 10,
                            "solidity": 0.2
                          }
                        },
                        "type": "bar"
                      }
                    ],
                    "barpolar": [
                      {
                        "marker": {
                          "line": {
                            "color": "#E5ECF6",
                            "width": 0.5
                          },
                          "pattern": {
                            "fillmode": "overlay",
                            "size": 10,
                            "solidity": 0.2
                          }
                        },
                        "type": "barpolar"
                      }
                    ],
                    "carpet": [
                      {
                        "aaxis": {
                          "endlinecolor": "#2a3f5f",
                          "gridcolor": "white",
                          "linecolor": "white",
                          "minorgridcolor": "white",
                          "startlinecolor": "#2a3f5f"
                        },
                        "baxis": {
                          "endlinecolor": "#2a3f5f",
                          "gridcolor": "white",
                          "linecolor": "white",
                          "minorgridcolor": "white",
                          "startlinecolor": "#2a3f5f"
                        },
                        "type": "carpet"
                      }
                    ],
                    "choropleth": [
                      {
                        "colorbar": {
                          "outlinewidth": 0,
                          "ticks": ""
                        },
                        "type": "choropleth"
                      }
                    ],
                    "contour": [
                      {
                        "colorbar": {
                          "outlinewidth": 0,
                          "ticks": ""
                        },
                        "colorscale": [
                          [
                            0,
                            "#0d0887"
                          ],
                          [
                            0.1111111111111111,
                            "#46039f"
                          ],
                          [
                            0.2222222222222222,
                            "#7201a8"
                          ],
                          [
                            0.3333333333333333,
                            "#9c179e"
                          ],
                          [
                            0.4444444444444444,
                            "#bd3786"
                          ],
                          [
                            0.5555555555555556,
                            "#d8576b"
                          ],
                          [
                            0.6666666666666666,
                            "#ed7953"
                          ],
                          [
                            0.7777777777777778,
                            "#fb9f3a"
                          ],
                          [
                            0.8888888888888888,
                            "#fdca26"
                          ],
                          [
                            1,
                            "#f0f921"
                          ]
                        ],
                        "type": "contour"
                      }
                    ],
                    "contourcarpet": [
                      {
                        "colorbar": {
                          "outlinewidth": 0,
                          "ticks": ""
                        },
                        "type": "contourcarpet"
                      }
                    ],
                    "heatmap": [
                      {
                        "colorbar": {
                          "outlinewidth": 0,
                          "ticks": ""
                        },
                        "colorscale": [
                          [
                            0,
                            "#0d0887"
                          ],
                          [
                            0.1111111111111111,
                            "#46039f"
                          ],
                          [
                            0.2222222222222222,
                            "#7201a8"
                          ],
                          [
                            0.3333333333333333,
                            "#9c179e"
                          ],
                          [
                            0.4444444444444444,
                            "#bd3786"
                          ],
                          [
                            0.5555555555555556,
                            "#d8576b"
                          ],
                          [
                            0.6666666666666666,
                            "#ed7953"
                          ],
                          [
                            0.7777777777777778,
                            "#fb9f3a"
                          ],
                          [
                            0.8888888888888888,
                            "#fdca26"
                          ],
                          [
                            1,
                            "#f0f921"
                          ]
                        ],
                        "type": "heatmap"
                      }
                    ],
                    "heatmapgl": [
                      {
                        "colorbar": {
                          "outlinewidth": 0,
                          "ticks": ""
                        },
                        "colorscale": [
                          [
                            0,
                            "#0d0887"
                          ],
                          [
                            0.1111111111111111,
                            "#46039f"
                          ],
                          [
                            0.2222222222222222,
                            "#7201a8"
                          ],
                          [
                            0.3333333333333333,
                            "#9c179e"
                          ],
                          [
                            0.4444444444444444,
                            "#bd3786"
                          ],
                          [
                            0.5555555555555556,
                            "#d8576b"
                          ],
                          [
                            0.6666666666666666,
                            "#ed7953"
                          ],
                          [
                            0.7777777777777778,
                            "#fb9f3a"
                          ],
                          [
                            0.8888888888888888,
                            "#fdca26"
                          ],
                          [
                            1,
                            "#f0f921"
                          ]
                        ],
                        "type": "heatmapgl"
                      }
                    ],
                    "histogram": [
                      {
                        "marker": {
                          "pattern": {
                            "fillmode": "overlay",
                            "size": 10,
                            "solidity": 0.2
                          }
                        },
                        "type": "histogram"
                      }
                    ],
                    "histogram2d": [
                      {
                        "colorbar": {
                          "outlinewidth": 0,
                          "ticks": ""
                        },
                        "colorscale": [
                          [
                            0,
                            "#0d0887"
                          ],
                          [
                            0.1111111111111111,
                            "#46039f"
                          ],
                          [
                            0.2222222222222222,
                            "#7201a8"
                          ],
                          [
                            0.3333333333333333,
                            "#9c179e"
                          ],
                          [
                            0.4444444444444444,
                            "#bd3786"
                          ],
                          [
                            0.5555555555555556,
                            "#d8576b"
                          ],
                          [
                            0.6666666666666666,
                            "#ed7953"
                          ],
                          [
                            0.7777777777777778,
                            "#fb9f3a"
                          ],
                          [
                            0.8888888888888888,
                            "#fdca26"
                          ],
                          [
                            1,
                            "#f0f921"
                          ]
                        ],
                        "type": "histogram2d"
                      }
                    ],
                    "histogram2dcontour": [
                      {
                        "colorbar": {
                          "outlinewidth": 0,
                          "ticks": ""
                        },
                        "colorscale": [
                          [
                            0,
                            "#0d0887"
                          ],
                          [
                            0.1111111111111111,
                            "#46039f"
                          ],
                          [
                            0.2222222222222222,
                            "#7201a8"
                          ],
                          [
                            0.3333333333333333,
                            "#9c179e"
                          ],
                          [
                            0.4444444444444444,
                            "#bd3786"
                          ],
                          [
                            0.5555555555555556,
                            "#d8576b"
                          ],
                          [
                            0.6666666666666666,
                            "#ed7953"
                          ],
                          [
                            0.7777777777777778,
                            "#fb9f3a"
                          ],
                          [
                            0.8888888888888888,
                            "#fdca26"
                          ],
                          [
                            1,
                            "#f0f921"
                          ]
                        ],
                        "type": "histogram2dcontour"
                      }
                    ],
                    "mesh3d": [
                      {
                        "colorbar": {
                          "outlinewidth": 0,
                          "ticks": ""
                        },
                        "type": "mesh3d"
                      }
                    ],
                    "parcoords": [
                      {
                        "line": {
                          "colorbar": {
                            "outlinewidth": 0,
                            "ticks": ""
                          }
                        },
                        "type": "parcoords"
                      }
                    ],
                    "pie": [
                      {
                        "automargin": true,
                        "type": "pie"
                      }
                    ],
                    "scatter": [
                      {
                        "fillpattern": {
                          "fillmode": "overlay",
                          "size": 10,
                          "solidity": 0.2
                        },
                        "type": "scatter"
                      }
                    ],
                    "scatter3d": [
                      {
                        "line": {
                          "colorbar": {
                            "outlinewidth": 0,
                            "ticks": ""
                          }
                        },
                        "marker": {
                          "colorbar": {
                            "outlinewidth": 0,
                            "ticks": ""
                          }
                        },
                        "type": "scatter3d"
                      }
                    ],
                    "scattercarpet": [
                      {
                        "marker": {
                          "colorbar": {
                            "outlinewidth": 0,
                            "ticks": ""
                          }
                        },
                        "type": "scattercarpet"
                      }
                    ],
                    "scattergeo": [
                      {
                        "marker": {
                          "colorbar": {
                            "outlinewidth": 0,
                            "ticks": ""
                          }
                        },
                        "type": "scattergeo"
                      }
                    ],
                    "scattergl": [
                      {
                        "marker": {
                          "colorbar": {
                            "outlinewidth": 0,
                            "ticks": ""
                          }
                        },
                        "type": "scattergl"
                      }
                    ],
                    "scattermapbox": [
                      {
                        "marker": {
                          "colorbar": {
                            "outlinewidth": 0,
                            "ticks": ""
                          }
                        },
                        "type": "scattermapbox"
                      }
                    ],
                    "scatterpolar": [
                      {
                        "marker": {
                          "colorbar": {
                            "outlinewidth": 0,
                            "ticks": ""
                          }
                        },
                        "type": "scatterpolar"
                      }
                    ],
                    "scatterpolargl": [
                      {
                        "marker": {
                          "colorbar": {
                            "outlinewidth": 0,
                            "ticks": ""
                          }
                        },
                        "type": "scatterpolargl"
                      }
                    ],
                    "scatterternary": [
                      {
                        "marker": {
                          "colorbar": {
                            "outlinewidth": 0,
                            "ticks": ""
                          }
                        },
                        "type": "scatterternary"
                      }
                    ],
                    "surface": [
                      {
                        "colorbar": {
                          "outlinewidth": 0,
                          "ticks": ""
                        },
                        "colorscale": [
                          [
                            0,
                            "#0d0887"
                          ],
                          [
                            0.1111111111111111,
                            "#46039f"
                          ],
                          [
                            0.2222222222222222,
                            "#7201a8"
                          ],
                          [
                            0.3333333333333333,
                            "#9c179e"
                          ],
                          [
                            0.4444444444444444,
                            "#bd3786"
                          ],
                          [
                            0.5555555555555556,
                            "#d8576b"
                          ],
                          [
                            0.6666666666666666,
                            "#ed7953"
                          ],
                          [
                            0.7777777777777778,
                            "#fb9f3a"
                          ],
                          [
                            0.8888888888888888,
                            "#fdca26"
                          ],
                          [
                            1,
                            "#f0f921"
                          ]
                        ],
                        "type": "surface"
                      }
                    ],
                    "table": [
                      {
                        "cells": {
                          "fill": {
                            "color": "#EBF0F8"
                          },
                          "line": {
                            "color": "white"
                          }
                        },
                        "header": {
                          "fill": {
                            "color": "#C8D4E3"
                          },
                          "line": {
                            "color": "white"
                          }
                        },
                        "type": "table"
                      }
                    ]
                  },
                  "layout": {
                    "annotationdefaults": {
                      "arrowcolor": "#2a3f5f",
                      "arrowhead": 0,
                      "arrowwidth": 1
                    },
                    "autotypenumbers": "strict",
                    "coloraxis": {
                      "colorbar": {
                        "outlinewidth": 0,
                        "ticks": ""
                      }
                    },
                    "colorscale": {
                      "diverging": [
                        [
                          0,
                          "#8e0152"
                        ],
                        [
                          0.1,
                          "#c51b7d"
                        ],
                        [
                          0.2,
                          "#de77ae"
                        ],
                        [
                          0.3,
                          "#f1b6da"
                        ],
                        [
                          0.4,
                          "#fde0ef"
                        ],
                        [
                          0.5,
                          "#f7f7f7"
                        ],
                        [
                          0.6,
                          "#e6f5d0"
                        ],
                        [
                          0.7,
                          "#b8e186"
                        ],
                        [
                          0.8,
                          "#7fbc41"
                        ],
                        [
                          0.9,
                          "#4d9221"
                        ],
                        [
                          1,
                          "#276419"
                        ]
                      ],
                      "sequential": [
                        [
                          0,
                          "#0d0887"
                        ],
                        [
                          0.1111111111111111,
                          "#46039f"
                        ],
                        [
                          0.2222222222222222,
                          "#7201a8"
                        ],
                        [
                          0.3333333333333333,
                          "#9c179e"
                        ],
                        [
                          0.4444444444444444,
                          "#bd3786"
                        ],
                        [
                          0.5555555555555556,
                          "#d8576b"
                        ],
                        [
                          0.6666666666666666,
                          "#ed7953"
                        ],
                        [
                          0.7777777777777778,
                          "#fb9f3a"
                        ],
                        [
                          0.8888888888888888,
                          "#fdca26"
                        ],
                        [
                          1,
                          "#f0f921"
                        ]
                      ],
                      "sequentialminus": [
                        [
                          0,
                          "#0d0887"
                        ],
                        [
                          0.1111111111111111,
                          "#46039f"
                        ],
                        [
                          0.2222222222222222,
                          "#7201a8"
                        ],
                        [
                          0.3333333333333333,
                          "#9c179e"
                        ],
                        [
                          0.4444444444444444,
                          "#bd3786"
                        ],
                        [
                          0.5555555555555556,
                          "#d8576b"
                        ],
                        [
                          0.6666666666666666,
                          "#ed7953"
                        ],
                        [
                          0.7777777777777778,
                          "#fb9f3a"
                        ],
                        [
                          0.8888888888888888,
                          "#fdca26"
                        ],
                        [
                          1,
                          "#f0f921"
                        ]
                      ]
                    },
                    "colorway": [
                      "#636efa",
                      "#EF553B",
                      "#00cc96",
                      "#ab63fa",
                      "#FFA15A",
                      "#19d3f3",
                      "#FF6692",
                      "#B6E880",
                      "#FF97FF",
                      "#FECB52"
                    ],
                    "font": {
                      "color": "#2a3f5f"
                    },
                    "geo": {
                      "bgcolor": "white",
                      "lakecolor": "white",
                      "landcolor": "#E5ECF6",
                      "showlakes": true,
                      "showland": true,
                      "subunitcolor": "white"
                    },
                    "hoverlabel": {
                      "align": "left"
                    },
                    "hovermode": "closest",
                    "mapbox": {
                      "style": "light"
                    },
                    "paper_bgcolor": "white",
                    "plot_bgcolor": "#E5ECF6",
                    "polar": {
                      "angularaxis": {
                        "gridcolor": "white",
                        "linecolor": "white",
                        "ticks": ""
                      },
                      "bgcolor": "#E5ECF6",
                      "radialaxis": {
                        "gridcolor": "white",
                        "linecolor": "white",
                        "ticks": ""
                      }
                    },
                    "scene": {
                      "xaxis": {
                        "backgroundcolor": "#E5ECF6",
                        "gridcolor": "white",
                        "gridwidth": 2,
                        "linecolor": "white",
                        "showbackground": true,
                        "ticks": "",
                        "zerolinecolor": "white"
                      },
                      "yaxis": {
                        "backgroundcolor": "#E5ECF6",
                        "gridcolor": "white",
                        "gridwidth": 2,
                        "linecolor": "white",
                        "showbackground": true,
                        "ticks": "",
                        "zerolinecolor": "white"
                      },
                      "zaxis": {
                        "backgroundcolor": "#E5ECF6",
                        "gridcolor": "white",
                        "gridwidth": 2,
                        "linecolor": "white",
                        "showbackground": true,
                        "ticks": "",
                        "zerolinecolor": "white"
                      }
                    },
                    "shapedefaults": {
                      "line": {
                        "color": "#2a3f5f"
                      }
                    },
                    "ternary": {
                      "aaxis": {
                        "gridcolor": "white",
                        "linecolor": "white",
                        "ticks": ""
                      },
                      "baxis": {
                        "gridcolor": "white",
                        "linecolor": "white",
                        "ticks": ""
                      },
                      "bgcolor": "#E5ECF6",
                      "caxis": {
                        "gridcolor": "white",
                        "linecolor": "white",
                        "ticks": ""
                      }
                    },
                    "title": {
                      "x": 0.05
                    },
                    "xaxis": {
                      "automargin": true,
                      "gridcolor": "white",
                      "linecolor": "white",
                      "ticks": "",
                      "title": {
                        "standoff": 15
                      },
                      "zerolinecolor": "white",
                      "zerolinewidth": 2
                    },
                    "yaxis": {
                      "automargin": true,
                      "gridcolor": "white",
                      "linecolor": "white",
                      "ticks": "",
                      "title": {
                        "standoff": 15
                      },
                      "zerolinecolor": "white",
                      "zerolinewidth": 2
                    }
                  }
                },
                "title": {
                  "text": "Distribusi windspeed"
                },
                "xaxis": {
                  "title": {
                    "text": "windspeed"
                  }
                },
                "yaxis": {
                  "title": {
                    "text": "Frekuensi"
                  }
                }
              }
            }
          },
          "metadata": {},
          "output_type": "display_data"
        },
        {
          "data": {
            "application/vnd.plotly.v1+json": {
              "config": {
                "plotlyServerURL": "https://plot.ly"
              },
              "data": [
                {
                  "type": "histogram",
                  "x": [
                    331,
                    131,
                    120,
                    108,
                    82,
                    88,
                    148,
                    68,
                    54,
                    41,
                    43,
                    25,
                    38,
                    54,
                    222,
                    251,
                    117,
                    9,
                    78,
                    83,
                    75,
                    93,
                    150,
                    86,
                    186,
                    34,
                    15,
                    38,
                    123,
                    140,
                    42,
                    47,
                    72,
                    61,
                    88,
                    100,
                    354,
                    120,
                    64,
                    53,
                    47,
                    149,
                    288,
                    397,
                    208,
                    140,
                    218,
                    259,
                    579,
                    532,
                    639,
                    195,
                    74,
                    139,
                    100,
                    120,
                    424,
                    694,
                    81,
                    137,
                    231,
                    123,
                    214,
                    640,
                    114,
                    244,
                    316,
                    191,
                    46,
                    247,
                    724,
                    982,
                    359,
                    289,
                    321,
                    424,
                    884,
                    1424,
                    1047,
                    401,
                    460,
                    203,
                    166,
                    300,
                    981,
                    472,
                    222,
                    317,
                    168,
                    179,
                    307,
                    898,
                    1651,
                    734,
                    167,
                    413,
                    571,
                    172,
                    879,
                    1188,
                    855,
                    257,
                    209,
                    529,
                    642,
                    121,
                    1558,
                    669,
                    409,
                    613,
                    745,
                    177,
                    1462,
                    1710,
                    773,
                    678,
                    547,
                    569,
                    878,
                    1965,
                    1138,
                    847,
                    603,
                    255,
                    614,
                    894,
                    1612,
                    1401,
                    664,
                    694,
                    550,
                    695,
                    692,
                    902,
                    1582,
                    773,
                    678,
                    536,
                    735,
                    909,
                    2258,
                    1576,
                    836,
                    659,
                    740,
                    758,
                    871,
                    2001,
                    2355,
                    1549,
                    673,
                    513,
                    736,
                    898,
                    1869,
                    1685,
                    673,
                    763,
                    676,
                    563,
                    815,
                    1729,
                    1467,
                    863,
                    727,
                    769,
                    545,
                    863,
                    1807,
                    1639,
                    699,
                    774,
                    661,
                    746,
                    969,
                    1782,
                    1920,
                    854,
                    732,
                    848,
                    1027,
                    1246,
                    2204,
                    2282,
                    3065,
                    1031,
                    784,
                    754,
                    692,
                    1988,
                    1743,
                    723,
                    662,
                    748,
                    888,
                    1318,
                    2418,
                    2006,
                    841,
                    752,
                    644,
                    632,
                    562,
                    987,
                    1050,
                    568,
                    750,
                    755,
                    606,
                    670,
                    1559,
                    1524,
                    729,
                    801,
                    467,
                    799,
                    1023,
                    1521,
                    1298,
                    846,
                    907,
                    884,
                    812,
                    1051,
                    1504,
                    1338,
                    775,
                    721,
                    668,
                    639,
                    797,
                    1914,
                    1249,
                    833,
                    1281,
                    949,
                    435,
                    768,
                    226,
                    1415,
                    729,
                    775,
                    688,
                    783,
                    875,
                    1935,
                    2521,
                    1236,
                    204,
                    118,
                    153,
                    417,
                    1750,
                    1633,
                    690,
                    701,
                    647,
                    428,
                    742,
                    1434,
                    1353,
                    691,
                    438,
                    539,
                    555,
                    258,
                    1776,
                    1544,
                    684,
                    477,
                    480,
                    653,
                    830,
                    480,
                    616,
                    330,
                    486,
                    559,
                    639,
                    949,
                    2235,
                    2397,
                    1514,
                    667,
                    217,
                    290,
                    529,
                    1899,
                    1748,
                    713,
                    637,
                    254,
                    471,
                    676,
                    1499,
                    1619,
                    699,
                    695,
                    404,
                    240,
                    456,
                    57,
                    885,
                    362,
                    410,
                    370,
                    318,
                    470,
                    1156,
                    952,
                    373,
                    376,
                    305,
                    190,
                    440,
                    1275,
                    1004,
                    595,
                    449,
                    145,
                    139,
                    245,
                    943,
                    787,
                    220,
                    69,
                    112,
                    560,
                    1095,
                    1249,
                    810,
                    253,
                    96,
                    188,
                    182,
                    268,
                    706,
                    634,
                    233,
                    126,
                    50,
                    150,
                    261,
                    502,
                    377,
                    143,
                    155,
                    178,
                    181,
                    178,
                    275,
                    220,
                    260,
                    216,
                    107,
                    227,
                    163,
                    155,
                    303,
                    430,
                    103,
                    255,
                    254,
                    491,
                    665,
                    686,
                    244,
                    89,
                    95,
                    140,
                    307,
                    1070,
                    599,
                    106,
                    173,
                    92,
                    269,
                    174,
                    333,
                    284,
                    217,
                    127,
                    109,
                    130,
                    115,
                    67,
                    196,
                    145,
                    439,
                    467,
                    244,
                    269,
                    775,
                    558,
                    126,
                    324,
                    304,
                    190,
                    310,
                    384,
                    318,
                    206,
                    199,
                    109,
                    163,
                    227,
                    192,
                    73,
                    94,
                    135,
                    141,
                    74,
                    349,
                    1435,
                    618,
                    502,
                    163,
                    394,
                    516,
                    246,
                    317,
                    515,
                    253,
                    229,
                    65,
                    325,
                    246,
                    956,
                    710,
                    203,
                    221,
                    432,
                    486,
                    447,
                    968,
                    1658,
                    838,
                    762,
                    997,
                    1005,
                    548,
                    3155,
                    2207,
                    982,
                    1051,
                    1122,
                    1334,
                    2469,
                    1033,
                    1532,
                    795,
                    531,
                    674,
                    834,
                    796,
                    2301,
                    2347,
                    1208,
                    1348,
                    1058,
                    1192,
                    1807,
                    3252,
                    2230,
                    905,
                    819,
                    482,
                    663,
                    1252,
                    2795,
                    2846,
                    1198,
                    989,
                    347,
                    846,
                    1340,
                    2541,
                    120,
                    195,
                    518,
                    655,
                    475,
                    1014,
                    1120,
                    2229,
                    665,
                    653,
                    667,
                    764,
                    1069,
                    2496,
                    2135,
                    1008,
                    738,
                    620,
                    1026,
                    1319,
                    2622,
                    2172,
                    342,
                    625,
                    991,
                    1242,
                    1521,
                    3410,
                    2704,
                    630,
                    819,
                    766,
                    1059,
                    1417,
                    2855,
                    3283,
                    2557,
                    880,
                    745,
                    1100,
                    533,
                    2795,
                    2494,
                    1071,
                    968,
                    1027,
                    1038,
                    1488,
                    2708,
                    2224,
                    1017,
                    477,
                    1173,
                    1180,
                    1563,
                    2963,
                    2634,
                    653,
                    968,
                    872,
                    778,
                    964,
                    2657,
                    2551,
                    1139,
                    1077,
                    1077,
                    921,
                    829,
                    1455,
                    1421,
                    904,
                    1052,
                    2562,
                    1405,
                    1366,
                    1448,
                    1203,
                    998,
                    954,
                    975,
                    1032,
                    1511,
                    2355,
                    1920,
                    1088,
                    921,
                    799,
                    888,
                    747,
                    1264,
                    2544,
                    1135,
                    1140,
                    1383,
                    1036,
                    1259,
                    2234,
                    2153,
                    1040,
                    968,
                    1074,
                    983,
                    1328,
                    2345,
                    1707,
                    1233,
                    1278,
                    1263,
                    1196,
                    1065,
                    2247,
                    2182,
                    1207,
                    1128,
                    1198,
                    1338,
                    1483,
                    2827,
                    1208,
                    1026,
                    1081,
                    1094,
                    1363,
                    1325,
                    1829,
                    1483,
                    989,
                    935,
                    1177,
                    1172,
                    1433,
                    2352,
                    2613,
                    1965,
                    867,
                    832,
                    611,
                    1045,
                    1557,
                    2570,
                    1118,
                    1070,
                    1050,
                    1054,
                    1379,
                    3160,
                    2166,
                    1022,
                    371,
                    788,
                    939,
                    1250,
                    2512,
                    2454,
                    1001,
                    845,
                    787,
                    751,
                    1045,
                    2589,
                    2015,
                    763,
                    315,
                    728,
                    891,
                    1516,
                    3031,
                    781,
                    874,
                    601,
                    780,
                    834,
                    1060,
                    2252,
                    2080,
                    760,
                    922,
                    979,
                    1008,
                    753,
                    2806,
                    2132,
                    830,
                    841,
                    795,
                    875,
                    1182,
                    2643,
                    998,
                    2,
                    87,
                    419,
                    466,
                    618,
                    1029,
                    1201,
                    378,
                    466,
                    326,
                    340,
                    709,
                    2090,
                    2290,
                    1097,
                    327,
                    373,
                    320,
                    484,
                    1313,
                    922,
                    449,
                    534,
                    615,
                    955,
                    1603,
                    532,
                    309,
                    337,
                    123,
                    198,
                    243,
                    362,
                    951,
                    892,
                    555,
                    551,
                    331,
                    340,
                    349,
                    1153,
                    441,
                    329,
                    282,
                    310,
                    425,
                    429,
                    767,
                    538,
                    212,
                    433,
                    333,
                    314,
                    221,
                    205,
                    408,
                    174,
                    440,
                    9,
                    247,
                    644,
                    159,
                    364,
                    439
                  ]
                }
              ],
              "layout": {
                "template": {
                  "data": {
                    "bar": [
                      {
                        "error_x": {
                          "color": "#2a3f5f"
                        },
                        "error_y": {
                          "color": "#2a3f5f"
                        },
                        "marker": {
                          "line": {
                            "color": "#E5ECF6",
                            "width": 0.5
                          },
                          "pattern": {
                            "fillmode": "overlay",
                            "size": 10,
                            "solidity": 0.2
                          }
                        },
                        "type": "bar"
                      }
                    ],
                    "barpolar": [
                      {
                        "marker": {
                          "line": {
                            "color": "#E5ECF6",
                            "width": 0.5
                          },
                          "pattern": {
                            "fillmode": "overlay",
                            "size": 10,
                            "solidity": 0.2
                          }
                        },
                        "type": "barpolar"
                      }
                    ],
                    "carpet": [
                      {
                        "aaxis": {
                          "endlinecolor": "#2a3f5f",
                          "gridcolor": "white",
                          "linecolor": "white",
                          "minorgridcolor": "white",
                          "startlinecolor": "#2a3f5f"
                        },
                        "baxis": {
                          "endlinecolor": "#2a3f5f",
                          "gridcolor": "white",
                          "linecolor": "white",
                          "minorgridcolor": "white",
                          "startlinecolor": "#2a3f5f"
                        },
                        "type": "carpet"
                      }
                    ],
                    "choropleth": [
                      {
                        "colorbar": {
                          "outlinewidth": 0,
                          "ticks": ""
                        },
                        "type": "choropleth"
                      }
                    ],
                    "contour": [
                      {
                        "colorbar": {
                          "outlinewidth": 0,
                          "ticks": ""
                        },
                        "colorscale": [
                          [
                            0,
                            "#0d0887"
                          ],
                          [
                            0.1111111111111111,
                            "#46039f"
                          ],
                          [
                            0.2222222222222222,
                            "#7201a8"
                          ],
                          [
                            0.3333333333333333,
                            "#9c179e"
                          ],
                          [
                            0.4444444444444444,
                            "#bd3786"
                          ],
                          [
                            0.5555555555555556,
                            "#d8576b"
                          ],
                          [
                            0.6666666666666666,
                            "#ed7953"
                          ],
                          [
                            0.7777777777777778,
                            "#fb9f3a"
                          ],
                          [
                            0.8888888888888888,
                            "#fdca26"
                          ],
                          [
                            1,
                            "#f0f921"
                          ]
                        ],
                        "type": "contour"
                      }
                    ],
                    "contourcarpet": [
                      {
                        "colorbar": {
                          "outlinewidth": 0,
                          "ticks": ""
                        },
                        "type": "contourcarpet"
                      }
                    ],
                    "heatmap": [
                      {
                        "colorbar": {
                          "outlinewidth": 0,
                          "ticks": ""
                        },
                        "colorscale": [
                          [
                            0,
                            "#0d0887"
                          ],
                          [
                            0.1111111111111111,
                            "#46039f"
                          ],
                          [
                            0.2222222222222222,
                            "#7201a8"
                          ],
                          [
                            0.3333333333333333,
                            "#9c179e"
                          ],
                          [
                            0.4444444444444444,
                            "#bd3786"
                          ],
                          [
                            0.5555555555555556,
                            "#d8576b"
                          ],
                          [
                            0.6666666666666666,
                            "#ed7953"
                          ],
                          [
                            0.7777777777777778,
                            "#fb9f3a"
                          ],
                          [
                            0.8888888888888888,
                            "#fdca26"
                          ],
                          [
                            1,
                            "#f0f921"
                          ]
                        ],
                        "type": "heatmap"
                      }
                    ],
                    "heatmapgl": [
                      {
                        "colorbar": {
                          "outlinewidth": 0,
                          "ticks": ""
                        },
                        "colorscale": [
                          [
                            0,
                            "#0d0887"
                          ],
                          [
                            0.1111111111111111,
                            "#46039f"
                          ],
                          [
                            0.2222222222222222,
                            "#7201a8"
                          ],
                          [
                            0.3333333333333333,
                            "#9c179e"
                          ],
                          [
                            0.4444444444444444,
                            "#bd3786"
                          ],
                          [
                            0.5555555555555556,
                            "#d8576b"
                          ],
                          [
                            0.6666666666666666,
                            "#ed7953"
                          ],
                          [
                            0.7777777777777778,
                            "#fb9f3a"
                          ],
                          [
                            0.8888888888888888,
                            "#fdca26"
                          ],
                          [
                            1,
                            "#f0f921"
                          ]
                        ],
                        "type": "heatmapgl"
                      }
                    ],
                    "histogram": [
                      {
                        "marker": {
                          "pattern": {
                            "fillmode": "overlay",
                            "size": 10,
                            "solidity": 0.2
                          }
                        },
                        "type": "histogram"
                      }
                    ],
                    "histogram2d": [
                      {
                        "colorbar": {
                          "outlinewidth": 0,
                          "ticks": ""
                        },
                        "colorscale": [
                          [
                            0,
                            "#0d0887"
                          ],
                          [
                            0.1111111111111111,
                            "#46039f"
                          ],
                          [
                            0.2222222222222222,
                            "#7201a8"
                          ],
                          [
                            0.3333333333333333,
                            "#9c179e"
                          ],
                          [
                            0.4444444444444444,
                            "#bd3786"
                          ],
                          [
                            0.5555555555555556,
                            "#d8576b"
                          ],
                          [
                            0.6666666666666666,
                            "#ed7953"
                          ],
                          [
                            0.7777777777777778,
                            "#fb9f3a"
                          ],
                          [
                            0.8888888888888888,
                            "#fdca26"
                          ],
                          [
                            1,
                            "#f0f921"
                          ]
                        ],
                        "type": "histogram2d"
                      }
                    ],
                    "histogram2dcontour": [
                      {
                        "colorbar": {
                          "outlinewidth": 0,
                          "ticks": ""
                        },
                        "colorscale": [
                          [
                            0,
                            "#0d0887"
                          ],
                          [
                            0.1111111111111111,
                            "#46039f"
                          ],
                          [
                            0.2222222222222222,
                            "#7201a8"
                          ],
                          [
                            0.3333333333333333,
                            "#9c179e"
                          ],
                          [
                            0.4444444444444444,
                            "#bd3786"
                          ],
                          [
                            0.5555555555555556,
                            "#d8576b"
                          ],
                          [
                            0.6666666666666666,
                            "#ed7953"
                          ],
                          [
                            0.7777777777777778,
                            "#fb9f3a"
                          ],
                          [
                            0.8888888888888888,
                            "#fdca26"
                          ],
                          [
                            1,
                            "#f0f921"
                          ]
                        ],
                        "type": "histogram2dcontour"
                      }
                    ],
                    "mesh3d": [
                      {
                        "colorbar": {
                          "outlinewidth": 0,
                          "ticks": ""
                        },
                        "type": "mesh3d"
                      }
                    ],
                    "parcoords": [
                      {
                        "line": {
                          "colorbar": {
                            "outlinewidth": 0,
                            "ticks": ""
                          }
                        },
                        "type": "parcoords"
                      }
                    ],
                    "pie": [
                      {
                        "automargin": true,
                        "type": "pie"
                      }
                    ],
                    "scatter": [
                      {
                        "fillpattern": {
                          "fillmode": "overlay",
                          "size": 10,
                          "solidity": 0.2
                        },
                        "type": "scatter"
                      }
                    ],
                    "scatter3d": [
                      {
                        "line": {
                          "colorbar": {
                            "outlinewidth": 0,
                            "ticks": ""
                          }
                        },
                        "marker": {
                          "colorbar": {
                            "outlinewidth": 0,
                            "ticks": ""
                          }
                        },
                        "type": "scatter3d"
                      }
                    ],
                    "scattercarpet": [
                      {
                        "marker": {
                          "colorbar": {
                            "outlinewidth": 0,
                            "ticks": ""
                          }
                        },
                        "type": "scattercarpet"
                      }
                    ],
                    "scattergeo": [
                      {
                        "marker": {
                          "colorbar": {
                            "outlinewidth": 0,
                            "ticks": ""
                          }
                        },
                        "type": "scattergeo"
                      }
                    ],
                    "scattergl": [
                      {
                        "marker": {
                          "colorbar": {
                            "outlinewidth": 0,
                            "ticks": ""
                          }
                        },
                        "type": "scattergl"
                      }
                    ],
                    "scattermapbox": [
                      {
                        "marker": {
                          "colorbar": {
                            "outlinewidth": 0,
                            "ticks": ""
                          }
                        },
                        "type": "scattermapbox"
                      }
                    ],
                    "scatterpolar": [
                      {
                        "marker": {
                          "colorbar": {
                            "outlinewidth": 0,
                            "ticks": ""
                          }
                        },
                        "type": "scatterpolar"
                      }
                    ],
                    "scatterpolargl": [
                      {
                        "marker": {
                          "colorbar": {
                            "outlinewidth": 0,
                            "ticks": ""
                          }
                        },
                        "type": "scatterpolargl"
                      }
                    ],
                    "scatterternary": [
                      {
                        "marker": {
                          "colorbar": {
                            "outlinewidth": 0,
                            "ticks": ""
                          }
                        },
                        "type": "scatterternary"
                      }
                    ],
                    "surface": [
                      {
                        "colorbar": {
                          "outlinewidth": 0,
                          "ticks": ""
                        },
                        "colorscale": [
                          [
                            0,
                            "#0d0887"
                          ],
                          [
                            0.1111111111111111,
                            "#46039f"
                          ],
                          [
                            0.2222222222222222,
                            "#7201a8"
                          ],
                          [
                            0.3333333333333333,
                            "#9c179e"
                          ],
                          [
                            0.4444444444444444,
                            "#bd3786"
                          ],
                          [
                            0.5555555555555556,
                            "#d8576b"
                          ],
                          [
                            0.6666666666666666,
                            "#ed7953"
                          ],
                          [
                            0.7777777777777778,
                            "#fb9f3a"
                          ],
                          [
                            0.8888888888888888,
                            "#fdca26"
                          ],
                          [
                            1,
                            "#f0f921"
                          ]
                        ],
                        "type": "surface"
                      }
                    ],
                    "table": [
                      {
                        "cells": {
                          "fill": {
                            "color": "#EBF0F8"
                          },
                          "line": {
                            "color": "white"
                          }
                        },
                        "header": {
                          "fill": {
                            "color": "#C8D4E3"
                          },
                          "line": {
                            "color": "white"
                          }
                        },
                        "type": "table"
                      }
                    ]
                  },
                  "layout": {
                    "annotationdefaults": {
                      "arrowcolor": "#2a3f5f",
                      "arrowhead": 0,
                      "arrowwidth": 1
                    },
                    "autotypenumbers": "strict",
                    "coloraxis": {
                      "colorbar": {
                        "outlinewidth": 0,
                        "ticks": ""
                      }
                    },
                    "colorscale": {
                      "diverging": [
                        [
                          0,
                          "#8e0152"
                        ],
                        [
                          0.1,
                          "#c51b7d"
                        ],
                        [
                          0.2,
                          "#de77ae"
                        ],
                        [
                          0.3,
                          "#f1b6da"
                        ],
                        [
                          0.4,
                          "#fde0ef"
                        ],
                        [
                          0.5,
                          "#f7f7f7"
                        ],
                        [
                          0.6,
                          "#e6f5d0"
                        ],
                        [
                          0.7,
                          "#b8e186"
                        ],
                        [
                          0.8,
                          "#7fbc41"
                        ],
                        [
                          0.9,
                          "#4d9221"
                        ],
                        [
                          1,
                          "#276419"
                        ]
                      ],
                      "sequential": [
                        [
                          0,
                          "#0d0887"
                        ],
                        [
                          0.1111111111111111,
                          "#46039f"
                        ],
                        [
                          0.2222222222222222,
                          "#7201a8"
                        ],
                        [
                          0.3333333333333333,
                          "#9c179e"
                        ],
                        [
                          0.4444444444444444,
                          "#bd3786"
                        ],
                        [
                          0.5555555555555556,
                          "#d8576b"
                        ],
                        [
                          0.6666666666666666,
                          "#ed7953"
                        ],
                        [
                          0.7777777777777778,
                          "#fb9f3a"
                        ],
                        [
                          0.8888888888888888,
                          "#fdca26"
                        ],
                        [
                          1,
                          "#f0f921"
                        ]
                      ],
                      "sequentialminus": [
                        [
                          0,
                          "#0d0887"
                        ],
                        [
                          0.1111111111111111,
                          "#46039f"
                        ],
                        [
                          0.2222222222222222,
                          "#7201a8"
                        ],
                        [
                          0.3333333333333333,
                          "#9c179e"
                        ],
                        [
                          0.4444444444444444,
                          "#bd3786"
                        ],
                        [
                          0.5555555555555556,
                          "#d8576b"
                        ],
                        [
                          0.6666666666666666,
                          "#ed7953"
                        ],
                        [
                          0.7777777777777778,
                          "#fb9f3a"
                        ],
                        [
                          0.8888888888888888,
                          "#fdca26"
                        ],
                        [
                          1,
                          "#f0f921"
                        ]
                      ]
                    },
                    "colorway": [
                      "#636efa",
                      "#EF553B",
                      "#00cc96",
                      "#ab63fa",
                      "#FFA15A",
                      "#19d3f3",
                      "#FF6692",
                      "#B6E880",
                      "#FF97FF",
                      "#FECB52"
                    ],
                    "font": {
                      "color": "#2a3f5f"
                    },
                    "geo": {
                      "bgcolor": "white",
                      "lakecolor": "white",
                      "landcolor": "#E5ECF6",
                      "showlakes": true,
                      "showland": true,
                      "subunitcolor": "white"
                    },
                    "hoverlabel": {
                      "align": "left"
                    },
                    "hovermode": "closest",
                    "mapbox": {
                      "style": "light"
                    },
                    "paper_bgcolor": "white",
                    "plot_bgcolor": "#E5ECF6",
                    "polar": {
                      "angularaxis": {
                        "gridcolor": "white",
                        "linecolor": "white",
                        "ticks": ""
                      },
                      "bgcolor": "#E5ECF6",
                      "radialaxis": {
                        "gridcolor": "white",
                        "linecolor": "white",
                        "ticks": ""
                      }
                    },
                    "scene": {
                      "xaxis": {
                        "backgroundcolor": "#E5ECF6",
                        "gridcolor": "white",
                        "gridwidth": 2,
                        "linecolor": "white",
                        "showbackground": true,
                        "ticks": "",
                        "zerolinecolor": "white"
                      },
                      "yaxis": {
                        "backgroundcolor": "#E5ECF6",
                        "gridcolor": "white",
                        "gridwidth": 2,
                        "linecolor": "white",
                        "showbackground": true,
                        "ticks": "",
                        "zerolinecolor": "white"
                      },
                      "zaxis": {
                        "backgroundcolor": "#E5ECF6",
                        "gridcolor": "white",
                        "gridwidth": 2,
                        "linecolor": "white",
                        "showbackground": true,
                        "ticks": "",
                        "zerolinecolor": "white"
                      }
                    },
                    "shapedefaults": {
                      "line": {
                        "color": "#2a3f5f"
                      }
                    },
                    "ternary": {
                      "aaxis": {
                        "gridcolor": "white",
                        "linecolor": "white",
                        "ticks": ""
                      },
                      "baxis": {
                        "gridcolor": "white",
                        "linecolor": "white",
                        "ticks": ""
                      },
                      "bgcolor": "#E5ECF6",
                      "caxis": {
                        "gridcolor": "white",
                        "linecolor": "white",
                        "ticks": ""
                      }
                    },
                    "title": {
                      "x": 0.05
                    },
                    "xaxis": {
                      "automargin": true,
                      "gridcolor": "white",
                      "linecolor": "white",
                      "ticks": "",
                      "title": {
                        "standoff": 15
                      },
                      "zerolinecolor": "white",
                      "zerolinewidth": 2
                    },
                    "yaxis": {
                      "automargin": true,
                      "gridcolor": "white",
                      "linecolor": "white",
                      "ticks": "",
                      "title": {
                        "standoff": 15
                      },
                      "zerolinecolor": "white",
                      "zerolinewidth": 2
                    }
                  }
                },
                "title": {
                  "text": "Distribusi casual"
                },
                "xaxis": {
                  "title": {
                    "text": "casual"
                  }
                },
                "yaxis": {
                  "title": {
                    "text": "Frekuensi"
                  }
                }
              }
            }
          },
          "metadata": {},
          "output_type": "display_data"
        },
        {
          "data": {
            "application/vnd.plotly.v1+json": {
              "config": {
                "plotlyServerURL": "https://plot.ly"
              },
              "data": [
                {
                  "type": "histogram",
                  "x": [
                    654,
                    670,
                    1229,
                    1454,
                    1518,
                    1518,
                    1362,
                    891,
                    768,
                    1280,
                    1220,
                    1137,
                    1368,
                    1367,
                    1026,
                    953,
                    883,
                    674,
                    1572,
                    1844,
                    1468,
                    888,
                    836,
                    1330,
                    1799,
                    472,
                    416,
                    1129,
                    975,
                    956,
                    1459,
                    1313,
                    1454,
                    1489,
                    1620,
                    905,
                    1269,
                    1592,
                    1466,
                    1552,
                    1491,
                    1597,
                    1184,
                    1192,
                    1705,
                    1675,
                    1897,
                    2216,
                    2348,
                    1103,
                    1173,
                    912,
                    1376,
                    1778,
                    1707,
                    1341,
                    1545,
                    1708,
                    1365,
                    1714,
                    1903,
                    1562,
                    1730,
                    1437,
                    491,
                    1628,
                    1817,
                    1700,
                    577,
                    1730,
                    1408,
                    1435,
                    1687,
                    1767,
                    1871,
                    2320,
                    2355,
                    1693,
                    1424,
                    1676,
                    2243,
                    1918,
                    1699,
                    1910,
                    1515,
                    1221,
                    1806,
                    2108,
                    1368,
                    1506,
                    1920,
                    1354,
                    1598,
                    2381,
                    1628,
                    2395,
                    2570,
                    1299,
                    1576,
                    1707,
                    2493,
                    1777,
                    1953,
                    2738,
                    2484,
                    674,
                    2186,
                    2760,
                    2795,
                    3331,
                    3444,
                    1506,
                    2574,
                    2481,
                    3300,
                    3722,
                    3325,
                    3489,
                    3717,
                    3347,
                    2213,
                    3554,
                    3848,
                    2378,
                    3819,
                    3714,
                    3102,
                    2932,
                    3698,
                    4109,
                    3632,
                    4169,
                    3413,
                    2507,
                    2971,
                    3185,
                    3445,
                    3319,
                    3840,
                    4008,
                    3547,
                    3084,
                    3438,
                    3833,
                    4238,
                    3919,
                    3808,
                    2757,
                    2433,
                    2549,
                    3309,
                    3461,
                    4232,
                    4414,
                    3473,
                    3221,
                    3875,
                    4070,
                    3725,
                    3352,
                    3771,
                    3237,
                    2993,
                    4157,
                    4164,
                    4411,
                    3222,
                    3981,
                    3312,
                    3105,
                    3311,
                    4061,
                    3846,
                    4044,
                    4022,
                    3420,
                    3385,
                    3854,
                    3916,
                    4377,
                    4488,
                    4116,
                    2915,
                    2367,
                    2978,
                    3634,
                    3845,
                    3838,
                    3348,
                    3348,
                    3138,
                    3363,
                    3596,
                    3594,
                    4196,
                    4220,
                    3505,
                    3296,
                    3617,
                    3789,
                    3688,
                    3152,
                    2825,
                    2298,
                    2556,
                    3272,
                    3840,
                    3901,
                    3784,
                    3176,
                    2916,
                    2778,
                    3537,
                    4044,
                    3107,
                    3777,
                    3843,
                    2773,
                    2487,
                    3480,
                    3695,
                    3896,
                    3980,
                    3854,
                    2646,
                    2482,
                    3563,
                    4004,
                    4026,
                    3166,
                    3356,
                    3277,
                    2624,
                    3925,
                    4614,
                    4181,
                    3107,
                    3893,
                    889,
                    2919,
                    3905,
                    4429,
                    4370,
                    4332,
                    3852,
                    2549,
                    2419,
                    2115,
                    2506,
                    1878,
                    1689,
                    3127,
                    3595,
                    3413,
                    4023,
                    4062,
                    4138,
                    3231,
                    4018,
                    3077,
                    2921,
                    3848,
                    3203,
                    3813,
                    4240,
                    2137,
                    3647,
                    3466,
                    3946,
                    3643,
                    3427,
                    4186,
                    4372,
                    1949,
                    2302,
                    3240,
                    3970,
                    4267,
                    4126,
                    4036,
                    3174,
                    3114,
                    3603,
                    3896,
                    2199,
                    2623,
                    3115,
                    3318,
                    3293,
                    3857,
                    4111,
                    2170,
                    3724,
                    3628,
                    2809,
                    2762,
                    3488,
                    3992,
                    3490,
                    2419,
                    3291,
                    570,
                    2446,
                    3307,
                    3658,
                    3816,
                    3656,
                    3576,
                    2770,
                    2697,
                    3662,
                    3829,
                    3804,
                    2743,
                    2928,
                    2792,
                    2713,
                    3891,
                    3746,
                    1672,
                    2914,
                    3147,
                    2720,
                    2733,
                    2545,
                    1538,
                    2454,
                    935,
                    1697,
                    1819,
                    2261,
                    3614,
                    2818,
                    3425,
                    3545,
                    3672,
                    2908,
                    2851,
                    3578,
                    2468,
                    655,
                    3172,
                    3359,
                    2688,
                    2366,
                    3167,
                    3368,
                    3562,
                    3528,
                    3399,
                    2464,
                    2211,
                    3143,
                    3534,
                    2553,
                    2841,
                    2046,
                    856,
                    451,
                    887,
                    1059,
                    2047,
                    2169,
                    2508,
                    1820,
                    1608,
                    1707,
                    2147,
                    2273,
                    3132,
                    3791,
                    3451,
                    2826,
                    2270,
                    3425,
                    2085,
                    3828,
                    3040,
                    2160,
                    2027,
                    2081,
                    2808,
                    3267,
                    3162,
                    3048,
                    1234,
                    1781,
                    2287,
                    3900,
                    3803,
                    3831,
                    3187,
                    3248,
                    2685,
                    3498,
                    4185,
                    4275,
                    3571,
                    3841,
                    2448,
                    2629,
                    3578,
                    4176,
                    2693,
                    3667,
                    3604,
                    1977,
                    1456,
                    3328,
                    3787,
                    4028,
                    2931,
                    3805,
                    2883,
                    2071,
                    2627,
                    3614,
                    4379,
                    4546,
                    3241,
                    2415,
                    2874,
                    4069,
                    4134,
                    1769,
                    4665,
                    2948,
                    3110,
                    2713,
                    3130,
                    3735,
                    4484,
                    4896,
                    4122,
                    3150,
                    3253,
                    4460,
                    5085,
                    5315,
                    5187,
                    3830,
                    4681,
                    3685,
                    5171,
                    5042,
                    5108,
                    5537,
                    5893,
                    2339,
                    3464,
                    4763,
                    4571,
                    5024,
                    5299,
                    4663,
                    3934,
                    3694,
                    4728,
                    5424,
                    5378,
                    5265,
                    4653,
                    3605,
                    2939,
                    4680,
                    5099,
                    4380,
                    4746,
                    5146,
                    4665,
                    4286,
                    5172,
                    5702,
                    4020,
                    5719,
                    5950,
                    4083,
                    907,
                    3019,
                    5115,
                    5541,
                    4551,
                    5219,
                    3100,
                    4075,
                    4907,
                    5087,
                    5502,
                    5657,
                    5227,
                    4387,
                    4224,
                    5265,
                    4990,
                    4097,
                    5546,
                    5711,
                    4807,
                    3946,
                    2501,
                    4490,
                    6433,
                    6142,
                    6118,
                    4884,
                    4425,
                    3729,
                    5254,
                    4494,
                    5711,
                    5317,
                    3681,
                    3308,
                    3486,
                    4863,
                    6110,
                    6238,
                    3594,
                    5325,
                    5147,
                    5927,
                    6033,
                    6028,
                    6456,
                    6248,
                    4790,
                    4374,
                    5647,
                    4495,
                    6248,
                    6183,
                    6102,
                    4739,
                    4344,
                    4446,
                    5857,
                    5339,
                    5127,
                    4859,
                    4801,
                    4340,
                    5640,
                    6365,
                    6258,
                    5958,
                    4634,
                    4232,
                    4110,
                    5323,
                    5608,
                    4841,
                    4836,
                    4841,
                    3392,
                    3469,
                    5571,
                    5336,
                    6289,
                    6414,
                    5988,
                    4614,
                    4111,
                    5742,
                    5865,
                    4914,
                    5703,
                    5123,
                    3195,
                    4866,
                    5831,
                    6452,
                    6790,
                    5825,
                    5645,
                    4451,
                    4444,
                    6065,
                    6248,
                    6506,
                    6278,
                    5847,
                    4479,
                    3757,
                    5780,
                    5995,
                    6271,
                    6090,
                    4721,
                    4052,
                    4362,
                    5676,
                    5656,
                    6149,
                    6267,
                    5665,
                    5038,
                    3341,
                    5504,
                    5925,
                    6281,
                    6402,
                    6257,
                    4224,
                    3772,
                    5928,
                    6105,
                    6520,
                    6541,
                    5917,
                    3788,
                    3197,
                    4069,
                    5997,
                    6280,
                    5592,
                    6459,
                    4419,
                    5657,
                    6407,
                    6697,
                    6820,
                    6750,
                    6630,
                    5554,
                    5167,
                    5847,
                    3702,
                    6803,
                    6781,
                    6917,
                    5883,
                    5453,
                    6435,
                    6693,
                    6946,
                    6642,
                    6370,
                    5966,
                    4874,
                    6015,
                    4324,
                    6844,
                    6437,
                    6640,
                    4934,
                    2729,
                    4604,
                    5791,
                    6911,
                    6736,
                    6222,
                    4857,
                    4559,
                    5115,
                    6612,
                    6482,
                    6501,
                    4671,
                    5284,
                    4692,
                    6228,
                    6625,
                    6898,
                    6484,
                    6262,
                    5209,
                    3461,
                    20,
                    1009,
                    5147,
                    5520,
                    5229,
                    4109,
                    3906,
                    4881,
                    5220,
                    4709,
                    4975,
                    5283,
                    4446,
                    4562,
                    5172,
                    3767,
                    5122,
                    5125,
                    5214,
                    4316,
                    3747,
                    5050,
                    5100,
                    4531,
                    1470,
                    2307,
                    1745,
                    2115,
                    4750,
                    3836,
                    5062,
                    5080,
                    5306,
                    4240,
                    3757,
                    5679,
                    6055,
                    5398,
                    5035,
                    4659,
                    4429,
                    2787,
                    4841,
                    5219,
                    5009,
                    5107,
                    5182,
                    4280,
                    3248,
                    4373,
                    5124,
                    4934,
                    3814,
                    3402,
                    1544,
                    1379,
                    746,
                    573,
                    432,
                    1867,
                    2451,
                    1182,
                    1432,
                    2290
                  ]
                }
              ],
              "layout": {
                "template": {
                  "data": {
                    "bar": [
                      {
                        "error_x": {
                          "color": "#2a3f5f"
                        },
                        "error_y": {
                          "color": "#2a3f5f"
                        },
                        "marker": {
                          "line": {
                            "color": "#E5ECF6",
                            "width": 0.5
                          },
                          "pattern": {
                            "fillmode": "overlay",
                            "size": 10,
                            "solidity": 0.2
                          }
                        },
                        "type": "bar"
                      }
                    ],
                    "barpolar": [
                      {
                        "marker": {
                          "line": {
                            "color": "#E5ECF6",
                            "width": 0.5
                          },
                          "pattern": {
                            "fillmode": "overlay",
                            "size": 10,
                            "solidity": 0.2
                          }
                        },
                        "type": "barpolar"
                      }
                    ],
                    "carpet": [
                      {
                        "aaxis": {
                          "endlinecolor": "#2a3f5f",
                          "gridcolor": "white",
                          "linecolor": "white",
                          "minorgridcolor": "white",
                          "startlinecolor": "#2a3f5f"
                        },
                        "baxis": {
                          "endlinecolor": "#2a3f5f",
                          "gridcolor": "white",
                          "linecolor": "white",
                          "minorgridcolor": "white",
                          "startlinecolor": "#2a3f5f"
                        },
                        "type": "carpet"
                      }
                    ],
                    "choropleth": [
                      {
                        "colorbar": {
                          "outlinewidth": 0,
                          "ticks": ""
                        },
                        "type": "choropleth"
                      }
                    ],
                    "contour": [
                      {
                        "colorbar": {
                          "outlinewidth": 0,
                          "ticks": ""
                        },
                        "colorscale": [
                          [
                            0,
                            "#0d0887"
                          ],
                          [
                            0.1111111111111111,
                            "#46039f"
                          ],
                          [
                            0.2222222222222222,
                            "#7201a8"
                          ],
                          [
                            0.3333333333333333,
                            "#9c179e"
                          ],
                          [
                            0.4444444444444444,
                            "#bd3786"
                          ],
                          [
                            0.5555555555555556,
                            "#d8576b"
                          ],
                          [
                            0.6666666666666666,
                            "#ed7953"
                          ],
                          [
                            0.7777777777777778,
                            "#fb9f3a"
                          ],
                          [
                            0.8888888888888888,
                            "#fdca26"
                          ],
                          [
                            1,
                            "#f0f921"
                          ]
                        ],
                        "type": "contour"
                      }
                    ],
                    "contourcarpet": [
                      {
                        "colorbar": {
                          "outlinewidth": 0,
                          "ticks": ""
                        },
                        "type": "contourcarpet"
                      }
                    ],
                    "heatmap": [
                      {
                        "colorbar": {
                          "outlinewidth": 0,
                          "ticks": ""
                        },
                        "colorscale": [
                          [
                            0,
                            "#0d0887"
                          ],
                          [
                            0.1111111111111111,
                            "#46039f"
                          ],
                          [
                            0.2222222222222222,
                            "#7201a8"
                          ],
                          [
                            0.3333333333333333,
                            "#9c179e"
                          ],
                          [
                            0.4444444444444444,
                            "#bd3786"
                          ],
                          [
                            0.5555555555555556,
                            "#d8576b"
                          ],
                          [
                            0.6666666666666666,
                            "#ed7953"
                          ],
                          [
                            0.7777777777777778,
                            "#fb9f3a"
                          ],
                          [
                            0.8888888888888888,
                            "#fdca26"
                          ],
                          [
                            1,
                            "#f0f921"
                          ]
                        ],
                        "type": "heatmap"
                      }
                    ],
                    "heatmapgl": [
                      {
                        "colorbar": {
                          "outlinewidth": 0,
                          "ticks": ""
                        },
                        "colorscale": [
                          [
                            0,
                            "#0d0887"
                          ],
                          [
                            0.1111111111111111,
                            "#46039f"
                          ],
                          [
                            0.2222222222222222,
                            "#7201a8"
                          ],
                          [
                            0.3333333333333333,
                            "#9c179e"
                          ],
                          [
                            0.4444444444444444,
                            "#bd3786"
                          ],
                          [
                            0.5555555555555556,
                            "#d8576b"
                          ],
                          [
                            0.6666666666666666,
                            "#ed7953"
                          ],
                          [
                            0.7777777777777778,
                            "#fb9f3a"
                          ],
                          [
                            0.8888888888888888,
                            "#fdca26"
                          ],
                          [
                            1,
                            "#f0f921"
                          ]
                        ],
                        "type": "heatmapgl"
                      }
                    ],
                    "histogram": [
                      {
                        "marker": {
                          "pattern": {
                            "fillmode": "overlay",
                            "size": 10,
                            "solidity": 0.2
                          }
                        },
                        "type": "histogram"
                      }
                    ],
                    "histogram2d": [
                      {
                        "colorbar": {
                          "outlinewidth": 0,
                          "ticks": ""
                        },
                        "colorscale": [
                          [
                            0,
                            "#0d0887"
                          ],
                          [
                            0.1111111111111111,
                            "#46039f"
                          ],
                          [
                            0.2222222222222222,
                            "#7201a8"
                          ],
                          [
                            0.3333333333333333,
                            "#9c179e"
                          ],
                          [
                            0.4444444444444444,
                            "#bd3786"
                          ],
                          [
                            0.5555555555555556,
                            "#d8576b"
                          ],
                          [
                            0.6666666666666666,
                            "#ed7953"
                          ],
                          [
                            0.7777777777777778,
                            "#fb9f3a"
                          ],
                          [
                            0.8888888888888888,
                            "#fdca26"
                          ],
                          [
                            1,
                            "#f0f921"
                          ]
                        ],
                        "type": "histogram2d"
                      }
                    ],
                    "histogram2dcontour": [
                      {
                        "colorbar": {
                          "outlinewidth": 0,
                          "ticks": ""
                        },
                        "colorscale": [
                          [
                            0,
                            "#0d0887"
                          ],
                          [
                            0.1111111111111111,
                            "#46039f"
                          ],
                          [
                            0.2222222222222222,
                            "#7201a8"
                          ],
                          [
                            0.3333333333333333,
                            "#9c179e"
                          ],
                          [
                            0.4444444444444444,
                            "#bd3786"
                          ],
                          [
                            0.5555555555555556,
                            "#d8576b"
                          ],
                          [
                            0.6666666666666666,
                            "#ed7953"
                          ],
                          [
                            0.7777777777777778,
                            "#fb9f3a"
                          ],
                          [
                            0.8888888888888888,
                            "#fdca26"
                          ],
                          [
                            1,
                            "#f0f921"
                          ]
                        ],
                        "type": "histogram2dcontour"
                      }
                    ],
                    "mesh3d": [
                      {
                        "colorbar": {
                          "outlinewidth": 0,
                          "ticks": ""
                        },
                        "type": "mesh3d"
                      }
                    ],
                    "parcoords": [
                      {
                        "line": {
                          "colorbar": {
                            "outlinewidth": 0,
                            "ticks": ""
                          }
                        },
                        "type": "parcoords"
                      }
                    ],
                    "pie": [
                      {
                        "automargin": true,
                        "type": "pie"
                      }
                    ],
                    "scatter": [
                      {
                        "fillpattern": {
                          "fillmode": "overlay",
                          "size": 10,
                          "solidity": 0.2
                        },
                        "type": "scatter"
                      }
                    ],
                    "scatter3d": [
                      {
                        "line": {
                          "colorbar": {
                            "outlinewidth": 0,
                            "ticks": ""
                          }
                        },
                        "marker": {
                          "colorbar": {
                            "outlinewidth": 0,
                            "ticks": ""
                          }
                        },
                        "type": "scatter3d"
                      }
                    ],
                    "scattercarpet": [
                      {
                        "marker": {
                          "colorbar": {
                            "outlinewidth": 0,
                            "ticks": ""
                          }
                        },
                        "type": "scattercarpet"
                      }
                    ],
                    "scattergeo": [
                      {
                        "marker": {
                          "colorbar": {
                            "outlinewidth": 0,
                            "ticks": ""
                          }
                        },
                        "type": "scattergeo"
                      }
                    ],
                    "scattergl": [
                      {
                        "marker": {
                          "colorbar": {
                            "outlinewidth": 0,
                            "ticks": ""
                          }
                        },
                        "type": "scattergl"
                      }
                    ],
                    "scattermapbox": [
                      {
                        "marker": {
                          "colorbar": {
                            "outlinewidth": 0,
                            "ticks": ""
                          }
                        },
                        "type": "scattermapbox"
                      }
                    ],
                    "scatterpolar": [
                      {
                        "marker": {
                          "colorbar": {
                            "outlinewidth": 0,
                            "ticks": ""
                          }
                        },
                        "type": "scatterpolar"
                      }
                    ],
                    "scatterpolargl": [
                      {
                        "marker": {
                          "colorbar": {
                            "outlinewidth": 0,
                            "ticks": ""
                          }
                        },
                        "type": "scatterpolargl"
                      }
                    ],
                    "scatterternary": [
                      {
                        "marker": {
                          "colorbar": {
                            "outlinewidth": 0,
                            "ticks": ""
                          }
                        },
                        "type": "scatterternary"
                      }
                    ],
                    "surface": [
                      {
                        "colorbar": {
                          "outlinewidth": 0,
                          "ticks": ""
                        },
                        "colorscale": [
                          [
                            0,
                            "#0d0887"
                          ],
                          [
                            0.1111111111111111,
                            "#46039f"
                          ],
                          [
                            0.2222222222222222,
                            "#7201a8"
                          ],
                          [
                            0.3333333333333333,
                            "#9c179e"
                          ],
                          [
                            0.4444444444444444,
                            "#bd3786"
                          ],
                          [
                            0.5555555555555556,
                            "#d8576b"
                          ],
                          [
                            0.6666666666666666,
                            "#ed7953"
                          ],
                          [
                            0.7777777777777778,
                            "#fb9f3a"
                          ],
                          [
                            0.8888888888888888,
                            "#fdca26"
                          ],
                          [
                            1,
                            "#f0f921"
                          ]
                        ],
                        "type": "surface"
                      }
                    ],
                    "table": [
                      {
                        "cells": {
                          "fill": {
                            "color": "#EBF0F8"
                          },
                          "line": {
                            "color": "white"
                          }
                        },
                        "header": {
                          "fill": {
                            "color": "#C8D4E3"
                          },
                          "line": {
                            "color": "white"
                          }
                        },
                        "type": "table"
                      }
                    ]
                  },
                  "layout": {
                    "annotationdefaults": {
                      "arrowcolor": "#2a3f5f",
                      "arrowhead": 0,
                      "arrowwidth": 1
                    },
                    "autotypenumbers": "strict",
                    "coloraxis": {
                      "colorbar": {
                        "outlinewidth": 0,
                        "ticks": ""
                      }
                    },
                    "colorscale": {
                      "diverging": [
                        [
                          0,
                          "#8e0152"
                        ],
                        [
                          0.1,
                          "#c51b7d"
                        ],
                        [
                          0.2,
                          "#de77ae"
                        ],
                        [
                          0.3,
                          "#f1b6da"
                        ],
                        [
                          0.4,
                          "#fde0ef"
                        ],
                        [
                          0.5,
                          "#f7f7f7"
                        ],
                        [
                          0.6,
                          "#e6f5d0"
                        ],
                        [
                          0.7,
                          "#b8e186"
                        ],
                        [
                          0.8,
                          "#7fbc41"
                        ],
                        [
                          0.9,
                          "#4d9221"
                        ],
                        [
                          1,
                          "#276419"
                        ]
                      ],
                      "sequential": [
                        [
                          0,
                          "#0d0887"
                        ],
                        [
                          0.1111111111111111,
                          "#46039f"
                        ],
                        [
                          0.2222222222222222,
                          "#7201a8"
                        ],
                        [
                          0.3333333333333333,
                          "#9c179e"
                        ],
                        [
                          0.4444444444444444,
                          "#bd3786"
                        ],
                        [
                          0.5555555555555556,
                          "#d8576b"
                        ],
                        [
                          0.6666666666666666,
                          "#ed7953"
                        ],
                        [
                          0.7777777777777778,
                          "#fb9f3a"
                        ],
                        [
                          0.8888888888888888,
                          "#fdca26"
                        ],
                        [
                          1,
                          "#f0f921"
                        ]
                      ],
                      "sequentialminus": [
                        [
                          0,
                          "#0d0887"
                        ],
                        [
                          0.1111111111111111,
                          "#46039f"
                        ],
                        [
                          0.2222222222222222,
                          "#7201a8"
                        ],
                        [
                          0.3333333333333333,
                          "#9c179e"
                        ],
                        [
                          0.4444444444444444,
                          "#bd3786"
                        ],
                        [
                          0.5555555555555556,
                          "#d8576b"
                        ],
                        [
                          0.6666666666666666,
                          "#ed7953"
                        ],
                        [
                          0.7777777777777778,
                          "#fb9f3a"
                        ],
                        [
                          0.8888888888888888,
                          "#fdca26"
                        ],
                        [
                          1,
                          "#f0f921"
                        ]
                      ]
                    },
                    "colorway": [
                      "#636efa",
                      "#EF553B",
                      "#00cc96",
                      "#ab63fa",
                      "#FFA15A",
                      "#19d3f3",
                      "#FF6692",
                      "#B6E880",
                      "#FF97FF",
                      "#FECB52"
                    ],
                    "font": {
                      "color": "#2a3f5f"
                    },
                    "geo": {
                      "bgcolor": "white",
                      "lakecolor": "white",
                      "landcolor": "#E5ECF6",
                      "showlakes": true,
                      "showland": true,
                      "subunitcolor": "white"
                    },
                    "hoverlabel": {
                      "align": "left"
                    },
                    "hovermode": "closest",
                    "mapbox": {
                      "style": "light"
                    },
                    "paper_bgcolor": "white",
                    "plot_bgcolor": "#E5ECF6",
                    "polar": {
                      "angularaxis": {
                        "gridcolor": "white",
                        "linecolor": "white",
                        "ticks": ""
                      },
                      "bgcolor": "#E5ECF6",
                      "radialaxis": {
                        "gridcolor": "white",
                        "linecolor": "white",
                        "ticks": ""
                      }
                    },
                    "scene": {
                      "xaxis": {
                        "backgroundcolor": "#E5ECF6",
                        "gridcolor": "white",
                        "gridwidth": 2,
                        "linecolor": "white",
                        "showbackground": true,
                        "ticks": "",
                        "zerolinecolor": "white"
                      },
                      "yaxis": {
                        "backgroundcolor": "#E5ECF6",
                        "gridcolor": "white",
                        "gridwidth": 2,
                        "linecolor": "white",
                        "showbackground": true,
                        "ticks": "",
                        "zerolinecolor": "white"
                      },
                      "zaxis": {
                        "backgroundcolor": "#E5ECF6",
                        "gridcolor": "white",
                        "gridwidth": 2,
                        "linecolor": "white",
                        "showbackground": true,
                        "ticks": "",
                        "zerolinecolor": "white"
                      }
                    },
                    "shapedefaults": {
                      "line": {
                        "color": "#2a3f5f"
                      }
                    },
                    "ternary": {
                      "aaxis": {
                        "gridcolor": "white",
                        "linecolor": "white",
                        "ticks": ""
                      },
                      "baxis": {
                        "gridcolor": "white",
                        "linecolor": "white",
                        "ticks": ""
                      },
                      "bgcolor": "#E5ECF6",
                      "caxis": {
                        "gridcolor": "white",
                        "linecolor": "white",
                        "ticks": ""
                      }
                    },
                    "title": {
                      "x": 0.05
                    },
                    "xaxis": {
                      "automargin": true,
                      "gridcolor": "white",
                      "linecolor": "white",
                      "ticks": "",
                      "title": {
                        "standoff": 15
                      },
                      "zerolinecolor": "white",
                      "zerolinewidth": 2
                    },
                    "yaxis": {
                      "automargin": true,
                      "gridcolor": "white",
                      "linecolor": "white",
                      "ticks": "",
                      "title": {
                        "standoff": 15
                      },
                      "zerolinecolor": "white",
                      "zerolinewidth": 2
                    }
                  }
                },
                "title": {
                  "text": "Distribusi registered"
                },
                "xaxis": {
                  "title": {
                    "text": "registered"
                  }
                },
                "yaxis": {
                  "title": {
                    "text": "Frekuensi"
                  }
                }
              }
            }
          },
          "metadata": {},
          "output_type": "display_data"
        },
        {
          "data": {
            "application/vnd.plotly.v1+json": {
              "config": {
                "plotlyServerURL": "https://plot.ly"
              },
              "data": [
                {
                  "type": "histogram",
                  "x": [
                    985,
                    801,
                    1349,
                    1562,
                    1600,
                    1606,
                    1510,
                    959,
                    822,
                    1321,
                    1263,
                    1162,
                    1406,
                    1421,
                    1248,
                    1204,
                    1000,
                    683,
                    1650,
                    1927,
                    1543,
                    981,
                    986,
                    1416,
                    1985,
                    506,
                    431,
                    1167,
                    1098,
                    1096,
                    1501,
                    1360,
                    1526,
                    1550,
                    1708,
                    1005,
                    1623,
                    1712,
                    1530,
                    1605,
                    1538,
                    1746,
                    1472,
                    1589,
                    1913,
                    1815,
                    2115,
                    2475,
                    2927,
                    1635,
                    1812,
                    1107,
                    1450,
                    1917,
                    1807,
                    1461,
                    1969,
                    2402,
                    1446,
                    1851,
                    2134,
                    1685,
                    1944,
                    2077,
                    605,
                    1872,
                    2133,
                    1891,
                    623,
                    1977,
                    2132,
                    2417,
                    2046,
                    2056,
                    2192,
                    2744,
                    3239,
                    3117,
                    2471,
                    2077,
                    2703,
                    2121,
                    1865,
                    2210,
                    2496,
                    1693,
                    2028,
                    2425,
                    1536,
                    1685,
                    2227,
                    2252,
                    3249,
                    3115,
                    1795,
                    2808,
                    3141,
                    1471,
                    2455,
                    2895,
                    3348,
                    2034,
                    2162,
                    3267,
                    3126,
                    795,
                    3744,
                    3429,
                    3204,
                    3944,
                    4189,
                    1683,
                    4036,
                    4191,
                    4073,
                    4400,
                    3872,
                    4058,
                    4595,
                    5312,
                    3351,
                    4401,
                    4451,
                    2633,
                    4433,
                    4608,
                    4714,
                    4333,
                    4362,
                    4803,
                    4182,
                    4864,
                    4105,
                    3409,
                    4553,
                    3958,
                    4123,
                    3855,
                    4575,
                    4917,
                    5805,
                    4660,
                    4274,
                    4492,
                    4978,
                    4677,
                    4679,
                    4758,
                    4788,
                    4098,
                    3982,
                    3974,
                    4968,
                    5312,
                    5342,
                    4906,
                    4548,
                    4833,
                    4401,
                    3915,
                    4586,
                    4966,
                    4460,
                    5020,
                    4891,
                    5180,
                    3767,
                    4844,
                    5119,
                    4744,
                    4010,
                    4835,
                    4507,
                    4790,
                    4991,
                    5202,
                    5305,
                    4708,
                    4648,
                    5225,
                    5515,
                    5362,
                    5119,
                    4649,
                    6043,
                    4665,
                    4629,
                    4592,
                    4040,
                    5336,
                    4881,
                    4086,
                    4258,
                    4342,
                    5084,
                    5538,
                    5923,
                    5302,
                    4458,
                    4541,
                    4332,
                    3784,
                    3387,
                    3285,
                    3606,
                    3840,
                    4590,
                    4656,
                    4390,
                    3846,
                    4475,
                    4302,
                    4266,
                    4845,
                    3574,
                    4576,
                    4866,
                    4294,
                    3785,
                    4326,
                    4602,
                    4780,
                    4792,
                    4905,
                    4150,
                    3820,
                    4338,
                    4725,
                    4694,
                    3805,
                    4153,
                    5191,
                    3873,
                    4758,
                    5895,
                    5130,
                    3542,
                    4661,
                    1115,
                    4334,
                    4634,
                    5204,
                    5058,
                    5115,
                    4727,
                    4484,
                    4940,
                    3351,
                    2710,
                    1996,
                    1842,
                    3544,
                    5345,
                    5046,
                    4713,
                    4763,
                    4785,
                    3659,
                    4760,
                    4511,
                    4274,
                    4539,
                    3641,
                    4352,
                    4795,
                    2395,
                    5423,
                    5010,
                    4630,
                    4120,
                    3907,
                    4839,
                    5202,
                    2429,
                    2918,
                    3570,
                    4456,
                    4826,
                    4765,
                    4985,
                    5409,
                    5511,
                    5117,
                    4563,
                    2416,
                    2913,
                    3644,
                    5217,
                    5041,
                    4570,
                    4748,
                    2424,
                    4195,
                    4304,
                    4308,
                    4381,
                    4187,
                    4687,
                    3894,
                    2659,
                    3747,
                    627,
                    3331,
                    3669,
                    4068,
                    4186,
                    3974,
                    4046,
                    3926,
                    3649,
                    4035,
                    4205,
                    4109,
                    2933,
                    3368,
                    4067,
                    3717,
                    4486,
                    4195,
                    1817,
                    3053,
                    3392,
                    3663,
                    3520,
                    2765,
                    1607,
                    2566,
                    1495,
                    2792,
                    3068,
                    3071,
                    3867,
                    2914,
                    3613,
                    3727,
                    3940,
                    3614,
                    3485,
                    3811,
                    2594,
                    705,
                    3322,
                    3620,
                    3190,
                    2743,
                    3310,
                    3523,
                    3740,
                    3709,
                    3577,
                    2739,
                    2431,
                    3403,
                    3750,
                    2660,
                    3068,
                    2209,
                    1011,
                    754,
                    1317,
                    1162,
                    2302,
                    2423,
                    2999,
                    2485,
                    2294,
                    1951,
                    2236,
                    2368,
                    3272,
                    4098,
                    4521,
                    3425,
                    2376,
                    3598,
                    2177,
                    4097,
                    3214,
                    2493,
                    2311,
                    2298,
                    2935,
                    3376,
                    3292,
                    3163,
                    1301,
                    1977,
                    2432,
                    4339,
                    4270,
                    4075,
                    3456,
                    4023,
                    3243,
                    3624,
                    4509,
                    4579,
                    3761,
                    4151,
                    2832,
                    2947,
                    3784,
                    4375,
                    2802,
                    3830,
                    3831,
                    2169,
                    1529,
                    3422,
                    3922,
                    4169,
                    3005,
                    4154,
                    4318,
                    2689,
                    3129,
                    3777,
                    4773,
                    5062,
                    3487,
                    2732,
                    3389,
                    4322,
                    4363,
                    1834,
                    4990,
                    3194,
                    4066,
                    3423,
                    3333,
                    3956,
                    4916,
                    5382,
                    4569,
                    4118,
                    4911,
                    5298,
                    5847,
                    6312,
                    6192,
                    4378,
                    7836,
                    5892,
                    6153,
                    6093,
                    6230,
                    6871,
                    8362,
                    3372,
                    4996,
                    5558,
                    5102,
                    5698,
                    6133,
                    5459,
                    6235,
                    6041,
                    5936,
                    6772,
                    6436,
                    6457,
                    6460,
                    6857,
                    5169,
                    5585,
                    5918,
                    4862,
                    5409,
                    6398,
                    7460,
                    7132,
                    6370,
                    6691,
                    4367,
                    6565,
                    7290,
                    6624,
                    1027,
                    3214,
                    5633,
                    6196,
                    5026,
                    6233,
                    4220,
                    6304,
                    5572,
                    5740,
                    6169,
                    6421,
                    6296,
                    6883,
                    6359,
                    6273,
                    5728,
                    4717,
                    6572,
                    7030,
                    7429,
                    6118,
                    2843,
                    5115,
                    7424,
                    7384,
                    7639,
                    8294,
                    7129,
                    4359,
                    6073,
                    5260,
                    6770,
                    6734,
                    6536,
                    6591,
                    6043,
                    5743,
                    6855,
                    7338,
                    4127,
                    8120,
                    7641,
                    6998,
                    7001,
                    7055,
                    7494,
                    7736,
                    7498,
                    6598,
                    6664,
                    4972,
                    7421,
                    7363,
                    7665,
                    7702,
                    6978,
                    5099,
                    6825,
                    6211,
                    5905,
                    5823,
                    7458,
                    6891,
                    6779,
                    7442,
                    7335,
                    6879,
                    5463,
                    5687,
                    5531,
                    6227,
                    6660,
                    7403,
                    6241,
                    6207,
                    4840,
                    4672,
                    6569,
                    6290,
                    7264,
                    7446,
                    7499,
                    6969,
                    6031,
                    6830,
                    6786,
                    5713,
                    6591,
                    5870,
                    4459,
                    7410,
                    6966,
                    7592,
                    8173,
                    6861,
                    6904,
                    6685,
                    6597,
                    7105,
                    7216,
                    7580,
                    7261,
                    7175,
                    6824,
                    5464,
                    7013,
                    7273,
                    7534,
                    7286,
                    5786,
                    6299,
                    6544,
                    6883,
                    6784,
                    7347,
                    7605,
                    7148,
                    7865,
                    4549,
                    6530,
                    7006,
                    7375,
                    7765,
                    7582,
                    6053,
                    5255,
                    6917,
                    7040,
                    7697,
                    7713,
                    7350,
                    6140,
                    5810,
                    6034,
                    6864,
                    7112,
                    6203,
                    7504,
                    5976,
                    8227,
                    7525,
                    7767,
                    7870,
                    7804,
                    8009,
                    8714,
                    7333,
                    6869,
                    4073,
                    7591,
                    7720,
                    8167,
                    8395,
                    7907,
                    7436,
                    7538,
                    7733,
                    7393,
                    7415,
                    8555,
                    6889,
                    6778,
                    4639,
                    7572,
                    7328,
                    8156,
                    7965,
                    3510,
                    5478,
                    6392,
                    7691,
                    7570,
                    7282,
                    7109,
                    6639,
                    5875,
                    7534,
                    7461,
                    7509,
                    5424,
                    8090,
                    6824,
                    7058,
                    7466,
                    7693,
                    7359,
                    7444,
                    7852,
                    4459,
                    22,
                    1096,
                    5566,
                    5986,
                    5847,
                    5138,
                    5107,
                    5259,
                    5686,
                    5035,
                    5315,
                    5992,
                    6536,
                    6852,
                    6269,
                    4094,
                    5495,
                    5445,
                    5698,
                    5629,
                    4669,
                    5499,
                    5634,
                    5146,
                    2425,
                    3910,
                    2277,
                    2424,
                    5087,
                    3959,
                    5260,
                    5323,
                    5668,
                    5191,
                    4649,
                    6234,
                    6606,
                    5729,
                    5375,
                    5008,
                    5582,
                    3228,
                    5170,
                    5501,
                    5319,
                    5532,
                    5611,
                    5047,
                    3786,
                    4585,
                    5557,
                    5267,
                    4128,
                    3623,
                    1749,
                    1787,
                    920,
                    1013,
                    441,
                    2114,
                    3095,
                    1341,
                    1796,
                    2729
                  ]
                }
              ],
              "layout": {
                "template": {
                  "data": {
                    "bar": [
                      {
                        "error_x": {
                          "color": "#2a3f5f"
                        },
                        "error_y": {
                          "color": "#2a3f5f"
                        },
                        "marker": {
                          "line": {
                            "color": "#E5ECF6",
                            "width": 0.5
                          },
                          "pattern": {
                            "fillmode": "overlay",
                            "size": 10,
                            "solidity": 0.2
                          }
                        },
                        "type": "bar"
                      }
                    ],
                    "barpolar": [
                      {
                        "marker": {
                          "line": {
                            "color": "#E5ECF6",
                            "width": 0.5
                          },
                          "pattern": {
                            "fillmode": "overlay",
                            "size": 10,
                            "solidity": 0.2
                          }
                        },
                        "type": "barpolar"
                      }
                    ],
                    "carpet": [
                      {
                        "aaxis": {
                          "endlinecolor": "#2a3f5f",
                          "gridcolor": "white",
                          "linecolor": "white",
                          "minorgridcolor": "white",
                          "startlinecolor": "#2a3f5f"
                        },
                        "baxis": {
                          "endlinecolor": "#2a3f5f",
                          "gridcolor": "white",
                          "linecolor": "white",
                          "minorgridcolor": "white",
                          "startlinecolor": "#2a3f5f"
                        },
                        "type": "carpet"
                      }
                    ],
                    "choropleth": [
                      {
                        "colorbar": {
                          "outlinewidth": 0,
                          "ticks": ""
                        },
                        "type": "choropleth"
                      }
                    ],
                    "contour": [
                      {
                        "colorbar": {
                          "outlinewidth": 0,
                          "ticks": ""
                        },
                        "colorscale": [
                          [
                            0,
                            "#0d0887"
                          ],
                          [
                            0.1111111111111111,
                            "#46039f"
                          ],
                          [
                            0.2222222222222222,
                            "#7201a8"
                          ],
                          [
                            0.3333333333333333,
                            "#9c179e"
                          ],
                          [
                            0.4444444444444444,
                            "#bd3786"
                          ],
                          [
                            0.5555555555555556,
                            "#d8576b"
                          ],
                          [
                            0.6666666666666666,
                            "#ed7953"
                          ],
                          [
                            0.7777777777777778,
                            "#fb9f3a"
                          ],
                          [
                            0.8888888888888888,
                            "#fdca26"
                          ],
                          [
                            1,
                            "#f0f921"
                          ]
                        ],
                        "type": "contour"
                      }
                    ],
                    "contourcarpet": [
                      {
                        "colorbar": {
                          "outlinewidth": 0,
                          "ticks": ""
                        },
                        "type": "contourcarpet"
                      }
                    ],
                    "heatmap": [
                      {
                        "colorbar": {
                          "outlinewidth": 0,
                          "ticks": ""
                        },
                        "colorscale": [
                          [
                            0,
                            "#0d0887"
                          ],
                          [
                            0.1111111111111111,
                            "#46039f"
                          ],
                          [
                            0.2222222222222222,
                            "#7201a8"
                          ],
                          [
                            0.3333333333333333,
                            "#9c179e"
                          ],
                          [
                            0.4444444444444444,
                            "#bd3786"
                          ],
                          [
                            0.5555555555555556,
                            "#d8576b"
                          ],
                          [
                            0.6666666666666666,
                            "#ed7953"
                          ],
                          [
                            0.7777777777777778,
                            "#fb9f3a"
                          ],
                          [
                            0.8888888888888888,
                            "#fdca26"
                          ],
                          [
                            1,
                            "#f0f921"
                          ]
                        ],
                        "type": "heatmap"
                      }
                    ],
                    "heatmapgl": [
                      {
                        "colorbar": {
                          "outlinewidth": 0,
                          "ticks": ""
                        },
                        "colorscale": [
                          [
                            0,
                            "#0d0887"
                          ],
                          [
                            0.1111111111111111,
                            "#46039f"
                          ],
                          [
                            0.2222222222222222,
                            "#7201a8"
                          ],
                          [
                            0.3333333333333333,
                            "#9c179e"
                          ],
                          [
                            0.4444444444444444,
                            "#bd3786"
                          ],
                          [
                            0.5555555555555556,
                            "#d8576b"
                          ],
                          [
                            0.6666666666666666,
                            "#ed7953"
                          ],
                          [
                            0.7777777777777778,
                            "#fb9f3a"
                          ],
                          [
                            0.8888888888888888,
                            "#fdca26"
                          ],
                          [
                            1,
                            "#f0f921"
                          ]
                        ],
                        "type": "heatmapgl"
                      }
                    ],
                    "histogram": [
                      {
                        "marker": {
                          "pattern": {
                            "fillmode": "overlay",
                            "size": 10,
                            "solidity": 0.2
                          }
                        },
                        "type": "histogram"
                      }
                    ],
                    "histogram2d": [
                      {
                        "colorbar": {
                          "outlinewidth": 0,
                          "ticks": ""
                        },
                        "colorscale": [
                          [
                            0,
                            "#0d0887"
                          ],
                          [
                            0.1111111111111111,
                            "#46039f"
                          ],
                          [
                            0.2222222222222222,
                            "#7201a8"
                          ],
                          [
                            0.3333333333333333,
                            "#9c179e"
                          ],
                          [
                            0.4444444444444444,
                            "#bd3786"
                          ],
                          [
                            0.5555555555555556,
                            "#d8576b"
                          ],
                          [
                            0.6666666666666666,
                            "#ed7953"
                          ],
                          [
                            0.7777777777777778,
                            "#fb9f3a"
                          ],
                          [
                            0.8888888888888888,
                            "#fdca26"
                          ],
                          [
                            1,
                            "#f0f921"
                          ]
                        ],
                        "type": "histogram2d"
                      }
                    ],
                    "histogram2dcontour": [
                      {
                        "colorbar": {
                          "outlinewidth": 0,
                          "ticks": ""
                        },
                        "colorscale": [
                          [
                            0,
                            "#0d0887"
                          ],
                          [
                            0.1111111111111111,
                            "#46039f"
                          ],
                          [
                            0.2222222222222222,
                            "#7201a8"
                          ],
                          [
                            0.3333333333333333,
                            "#9c179e"
                          ],
                          [
                            0.4444444444444444,
                            "#bd3786"
                          ],
                          [
                            0.5555555555555556,
                            "#d8576b"
                          ],
                          [
                            0.6666666666666666,
                            "#ed7953"
                          ],
                          [
                            0.7777777777777778,
                            "#fb9f3a"
                          ],
                          [
                            0.8888888888888888,
                            "#fdca26"
                          ],
                          [
                            1,
                            "#f0f921"
                          ]
                        ],
                        "type": "histogram2dcontour"
                      }
                    ],
                    "mesh3d": [
                      {
                        "colorbar": {
                          "outlinewidth": 0,
                          "ticks": ""
                        },
                        "type": "mesh3d"
                      }
                    ],
                    "parcoords": [
                      {
                        "line": {
                          "colorbar": {
                            "outlinewidth": 0,
                            "ticks": ""
                          }
                        },
                        "type": "parcoords"
                      }
                    ],
                    "pie": [
                      {
                        "automargin": true,
                        "type": "pie"
                      }
                    ],
                    "scatter": [
                      {
                        "fillpattern": {
                          "fillmode": "overlay",
                          "size": 10,
                          "solidity": 0.2
                        },
                        "type": "scatter"
                      }
                    ],
                    "scatter3d": [
                      {
                        "line": {
                          "colorbar": {
                            "outlinewidth": 0,
                            "ticks": ""
                          }
                        },
                        "marker": {
                          "colorbar": {
                            "outlinewidth": 0,
                            "ticks": ""
                          }
                        },
                        "type": "scatter3d"
                      }
                    ],
                    "scattercarpet": [
                      {
                        "marker": {
                          "colorbar": {
                            "outlinewidth": 0,
                            "ticks": ""
                          }
                        },
                        "type": "scattercarpet"
                      }
                    ],
                    "scattergeo": [
                      {
                        "marker": {
                          "colorbar": {
                            "outlinewidth": 0,
                            "ticks": ""
                          }
                        },
                        "type": "scattergeo"
                      }
                    ],
                    "scattergl": [
                      {
                        "marker": {
                          "colorbar": {
                            "outlinewidth": 0,
                            "ticks": ""
                          }
                        },
                        "type": "scattergl"
                      }
                    ],
                    "scattermapbox": [
                      {
                        "marker": {
                          "colorbar": {
                            "outlinewidth": 0,
                            "ticks": ""
                          }
                        },
                        "type": "scattermapbox"
                      }
                    ],
                    "scatterpolar": [
                      {
                        "marker": {
                          "colorbar": {
                            "outlinewidth": 0,
                            "ticks": ""
                          }
                        },
                        "type": "scatterpolar"
                      }
                    ],
                    "scatterpolargl": [
                      {
                        "marker": {
                          "colorbar": {
                            "outlinewidth": 0,
                            "ticks": ""
                          }
                        },
                        "type": "scatterpolargl"
                      }
                    ],
                    "scatterternary": [
                      {
                        "marker": {
                          "colorbar": {
                            "outlinewidth": 0,
                            "ticks": ""
                          }
                        },
                        "type": "scatterternary"
                      }
                    ],
                    "surface": [
                      {
                        "colorbar": {
                          "outlinewidth": 0,
                          "ticks": ""
                        },
                        "colorscale": [
                          [
                            0,
                            "#0d0887"
                          ],
                          [
                            0.1111111111111111,
                            "#46039f"
                          ],
                          [
                            0.2222222222222222,
                            "#7201a8"
                          ],
                          [
                            0.3333333333333333,
                            "#9c179e"
                          ],
                          [
                            0.4444444444444444,
                            "#bd3786"
                          ],
                          [
                            0.5555555555555556,
                            "#d8576b"
                          ],
                          [
                            0.6666666666666666,
                            "#ed7953"
                          ],
                          [
                            0.7777777777777778,
                            "#fb9f3a"
                          ],
                          [
                            0.8888888888888888,
                            "#fdca26"
                          ],
                          [
                            1,
                            "#f0f921"
                          ]
                        ],
                        "type": "surface"
                      }
                    ],
                    "table": [
                      {
                        "cells": {
                          "fill": {
                            "color": "#EBF0F8"
                          },
                          "line": {
                            "color": "white"
                          }
                        },
                        "header": {
                          "fill": {
                            "color": "#C8D4E3"
                          },
                          "line": {
                            "color": "white"
                          }
                        },
                        "type": "table"
                      }
                    ]
                  },
                  "layout": {
                    "annotationdefaults": {
                      "arrowcolor": "#2a3f5f",
                      "arrowhead": 0,
                      "arrowwidth": 1
                    },
                    "autotypenumbers": "strict",
                    "coloraxis": {
                      "colorbar": {
                        "outlinewidth": 0,
                        "ticks": ""
                      }
                    },
                    "colorscale": {
                      "diverging": [
                        [
                          0,
                          "#8e0152"
                        ],
                        [
                          0.1,
                          "#c51b7d"
                        ],
                        [
                          0.2,
                          "#de77ae"
                        ],
                        [
                          0.3,
                          "#f1b6da"
                        ],
                        [
                          0.4,
                          "#fde0ef"
                        ],
                        [
                          0.5,
                          "#f7f7f7"
                        ],
                        [
                          0.6,
                          "#e6f5d0"
                        ],
                        [
                          0.7,
                          "#b8e186"
                        ],
                        [
                          0.8,
                          "#7fbc41"
                        ],
                        [
                          0.9,
                          "#4d9221"
                        ],
                        [
                          1,
                          "#276419"
                        ]
                      ],
                      "sequential": [
                        [
                          0,
                          "#0d0887"
                        ],
                        [
                          0.1111111111111111,
                          "#46039f"
                        ],
                        [
                          0.2222222222222222,
                          "#7201a8"
                        ],
                        [
                          0.3333333333333333,
                          "#9c179e"
                        ],
                        [
                          0.4444444444444444,
                          "#bd3786"
                        ],
                        [
                          0.5555555555555556,
                          "#d8576b"
                        ],
                        [
                          0.6666666666666666,
                          "#ed7953"
                        ],
                        [
                          0.7777777777777778,
                          "#fb9f3a"
                        ],
                        [
                          0.8888888888888888,
                          "#fdca26"
                        ],
                        [
                          1,
                          "#f0f921"
                        ]
                      ],
                      "sequentialminus": [
                        [
                          0,
                          "#0d0887"
                        ],
                        [
                          0.1111111111111111,
                          "#46039f"
                        ],
                        [
                          0.2222222222222222,
                          "#7201a8"
                        ],
                        [
                          0.3333333333333333,
                          "#9c179e"
                        ],
                        [
                          0.4444444444444444,
                          "#bd3786"
                        ],
                        [
                          0.5555555555555556,
                          "#d8576b"
                        ],
                        [
                          0.6666666666666666,
                          "#ed7953"
                        ],
                        [
                          0.7777777777777778,
                          "#fb9f3a"
                        ],
                        [
                          0.8888888888888888,
                          "#fdca26"
                        ],
                        [
                          1,
                          "#f0f921"
                        ]
                      ]
                    },
                    "colorway": [
                      "#636efa",
                      "#EF553B",
                      "#00cc96",
                      "#ab63fa",
                      "#FFA15A",
                      "#19d3f3",
                      "#FF6692",
                      "#B6E880",
                      "#FF97FF",
                      "#FECB52"
                    ],
                    "font": {
                      "color": "#2a3f5f"
                    },
                    "geo": {
                      "bgcolor": "white",
                      "lakecolor": "white",
                      "landcolor": "#E5ECF6",
                      "showlakes": true,
                      "showland": true,
                      "subunitcolor": "white"
                    },
                    "hoverlabel": {
                      "align": "left"
                    },
                    "hovermode": "closest",
                    "mapbox": {
                      "style": "light"
                    },
                    "paper_bgcolor": "white",
                    "plot_bgcolor": "#E5ECF6",
                    "polar": {
                      "angularaxis": {
                        "gridcolor": "white",
                        "linecolor": "white",
                        "ticks": ""
                      },
                      "bgcolor": "#E5ECF6",
                      "radialaxis": {
                        "gridcolor": "white",
                        "linecolor": "white",
                        "ticks": ""
                      }
                    },
                    "scene": {
                      "xaxis": {
                        "backgroundcolor": "#E5ECF6",
                        "gridcolor": "white",
                        "gridwidth": 2,
                        "linecolor": "white",
                        "showbackground": true,
                        "ticks": "",
                        "zerolinecolor": "white"
                      },
                      "yaxis": {
                        "backgroundcolor": "#E5ECF6",
                        "gridcolor": "white",
                        "gridwidth": 2,
                        "linecolor": "white",
                        "showbackground": true,
                        "ticks": "",
                        "zerolinecolor": "white"
                      },
                      "zaxis": {
                        "backgroundcolor": "#E5ECF6",
                        "gridcolor": "white",
                        "gridwidth": 2,
                        "linecolor": "white",
                        "showbackground": true,
                        "ticks": "",
                        "zerolinecolor": "white"
                      }
                    },
                    "shapedefaults": {
                      "line": {
                        "color": "#2a3f5f"
                      }
                    },
                    "ternary": {
                      "aaxis": {
                        "gridcolor": "white",
                        "linecolor": "white",
                        "ticks": ""
                      },
                      "baxis": {
                        "gridcolor": "white",
                        "linecolor": "white",
                        "ticks": ""
                      },
                      "bgcolor": "#E5ECF6",
                      "caxis": {
                        "gridcolor": "white",
                        "linecolor": "white",
                        "ticks": ""
                      }
                    },
                    "title": {
                      "x": 0.05
                    },
                    "xaxis": {
                      "automargin": true,
                      "gridcolor": "white",
                      "linecolor": "white",
                      "ticks": "",
                      "title": {
                        "standoff": 15
                      },
                      "zerolinecolor": "white",
                      "zerolinewidth": 2
                    },
                    "yaxis": {
                      "automargin": true,
                      "gridcolor": "white",
                      "linecolor": "white",
                      "ticks": "",
                      "title": {
                        "standoff": 15
                      },
                      "zerolinecolor": "white",
                      "zerolinewidth": 2
                    }
                  }
                },
                "title": {
                  "text": "Distribusi cnt"
                },
                "xaxis": {
                  "title": {
                    "text": "cnt"
                  }
                },
                "yaxis": {
                  "title": {
                    "text": "Frekuensi"
                  }
                }
              }
            }
          },
          "metadata": {},
          "output_type": "display_data"
        }
      ],
      "source": [
        "import plotly.graph_objects as go\n",
        "\n",
        "numeric_cols = ['temp', 'atemp', 'hum', 'windspeed', 'casual', 'registered', 'cnt']\n",
        "\n",
        "for col in numeric_cols:\n",
        "    fig = go.Figure(data=[go.Histogram(x=df_day[col])])\n",
        "    fig.update_layout(title=f'Distribusi {col}',\n",
        "                      xaxis_title=col,\n",
        "                      yaxis_title='Frekuensi')\n",
        "    fig.show()"
      ]
    },
    {
      "cell_type": "markdown",
      "metadata": {
        "id": "cgerg7btCLyQ"
      },
      "source": [
        "Hubungan antara hari libur dan jumlah sewa"
      ]
    },
    {
      "cell_type": "code",
      "execution_count": 20,
      "metadata": {
        "colab": {
          "base_uri": "https://localhost:8080/",
          "height": 542
        },
        "id": "eIA9df03nMgE",
        "outputId": "3991d645-ffb1-4a10-f06e-6b3852abd23a"
      },
      "outputs": [
        {
          "data": {
            "application/vnd.plotly.v1+json": {
              "config": {
                "plotlyServerURL": "https://plot.ly"
              },
              "data": [
                {
                  "alignmentgroup": "True",
                  "hovertemplate": "holiday=%{x}<br>cnt=%{y}<extra></extra>",
                  "legendgroup": "",
                  "marker": {
                    "color": "#636efa"
                  },
                  "name": "",
                  "notched": false,
                  "offsetgroup": "",
                  "orientation": "v",
                  "showlegend": false,
                  "type": "box",
                  "x": [
                    0,
                    0,
                    0,
                    0,
                    0,
                    0,
                    0,
                    0,
                    0,
                    0,
                    0,
                    0,
                    0,
                    0,
                    0,
                    0,
                    1,
                    0,
                    0,
                    0,
                    0,
                    0,
                    0,
                    0,
                    0,
                    0,
                    0,
                    0,
                    0,
                    0,
                    0,
                    0,
                    0,
                    0,
                    0,
                    0,
                    0,
                    0,
                    0,
                    0,
                    0,
                    0,
                    0,
                    0,
                    0,
                    0,
                    0,
                    0,
                    0,
                    0,
                    0,
                    1,
                    0,
                    0,
                    0,
                    0,
                    0,
                    0,
                    0,
                    0,
                    0,
                    0,
                    0,
                    0,
                    0,
                    0,
                    0,
                    0,
                    0,
                    0,
                    0,
                    0,
                    0,
                    0,
                    0,
                    0,
                    0,
                    0,
                    0,
                    0,
                    0,
                    0,
                    0,
                    0,
                    0,
                    0,
                    0,
                    0,
                    0,
                    0,
                    0,
                    0,
                    0,
                    0,
                    0,
                    0,
                    0,
                    0,
                    0,
                    0,
                    0,
                    0,
                    0,
                    0,
                    1,
                    0,
                    0,
                    0,
                    0,
                    0,
                    0,
                    0,
                    0,
                    0,
                    0,
                    0,
                    0,
                    0,
                    0,
                    0,
                    0,
                    0,
                    0,
                    0,
                    0,
                    0,
                    0,
                    0,
                    0,
                    0,
                    0,
                    0,
                    0,
                    0,
                    0,
                    0,
                    0,
                    0,
                    0,
                    0,
                    0,
                    0,
                    0,
                    0,
                    0,
                    0,
                    0,
                    0,
                    0,
                    1,
                    0,
                    0,
                    0,
                    0,
                    0,
                    0,
                    0,
                    0,
                    0,
                    0,
                    0,
                    0,
                    0,
                    0,
                    0,
                    0,
                    0,
                    0,
                    0,
                    0,
                    0,
                    0,
                    0,
                    0,
                    0,
                    0,
                    0,
                    0,
                    0,
                    0,
                    0,
                    0,
                    0,
                    0,
                    1,
                    0,
                    0,
                    0,
                    0,
                    0,
                    0,
                    0,
                    0,
                    0,
                    0,
                    0,
                    0,
                    0,
                    0,
                    0,
                    0,
                    0,
                    0,
                    0,
                    0,
                    0,
                    0,
                    0,
                    0,
                    0,
                    0,
                    0,
                    0,
                    0,
                    0,
                    0,
                    0,
                    0,
                    0,
                    0,
                    0,
                    0,
                    0,
                    0,
                    0,
                    0,
                    0,
                    0,
                    0,
                    0,
                    0,
                    0,
                    0,
                    0,
                    0,
                    0,
                    0,
                    0,
                    0,
                    0,
                    0,
                    0,
                    0,
                    0,
                    0,
                    0,
                    0,
                    1,
                    0,
                    0,
                    0,
                    0,
                    0,
                    0,
                    0,
                    0,
                    0,
                    0,
                    0,
                    0,
                    0,
                    0,
                    0,
                    0,
                    0,
                    0,
                    0,
                    0,
                    0,
                    0,
                    0,
                    0,
                    0,
                    0,
                    0,
                    0,
                    0,
                    0,
                    0,
                    0,
                    0,
                    0,
                    1,
                    0,
                    0,
                    0,
                    0,
                    0,
                    0,
                    0,
                    0,
                    0,
                    0,
                    0,
                    0,
                    0,
                    0,
                    0,
                    0,
                    0,
                    0,
                    0,
                    0,
                    0,
                    0,
                    0,
                    0,
                    0,
                    0,
                    0,
                    0,
                    0,
                    0,
                    0,
                    1,
                    0,
                    0,
                    0,
                    0,
                    0,
                    0,
                    0,
                    0,
                    0,
                    0,
                    0,
                    0,
                    1,
                    0,
                    0,
                    0,
                    0,
                    0,
                    0,
                    0,
                    0,
                    0,
                    0,
                    0,
                    0,
                    0,
                    0,
                    0,
                    0,
                    0,
                    0,
                    0,
                    0,
                    0,
                    0,
                    0,
                    0,
                    0,
                    0,
                    0,
                    0,
                    0,
                    0,
                    0,
                    1,
                    0,
                    0,
                    0,
                    0,
                    0,
                    0,
                    1,
                    0,
                    0,
                    0,
                    0,
                    0,
                    0,
                    0,
                    0,
                    0,
                    0,
                    0,
                    0,
                    0,
                    1,
                    0,
                    0,
                    0,
                    0,
                    0,
                    0,
                    0,
                    0,
                    0,
                    0,
                    0,
                    0,
                    0,
                    0,
                    0,
                    0,
                    0,
                    0,
                    0,
                    0,
                    0,
                    0,
                    0,
                    0,
                    0,
                    0,
                    0,
                    0,
                    0,
                    0,
                    0,
                    0,
                    0,
                    0,
                    1,
                    0,
                    0,
                    0,
                    0,
                    0,
                    0,
                    0,
                    0,
                    0,
                    0,
                    0,
                    0,
                    0,
                    0,
                    0,
                    0,
                    0,
                    0,
                    0,
                    0,
                    0,
                    0,
                    0,
                    0,
                    0,
                    0,
                    0,
                    0,
                    0,
                    0,
                    0,
                    0,
                    0,
                    0,
                    0,
                    0,
                    0,
                    0,
                    0,
                    0,
                    0,
                    0,
                    0,
                    0,
                    0,
                    0,
                    0,
                    0,
                    0,
                    0,
                    0,
                    0,
                    0,
                    0,
                    0,
                    1,
                    0,
                    0,
                    0,
                    0,
                    0,
                    0,
                    0,
                    0,
                    0,
                    0,
                    0,
                    0,
                    0,
                    0,
                    0,
                    0,
                    0,
                    0,
                    0,
                    0,
                    0,
                    0,
                    0,
                    0,
                    0,
                    0,
                    0,
                    0,
                    0,
                    0,
                    0,
                    0,
                    0,
                    0,
                    0,
                    0,
                    0,
                    0,
                    0,
                    0,
                    0,
                    1,
                    0,
                    0,
                    0,
                    0,
                    0,
                    0,
                    0,
                    0,
                    0,
                    0,
                    0,
                    0,
                    0,
                    0,
                    0,
                    0,
                    0,
                    0,
                    0,
                    0,
                    0,
                    0,
                    0,
                    0,
                    0,
                    0,
                    0,
                    0,
                    0,
                    0,
                    0,
                    0,
                    0,
                    0,
                    0,
                    0,
                    1,
                    0,
                    0,
                    0,
                    0,
                    0,
                    0,
                    0,
                    0,
                    0,
                    0,
                    0,
                    0,
                    0,
                    0,
                    0,
                    0,
                    0,
                    0,
                    0,
                    0,
                    0,
                    0,
                    0,
                    0,
                    0,
                    0,
                    0,
                    0,
                    0,
                    0,
                    0,
                    0,
                    0,
                    0,
                    0,
                    0,
                    0,
                    0,
                    0,
                    0,
                    0,
                    0,
                    0,
                    0,
                    0,
                    0,
                    0,
                    0,
                    0,
                    0,
                    0,
                    0,
                    0,
                    0,
                    0,
                    0,
                    0,
                    0,
                    0,
                    0,
                    1,
                    0,
                    0,
                    0,
                    0,
                    0,
                    0,
                    0,
                    0,
                    0,
                    0,
                    0,
                    0,
                    0,
                    0,
                    0,
                    0,
                    0,
                    0,
                    0,
                    0,
                    0,
                    0,
                    0,
                    0,
                    0,
                    0,
                    0,
                    0,
                    0,
                    0,
                    0,
                    0,
                    0,
                    0,
                    1,
                    0,
                    0,
                    0,
                    0,
                    0,
                    0,
                    0,
                    0,
                    0,
                    0,
                    0,
                    0,
                    0,
                    0,
                    0,
                    0,
                    0,
                    0,
                    0,
                    0,
                    0,
                    0,
                    0,
                    0,
                    0,
                    0,
                    0,
                    0,
                    0,
                    0,
                    0,
                    0,
                    0,
                    0,
                    1,
                    0,
                    0,
                    0,
                    0,
                    0,
                    0,
                    0,
                    0,
                    0,
                    1,
                    0,
                    0,
                    0,
                    0,
                    0,
                    0,
                    0,
                    0,
                    0,
                    0,
                    0,
                    0,
                    0,
                    0,
                    0,
                    0,
                    0,
                    0,
                    0,
                    0,
                    0,
                    0,
                    0,
                    0,
                    0,
                    0,
                    0,
                    0,
                    0,
                    0,
                    0,
                    0,
                    1,
                    0,
                    0,
                    0,
                    0,
                    0,
                    0
                  ],
                  "x0": " ",
                  "xaxis": "x",
                  "y": [
                    985,
                    801,
                    1349,
                    1562,
                    1600,
                    1606,
                    1510,
                    959,
                    822,
                    1321,
                    1263,
                    1162,
                    1406,
                    1421,
                    1248,
                    1204,
                    1000,
                    683,
                    1650,
                    1927,
                    1543,
                    981,
                    986,
                    1416,
                    1985,
                    506,
                    431,
                    1167,
                    1098,
                    1096,
                    1501,
                    1360,
                    1526,
                    1550,
                    1708,
                    1005,
                    1623,
                    1712,
                    1530,
                    1605,
                    1538,
                    1746,
                    1472,
                    1589,
                    1913,
                    1815,
                    2115,
                    2475,
                    2927,
                    1635,
                    1812,
                    1107,
                    1450,
                    1917,
                    1807,
                    1461,
                    1969,
                    2402,
                    1446,
                    1851,
                    2134,
                    1685,
                    1944,
                    2077,
                    605,
                    1872,
                    2133,
                    1891,
                    623,
                    1977,
                    2132,
                    2417,
                    2046,
                    2056,
                    2192,
                    2744,
                    3239,
                    3117,
                    2471,
                    2077,
                    2703,
                    2121,
                    1865,
                    2210,
                    2496,
                    1693,
                    2028,
                    2425,
                    1536,
                    1685,
                    2227,
                    2252,
                    3249,
                    3115,
                    1795,
                    2808,
                    3141,
                    1471,
                    2455,
                    2895,
                    3348,
                    2034,
                    2162,
                    3267,
                    3126,
                    795,
                    3744,
                    3429,
                    3204,
                    3944,
                    4189,
                    1683,
                    4036,
                    4191,
                    4073,
                    4400,
                    3872,
                    4058,
                    4595,
                    5312,
                    3351,
                    4401,
                    4451,
                    2633,
                    4433,
                    4608,
                    4714,
                    4333,
                    4362,
                    4803,
                    4182,
                    4864,
                    4105,
                    3409,
                    4553,
                    3958,
                    4123,
                    3855,
                    4575,
                    4917,
                    5805,
                    4660,
                    4274,
                    4492,
                    4978,
                    4677,
                    4679,
                    4758,
                    4788,
                    4098,
                    3982,
                    3974,
                    4968,
                    5312,
                    5342,
                    4906,
                    4548,
                    4833,
                    4401,
                    3915,
                    4586,
                    4966,
                    4460,
                    5020,
                    4891,
                    5180,
                    3767,
                    4844,
                    5119,
                    4744,
                    4010,
                    4835,
                    4507,
                    4790,
                    4991,
                    5202,
                    5305,
                    4708,
                    4648,
                    5225,
                    5515,
                    5362,
                    5119,
                    4649,
                    6043,
                    4665,
                    4629,
                    4592,
                    4040,
                    5336,
                    4881,
                    4086,
                    4258,
                    4342,
                    5084,
                    5538,
                    5923,
                    5302,
                    4458,
                    4541,
                    4332,
                    3784,
                    3387,
                    3285,
                    3606,
                    3840,
                    4590,
                    4656,
                    4390,
                    3846,
                    4475,
                    4302,
                    4266,
                    4845,
                    3574,
                    4576,
                    4866,
                    4294,
                    3785,
                    4326,
                    4602,
                    4780,
                    4792,
                    4905,
                    4150,
                    3820,
                    4338,
                    4725,
                    4694,
                    3805,
                    4153,
                    5191,
                    3873,
                    4758,
                    5895,
                    5130,
                    3542,
                    4661,
                    1115,
                    4334,
                    4634,
                    5204,
                    5058,
                    5115,
                    4727,
                    4484,
                    4940,
                    3351,
                    2710,
                    1996,
                    1842,
                    3544,
                    5345,
                    5046,
                    4713,
                    4763,
                    4785,
                    3659,
                    4760,
                    4511,
                    4274,
                    4539,
                    3641,
                    4352,
                    4795,
                    2395,
                    5423,
                    5010,
                    4630,
                    4120,
                    3907,
                    4839,
                    5202,
                    2429,
                    2918,
                    3570,
                    4456,
                    4826,
                    4765,
                    4985,
                    5409,
                    5511,
                    5117,
                    4563,
                    2416,
                    2913,
                    3644,
                    5217,
                    5041,
                    4570,
                    4748,
                    2424,
                    4195,
                    4304,
                    4308,
                    4381,
                    4187,
                    4687,
                    3894,
                    2659,
                    3747,
                    627,
                    3331,
                    3669,
                    4068,
                    4186,
                    3974,
                    4046,
                    3926,
                    3649,
                    4035,
                    4205,
                    4109,
                    2933,
                    3368,
                    4067,
                    3717,
                    4486,
                    4195,
                    1817,
                    3053,
                    3392,
                    3663,
                    3520,
                    2765,
                    1607,
                    2566,
                    1495,
                    2792,
                    3068,
                    3071,
                    3867,
                    2914,
                    3613,
                    3727,
                    3940,
                    3614,
                    3485,
                    3811,
                    2594,
                    705,
                    3322,
                    3620,
                    3190,
                    2743,
                    3310,
                    3523,
                    3740,
                    3709,
                    3577,
                    2739,
                    2431,
                    3403,
                    3750,
                    2660,
                    3068,
                    2209,
                    1011,
                    754,
                    1317,
                    1162,
                    2302,
                    2423,
                    2999,
                    2485,
                    2294,
                    1951,
                    2236,
                    2368,
                    3272,
                    4098,
                    4521,
                    3425,
                    2376,
                    3598,
                    2177,
                    4097,
                    3214,
                    2493,
                    2311,
                    2298,
                    2935,
                    3376,
                    3292,
                    3163,
                    1301,
                    1977,
                    2432,
                    4339,
                    4270,
                    4075,
                    3456,
                    4023,
                    3243,
                    3624,
                    4509,
                    4579,
                    3761,
                    4151,
                    2832,
                    2947,
                    3784,
                    4375,
                    2802,
                    3830,
                    3831,
                    2169,
                    1529,
                    3422,
                    3922,
                    4169,
                    3005,
                    4154,
                    4318,
                    2689,
                    3129,
                    3777,
                    4773,
                    5062,
                    3487,
                    2732,
                    3389,
                    4322,
                    4363,
                    1834,
                    4990,
                    3194,
                    4066,
                    3423,
                    3333,
                    3956,
                    4916,
                    5382,
                    4569,
                    4118,
                    4911,
                    5298,
                    5847,
                    6312,
                    6192,
                    4378,
                    7836,
                    5892,
                    6153,
                    6093,
                    6230,
                    6871,
                    8362,
                    3372,
                    4996,
                    5558,
                    5102,
                    5698,
                    6133,
                    5459,
                    6235,
                    6041,
                    5936,
                    6772,
                    6436,
                    6457,
                    6460,
                    6857,
                    5169,
                    5585,
                    5918,
                    4862,
                    5409,
                    6398,
                    7460,
                    7132,
                    6370,
                    6691,
                    4367,
                    6565,
                    7290,
                    6624,
                    1027,
                    3214,
                    5633,
                    6196,
                    5026,
                    6233,
                    4220,
                    6304,
                    5572,
                    5740,
                    6169,
                    6421,
                    6296,
                    6883,
                    6359,
                    6273,
                    5728,
                    4717,
                    6572,
                    7030,
                    7429,
                    6118,
                    2843,
                    5115,
                    7424,
                    7384,
                    7639,
                    8294,
                    7129,
                    4359,
                    6073,
                    5260,
                    6770,
                    6734,
                    6536,
                    6591,
                    6043,
                    5743,
                    6855,
                    7338,
                    4127,
                    8120,
                    7641,
                    6998,
                    7001,
                    7055,
                    7494,
                    7736,
                    7498,
                    6598,
                    6664,
                    4972,
                    7421,
                    7363,
                    7665,
                    7702,
                    6978,
                    5099,
                    6825,
                    6211,
                    5905,
                    5823,
                    7458,
                    6891,
                    6779,
                    7442,
                    7335,
                    6879,
                    5463,
                    5687,
                    5531,
                    6227,
                    6660,
                    7403,
                    6241,
                    6207,
                    4840,
                    4672,
                    6569,
                    6290,
                    7264,
                    7446,
                    7499,
                    6969,
                    6031,
                    6830,
                    6786,
                    5713,
                    6591,
                    5870,
                    4459,
                    7410,
                    6966,
                    7592,
                    8173,
                    6861,
                    6904,
                    6685,
                    6597,
                    7105,
                    7216,
                    7580,
                    7261,
                    7175,
                    6824,
                    5464,
                    7013,
                    7273,
                    7534,
                    7286,
                    5786,
                    6299,
                    6544,
                    6883,
                    6784,
                    7347,
                    7605,
                    7148,
                    7865,
                    4549,
                    6530,
                    7006,
                    7375,
                    7765,
                    7582,
                    6053,
                    5255,
                    6917,
                    7040,
                    7697,
                    7713,
                    7350,
                    6140,
                    5810,
                    6034,
                    6864,
                    7112,
                    6203,
                    7504,
                    5976,
                    8227,
                    7525,
                    7767,
                    7870,
                    7804,
                    8009,
                    8714,
                    7333,
                    6869,
                    4073,
                    7591,
                    7720,
                    8167,
                    8395,
                    7907,
                    7436,
                    7538,
                    7733,
                    7393,
                    7415,
                    8555,
                    6889,
                    6778,
                    4639,
                    7572,
                    7328,
                    8156,
                    7965,
                    3510,
                    5478,
                    6392,
                    7691,
                    7570,
                    7282,
                    7109,
                    6639,
                    5875,
                    7534,
                    7461,
                    7509,
                    5424,
                    8090,
                    6824,
                    7058,
                    7466,
                    7693,
                    7359,
                    7444,
                    7852,
                    4459,
                    22,
                    1096,
                    5566,
                    5986,
                    5847,
                    5138,
                    5107,
                    5259,
                    5686,
                    5035,
                    5315,
                    5992,
                    6536,
                    6852,
                    6269,
                    4094,
                    5495,
                    5445,
                    5698,
                    5629,
                    4669,
                    5499,
                    5634,
                    5146,
                    2425,
                    3910,
                    2277,
                    2424,
                    5087,
                    3959,
                    5260,
                    5323,
                    5668,
                    5191,
                    4649,
                    6234,
                    6606,
                    5729,
                    5375,
                    5008,
                    5582,
                    3228,
                    5170,
                    5501,
                    5319,
                    5532,
                    5611,
                    5047,
                    3786,
                    4585,
                    5557,
                    5267,
                    4128,
                    3623,
                    1749,
                    1787,
                    920,
                    1013,
                    441,
                    2114,
                    3095,
                    1341,
                    1796,
                    2729
                  ],
                  "y0": " ",
                  "yaxis": "y"
                }
              ],
              "layout": {
                "boxmode": "group",
                "legend": {
                  "tracegroupgap": 0
                },
                "margin": {
                  "t": 60
                },
                "template": {
                  "data": {
                    "bar": [
                      {
                        "error_x": {
                          "color": "#2a3f5f"
                        },
                        "error_y": {
                          "color": "#2a3f5f"
                        },
                        "marker": {
                          "line": {
                            "color": "#E5ECF6",
                            "width": 0.5
                          },
                          "pattern": {
                            "fillmode": "overlay",
                            "size": 10,
                            "solidity": 0.2
                          }
                        },
                        "type": "bar"
                      }
                    ],
                    "barpolar": [
                      {
                        "marker": {
                          "line": {
                            "color": "#E5ECF6",
                            "width": 0.5
                          },
                          "pattern": {
                            "fillmode": "overlay",
                            "size": 10,
                            "solidity": 0.2
                          }
                        },
                        "type": "barpolar"
                      }
                    ],
                    "carpet": [
                      {
                        "aaxis": {
                          "endlinecolor": "#2a3f5f",
                          "gridcolor": "white",
                          "linecolor": "white",
                          "minorgridcolor": "white",
                          "startlinecolor": "#2a3f5f"
                        },
                        "baxis": {
                          "endlinecolor": "#2a3f5f",
                          "gridcolor": "white",
                          "linecolor": "white",
                          "minorgridcolor": "white",
                          "startlinecolor": "#2a3f5f"
                        },
                        "type": "carpet"
                      }
                    ],
                    "choropleth": [
                      {
                        "colorbar": {
                          "outlinewidth": 0,
                          "ticks": ""
                        },
                        "type": "choropleth"
                      }
                    ],
                    "contour": [
                      {
                        "colorbar": {
                          "outlinewidth": 0,
                          "ticks": ""
                        },
                        "colorscale": [
                          [
                            0,
                            "#0d0887"
                          ],
                          [
                            0.1111111111111111,
                            "#46039f"
                          ],
                          [
                            0.2222222222222222,
                            "#7201a8"
                          ],
                          [
                            0.3333333333333333,
                            "#9c179e"
                          ],
                          [
                            0.4444444444444444,
                            "#bd3786"
                          ],
                          [
                            0.5555555555555556,
                            "#d8576b"
                          ],
                          [
                            0.6666666666666666,
                            "#ed7953"
                          ],
                          [
                            0.7777777777777778,
                            "#fb9f3a"
                          ],
                          [
                            0.8888888888888888,
                            "#fdca26"
                          ],
                          [
                            1,
                            "#f0f921"
                          ]
                        ],
                        "type": "contour"
                      }
                    ],
                    "contourcarpet": [
                      {
                        "colorbar": {
                          "outlinewidth": 0,
                          "ticks": ""
                        },
                        "type": "contourcarpet"
                      }
                    ],
                    "heatmap": [
                      {
                        "colorbar": {
                          "outlinewidth": 0,
                          "ticks": ""
                        },
                        "colorscale": [
                          [
                            0,
                            "#0d0887"
                          ],
                          [
                            0.1111111111111111,
                            "#46039f"
                          ],
                          [
                            0.2222222222222222,
                            "#7201a8"
                          ],
                          [
                            0.3333333333333333,
                            "#9c179e"
                          ],
                          [
                            0.4444444444444444,
                            "#bd3786"
                          ],
                          [
                            0.5555555555555556,
                            "#d8576b"
                          ],
                          [
                            0.6666666666666666,
                            "#ed7953"
                          ],
                          [
                            0.7777777777777778,
                            "#fb9f3a"
                          ],
                          [
                            0.8888888888888888,
                            "#fdca26"
                          ],
                          [
                            1,
                            "#f0f921"
                          ]
                        ],
                        "type": "heatmap"
                      }
                    ],
                    "heatmapgl": [
                      {
                        "colorbar": {
                          "outlinewidth": 0,
                          "ticks": ""
                        },
                        "colorscale": [
                          [
                            0,
                            "#0d0887"
                          ],
                          [
                            0.1111111111111111,
                            "#46039f"
                          ],
                          [
                            0.2222222222222222,
                            "#7201a8"
                          ],
                          [
                            0.3333333333333333,
                            "#9c179e"
                          ],
                          [
                            0.4444444444444444,
                            "#bd3786"
                          ],
                          [
                            0.5555555555555556,
                            "#d8576b"
                          ],
                          [
                            0.6666666666666666,
                            "#ed7953"
                          ],
                          [
                            0.7777777777777778,
                            "#fb9f3a"
                          ],
                          [
                            0.8888888888888888,
                            "#fdca26"
                          ],
                          [
                            1,
                            "#f0f921"
                          ]
                        ],
                        "type": "heatmapgl"
                      }
                    ],
                    "histogram": [
                      {
                        "marker": {
                          "pattern": {
                            "fillmode": "overlay",
                            "size": 10,
                            "solidity": 0.2
                          }
                        },
                        "type": "histogram"
                      }
                    ],
                    "histogram2d": [
                      {
                        "colorbar": {
                          "outlinewidth": 0,
                          "ticks": ""
                        },
                        "colorscale": [
                          [
                            0,
                            "#0d0887"
                          ],
                          [
                            0.1111111111111111,
                            "#46039f"
                          ],
                          [
                            0.2222222222222222,
                            "#7201a8"
                          ],
                          [
                            0.3333333333333333,
                            "#9c179e"
                          ],
                          [
                            0.4444444444444444,
                            "#bd3786"
                          ],
                          [
                            0.5555555555555556,
                            "#d8576b"
                          ],
                          [
                            0.6666666666666666,
                            "#ed7953"
                          ],
                          [
                            0.7777777777777778,
                            "#fb9f3a"
                          ],
                          [
                            0.8888888888888888,
                            "#fdca26"
                          ],
                          [
                            1,
                            "#f0f921"
                          ]
                        ],
                        "type": "histogram2d"
                      }
                    ],
                    "histogram2dcontour": [
                      {
                        "colorbar": {
                          "outlinewidth": 0,
                          "ticks": ""
                        },
                        "colorscale": [
                          [
                            0,
                            "#0d0887"
                          ],
                          [
                            0.1111111111111111,
                            "#46039f"
                          ],
                          [
                            0.2222222222222222,
                            "#7201a8"
                          ],
                          [
                            0.3333333333333333,
                            "#9c179e"
                          ],
                          [
                            0.4444444444444444,
                            "#bd3786"
                          ],
                          [
                            0.5555555555555556,
                            "#d8576b"
                          ],
                          [
                            0.6666666666666666,
                            "#ed7953"
                          ],
                          [
                            0.7777777777777778,
                            "#fb9f3a"
                          ],
                          [
                            0.8888888888888888,
                            "#fdca26"
                          ],
                          [
                            1,
                            "#f0f921"
                          ]
                        ],
                        "type": "histogram2dcontour"
                      }
                    ],
                    "mesh3d": [
                      {
                        "colorbar": {
                          "outlinewidth": 0,
                          "ticks": ""
                        },
                        "type": "mesh3d"
                      }
                    ],
                    "parcoords": [
                      {
                        "line": {
                          "colorbar": {
                            "outlinewidth": 0,
                            "ticks": ""
                          }
                        },
                        "type": "parcoords"
                      }
                    ],
                    "pie": [
                      {
                        "automargin": true,
                        "type": "pie"
                      }
                    ],
                    "scatter": [
                      {
                        "fillpattern": {
                          "fillmode": "overlay",
                          "size": 10,
                          "solidity": 0.2
                        },
                        "type": "scatter"
                      }
                    ],
                    "scatter3d": [
                      {
                        "line": {
                          "colorbar": {
                            "outlinewidth": 0,
                            "ticks": ""
                          }
                        },
                        "marker": {
                          "colorbar": {
                            "outlinewidth": 0,
                            "ticks": ""
                          }
                        },
                        "type": "scatter3d"
                      }
                    ],
                    "scattercarpet": [
                      {
                        "marker": {
                          "colorbar": {
                            "outlinewidth": 0,
                            "ticks": ""
                          }
                        },
                        "type": "scattercarpet"
                      }
                    ],
                    "scattergeo": [
                      {
                        "marker": {
                          "colorbar": {
                            "outlinewidth": 0,
                            "ticks": ""
                          }
                        },
                        "type": "scattergeo"
                      }
                    ],
                    "scattergl": [
                      {
                        "marker": {
                          "colorbar": {
                            "outlinewidth": 0,
                            "ticks": ""
                          }
                        },
                        "type": "scattergl"
                      }
                    ],
                    "scattermapbox": [
                      {
                        "marker": {
                          "colorbar": {
                            "outlinewidth": 0,
                            "ticks": ""
                          }
                        },
                        "type": "scattermapbox"
                      }
                    ],
                    "scatterpolar": [
                      {
                        "marker": {
                          "colorbar": {
                            "outlinewidth": 0,
                            "ticks": ""
                          }
                        },
                        "type": "scatterpolar"
                      }
                    ],
                    "scatterpolargl": [
                      {
                        "marker": {
                          "colorbar": {
                            "outlinewidth": 0,
                            "ticks": ""
                          }
                        },
                        "type": "scatterpolargl"
                      }
                    ],
                    "scatterternary": [
                      {
                        "marker": {
                          "colorbar": {
                            "outlinewidth": 0,
                            "ticks": ""
                          }
                        },
                        "type": "scatterternary"
                      }
                    ],
                    "surface": [
                      {
                        "colorbar": {
                          "outlinewidth": 0,
                          "ticks": ""
                        },
                        "colorscale": [
                          [
                            0,
                            "#0d0887"
                          ],
                          [
                            0.1111111111111111,
                            "#46039f"
                          ],
                          [
                            0.2222222222222222,
                            "#7201a8"
                          ],
                          [
                            0.3333333333333333,
                            "#9c179e"
                          ],
                          [
                            0.4444444444444444,
                            "#bd3786"
                          ],
                          [
                            0.5555555555555556,
                            "#d8576b"
                          ],
                          [
                            0.6666666666666666,
                            "#ed7953"
                          ],
                          [
                            0.7777777777777778,
                            "#fb9f3a"
                          ],
                          [
                            0.8888888888888888,
                            "#fdca26"
                          ],
                          [
                            1,
                            "#f0f921"
                          ]
                        ],
                        "type": "surface"
                      }
                    ],
                    "table": [
                      {
                        "cells": {
                          "fill": {
                            "color": "#EBF0F8"
                          },
                          "line": {
                            "color": "white"
                          }
                        },
                        "header": {
                          "fill": {
                            "color": "#C8D4E3"
                          },
                          "line": {
                            "color": "white"
                          }
                        },
                        "type": "table"
                      }
                    ]
                  },
                  "layout": {
                    "annotationdefaults": {
                      "arrowcolor": "#2a3f5f",
                      "arrowhead": 0,
                      "arrowwidth": 1
                    },
                    "autotypenumbers": "strict",
                    "coloraxis": {
                      "colorbar": {
                        "outlinewidth": 0,
                        "ticks": ""
                      }
                    },
                    "colorscale": {
                      "diverging": [
                        [
                          0,
                          "#8e0152"
                        ],
                        [
                          0.1,
                          "#c51b7d"
                        ],
                        [
                          0.2,
                          "#de77ae"
                        ],
                        [
                          0.3,
                          "#f1b6da"
                        ],
                        [
                          0.4,
                          "#fde0ef"
                        ],
                        [
                          0.5,
                          "#f7f7f7"
                        ],
                        [
                          0.6,
                          "#e6f5d0"
                        ],
                        [
                          0.7,
                          "#b8e186"
                        ],
                        [
                          0.8,
                          "#7fbc41"
                        ],
                        [
                          0.9,
                          "#4d9221"
                        ],
                        [
                          1,
                          "#276419"
                        ]
                      ],
                      "sequential": [
                        [
                          0,
                          "#0d0887"
                        ],
                        [
                          0.1111111111111111,
                          "#46039f"
                        ],
                        [
                          0.2222222222222222,
                          "#7201a8"
                        ],
                        [
                          0.3333333333333333,
                          "#9c179e"
                        ],
                        [
                          0.4444444444444444,
                          "#bd3786"
                        ],
                        [
                          0.5555555555555556,
                          "#d8576b"
                        ],
                        [
                          0.6666666666666666,
                          "#ed7953"
                        ],
                        [
                          0.7777777777777778,
                          "#fb9f3a"
                        ],
                        [
                          0.8888888888888888,
                          "#fdca26"
                        ],
                        [
                          1,
                          "#f0f921"
                        ]
                      ],
                      "sequentialminus": [
                        [
                          0,
                          "#0d0887"
                        ],
                        [
                          0.1111111111111111,
                          "#46039f"
                        ],
                        [
                          0.2222222222222222,
                          "#7201a8"
                        ],
                        [
                          0.3333333333333333,
                          "#9c179e"
                        ],
                        [
                          0.4444444444444444,
                          "#bd3786"
                        ],
                        [
                          0.5555555555555556,
                          "#d8576b"
                        ],
                        [
                          0.6666666666666666,
                          "#ed7953"
                        ],
                        [
                          0.7777777777777778,
                          "#fb9f3a"
                        ],
                        [
                          0.8888888888888888,
                          "#fdca26"
                        ],
                        [
                          1,
                          "#f0f921"
                        ]
                      ]
                    },
                    "colorway": [
                      "#636efa",
                      "#EF553B",
                      "#00cc96",
                      "#ab63fa",
                      "#FFA15A",
                      "#19d3f3",
                      "#FF6692",
                      "#B6E880",
                      "#FF97FF",
                      "#FECB52"
                    ],
                    "font": {
                      "color": "#2a3f5f"
                    },
                    "geo": {
                      "bgcolor": "white",
                      "lakecolor": "white",
                      "landcolor": "#E5ECF6",
                      "showlakes": true,
                      "showland": true,
                      "subunitcolor": "white"
                    },
                    "hoverlabel": {
                      "align": "left"
                    },
                    "hovermode": "closest",
                    "mapbox": {
                      "style": "light"
                    },
                    "paper_bgcolor": "white",
                    "plot_bgcolor": "#E5ECF6",
                    "polar": {
                      "angularaxis": {
                        "gridcolor": "white",
                        "linecolor": "white",
                        "ticks": ""
                      },
                      "bgcolor": "#E5ECF6",
                      "radialaxis": {
                        "gridcolor": "white",
                        "linecolor": "white",
                        "ticks": ""
                      }
                    },
                    "scene": {
                      "xaxis": {
                        "backgroundcolor": "#E5ECF6",
                        "gridcolor": "white",
                        "gridwidth": 2,
                        "linecolor": "white",
                        "showbackground": true,
                        "ticks": "",
                        "zerolinecolor": "white"
                      },
                      "yaxis": {
                        "backgroundcolor": "#E5ECF6",
                        "gridcolor": "white",
                        "gridwidth": 2,
                        "linecolor": "white",
                        "showbackground": true,
                        "ticks": "",
                        "zerolinecolor": "white"
                      },
                      "zaxis": {
                        "backgroundcolor": "#E5ECF6",
                        "gridcolor": "white",
                        "gridwidth": 2,
                        "linecolor": "white",
                        "showbackground": true,
                        "ticks": "",
                        "zerolinecolor": "white"
                      }
                    },
                    "shapedefaults": {
                      "line": {
                        "color": "#2a3f5f"
                      }
                    },
                    "ternary": {
                      "aaxis": {
                        "gridcolor": "white",
                        "linecolor": "white",
                        "ticks": ""
                      },
                      "baxis": {
                        "gridcolor": "white",
                        "linecolor": "white",
                        "ticks": ""
                      },
                      "bgcolor": "#E5ECF6",
                      "caxis": {
                        "gridcolor": "white",
                        "linecolor": "white",
                        "ticks": ""
                      }
                    },
                    "title": {
                      "x": 0.05
                    },
                    "xaxis": {
                      "automargin": true,
                      "gridcolor": "white",
                      "linecolor": "white",
                      "ticks": "",
                      "title": {
                        "standoff": 15
                      },
                      "zerolinecolor": "white",
                      "zerolinewidth": 2
                    },
                    "yaxis": {
                      "automargin": true,
                      "gridcolor": "white",
                      "linecolor": "white",
                      "ticks": "",
                      "title": {
                        "standoff": 15
                      },
                      "zerolinecolor": "white",
                      "zerolinewidth": 2
                    }
                  }
                },
                "title": {
                  "text": "Hubungan antara Hari Libur dan Jumlah Sewa"
                },
                "xaxis": {
                  "anchor": "y",
                  "domain": [
                    0,
                    1
                  ],
                  "title": {
                    "text": "Hari Libur"
                  }
                },
                "yaxis": {
                  "anchor": "x",
                  "domain": [
                    0,
                    1
                  ],
                  "title": {
                    "text": "Jumlah Sewa"
                  }
                }
              }
            }
          },
          "metadata": {},
          "output_type": "display_data"
        }
      ],
      "source": [
        "# Create box plot\n",
        "fig = px.box(df_day, x='holiday', y='cnt')\n",
        "\n",
        "# Update layout\n",
        "fig.update_layout(title='Hubungan antara Hari Libur dan Jumlah Sewa', xaxis_title='Hari Libur', yaxis_title='Jumlah Sewa')\n",
        "\n",
        "# Show the plot\n",
        "fig.show()\n"
      ]
    },
    {
      "cell_type": "markdown",
      "metadata": {
        "id": "B8RXhmbVCTfH"
      },
      "source": [
        "Hubungan antara hari kerja dan jumlah sewa"
      ]
    },
    {
      "cell_type": "code",
      "execution_count": 21,
      "metadata": {
        "colab": {
          "base_uri": "https://localhost:8080/",
          "height": 542
        },
        "id": "KLRIq7CUwZp3",
        "outputId": "56acc47a-2246-4021-b9e0-4cf5abfdf4ae"
      },
      "outputs": [
        {
          "data": {
            "application/vnd.plotly.v1+json": {
              "config": {
                "plotlyServerURL": "https://plot.ly"
              },
              "data": [
                {
                  "alignmentgroup": "True",
                  "hovertemplate": "workingday=%{x}<br>cnt=%{y}<extra></extra>",
                  "legendgroup": "",
                  "marker": {
                    "color": "#636efa"
                  },
                  "name": "",
                  "notched": false,
                  "offsetgroup": "",
                  "orientation": "v",
                  "showlegend": false,
                  "type": "box",
                  "x": [
                    0,
                    0,
                    1,
                    1,
                    1,
                    1,
                    1,
                    0,
                    0,
                    1,
                    1,
                    1,
                    1,
                    1,
                    0,
                    0,
                    0,
                    1,
                    1,
                    1,
                    1,
                    0,
                    0,
                    1,
                    1,
                    1,
                    1,
                    1,
                    0,
                    0,
                    1,
                    1,
                    1,
                    1,
                    1,
                    0,
                    0,
                    1,
                    1,
                    1,
                    1,
                    1,
                    0,
                    0,
                    1,
                    1,
                    1,
                    1,
                    1,
                    0,
                    0,
                    0,
                    1,
                    1,
                    1,
                    1,
                    0,
                    0,
                    1,
                    1,
                    1,
                    1,
                    1,
                    0,
                    0,
                    1,
                    1,
                    1,
                    1,
                    1,
                    0,
                    0,
                    1,
                    1,
                    1,
                    1,
                    1,
                    0,
                    0,
                    1,
                    1,
                    1,
                    1,
                    1,
                    0,
                    0,
                    1,
                    1,
                    1,
                    1,
                    1,
                    0,
                    0,
                    1,
                    1,
                    1,
                    1,
                    1,
                    0,
                    0,
                    1,
                    1,
                    1,
                    1,
                    0,
                    0,
                    0,
                    1,
                    1,
                    1,
                    1,
                    1,
                    0,
                    0,
                    1,
                    1,
                    1,
                    1,
                    1,
                    0,
                    0,
                    1,
                    1,
                    1,
                    1,
                    1,
                    0,
                    0,
                    1,
                    1,
                    1,
                    1,
                    1,
                    0,
                    0,
                    1,
                    1,
                    1,
                    1,
                    1,
                    0,
                    0,
                    1,
                    1,
                    1,
                    1,
                    1,
                    0,
                    0,
                    0,
                    1,
                    1,
                    1,
                    1,
                    0,
                    0,
                    1,
                    1,
                    1,
                    1,
                    1,
                    0,
                    0,
                    1,
                    1,
                    1,
                    1,
                    1,
                    0,
                    0,
                    1,
                    1,
                    1,
                    1,
                    1,
                    0,
                    0,
                    1,
                    1,
                    1,
                    1,
                    1,
                    0,
                    0,
                    0,
                    1,
                    1,
                    1,
                    1,
                    0,
                    0,
                    1,
                    1,
                    1,
                    1,
                    1,
                    0,
                    0,
                    1,
                    1,
                    1,
                    1,
                    1,
                    0,
                    0,
                    1,
                    1,
                    1,
                    1,
                    1,
                    0,
                    0,
                    1,
                    1,
                    1,
                    1,
                    1,
                    0,
                    0,
                    1,
                    1,
                    1,
                    1,
                    1,
                    0,
                    0,
                    1,
                    1,
                    1,
                    1,
                    1,
                    0,
                    0,
                    1,
                    1,
                    1,
                    1,
                    1,
                    0,
                    0,
                    1,
                    1,
                    1,
                    1,
                    1,
                    0,
                    0,
                    0,
                    1,
                    1,
                    1,
                    1,
                    0,
                    0,
                    1,
                    1,
                    1,
                    1,
                    1,
                    0,
                    0,
                    1,
                    1,
                    1,
                    1,
                    1,
                    0,
                    0,
                    1,
                    1,
                    1,
                    1,
                    1,
                    0,
                    0,
                    1,
                    1,
                    1,
                    1,
                    1,
                    0,
                    0,
                    0,
                    1,
                    1,
                    1,
                    1,
                    0,
                    0,
                    1,
                    1,
                    1,
                    1,
                    1,
                    0,
                    0,
                    1,
                    1,
                    1,
                    1,
                    1,
                    0,
                    0,
                    1,
                    1,
                    1,
                    1,
                    1,
                    0,
                    0,
                    1,
                    1,
                    1,
                    1,
                    0,
                    0,
                    0,
                    1,
                    1,
                    1,
                    1,
                    1,
                    0,
                    0,
                    1,
                    1,
                    1,
                    0,
                    1,
                    0,
                    0,
                    1,
                    1,
                    1,
                    1,
                    1,
                    0,
                    0,
                    1,
                    1,
                    1,
                    1,
                    1,
                    0,
                    0,
                    1,
                    1,
                    1,
                    1,
                    1,
                    0,
                    0,
                    1,
                    1,
                    1,
                    1,
                    1,
                    0,
                    0,
                    0,
                    1,
                    1,
                    1,
                    1,
                    0,
                    0,
                    0,
                    1,
                    1,
                    1,
                    1,
                    0,
                    0,
                    1,
                    1,
                    1,
                    1,
                    1,
                    0,
                    0,
                    0,
                    1,
                    1,
                    1,
                    1,
                    0,
                    0,
                    1,
                    1,
                    1,
                    1,
                    1,
                    0,
                    0,
                    1,
                    1,
                    1,
                    1,
                    1,
                    0,
                    0,
                    1,
                    1,
                    1,
                    1,
                    1,
                    0,
                    0,
                    1,
                    1,
                    1,
                    1,
                    1,
                    0,
                    0,
                    0,
                    1,
                    1,
                    1,
                    1,
                    0,
                    0,
                    1,
                    1,
                    1,
                    1,
                    1,
                    0,
                    0,
                    1,
                    1,
                    1,
                    1,
                    1,
                    0,
                    0,
                    1,
                    1,
                    1,
                    1,
                    1,
                    0,
                    0,
                    1,
                    1,
                    1,
                    1,
                    1,
                    0,
                    0,
                    1,
                    1,
                    1,
                    1,
                    1,
                    0,
                    0,
                    1,
                    1,
                    1,
                    1,
                    1,
                    0,
                    0,
                    1,
                    1,
                    1,
                    1,
                    1,
                    0,
                    0,
                    0,
                    1,
                    1,
                    1,
                    1,
                    0,
                    0,
                    1,
                    1,
                    1,
                    1,
                    1,
                    0,
                    0,
                    1,
                    1,
                    1,
                    1,
                    1,
                    0,
                    0,
                    1,
                    1,
                    1,
                    1,
                    1,
                    0,
                    0,
                    1,
                    1,
                    1,
                    1,
                    1,
                    0,
                    0,
                    1,
                    1,
                    1,
                    1,
                    1,
                    0,
                    0,
                    0,
                    1,
                    1,
                    1,
                    1,
                    0,
                    0,
                    1,
                    1,
                    1,
                    1,
                    1,
                    0,
                    0,
                    1,
                    1,
                    1,
                    1,
                    1,
                    0,
                    0,
                    1,
                    1,
                    1,
                    1,
                    1,
                    0,
                    0,
                    1,
                    1,
                    1,
                    1,
                    1,
                    0,
                    0,
                    1,
                    1,
                    0,
                    1,
                    1,
                    0,
                    0,
                    1,
                    1,
                    1,
                    1,
                    1,
                    0,
                    0,
                    1,
                    1,
                    1,
                    1,
                    1,
                    0,
                    0,
                    1,
                    1,
                    1,
                    1,
                    1,
                    0,
                    0,
                    1,
                    1,
                    1,
                    1,
                    1,
                    0,
                    0,
                    1,
                    1,
                    1,
                    1,
                    1,
                    0,
                    0,
                    1,
                    1,
                    1,
                    1,
                    1,
                    0,
                    0,
                    1,
                    1,
                    1,
                    1,
                    1,
                    0,
                    0,
                    1,
                    1,
                    1,
                    1,
                    1,
                    0,
                    0,
                    0,
                    1,
                    1,
                    1,
                    1,
                    0,
                    0,
                    1,
                    1,
                    1,
                    1,
                    1,
                    0,
                    0,
                    1,
                    1,
                    1,
                    1,
                    1,
                    0,
                    0,
                    1,
                    1,
                    1,
                    1,
                    1,
                    0,
                    0,
                    1,
                    1,
                    1,
                    1,
                    1,
                    0,
                    0,
                    0,
                    1,
                    1,
                    1,
                    1,
                    0,
                    0,
                    1,
                    1,
                    1,
                    1,
                    1,
                    0,
                    0,
                    1,
                    1,
                    1,
                    1,
                    1,
                    0,
                    0,
                    1,
                    1,
                    1,
                    1,
                    1,
                    0,
                    0,
                    1,
                    1,
                    1,
                    1,
                    1,
                    0,
                    0,
                    0,
                    1,
                    1,
                    1,
                    1,
                    0,
                    0,
                    1,
                    1,
                    1,
                    0,
                    1,
                    0,
                    0,
                    1,
                    1,
                    1,
                    1,
                    1,
                    0,
                    0,
                    1,
                    1,
                    1,
                    1,
                    1,
                    0,
                    0,
                    1,
                    1,
                    1,
                    1,
                    1,
                    0,
                    0,
                    1,
                    1,
                    1,
                    1,
                    1,
                    0,
                    0,
                    1,
                    0,
                    1,
                    1,
                    1,
                    0,
                    0,
                    1
                  ],
                  "x0": " ",
                  "xaxis": "x",
                  "y": [
                    985,
                    801,
                    1349,
                    1562,
                    1600,
                    1606,
                    1510,
                    959,
                    822,
                    1321,
                    1263,
                    1162,
                    1406,
                    1421,
                    1248,
                    1204,
                    1000,
                    683,
                    1650,
                    1927,
                    1543,
                    981,
                    986,
                    1416,
                    1985,
                    506,
                    431,
                    1167,
                    1098,
                    1096,
                    1501,
                    1360,
                    1526,
                    1550,
                    1708,
                    1005,
                    1623,
                    1712,
                    1530,
                    1605,
                    1538,
                    1746,
                    1472,
                    1589,
                    1913,
                    1815,
                    2115,
                    2475,
                    2927,
                    1635,
                    1812,
                    1107,
                    1450,
                    1917,
                    1807,
                    1461,
                    1969,
                    2402,
                    1446,
                    1851,
                    2134,
                    1685,
                    1944,
                    2077,
                    605,
                    1872,
                    2133,
                    1891,
                    623,
                    1977,
                    2132,
                    2417,
                    2046,
                    2056,
                    2192,
                    2744,
                    3239,
                    3117,
                    2471,
                    2077,
                    2703,
                    2121,
                    1865,
                    2210,
                    2496,
                    1693,
                    2028,
                    2425,
                    1536,
                    1685,
                    2227,
                    2252,
                    3249,
                    3115,
                    1795,
                    2808,
                    3141,
                    1471,
                    2455,
                    2895,
                    3348,
                    2034,
                    2162,
                    3267,
                    3126,
                    795,
                    3744,
                    3429,
                    3204,
                    3944,
                    4189,
                    1683,
                    4036,
                    4191,
                    4073,
                    4400,
                    3872,
                    4058,
                    4595,
                    5312,
                    3351,
                    4401,
                    4451,
                    2633,
                    4433,
                    4608,
                    4714,
                    4333,
                    4362,
                    4803,
                    4182,
                    4864,
                    4105,
                    3409,
                    4553,
                    3958,
                    4123,
                    3855,
                    4575,
                    4917,
                    5805,
                    4660,
                    4274,
                    4492,
                    4978,
                    4677,
                    4679,
                    4758,
                    4788,
                    4098,
                    3982,
                    3974,
                    4968,
                    5312,
                    5342,
                    4906,
                    4548,
                    4833,
                    4401,
                    3915,
                    4586,
                    4966,
                    4460,
                    5020,
                    4891,
                    5180,
                    3767,
                    4844,
                    5119,
                    4744,
                    4010,
                    4835,
                    4507,
                    4790,
                    4991,
                    5202,
                    5305,
                    4708,
                    4648,
                    5225,
                    5515,
                    5362,
                    5119,
                    4649,
                    6043,
                    4665,
                    4629,
                    4592,
                    4040,
                    5336,
                    4881,
                    4086,
                    4258,
                    4342,
                    5084,
                    5538,
                    5923,
                    5302,
                    4458,
                    4541,
                    4332,
                    3784,
                    3387,
                    3285,
                    3606,
                    3840,
                    4590,
                    4656,
                    4390,
                    3846,
                    4475,
                    4302,
                    4266,
                    4845,
                    3574,
                    4576,
                    4866,
                    4294,
                    3785,
                    4326,
                    4602,
                    4780,
                    4792,
                    4905,
                    4150,
                    3820,
                    4338,
                    4725,
                    4694,
                    3805,
                    4153,
                    5191,
                    3873,
                    4758,
                    5895,
                    5130,
                    3542,
                    4661,
                    1115,
                    4334,
                    4634,
                    5204,
                    5058,
                    5115,
                    4727,
                    4484,
                    4940,
                    3351,
                    2710,
                    1996,
                    1842,
                    3544,
                    5345,
                    5046,
                    4713,
                    4763,
                    4785,
                    3659,
                    4760,
                    4511,
                    4274,
                    4539,
                    3641,
                    4352,
                    4795,
                    2395,
                    5423,
                    5010,
                    4630,
                    4120,
                    3907,
                    4839,
                    5202,
                    2429,
                    2918,
                    3570,
                    4456,
                    4826,
                    4765,
                    4985,
                    5409,
                    5511,
                    5117,
                    4563,
                    2416,
                    2913,
                    3644,
                    5217,
                    5041,
                    4570,
                    4748,
                    2424,
                    4195,
                    4304,
                    4308,
                    4381,
                    4187,
                    4687,
                    3894,
                    2659,
                    3747,
                    627,
                    3331,
                    3669,
                    4068,
                    4186,
                    3974,
                    4046,
                    3926,
                    3649,
                    4035,
                    4205,
                    4109,
                    2933,
                    3368,
                    4067,
                    3717,
                    4486,
                    4195,
                    1817,
                    3053,
                    3392,
                    3663,
                    3520,
                    2765,
                    1607,
                    2566,
                    1495,
                    2792,
                    3068,
                    3071,
                    3867,
                    2914,
                    3613,
                    3727,
                    3940,
                    3614,
                    3485,
                    3811,
                    2594,
                    705,
                    3322,
                    3620,
                    3190,
                    2743,
                    3310,
                    3523,
                    3740,
                    3709,
                    3577,
                    2739,
                    2431,
                    3403,
                    3750,
                    2660,
                    3068,
                    2209,
                    1011,
                    754,
                    1317,
                    1162,
                    2302,
                    2423,
                    2999,
                    2485,
                    2294,
                    1951,
                    2236,
                    2368,
                    3272,
                    4098,
                    4521,
                    3425,
                    2376,
                    3598,
                    2177,
                    4097,
                    3214,
                    2493,
                    2311,
                    2298,
                    2935,
                    3376,
                    3292,
                    3163,
                    1301,
                    1977,
                    2432,
                    4339,
                    4270,
                    4075,
                    3456,
                    4023,
                    3243,
                    3624,
                    4509,
                    4579,
                    3761,
                    4151,
                    2832,
                    2947,
                    3784,
                    4375,
                    2802,
                    3830,
                    3831,
                    2169,
                    1529,
                    3422,
                    3922,
                    4169,
                    3005,
                    4154,
                    4318,
                    2689,
                    3129,
                    3777,
                    4773,
                    5062,
                    3487,
                    2732,
                    3389,
                    4322,
                    4363,
                    1834,
                    4990,
                    3194,
                    4066,
                    3423,
                    3333,
                    3956,
                    4916,
                    5382,
                    4569,
                    4118,
                    4911,
                    5298,
                    5847,
                    6312,
                    6192,
                    4378,
                    7836,
                    5892,
                    6153,
                    6093,
                    6230,
                    6871,
                    8362,
                    3372,
                    4996,
                    5558,
                    5102,
                    5698,
                    6133,
                    5459,
                    6235,
                    6041,
                    5936,
                    6772,
                    6436,
                    6457,
                    6460,
                    6857,
                    5169,
                    5585,
                    5918,
                    4862,
                    5409,
                    6398,
                    7460,
                    7132,
                    6370,
                    6691,
                    4367,
                    6565,
                    7290,
                    6624,
                    1027,
                    3214,
                    5633,
                    6196,
                    5026,
                    6233,
                    4220,
                    6304,
                    5572,
                    5740,
                    6169,
                    6421,
                    6296,
                    6883,
                    6359,
                    6273,
                    5728,
                    4717,
                    6572,
                    7030,
                    7429,
                    6118,
                    2843,
                    5115,
                    7424,
                    7384,
                    7639,
                    8294,
                    7129,
                    4359,
                    6073,
                    5260,
                    6770,
                    6734,
                    6536,
                    6591,
                    6043,
                    5743,
                    6855,
                    7338,
                    4127,
                    8120,
                    7641,
                    6998,
                    7001,
                    7055,
                    7494,
                    7736,
                    7498,
                    6598,
                    6664,
                    4972,
                    7421,
                    7363,
                    7665,
                    7702,
                    6978,
                    5099,
                    6825,
                    6211,
                    5905,
                    5823,
                    7458,
                    6891,
                    6779,
                    7442,
                    7335,
                    6879,
                    5463,
                    5687,
                    5531,
                    6227,
                    6660,
                    7403,
                    6241,
                    6207,
                    4840,
                    4672,
                    6569,
                    6290,
                    7264,
                    7446,
                    7499,
                    6969,
                    6031,
                    6830,
                    6786,
                    5713,
                    6591,
                    5870,
                    4459,
                    7410,
                    6966,
                    7592,
                    8173,
                    6861,
                    6904,
                    6685,
                    6597,
                    7105,
                    7216,
                    7580,
                    7261,
                    7175,
                    6824,
                    5464,
                    7013,
                    7273,
                    7534,
                    7286,
                    5786,
                    6299,
                    6544,
                    6883,
                    6784,
                    7347,
                    7605,
                    7148,
                    7865,
                    4549,
                    6530,
                    7006,
                    7375,
                    7765,
                    7582,
                    6053,
                    5255,
                    6917,
                    7040,
                    7697,
                    7713,
                    7350,
                    6140,
                    5810,
                    6034,
                    6864,
                    7112,
                    6203,
                    7504,
                    5976,
                    8227,
                    7525,
                    7767,
                    7870,
                    7804,
                    8009,
                    8714,
                    7333,
                    6869,
                    4073,
                    7591,
                    7720,
                    8167,
                    8395,
                    7907,
                    7436,
                    7538,
                    7733,
                    7393,
                    7415,
                    8555,
                    6889,
                    6778,
                    4639,
                    7572,
                    7328,
                    8156,
                    7965,
                    3510,
                    5478,
                    6392,
                    7691,
                    7570,
                    7282,
                    7109,
                    6639,
                    5875,
                    7534,
                    7461,
                    7509,
                    5424,
                    8090,
                    6824,
                    7058,
                    7466,
                    7693,
                    7359,
                    7444,
                    7852,
                    4459,
                    22,
                    1096,
                    5566,
                    5986,
                    5847,
                    5138,
                    5107,
                    5259,
                    5686,
                    5035,
                    5315,
                    5992,
                    6536,
                    6852,
                    6269,
                    4094,
                    5495,
                    5445,
                    5698,
                    5629,
                    4669,
                    5499,
                    5634,
                    5146,
                    2425,
                    3910,
                    2277,
                    2424,
                    5087,
                    3959,
                    5260,
                    5323,
                    5668,
                    5191,
                    4649,
                    6234,
                    6606,
                    5729,
                    5375,
                    5008,
                    5582,
                    3228,
                    5170,
                    5501,
                    5319,
                    5532,
                    5611,
                    5047,
                    3786,
                    4585,
                    5557,
                    5267,
                    4128,
                    3623,
                    1749,
                    1787,
                    920,
                    1013,
                    441,
                    2114,
                    3095,
                    1341,
                    1796,
                    2729
                  ],
                  "y0": " ",
                  "yaxis": "y"
                }
              ],
              "layout": {
                "boxmode": "group",
                "legend": {
                  "tracegroupgap": 0
                },
                "margin": {
                  "t": 60
                },
                "template": {
                  "data": {
                    "bar": [
                      {
                        "error_x": {
                          "color": "#2a3f5f"
                        },
                        "error_y": {
                          "color": "#2a3f5f"
                        },
                        "marker": {
                          "line": {
                            "color": "#E5ECF6",
                            "width": 0.5
                          },
                          "pattern": {
                            "fillmode": "overlay",
                            "size": 10,
                            "solidity": 0.2
                          }
                        },
                        "type": "bar"
                      }
                    ],
                    "barpolar": [
                      {
                        "marker": {
                          "line": {
                            "color": "#E5ECF6",
                            "width": 0.5
                          },
                          "pattern": {
                            "fillmode": "overlay",
                            "size": 10,
                            "solidity": 0.2
                          }
                        },
                        "type": "barpolar"
                      }
                    ],
                    "carpet": [
                      {
                        "aaxis": {
                          "endlinecolor": "#2a3f5f",
                          "gridcolor": "white",
                          "linecolor": "white",
                          "minorgridcolor": "white",
                          "startlinecolor": "#2a3f5f"
                        },
                        "baxis": {
                          "endlinecolor": "#2a3f5f",
                          "gridcolor": "white",
                          "linecolor": "white",
                          "minorgridcolor": "white",
                          "startlinecolor": "#2a3f5f"
                        },
                        "type": "carpet"
                      }
                    ],
                    "choropleth": [
                      {
                        "colorbar": {
                          "outlinewidth": 0,
                          "ticks": ""
                        },
                        "type": "choropleth"
                      }
                    ],
                    "contour": [
                      {
                        "colorbar": {
                          "outlinewidth": 0,
                          "ticks": ""
                        },
                        "colorscale": [
                          [
                            0,
                            "#0d0887"
                          ],
                          [
                            0.1111111111111111,
                            "#46039f"
                          ],
                          [
                            0.2222222222222222,
                            "#7201a8"
                          ],
                          [
                            0.3333333333333333,
                            "#9c179e"
                          ],
                          [
                            0.4444444444444444,
                            "#bd3786"
                          ],
                          [
                            0.5555555555555556,
                            "#d8576b"
                          ],
                          [
                            0.6666666666666666,
                            "#ed7953"
                          ],
                          [
                            0.7777777777777778,
                            "#fb9f3a"
                          ],
                          [
                            0.8888888888888888,
                            "#fdca26"
                          ],
                          [
                            1,
                            "#f0f921"
                          ]
                        ],
                        "type": "contour"
                      }
                    ],
                    "contourcarpet": [
                      {
                        "colorbar": {
                          "outlinewidth": 0,
                          "ticks": ""
                        },
                        "type": "contourcarpet"
                      }
                    ],
                    "heatmap": [
                      {
                        "colorbar": {
                          "outlinewidth": 0,
                          "ticks": ""
                        },
                        "colorscale": [
                          [
                            0,
                            "#0d0887"
                          ],
                          [
                            0.1111111111111111,
                            "#46039f"
                          ],
                          [
                            0.2222222222222222,
                            "#7201a8"
                          ],
                          [
                            0.3333333333333333,
                            "#9c179e"
                          ],
                          [
                            0.4444444444444444,
                            "#bd3786"
                          ],
                          [
                            0.5555555555555556,
                            "#d8576b"
                          ],
                          [
                            0.6666666666666666,
                            "#ed7953"
                          ],
                          [
                            0.7777777777777778,
                            "#fb9f3a"
                          ],
                          [
                            0.8888888888888888,
                            "#fdca26"
                          ],
                          [
                            1,
                            "#f0f921"
                          ]
                        ],
                        "type": "heatmap"
                      }
                    ],
                    "heatmapgl": [
                      {
                        "colorbar": {
                          "outlinewidth": 0,
                          "ticks": ""
                        },
                        "colorscale": [
                          [
                            0,
                            "#0d0887"
                          ],
                          [
                            0.1111111111111111,
                            "#46039f"
                          ],
                          [
                            0.2222222222222222,
                            "#7201a8"
                          ],
                          [
                            0.3333333333333333,
                            "#9c179e"
                          ],
                          [
                            0.4444444444444444,
                            "#bd3786"
                          ],
                          [
                            0.5555555555555556,
                            "#d8576b"
                          ],
                          [
                            0.6666666666666666,
                            "#ed7953"
                          ],
                          [
                            0.7777777777777778,
                            "#fb9f3a"
                          ],
                          [
                            0.8888888888888888,
                            "#fdca26"
                          ],
                          [
                            1,
                            "#f0f921"
                          ]
                        ],
                        "type": "heatmapgl"
                      }
                    ],
                    "histogram": [
                      {
                        "marker": {
                          "pattern": {
                            "fillmode": "overlay",
                            "size": 10,
                            "solidity": 0.2
                          }
                        },
                        "type": "histogram"
                      }
                    ],
                    "histogram2d": [
                      {
                        "colorbar": {
                          "outlinewidth": 0,
                          "ticks": ""
                        },
                        "colorscale": [
                          [
                            0,
                            "#0d0887"
                          ],
                          [
                            0.1111111111111111,
                            "#46039f"
                          ],
                          [
                            0.2222222222222222,
                            "#7201a8"
                          ],
                          [
                            0.3333333333333333,
                            "#9c179e"
                          ],
                          [
                            0.4444444444444444,
                            "#bd3786"
                          ],
                          [
                            0.5555555555555556,
                            "#d8576b"
                          ],
                          [
                            0.6666666666666666,
                            "#ed7953"
                          ],
                          [
                            0.7777777777777778,
                            "#fb9f3a"
                          ],
                          [
                            0.8888888888888888,
                            "#fdca26"
                          ],
                          [
                            1,
                            "#f0f921"
                          ]
                        ],
                        "type": "histogram2d"
                      }
                    ],
                    "histogram2dcontour": [
                      {
                        "colorbar": {
                          "outlinewidth": 0,
                          "ticks": ""
                        },
                        "colorscale": [
                          [
                            0,
                            "#0d0887"
                          ],
                          [
                            0.1111111111111111,
                            "#46039f"
                          ],
                          [
                            0.2222222222222222,
                            "#7201a8"
                          ],
                          [
                            0.3333333333333333,
                            "#9c179e"
                          ],
                          [
                            0.4444444444444444,
                            "#bd3786"
                          ],
                          [
                            0.5555555555555556,
                            "#d8576b"
                          ],
                          [
                            0.6666666666666666,
                            "#ed7953"
                          ],
                          [
                            0.7777777777777778,
                            "#fb9f3a"
                          ],
                          [
                            0.8888888888888888,
                            "#fdca26"
                          ],
                          [
                            1,
                            "#f0f921"
                          ]
                        ],
                        "type": "histogram2dcontour"
                      }
                    ],
                    "mesh3d": [
                      {
                        "colorbar": {
                          "outlinewidth": 0,
                          "ticks": ""
                        },
                        "type": "mesh3d"
                      }
                    ],
                    "parcoords": [
                      {
                        "line": {
                          "colorbar": {
                            "outlinewidth": 0,
                            "ticks": ""
                          }
                        },
                        "type": "parcoords"
                      }
                    ],
                    "pie": [
                      {
                        "automargin": true,
                        "type": "pie"
                      }
                    ],
                    "scatter": [
                      {
                        "fillpattern": {
                          "fillmode": "overlay",
                          "size": 10,
                          "solidity": 0.2
                        },
                        "type": "scatter"
                      }
                    ],
                    "scatter3d": [
                      {
                        "line": {
                          "colorbar": {
                            "outlinewidth": 0,
                            "ticks": ""
                          }
                        },
                        "marker": {
                          "colorbar": {
                            "outlinewidth": 0,
                            "ticks": ""
                          }
                        },
                        "type": "scatter3d"
                      }
                    ],
                    "scattercarpet": [
                      {
                        "marker": {
                          "colorbar": {
                            "outlinewidth": 0,
                            "ticks": ""
                          }
                        },
                        "type": "scattercarpet"
                      }
                    ],
                    "scattergeo": [
                      {
                        "marker": {
                          "colorbar": {
                            "outlinewidth": 0,
                            "ticks": ""
                          }
                        },
                        "type": "scattergeo"
                      }
                    ],
                    "scattergl": [
                      {
                        "marker": {
                          "colorbar": {
                            "outlinewidth": 0,
                            "ticks": ""
                          }
                        },
                        "type": "scattergl"
                      }
                    ],
                    "scattermapbox": [
                      {
                        "marker": {
                          "colorbar": {
                            "outlinewidth": 0,
                            "ticks": ""
                          }
                        },
                        "type": "scattermapbox"
                      }
                    ],
                    "scatterpolar": [
                      {
                        "marker": {
                          "colorbar": {
                            "outlinewidth": 0,
                            "ticks": ""
                          }
                        },
                        "type": "scatterpolar"
                      }
                    ],
                    "scatterpolargl": [
                      {
                        "marker": {
                          "colorbar": {
                            "outlinewidth": 0,
                            "ticks": ""
                          }
                        },
                        "type": "scatterpolargl"
                      }
                    ],
                    "scatterternary": [
                      {
                        "marker": {
                          "colorbar": {
                            "outlinewidth": 0,
                            "ticks": ""
                          }
                        },
                        "type": "scatterternary"
                      }
                    ],
                    "surface": [
                      {
                        "colorbar": {
                          "outlinewidth": 0,
                          "ticks": ""
                        },
                        "colorscale": [
                          [
                            0,
                            "#0d0887"
                          ],
                          [
                            0.1111111111111111,
                            "#46039f"
                          ],
                          [
                            0.2222222222222222,
                            "#7201a8"
                          ],
                          [
                            0.3333333333333333,
                            "#9c179e"
                          ],
                          [
                            0.4444444444444444,
                            "#bd3786"
                          ],
                          [
                            0.5555555555555556,
                            "#d8576b"
                          ],
                          [
                            0.6666666666666666,
                            "#ed7953"
                          ],
                          [
                            0.7777777777777778,
                            "#fb9f3a"
                          ],
                          [
                            0.8888888888888888,
                            "#fdca26"
                          ],
                          [
                            1,
                            "#f0f921"
                          ]
                        ],
                        "type": "surface"
                      }
                    ],
                    "table": [
                      {
                        "cells": {
                          "fill": {
                            "color": "#EBF0F8"
                          },
                          "line": {
                            "color": "white"
                          }
                        },
                        "header": {
                          "fill": {
                            "color": "#C8D4E3"
                          },
                          "line": {
                            "color": "white"
                          }
                        },
                        "type": "table"
                      }
                    ]
                  },
                  "layout": {
                    "annotationdefaults": {
                      "arrowcolor": "#2a3f5f",
                      "arrowhead": 0,
                      "arrowwidth": 1
                    },
                    "autotypenumbers": "strict",
                    "coloraxis": {
                      "colorbar": {
                        "outlinewidth": 0,
                        "ticks": ""
                      }
                    },
                    "colorscale": {
                      "diverging": [
                        [
                          0,
                          "#8e0152"
                        ],
                        [
                          0.1,
                          "#c51b7d"
                        ],
                        [
                          0.2,
                          "#de77ae"
                        ],
                        [
                          0.3,
                          "#f1b6da"
                        ],
                        [
                          0.4,
                          "#fde0ef"
                        ],
                        [
                          0.5,
                          "#f7f7f7"
                        ],
                        [
                          0.6,
                          "#e6f5d0"
                        ],
                        [
                          0.7,
                          "#b8e186"
                        ],
                        [
                          0.8,
                          "#7fbc41"
                        ],
                        [
                          0.9,
                          "#4d9221"
                        ],
                        [
                          1,
                          "#276419"
                        ]
                      ],
                      "sequential": [
                        [
                          0,
                          "#0d0887"
                        ],
                        [
                          0.1111111111111111,
                          "#46039f"
                        ],
                        [
                          0.2222222222222222,
                          "#7201a8"
                        ],
                        [
                          0.3333333333333333,
                          "#9c179e"
                        ],
                        [
                          0.4444444444444444,
                          "#bd3786"
                        ],
                        [
                          0.5555555555555556,
                          "#d8576b"
                        ],
                        [
                          0.6666666666666666,
                          "#ed7953"
                        ],
                        [
                          0.7777777777777778,
                          "#fb9f3a"
                        ],
                        [
                          0.8888888888888888,
                          "#fdca26"
                        ],
                        [
                          1,
                          "#f0f921"
                        ]
                      ],
                      "sequentialminus": [
                        [
                          0,
                          "#0d0887"
                        ],
                        [
                          0.1111111111111111,
                          "#46039f"
                        ],
                        [
                          0.2222222222222222,
                          "#7201a8"
                        ],
                        [
                          0.3333333333333333,
                          "#9c179e"
                        ],
                        [
                          0.4444444444444444,
                          "#bd3786"
                        ],
                        [
                          0.5555555555555556,
                          "#d8576b"
                        ],
                        [
                          0.6666666666666666,
                          "#ed7953"
                        ],
                        [
                          0.7777777777777778,
                          "#fb9f3a"
                        ],
                        [
                          0.8888888888888888,
                          "#fdca26"
                        ],
                        [
                          1,
                          "#f0f921"
                        ]
                      ]
                    },
                    "colorway": [
                      "#636efa",
                      "#EF553B",
                      "#00cc96",
                      "#ab63fa",
                      "#FFA15A",
                      "#19d3f3",
                      "#FF6692",
                      "#B6E880",
                      "#FF97FF",
                      "#FECB52"
                    ],
                    "font": {
                      "color": "#2a3f5f"
                    },
                    "geo": {
                      "bgcolor": "white",
                      "lakecolor": "white",
                      "landcolor": "#E5ECF6",
                      "showlakes": true,
                      "showland": true,
                      "subunitcolor": "white"
                    },
                    "hoverlabel": {
                      "align": "left"
                    },
                    "hovermode": "closest",
                    "mapbox": {
                      "style": "light"
                    },
                    "paper_bgcolor": "white",
                    "plot_bgcolor": "#E5ECF6",
                    "polar": {
                      "angularaxis": {
                        "gridcolor": "white",
                        "linecolor": "white",
                        "ticks": ""
                      },
                      "bgcolor": "#E5ECF6",
                      "radialaxis": {
                        "gridcolor": "white",
                        "linecolor": "white",
                        "ticks": ""
                      }
                    },
                    "scene": {
                      "xaxis": {
                        "backgroundcolor": "#E5ECF6",
                        "gridcolor": "white",
                        "gridwidth": 2,
                        "linecolor": "white",
                        "showbackground": true,
                        "ticks": "",
                        "zerolinecolor": "white"
                      },
                      "yaxis": {
                        "backgroundcolor": "#E5ECF6",
                        "gridcolor": "white",
                        "gridwidth": 2,
                        "linecolor": "white",
                        "showbackground": true,
                        "ticks": "",
                        "zerolinecolor": "white"
                      },
                      "zaxis": {
                        "backgroundcolor": "#E5ECF6",
                        "gridcolor": "white",
                        "gridwidth": 2,
                        "linecolor": "white",
                        "showbackground": true,
                        "ticks": "",
                        "zerolinecolor": "white"
                      }
                    },
                    "shapedefaults": {
                      "line": {
                        "color": "#2a3f5f"
                      }
                    },
                    "ternary": {
                      "aaxis": {
                        "gridcolor": "white",
                        "linecolor": "white",
                        "ticks": ""
                      },
                      "baxis": {
                        "gridcolor": "white",
                        "linecolor": "white",
                        "ticks": ""
                      },
                      "bgcolor": "#E5ECF6",
                      "caxis": {
                        "gridcolor": "white",
                        "linecolor": "white",
                        "ticks": ""
                      }
                    },
                    "title": {
                      "x": 0.05
                    },
                    "xaxis": {
                      "automargin": true,
                      "gridcolor": "white",
                      "linecolor": "white",
                      "ticks": "",
                      "title": {
                        "standoff": 15
                      },
                      "zerolinecolor": "white",
                      "zerolinewidth": 2
                    },
                    "yaxis": {
                      "automargin": true,
                      "gridcolor": "white",
                      "linecolor": "white",
                      "ticks": "",
                      "title": {
                        "standoff": 15
                      },
                      "zerolinecolor": "white",
                      "zerolinewidth": 2
                    }
                  }
                },
                "title": {
                  "text": "Hubungan antara Hari Kerja dan Jumlah Sewa"
                },
                "xaxis": {
                  "anchor": "y",
                  "domain": [
                    0,
                    1
                  ],
                  "title": {
                    "text": "Hari Kerja"
                  }
                },
                "yaxis": {
                  "anchor": "x",
                  "domain": [
                    0,
                    1
                  ],
                  "title": {
                    "text": "Jumlah Sewa"
                  }
                }
              }
            }
          },
          "metadata": {},
          "output_type": "display_data"
        }
      ],
      "source": [
        "# Create box plot\n",
        "fig = px.box(df_day, x='workingday', y='cnt')\n",
        "\n",
        "# Update layout\n",
        "fig.update_layout(title='Hubungan antara Hari Kerja dan Jumlah Sewa', xaxis_title='Hari Kerja', yaxis_title='Jumlah Sewa')\n",
        "\n",
        "# Show the plot\n",
        "fig.show()\n"
      ]
    },
    {
      "cell_type": "markdown",
      "metadata": {
        "id": "HVM4HkvtCXo6"
      },
      "source": [
        "Hubungan antara musim dan jumlah sewa"
      ]
    },
    {
      "cell_type": "code",
      "execution_count": 22,
      "metadata": {
        "colab": {
          "base_uri": "https://localhost:8080/",
          "height": 542
        },
        "id": "uwAfOnrPnMnZ",
        "outputId": "55555446-2e33-47e9-811f-7894634148fa"
      },
      "outputs": [
        {
          "data": {
            "application/vnd.plotly.v1+json": {
              "config": {
                "plotlyServerURL": "https://plot.ly"
              },
              "data": [
                {
                  "alignmentgroup": "True",
                  "hovertemplate": "season=%{x}<br>cnt=%{y}<extra></extra>",
                  "legendgroup": "",
                  "marker": {
                    "color": "#636efa"
                  },
                  "name": "",
                  "notched": false,
                  "offsetgroup": "",
                  "orientation": "v",
                  "showlegend": false,
                  "type": "box",
                  "x": [
                    1,
                    1,
                    1,
                    1,
                    1,
                    1,
                    1,
                    1,
                    1,
                    1,
                    1,
                    1,
                    1,
                    1,
                    1,
                    1,
                    1,
                    1,
                    1,
                    1,
                    1,
                    1,
                    1,
                    1,
                    1,
                    1,
                    1,
                    1,
                    1,
                    1,
                    1,
                    1,
                    1,
                    1,
                    1,
                    1,
                    1,
                    1,
                    1,
                    1,
                    1,
                    1,
                    1,
                    1,
                    1,
                    1,
                    1,
                    1,
                    1,
                    1,
                    1,
                    1,
                    1,
                    1,
                    1,
                    1,
                    1,
                    1,
                    1,
                    1,
                    1,
                    1,
                    1,
                    1,
                    1,
                    1,
                    1,
                    1,
                    1,
                    1,
                    1,
                    1,
                    1,
                    1,
                    1,
                    1,
                    1,
                    1,
                    1,
                    2,
                    2,
                    2,
                    2,
                    2,
                    2,
                    2,
                    2,
                    2,
                    2,
                    2,
                    2,
                    2,
                    2,
                    2,
                    2,
                    2,
                    2,
                    2,
                    2,
                    2,
                    2,
                    2,
                    2,
                    2,
                    2,
                    2,
                    2,
                    2,
                    2,
                    2,
                    2,
                    2,
                    2,
                    2,
                    2,
                    2,
                    2,
                    2,
                    2,
                    2,
                    2,
                    2,
                    2,
                    2,
                    2,
                    2,
                    2,
                    2,
                    2,
                    2,
                    2,
                    2,
                    2,
                    2,
                    2,
                    2,
                    2,
                    2,
                    2,
                    2,
                    2,
                    2,
                    2,
                    2,
                    2,
                    2,
                    2,
                    2,
                    2,
                    2,
                    2,
                    2,
                    2,
                    2,
                    2,
                    2,
                    2,
                    2,
                    2,
                    2,
                    2,
                    2,
                    2,
                    2,
                    2,
                    2,
                    2,
                    2,
                    2,
                    2,
                    2,
                    3,
                    3,
                    3,
                    3,
                    3,
                    3,
                    3,
                    3,
                    3,
                    3,
                    3,
                    3,
                    3,
                    3,
                    3,
                    3,
                    3,
                    3,
                    3,
                    3,
                    3,
                    3,
                    3,
                    3,
                    3,
                    3,
                    3,
                    3,
                    3,
                    3,
                    3,
                    3,
                    3,
                    3,
                    3,
                    3,
                    3,
                    3,
                    3,
                    3,
                    3,
                    3,
                    3,
                    3,
                    3,
                    3,
                    3,
                    3,
                    3,
                    3,
                    3,
                    3,
                    3,
                    3,
                    3,
                    3,
                    3,
                    3,
                    3,
                    3,
                    3,
                    3,
                    3,
                    3,
                    3,
                    3,
                    3,
                    3,
                    3,
                    3,
                    3,
                    3,
                    3,
                    3,
                    3,
                    3,
                    3,
                    3,
                    3,
                    3,
                    3,
                    3,
                    3,
                    3,
                    3,
                    3,
                    3,
                    3,
                    3,
                    3,
                    3,
                    3,
                    3,
                    3,
                    4,
                    4,
                    4,
                    4,
                    4,
                    4,
                    4,
                    4,
                    4,
                    4,
                    4,
                    4,
                    4,
                    4,
                    4,
                    4,
                    4,
                    4,
                    4,
                    4,
                    4,
                    4,
                    4,
                    4,
                    4,
                    4,
                    4,
                    4,
                    4,
                    4,
                    4,
                    4,
                    4,
                    4,
                    4,
                    4,
                    4,
                    4,
                    4,
                    4,
                    4,
                    4,
                    4,
                    4,
                    4,
                    4,
                    4,
                    4,
                    4,
                    4,
                    4,
                    4,
                    4,
                    4,
                    4,
                    4,
                    4,
                    4,
                    4,
                    4,
                    4,
                    4,
                    4,
                    4,
                    4,
                    4,
                    4,
                    4,
                    4,
                    4,
                    4,
                    4,
                    4,
                    4,
                    4,
                    4,
                    4,
                    4,
                    4,
                    4,
                    4,
                    4,
                    4,
                    4,
                    4,
                    4,
                    4,
                    4,
                    4,
                    1,
                    1,
                    1,
                    1,
                    1,
                    1,
                    1,
                    1,
                    1,
                    1,
                    1,
                    1,
                    1,
                    1,
                    1,
                    1,
                    1,
                    1,
                    1,
                    1,
                    1,
                    1,
                    1,
                    1,
                    1,
                    1,
                    1,
                    1,
                    1,
                    1,
                    1,
                    1,
                    1,
                    1,
                    1,
                    1,
                    1,
                    1,
                    1,
                    1,
                    1,
                    1,
                    1,
                    1,
                    1,
                    1,
                    1,
                    1,
                    1,
                    1,
                    1,
                    1,
                    1,
                    1,
                    1,
                    1,
                    1,
                    1,
                    1,
                    1,
                    1,
                    1,
                    1,
                    1,
                    1,
                    1,
                    1,
                    1,
                    1,
                    1,
                    1,
                    1,
                    1,
                    1,
                    1,
                    1,
                    1,
                    1,
                    1,
                    1,
                    1,
                    1,
                    1,
                    1,
                    1,
                    1,
                    1,
                    1,
                    1,
                    1,
                    1,
                    2,
                    2,
                    2,
                    2,
                    2,
                    2,
                    2,
                    2,
                    2,
                    2,
                    2,
                    2,
                    2,
                    2,
                    2,
                    2,
                    2,
                    2,
                    2,
                    2,
                    2,
                    2,
                    2,
                    2,
                    2,
                    2,
                    2,
                    2,
                    2,
                    2,
                    2,
                    2,
                    2,
                    2,
                    2,
                    2,
                    2,
                    2,
                    2,
                    2,
                    2,
                    2,
                    2,
                    2,
                    2,
                    2,
                    2,
                    2,
                    2,
                    2,
                    2,
                    2,
                    2,
                    2,
                    2,
                    2,
                    2,
                    2,
                    2,
                    2,
                    2,
                    2,
                    2,
                    2,
                    2,
                    2,
                    2,
                    2,
                    2,
                    2,
                    2,
                    2,
                    2,
                    2,
                    2,
                    2,
                    2,
                    2,
                    2,
                    2,
                    2,
                    2,
                    2,
                    2,
                    2,
                    2,
                    2,
                    2,
                    2,
                    2,
                    2,
                    2,
                    3,
                    3,
                    3,
                    3,
                    3,
                    3,
                    3,
                    3,
                    3,
                    3,
                    3,
                    3,
                    3,
                    3,
                    3,
                    3,
                    3,
                    3,
                    3,
                    3,
                    3,
                    3,
                    3,
                    3,
                    3,
                    3,
                    3,
                    3,
                    3,
                    3,
                    3,
                    3,
                    3,
                    3,
                    3,
                    3,
                    3,
                    3,
                    3,
                    3,
                    3,
                    3,
                    3,
                    3,
                    3,
                    3,
                    3,
                    3,
                    3,
                    3,
                    3,
                    3,
                    3,
                    3,
                    3,
                    3,
                    3,
                    3,
                    3,
                    3,
                    3,
                    3,
                    3,
                    3,
                    3,
                    3,
                    3,
                    3,
                    3,
                    3,
                    3,
                    3,
                    3,
                    3,
                    3,
                    3,
                    3,
                    3,
                    3,
                    3,
                    3,
                    3,
                    3,
                    3,
                    3,
                    3,
                    3,
                    3,
                    3,
                    3,
                    3,
                    3,
                    3,
                    3,
                    4,
                    4,
                    4,
                    4,
                    4,
                    4,
                    4,
                    4,
                    4,
                    4,
                    4,
                    4,
                    4,
                    4,
                    4,
                    4,
                    4,
                    4,
                    4,
                    4,
                    4,
                    4,
                    4,
                    4,
                    4,
                    4,
                    4,
                    4,
                    4,
                    4,
                    4,
                    4,
                    4,
                    4,
                    4,
                    4,
                    4,
                    4,
                    4,
                    4,
                    4,
                    4,
                    4,
                    4,
                    4,
                    4,
                    4,
                    4,
                    4,
                    4,
                    4,
                    4,
                    4,
                    4,
                    4,
                    4,
                    4,
                    4,
                    4,
                    4,
                    4,
                    4,
                    4,
                    4,
                    4,
                    4,
                    4,
                    4,
                    4,
                    4,
                    4,
                    4,
                    4,
                    4,
                    4,
                    4,
                    4,
                    4,
                    4,
                    4,
                    4,
                    4,
                    4,
                    4,
                    4,
                    4,
                    4,
                    4,
                    4,
                    1,
                    1,
                    1,
                    1,
                    1,
                    1,
                    1,
                    1,
                    1,
                    1,
                    1
                  ],
                  "x0": " ",
                  "xaxis": "x",
                  "y": [
                    985,
                    801,
                    1349,
                    1562,
                    1600,
                    1606,
                    1510,
                    959,
                    822,
                    1321,
                    1263,
                    1162,
                    1406,
                    1421,
                    1248,
                    1204,
                    1000,
                    683,
                    1650,
                    1927,
                    1543,
                    981,
                    986,
                    1416,
                    1985,
                    506,
                    431,
                    1167,
                    1098,
                    1096,
                    1501,
                    1360,
                    1526,
                    1550,
                    1708,
                    1005,
                    1623,
                    1712,
                    1530,
                    1605,
                    1538,
                    1746,
                    1472,
                    1589,
                    1913,
                    1815,
                    2115,
                    2475,
                    2927,
                    1635,
                    1812,
                    1107,
                    1450,
                    1917,
                    1807,
                    1461,
                    1969,
                    2402,
                    1446,
                    1851,
                    2134,
                    1685,
                    1944,
                    2077,
                    605,
                    1872,
                    2133,
                    1891,
                    623,
                    1977,
                    2132,
                    2417,
                    2046,
                    2056,
                    2192,
                    2744,
                    3239,
                    3117,
                    2471,
                    2077,
                    2703,
                    2121,
                    1865,
                    2210,
                    2496,
                    1693,
                    2028,
                    2425,
                    1536,
                    1685,
                    2227,
                    2252,
                    3249,
                    3115,
                    1795,
                    2808,
                    3141,
                    1471,
                    2455,
                    2895,
                    3348,
                    2034,
                    2162,
                    3267,
                    3126,
                    795,
                    3744,
                    3429,
                    3204,
                    3944,
                    4189,
                    1683,
                    4036,
                    4191,
                    4073,
                    4400,
                    3872,
                    4058,
                    4595,
                    5312,
                    3351,
                    4401,
                    4451,
                    2633,
                    4433,
                    4608,
                    4714,
                    4333,
                    4362,
                    4803,
                    4182,
                    4864,
                    4105,
                    3409,
                    4553,
                    3958,
                    4123,
                    3855,
                    4575,
                    4917,
                    5805,
                    4660,
                    4274,
                    4492,
                    4978,
                    4677,
                    4679,
                    4758,
                    4788,
                    4098,
                    3982,
                    3974,
                    4968,
                    5312,
                    5342,
                    4906,
                    4548,
                    4833,
                    4401,
                    3915,
                    4586,
                    4966,
                    4460,
                    5020,
                    4891,
                    5180,
                    3767,
                    4844,
                    5119,
                    4744,
                    4010,
                    4835,
                    4507,
                    4790,
                    4991,
                    5202,
                    5305,
                    4708,
                    4648,
                    5225,
                    5515,
                    5362,
                    5119,
                    4649,
                    6043,
                    4665,
                    4629,
                    4592,
                    4040,
                    5336,
                    4881,
                    4086,
                    4258,
                    4342,
                    5084,
                    5538,
                    5923,
                    5302,
                    4458,
                    4541,
                    4332,
                    3784,
                    3387,
                    3285,
                    3606,
                    3840,
                    4590,
                    4656,
                    4390,
                    3846,
                    4475,
                    4302,
                    4266,
                    4845,
                    3574,
                    4576,
                    4866,
                    4294,
                    3785,
                    4326,
                    4602,
                    4780,
                    4792,
                    4905,
                    4150,
                    3820,
                    4338,
                    4725,
                    4694,
                    3805,
                    4153,
                    5191,
                    3873,
                    4758,
                    5895,
                    5130,
                    3542,
                    4661,
                    1115,
                    4334,
                    4634,
                    5204,
                    5058,
                    5115,
                    4727,
                    4484,
                    4940,
                    3351,
                    2710,
                    1996,
                    1842,
                    3544,
                    5345,
                    5046,
                    4713,
                    4763,
                    4785,
                    3659,
                    4760,
                    4511,
                    4274,
                    4539,
                    3641,
                    4352,
                    4795,
                    2395,
                    5423,
                    5010,
                    4630,
                    4120,
                    3907,
                    4839,
                    5202,
                    2429,
                    2918,
                    3570,
                    4456,
                    4826,
                    4765,
                    4985,
                    5409,
                    5511,
                    5117,
                    4563,
                    2416,
                    2913,
                    3644,
                    5217,
                    5041,
                    4570,
                    4748,
                    2424,
                    4195,
                    4304,
                    4308,
                    4381,
                    4187,
                    4687,
                    3894,
                    2659,
                    3747,
                    627,
                    3331,
                    3669,
                    4068,
                    4186,
                    3974,
                    4046,
                    3926,
                    3649,
                    4035,
                    4205,
                    4109,
                    2933,
                    3368,
                    4067,
                    3717,
                    4486,
                    4195,
                    1817,
                    3053,
                    3392,
                    3663,
                    3520,
                    2765,
                    1607,
                    2566,
                    1495,
                    2792,
                    3068,
                    3071,
                    3867,
                    2914,
                    3613,
                    3727,
                    3940,
                    3614,
                    3485,
                    3811,
                    2594,
                    705,
                    3322,
                    3620,
                    3190,
                    2743,
                    3310,
                    3523,
                    3740,
                    3709,
                    3577,
                    2739,
                    2431,
                    3403,
                    3750,
                    2660,
                    3068,
                    2209,
                    1011,
                    754,
                    1317,
                    1162,
                    2302,
                    2423,
                    2999,
                    2485,
                    2294,
                    1951,
                    2236,
                    2368,
                    3272,
                    4098,
                    4521,
                    3425,
                    2376,
                    3598,
                    2177,
                    4097,
                    3214,
                    2493,
                    2311,
                    2298,
                    2935,
                    3376,
                    3292,
                    3163,
                    1301,
                    1977,
                    2432,
                    4339,
                    4270,
                    4075,
                    3456,
                    4023,
                    3243,
                    3624,
                    4509,
                    4579,
                    3761,
                    4151,
                    2832,
                    2947,
                    3784,
                    4375,
                    2802,
                    3830,
                    3831,
                    2169,
                    1529,
                    3422,
                    3922,
                    4169,
                    3005,
                    4154,
                    4318,
                    2689,
                    3129,
                    3777,
                    4773,
                    5062,
                    3487,
                    2732,
                    3389,
                    4322,
                    4363,
                    1834,
                    4990,
                    3194,
                    4066,
                    3423,
                    3333,
                    3956,
                    4916,
                    5382,
                    4569,
                    4118,
                    4911,
                    5298,
                    5847,
                    6312,
                    6192,
                    4378,
                    7836,
                    5892,
                    6153,
                    6093,
                    6230,
                    6871,
                    8362,
                    3372,
                    4996,
                    5558,
                    5102,
                    5698,
                    6133,
                    5459,
                    6235,
                    6041,
                    5936,
                    6772,
                    6436,
                    6457,
                    6460,
                    6857,
                    5169,
                    5585,
                    5918,
                    4862,
                    5409,
                    6398,
                    7460,
                    7132,
                    6370,
                    6691,
                    4367,
                    6565,
                    7290,
                    6624,
                    1027,
                    3214,
                    5633,
                    6196,
                    5026,
                    6233,
                    4220,
                    6304,
                    5572,
                    5740,
                    6169,
                    6421,
                    6296,
                    6883,
                    6359,
                    6273,
                    5728,
                    4717,
                    6572,
                    7030,
                    7429,
                    6118,
                    2843,
                    5115,
                    7424,
                    7384,
                    7639,
                    8294,
                    7129,
                    4359,
                    6073,
                    5260,
                    6770,
                    6734,
                    6536,
                    6591,
                    6043,
                    5743,
                    6855,
                    7338,
                    4127,
                    8120,
                    7641,
                    6998,
                    7001,
                    7055,
                    7494,
                    7736,
                    7498,
                    6598,
                    6664,
                    4972,
                    7421,
                    7363,
                    7665,
                    7702,
                    6978,
                    5099,
                    6825,
                    6211,
                    5905,
                    5823,
                    7458,
                    6891,
                    6779,
                    7442,
                    7335,
                    6879,
                    5463,
                    5687,
                    5531,
                    6227,
                    6660,
                    7403,
                    6241,
                    6207,
                    4840,
                    4672,
                    6569,
                    6290,
                    7264,
                    7446,
                    7499,
                    6969,
                    6031,
                    6830,
                    6786,
                    5713,
                    6591,
                    5870,
                    4459,
                    7410,
                    6966,
                    7592,
                    8173,
                    6861,
                    6904,
                    6685,
                    6597,
                    7105,
                    7216,
                    7580,
                    7261,
                    7175,
                    6824,
                    5464,
                    7013,
                    7273,
                    7534,
                    7286,
                    5786,
                    6299,
                    6544,
                    6883,
                    6784,
                    7347,
                    7605,
                    7148,
                    7865,
                    4549,
                    6530,
                    7006,
                    7375,
                    7765,
                    7582,
                    6053,
                    5255,
                    6917,
                    7040,
                    7697,
                    7713,
                    7350,
                    6140,
                    5810,
                    6034,
                    6864,
                    7112,
                    6203,
                    7504,
                    5976,
                    8227,
                    7525,
                    7767,
                    7870,
                    7804,
                    8009,
                    8714,
                    7333,
                    6869,
                    4073,
                    7591,
                    7720,
                    8167,
                    8395,
                    7907,
                    7436,
                    7538,
                    7733,
                    7393,
                    7415,
                    8555,
                    6889,
                    6778,
                    4639,
                    7572,
                    7328,
                    8156,
                    7965,
                    3510,
                    5478,
                    6392,
                    7691,
                    7570,
                    7282,
                    7109,
                    6639,
                    5875,
                    7534,
                    7461,
                    7509,
                    5424,
                    8090,
                    6824,
                    7058,
                    7466,
                    7693,
                    7359,
                    7444,
                    7852,
                    4459,
                    22,
                    1096,
                    5566,
                    5986,
                    5847,
                    5138,
                    5107,
                    5259,
                    5686,
                    5035,
                    5315,
                    5992,
                    6536,
                    6852,
                    6269,
                    4094,
                    5495,
                    5445,
                    5698,
                    5629,
                    4669,
                    5499,
                    5634,
                    5146,
                    2425,
                    3910,
                    2277,
                    2424,
                    5087,
                    3959,
                    5260,
                    5323,
                    5668,
                    5191,
                    4649,
                    6234,
                    6606,
                    5729,
                    5375,
                    5008,
                    5582,
                    3228,
                    5170,
                    5501,
                    5319,
                    5532,
                    5611,
                    5047,
                    3786,
                    4585,
                    5557,
                    5267,
                    4128,
                    3623,
                    1749,
                    1787,
                    920,
                    1013,
                    441,
                    2114,
                    3095,
                    1341,
                    1796,
                    2729
                  ],
                  "y0": " ",
                  "yaxis": "y"
                }
              ],
              "layout": {
                "boxmode": "group",
                "legend": {
                  "tracegroupgap": 0
                },
                "margin": {
                  "t": 60
                },
                "template": {
                  "data": {
                    "bar": [
                      {
                        "error_x": {
                          "color": "#2a3f5f"
                        },
                        "error_y": {
                          "color": "#2a3f5f"
                        },
                        "marker": {
                          "line": {
                            "color": "#E5ECF6",
                            "width": 0.5
                          },
                          "pattern": {
                            "fillmode": "overlay",
                            "size": 10,
                            "solidity": 0.2
                          }
                        },
                        "type": "bar"
                      }
                    ],
                    "barpolar": [
                      {
                        "marker": {
                          "line": {
                            "color": "#E5ECF6",
                            "width": 0.5
                          },
                          "pattern": {
                            "fillmode": "overlay",
                            "size": 10,
                            "solidity": 0.2
                          }
                        },
                        "type": "barpolar"
                      }
                    ],
                    "carpet": [
                      {
                        "aaxis": {
                          "endlinecolor": "#2a3f5f",
                          "gridcolor": "white",
                          "linecolor": "white",
                          "minorgridcolor": "white",
                          "startlinecolor": "#2a3f5f"
                        },
                        "baxis": {
                          "endlinecolor": "#2a3f5f",
                          "gridcolor": "white",
                          "linecolor": "white",
                          "minorgridcolor": "white",
                          "startlinecolor": "#2a3f5f"
                        },
                        "type": "carpet"
                      }
                    ],
                    "choropleth": [
                      {
                        "colorbar": {
                          "outlinewidth": 0,
                          "ticks": ""
                        },
                        "type": "choropleth"
                      }
                    ],
                    "contour": [
                      {
                        "colorbar": {
                          "outlinewidth": 0,
                          "ticks": ""
                        },
                        "colorscale": [
                          [
                            0,
                            "#0d0887"
                          ],
                          [
                            0.1111111111111111,
                            "#46039f"
                          ],
                          [
                            0.2222222222222222,
                            "#7201a8"
                          ],
                          [
                            0.3333333333333333,
                            "#9c179e"
                          ],
                          [
                            0.4444444444444444,
                            "#bd3786"
                          ],
                          [
                            0.5555555555555556,
                            "#d8576b"
                          ],
                          [
                            0.6666666666666666,
                            "#ed7953"
                          ],
                          [
                            0.7777777777777778,
                            "#fb9f3a"
                          ],
                          [
                            0.8888888888888888,
                            "#fdca26"
                          ],
                          [
                            1,
                            "#f0f921"
                          ]
                        ],
                        "type": "contour"
                      }
                    ],
                    "contourcarpet": [
                      {
                        "colorbar": {
                          "outlinewidth": 0,
                          "ticks": ""
                        },
                        "type": "contourcarpet"
                      }
                    ],
                    "heatmap": [
                      {
                        "colorbar": {
                          "outlinewidth": 0,
                          "ticks": ""
                        },
                        "colorscale": [
                          [
                            0,
                            "#0d0887"
                          ],
                          [
                            0.1111111111111111,
                            "#46039f"
                          ],
                          [
                            0.2222222222222222,
                            "#7201a8"
                          ],
                          [
                            0.3333333333333333,
                            "#9c179e"
                          ],
                          [
                            0.4444444444444444,
                            "#bd3786"
                          ],
                          [
                            0.5555555555555556,
                            "#d8576b"
                          ],
                          [
                            0.6666666666666666,
                            "#ed7953"
                          ],
                          [
                            0.7777777777777778,
                            "#fb9f3a"
                          ],
                          [
                            0.8888888888888888,
                            "#fdca26"
                          ],
                          [
                            1,
                            "#f0f921"
                          ]
                        ],
                        "type": "heatmap"
                      }
                    ],
                    "heatmapgl": [
                      {
                        "colorbar": {
                          "outlinewidth": 0,
                          "ticks": ""
                        },
                        "colorscale": [
                          [
                            0,
                            "#0d0887"
                          ],
                          [
                            0.1111111111111111,
                            "#46039f"
                          ],
                          [
                            0.2222222222222222,
                            "#7201a8"
                          ],
                          [
                            0.3333333333333333,
                            "#9c179e"
                          ],
                          [
                            0.4444444444444444,
                            "#bd3786"
                          ],
                          [
                            0.5555555555555556,
                            "#d8576b"
                          ],
                          [
                            0.6666666666666666,
                            "#ed7953"
                          ],
                          [
                            0.7777777777777778,
                            "#fb9f3a"
                          ],
                          [
                            0.8888888888888888,
                            "#fdca26"
                          ],
                          [
                            1,
                            "#f0f921"
                          ]
                        ],
                        "type": "heatmapgl"
                      }
                    ],
                    "histogram": [
                      {
                        "marker": {
                          "pattern": {
                            "fillmode": "overlay",
                            "size": 10,
                            "solidity": 0.2
                          }
                        },
                        "type": "histogram"
                      }
                    ],
                    "histogram2d": [
                      {
                        "colorbar": {
                          "outlinewidth": 0,
                          "ticks": ""
                        },
                        "colorscale": [
                          [
                            0,
                            "#0d0887"
                          ],
                          [
                            0.1111111111111111,
                            "#46039f"
                          ],
                          [
                            0.2222222222222222,
                            "#7201a8"
                          ],
                          [
                            0.3333333333333333,
                            "#9c179e"
                          ],
                          [
                            0.4444444444444444,
                            "#bd3786"
                          ],
                          [
                            0.5555555555555556,
                            "#d8576b"
                          ],
                          [
                            0.6666666666666666,
                            "#ed7953"
                          ],
                          [
                            0.7777777777777778,
                            "#fb9f3a"
                          ],
                          [
                            0.8888888888888888,
                            "#fdca26"
                          ],
                          [
                            1,
                            "#f0f921"
                          ]
                        ],
                        "type": "histogram2d"
                      }
                    ],
                    "histogram2dcontour": [
                      {
                        "colorbar": {
                          "outlinewidth": 0,
                          "ticks": ""
                        },
                        "colorscale": [
                          [
                            0,
                            "#0d0887"
                          ],
                          [
                            0.1111111111111111,
                            "#46039f"
                          ],
                          [
                            0.2222222222222222,
                            "#7201a8"
                          ],
                          [
                            0.3333333333333333,
                            "#9c179e"
                          ],
                          [
                            0.4444444444444444,
                            "#bd3786"
                          ],
                          [
                            0.5555555555555556,
                            "#d8576b"
                          ],
                          [
                            0.6666666666666666,
                            "#ed7953"
                          ],
                          [
                            0.7777777777777778,
                            "#fb9f3a"
                          ],
                          [
                            0.8888888888888888,
                            "#fdca26"
                          ],
                          [
                            1,
                            "#f0f921"
                          ]
                        ],
                        "type": "histogram2dcontour"
                      }
                    ],
                    "mesh3d": [
                      {
                        "colorbar": {
                          "outlinewidth": 0,
                          "ticks": ""
                        },
                        "type": "mesh3d"
                      }
                    ],
                    "parcoords": [
                      {
                        "line": {
                          "colorbar": {
                            "outlinewidth": 0,
                            "ticks": ""
                          }
                        },
                        "type": "parcoords"
                      }
                    ],
                    "pie": [
                      {
                        "automargin": true,
                        "type": "pie"
                      }
                    ],
                    "scatter": [
                      {
                        "fillpattern": {
                          "fillmode": "overlay",
                          "size": 10,
                          "solidity": 0.2
                        },
                        "type": "scatter"
                      }
                    ],
                    "scatter3d": [
                      {
                        "line": {
                          "colorbar": {
                            "outlinewidth": 0,
                            "ticks": ""
                          }
                        },
                        "marker": {
                          "colorbar": {
                            "outlinewidth": 0,
                            "ticks": ""
                          }
                        },
                        "type": "scatter3d"
                      }
                    ],
                    "scattercarpet": [
                      {
                        "marker": {
                          "colorbar": {
                            "outlinewidth": 0,
                            "ticks": ""
                          }
                        },
                        "type": "scattercarpet"
                      }
                    ],
                    "scattergeo": [
                      {
                        "marker": {
                          "colorbar": {
                            "outlinewidth": 0,
                            "ticks": ""
                          }
                        },
                        "type": "scattergeo"
                      }
                    ],
                    "scattergl": [
                      {
                        "marker": {
                          "colorbar": {
                            "outlinewidth": 0,
                            "ticks": ""
                          }
                        },
                        "type": "scattergl"
                      }
                    ],
                    "scattermapbox": [
                      {
                        "marker": {
                          "colorbar": {
                            "outlinewidth": 0,
                            "ticks": ""
                          }
                        },
                        "type": "scattermapbox"
                      }
                    ],
                    "scatterpolar": [
                      {
                        "marker": {
                          "colorbar": {
                            "outlinewidth": 0,
                            "ticks": ""
                          }
                        },
                        "type": "scatterpolar"
                      }
                    ],
                    "scatterpolargl": [
                      {
                        "marker": {
                          "colorbar": {
                            "outlinewidth": 0,
                            "ticks": ""
                          }
                        },
                        "type": "scatterpolargl"
                      }
                    ],
                    "scatterternary": [
                      {
                        "marker": {
                          "colorbar": {
                            "outlinewidth": 0,
                            "ticks": ""
                          }
                        },
                        "type": "scatterternary"
                      }
                    ],
                    "surface": [
                      {
                        "colorbar": {
                          "outlinewidth": 0,
                          "ticks": ""
                        },
                        "colorscale": [
                          [
                            0,
                            "#0d0887"
                          ],
                          [
                            0.1111111111111111,
                            "#46039f"
                          ],
                          [
                            0.2222222222222222,
                            "#7201a8"
                          ],
                          [
                            0.3333333333333333,
                            "#9c179e"
                          ],
                          [
                            0.4444444444444444,
                            "#bd3786"
                          ],
                          [
                            0.5555555555555556,
                            "#d8576b"
                          ],
                          [
                            0.6666666666666666,
                            "#ed7953"
                          ],
                          [
                            0.7777777777777778,
                            "#fb9f3a"
                          ],
                          [
                            0.8888888888888888,
                            "#fdca26"
                          ],
                          [
                            1,
                            "#f0f921"
                          ]
                        ],
                        "type": "surface"
                      }
                    ],
                    "table": [
                      {
                        "cells": {
                          "fill": {
                            "color": "#EBF0F8"
                          },
                          "line": {
                            "color": "white"
                          }
                        },
                        "header": {
                          "fill": {
                            "color": "#C8D4E3"
                          },
                          "line": {
                            "color": "white"
                          }
                        },
                        "type": "table"
                      }
                    ]
                  },
                  "layout": {
                    "annotationdefaults": {
                      "arrowcolor": "#2a3f5f",
                      "arrowhead": 0,
                      "arrowwidth": 1
                    },
                    "autotypenumbers": "strict",
                    "coloraxis": {
                      "colorbar": {
                        "outlinewidth": 0,
                        "ticks": ""
                      }
                    },
                    "colorscale": {
                      "diverging": [
                        [
                          0,
                          "#8e0152"
                        ],
                        [
                          0.1,
                          "#c51b7d"
                        ],
                        [
                          0.2,
                          "#de77ae"
                        ],
                        [
                          0.3,
                          "#f1b6da"
                        ],
                        [
                          0.4,
                          "#fde0ef"
                        ],
                        [
                          0.5,
                          "#f7f7f7"
                        ],
                        [
                          0.6,
                          "#e6f5d0"
                        ],
                        [
                          0.7,
                          "#b8e186"
                        ],
                        [
                          0.8,
                          "#7fbc41"
                        ],
                        [
                          0.9,
                          "#4d9221"
                        ],
                        [
                          1,
                          "#276419"
                        ]
                      ],
                      "sequential": [
                        [
                          0,
                          "#0d0887"
                        ],
                        [
                          0.1111111111111111,
                          "#46039f"
                        ],
                        [
                          0.2222222222222222,
                          "#7201a8"
                        ],
                        [
                          0.3333333333333333,
                          "#9c179e"
                        ],
                        [
                          0.4444444444444444,
                          "#bd3786"
                        ],
                        [
                          0.5555555555555556,
                          "#d8576b"
                        ],
                        [
                          0.6666666666666666,
                          "#ed7953"
                        ],
                        [
                          0.7777777777777778,
                          "#fb9f3a"
                        ],
                        [
                          0.8888888888888888,
                          "#fdca26"
                        ],
                        [
                          1,
                          "#f0f921"
                        ]
                      ],
                      "sequentialminus": [
                        [
                          0,
                          "#0d0887"
                        ],
                        [
                          0.1111111111111111,
                          "#46039f"
                        ],
                        [
                          0.2222222222222222,
                          "#7201a8"
                        ],
                        [
                          0.3333333333333333,
                          "#9c179e"
                        ],
                        [
                          0.4444444444444444,
                          "#bd3786"
                        ],
                        [
                          0.5555555555555556,
                          "#d8576b"
                        ],
                        [
                          0.6666666666666666,
                          "#ed7953"
                        ],
                        [
                          0.7777777777777778,
                          "#fb9f3a"
                        ],
                        [
                          0.8888888888888888,
                          "#fdca26"
                        ],
                        [
                          1,
                          "#f0f921"
                        ]
                      ]
                    },
                    "colorway": [
                      "#636efa",
                      "#EF553B",
                      "#00cc96",
                      "#ab63fa",
                      "#FFA15A",
                      "#19d3f3",
                      "#FF6692",
                      "#B6E880",
                      "#FF97FF",
                      "#FECB52"
                    ],
                    "font": {
                      "color": "#2a3f5f"
                    },
                    "geo": {
                      "bgcolor": "white",
                      "lakecolor": "white",
                      "landcolor": "#E5ECF6",
                      "showlakes": true,
                      "showland": true,
                      "subunitcolor": "white"
                    },
                    "hoverlabel": {
                      "align": "left"
                    },
                    "hovermode": "closest",
                    "mapbox": {
                      "style": "light"
                    },
                    "paper_bgcolor": "white",
                    "plot_bgcolor": "#E5ECF6",
                    "polar": {
                      "angularaxis": {
                        "gridcolor": "white",
                        "linecolor": "white",
                        "ticks": ""
                      },
                      "bgcolor": "#E5ECF6",
                      "radialaxis": {
                        "gridcolor": "white",
                        "linecolor": "white",
                        "ticks": ""
                      }
                    },
                    "scene": {
                      "xaxis": {
                        "backgroundcolor": "#E5ECF6",
                        "gridcolor": "white",
                        "gridwidth": 2,
                        "linecolor": "white",
                        "showbackground": true,
                        "ticks": "",
                        "zerolinecolor": "white"
                      },
                      "yaxis": {
                        "backgroundcolor": "#E5ECF6",
                        "gridcolor": "white",
                        "gridwidth": 2,
                        "linecolor": "white",
                        "showbackground": true,
                        "ticks": "",
                        "zerolinecolor": "white"
                      },
                      "zaxis": {
                        "backgroundcolor": "#E5ECF6",
                        "gridcolor": "white",
                        "gridwidth": 2,
                        "linecolor": "white",
                        "showbackground": true,
                        "ticks": "",
                        "zerolinecolor": "white"
                      }
                    },
                    "shapedefaults": {
                      "line": {
                        "color": "#2a3f5f"
                      }
                    },
                    "ternary": {
                      "aaxis": {
                        "gridcolor": "white",
                        "linecolor": "white",
                        "ticks": ""
                      },
                      "baxis": {
                        "gridcolor": "white",
                        "linecolor": "white",
                        "ticks": ""
                      },
                      "bgcolor": "#E5ECF6",
                      "caxis": {
                        "gridcolor": "white",
                        "linecolor": "white",
                        "ticks": ""
                      }
                    },
                    "title": {
                      "x": 0.05
                    },
                    "xaxis": {
                      "automargin": true,
                      "gridcolor": "white",
                      "linecolor": "white",
                      "ticks": "",
                      "title": {
                        "standoff": 15
                      },
                      "zerolinecolor": "white",
                      "zerolinewidth": 2
                    },
                    "yaxis": {
                      "automargin": true,
                      "gridcolor": "white",
                      "linecolor": "white",
                      "ticks": "",
                      "title": {
                        "standoff": 15
                      },
                      "zerolinecolor": "white",
                      "zerolinewidth": 2
                    }
                  }
                },
                "title": {
                  "text": "Hubungan antara Musim dan Jumlah Sewa"
                },
                "xaxis": {
                  "anchor": "y",
                  "domain": [
                    0,
                    1
                  ],
                  "title": {
                    "text": "Musim"
                  }
                },
                "yaxis": {
                  "anchor": "x",
                  "domain": [
                    0,
                    1
                  ],
                  "title": {
                    "text": "Jumlah Sewa"
                  }
                }
              }
            }
          },
          "metadata": {},
          "output_type": "display_data"
        }
      ],
      "source": [
        "# Create box plot\n",
        "fig = px.box(df_day, x='season', y='cnt')\n",
        "\n",
        "# Update layout\n",
        "fig.update_layout(title='Hubungan antara Musim dan Jumlah Sewa', xaxis_title='Musim', yaxis_title='Jumlah Sewa')\n",
        "\n",
        "# Show the plot\n",
        "fig.show()\n"
      ]
    },
    {
      "cell_type": "markdown",
      "metadata": {
        "id": "iMJahSxYCbdr"
      },
      "source": [
        "Hubungan antara cuaca dan jumlah sewa"
      ]
    },
    {
      "cell_type": "code",
      "execution_count": 23,
      "metadata": {
        "colab": {
          "base_uri": "https://localhost:8080/",
          "height": 542
        },
        "id": "TNIsvjORoTBg",
        "outputId": "507cf38a-fa66-450c-9a4d-0b1a6a22ae62"
      },
      "outputs": [
        {
          "data": {
            "application/vnd.plotly.v1+json": {
              "config": {
                "plotlyServerURL": "https://plot.ly"
              },
              "data": [
                {
                  "alignmentgroup": "True",
                  "hovertemplate": "weathersit=%{x}<br>cnt=%{y}<extra></extra>",
                  "legendgroup": "",
                  "marker": {
                    "color": "#636efa"
                  },
                  "name": "",
                  "notched": false,
                  "offsetgroup": "",
                  "orientation": "v",
                  "showlegend": false,
                  "type": "box",
                  "x": [
                    2,
                    2,
                    1,
                    1,
                    1,
                    1,
                    2,
                    2,
                    1,
                    1,
                    2,
                    1,
                    1,
                    1,
                    2,
                    1,
                    2,
                    2,
                    2,
                    2,
                    1,
                    1,
                    1,
                    1,
                    2,
                    3,
                    1,
                    2,
                    1,
                    1,
                    2,
                    2,
                    2,
                    1,
                    2,
                    2,
                    1,
                    1,
                    1,
                    2,
                    1,
                    1,
                    1,
                    1,
                    1,
                    1,
                    1,
                    1,
                    1,
                    1,
                    1,
                    2,
                    1,
                    1,
                    2,
                    2,
                    1,
                    1,
                    2,
                    1,
                    1,
                    1,
                    2,
                    2,
                    2,
                    1,
                    1,
                    2,
                    3,
                    2,
                    1,
                    1,
                    1,
                    2,
                    2,
                    1,
                    1,
                    1,
                    1,
                    2,
                    1,
                    2,
                    2,
                    1,
                    1,
                    2,
                    1,
                    1,
                    2,
                    3,
                    2,
                    2,
                    1,
                    1,
                    2,
                    1,
                    1,
                    2,
                    2,
                    2,
                    2,
                    2,
                    2,
                    1,
                    1,
                    3,
                    1,
                    1,
                    2,
                    1,
                    1,
                    2,
                    2,
                    2,
                    1,
                    1,
                    2,
                    2,
                    1,
                    1,
                    2,
                    2,
                    2,
                    2,
                    1,
                    1,
                    1,
                    1,
                    1,
                    1,
                    1,
                    1,
                    2,
                    2,
                    2,
                    1,
                    2,
                    2,
                    2,
                    1,
                    1,
                    1,
                    2,
                    2,
                    1,
                    1,
                    1,
                    1,
                    1,
                    1,
                    1,
                    2,
                    1,
                    1,
                    1,
                    2,
                    1,
                    1,
                    1,
                    2,
                    1,
                    1,
                    1,
                    1,
                    1,
                    1,
                    2,
                    1,
                    1,
                    2,
                    2,
                    2,
                    1,
                    2,
                    1,
                    1,
                    1,
                    2,
                    1,
                    1,
                    1,
                    1,
                    1,
                    2,
                    2,
                    1,
                    1,
                    1,
                    2,
                    1,
                    1,
                    1,
                    1,
                    1,
                    1,
                    1,
                    1,
                    1,
                    1,
                    1,
                    1,
                    2,
                    1,
                    1,
                    1,
                    1,
                    1,
                    1,
                    1,
                    1,
                    1,
                    1,
                    1,
                    1,
                    2,
                    2,
                    1,
                    2,
                    1,
                    1,
                    1,
                    1,
                    1,
                    1,
                    2,
                    2,
                    1,
                    1,
                    1,
                    1,
                    2,
                    1,
                    1,
                    1,
                    1,
                    1,
                    2,
                    1,
                    2,
                    1,
                    1,
                    1,
                    1,
                    1,
                    2,
                    1,
                    1,
                    2,
                    3,
                    3,
                    3,
                    2,
                    1,
                    1,
                    1,
                    1,
                    1,
                    2,
                    2,
                    2,
                    1,
                    2,
                    2,
                    2,
                    2,
                    2,
                    2,
                    2,
                    2,
                    2,
                    2,
                    1,
                    1,
                    2,
                    2,
                    2,
                    1,
                    1,
                    1,
                    1,
                    1,
                    1,
                    1,
                    2,
                    3,
                    2,
                    2,
                    1,
                    1,
                    1,
                    2,
                    3,
                    1,
                    1,
                    1,
                    1,
                    1,
                    1,
                    2,
                    2,
                    2,
                    3,
                    1,
                    1,
                    1,
                    1,
                    1,
                    2,
                    1,
                    1,
                    1,
                    1,
                    1,
                    2,
                    1,
                    1,
                    1,
                    1,
                    2,
                    3,
                    2,
                    1,
                    1,
                    2,
                    3,
                    3,
                    2,
                    1,
                    1,
                    1,
                    1,
                    1,
                    2,
                    1,
                    1,
                    1,
                    1,
                    1,
                    2,
                    3,
                    3,
                    1,
                    1,
                    1,
                    1,
                    1,
                    1,
                    2,
                    2,
                    2,
                    2,
                    1,
                    1,
                    2,
                    2,
                    2,
                    1,
                    1,
                    1,
                    1,
                    2,
                    1,
                    1,
                    1,
                    1,
                    1,
                    1,
                    1,
                    2,
                    1,
                    1,
                    1,
                    1,
                    2,
                    1,
                    2,
                    2,
                    1,
                    1,
                    1,
                    1,
                    2,
                    1,
                    1,
                    2,
                    2,
                    2,
                    2,
                    1,
                    1,
                    2,
                    2,
                    1,
                    1,
                    1,
                    1,
                    1,
                    2,
                    1,
                    2,
                    2,
                    1,
                    1,
                    2,
                    1,
                    2,
                    3,
                    1,
                    1,
                    2,
                    1,
                    2,
                    1,
                    1,
                    2,
                    1,
                    1,
                    1,
                    1,
                    2,
                    1,
                    1,
                    1,
                    1,
                    2,
                    1,
                    2,
                    2,
                    1,
                    1,
                    1,
                    1,
                    1,
                    2,
                    1,
                    1,
                    1,
                    1,
                    1,
                    1,
                    2,
                    2,
                    2,
                    1,
                    1,
                    2,
                    1,
                    2,
                    2,
                    2,
                    1,
                    1,
                    1,
                    1,
                    2,
                    2,
                    2,
                    1,
                    1,
                    1,
                    1,
                    1,
                    1,
                    1,
                    1,
                    1,
                    1,
                    1,
                    1,
                    1,
                    1,
                    1,
                    1,
                    2,
                    1,
                    1,
                    1,
                    3,
                    2,
                    1,
                    1,
                    2,
                    1,
                    2,
                    1,
                    2,
                    2,
                    1,
                    2,
                    1,
                    2,
                    2,
                    2,
                    2,
                    2,
                    1,
                    1,
                    1,
                    1,
                    2,
                    2,
                    1,
                    1,
                    1,
                    1,
                    1,
                    2,
                    2,
                    2,
                    1,
                    1,
                    1,
                    1,
                    1,
                    1,
                    2,
                    1,
                    2,
                    1,
                    1,
                    1,
                    2,
                    1,
                    1,
                    1,
                    1,
                    1,
                    2,
                    2,
                    1,
                    1,
                    1,
                    1,
                    1,
                    2,
                    1,
                    1,
                    1,
                    1,
                    1,
                    1,
                    1,
                    1,
                    1,
                    1,
                    1,
                    1,
                    1,
                    1,
                    1,
                    1,
                    1,
                    1,
                    1,
                    1,
                    2,
                    2,
                    1,
                    1,
                    2,
                    2,
                    1,
                    1,
                    1,
                    1,
                    1,
                    2,
                    3,
                    2,
                    1,
                    1,
                    1,
                    1,
                    1,
                    1,
                    1,
                    1,
                    1,
                    1,
                    1,
                    2,
                    1,
                    1,
                    2,
                    2,
                    2,
                    1,
                    2,
                    2,
                    1,
                    1,
                    1,
                    1,
                    1,
                    1,
                    1,
                    2,
                    2,
                    1,
                    1,
                    1,
                    2,
                    2,
                    2,
                    1,
                    1,
                    1,
                    1,
                    1,
                    2,
                    2,
                    1,
                    1,
                    1,
                    2,
                    1,
                    2,
                    1,
                    1,
                    1,
                    1,
                    1,
                    1,
                    1,
                    1,
                    2,
                    2,
                    1,
                    1,
                    1,
                    1,
                    1,
                    1,
                    1,
                    1,
                    2,
                    2,
                    1,
                    1,
                    2,
                    3,
                    2,
                    2,
                    1,
                    1,
                    2,
                    2,
                    2,
                    1,
                    1,
                    1,
                    1,
                    1,
                    2,
                    1,
                    1,
                    2,
                    2,
                    1,
                    1,
                    1,
                    1,
                    1,
                    2,
                    2,
                    2,
                    2,
                    3,
                    2,
                    2,
                    2,
                    1,
                    2,
                    1,
                    1,
                    1,
                    2,
                    1,
                    1,
                    1,
                    1,
                    1,
                    2,
                    1,
                    2,
                    1,
                    1,
                    1,
                    2,
                    2,
                    1,
                    1,
                    1,
                    1,
                    1,
                    1,
                    2,
                    1,
                    1,
                    1,
                    2,
                    2,
                    1,
                    1,
                    1,
                    1,
                    2,
                    2,
                    2,
                    2,
                    2,
                    2,
                    1,
                    1,
                    1,
                    2,
                    2,
                    1,
                    1,
                    2,
                    2,
                    1,
                    1,
                    2,
                    2,
                    3,
                    2,
                    2,
                    2,
                    1,
                    2
                  ],
                  "x0": " ",
                  "xaxis": "x",
                  "y": [
                    985,
                    801,
                    1349,
                    1562,
                    1600,
                    1606,
                    1510,
                    959,
                    822,
                    1321,
                    1263,
                    1162,
                    1406,
                    1421,
                    1248,
                    1204,
                    1000,
                    683,
                    1650,
                    1927,
                    1543,
                    981,
                    986,
                    1416,
                    1985,
                    506,
                    431,
                    1167,
                    1098,
                    1096,
                    1501,
                    1360,
                    1526,
                    1550,
                    1708,
                    1005,
                    1623,
                    1712,
                    1530,
                    1605,
                    1538,
                    1746,
                    1472,
                    1589,
                    1913,
                    1815,
                    2115,
                    2475,
                    2927,
                    1635,
                    1812,
                    1107,
                    1450,
                    1917,
                    1807,
                    1461,
                    1969,
                    2402,
                    1446,
                    1851,
                    2134,
                    1685,
                    1944,
                    2077,
                    605,
                    1872,
                    2133,
                    1891,
                    623,
                    1977,
                    2132,
                    2417,
                    2046,
                    2056,
                    2192,
                    2744,
                    3239,
                    3117,
                    2471,
                    2077,
                    2703,
                    2121,
                    1865,
                    2210,
                    2496,
                    1693,
                    2028,
                    2425,
                    1536,
                    1685,
                    2227,
                    2252,
                    3249,
                    3115,
                    1795,
                    2808,
                    3141,
                    1471,
                    2455,
                    2895,
                    3348,
                    2034,
                    2162,
                    3267,
                    3126,
                    795,
                    3744,
                    3429,
                    3204,
                    3944,
                    4189,
                    1683,
                    4036,
                    4191,
                    4073,
                    4400,
                    3872,
                    4058,
                    4595,
                    5312,
                    3351,
                    4401,
                    4451,
                    2633,
                    4433,
                    4608,
                    4714,
                    4333,
                    4362,
                    4803,
                    4182,
                    4864,
                    4105,
                    3409,
                    4553,
                    3958,
                    4123,
                    3855,
                    4575,
                    4917,
                    5805,
                    4660,
                    4274,
                    4492,
                    4978,
                    4677,
                    4679,
                    4758,
                    4788,
                    4098,
                    3982,
                    3974,
                    4968,
                    5312,
                    5342,
                    4906,
                    4548,
                    4833,
                    4401,
                    3915,
                    4586,
                    4966,
                    4460,
                    5020,
                    4891,
                    5180,
                    3767,
                    4844,
                    5119,
                    4744,
                    4010,
                    4835,
                    4507,
                    4790,
                    4991,
                    5202,
                    5305,
                    4708,
                    4648,
                    5225,
                    5515,
                    5362,
                    5119,
                    4649,
                    6043,
                    4665,
                    4629,
                    4592,
                    4040,
                    5336,
                    4881,
                    4086,
                    4258,
                    4342,
                    5084,
                    5538,
                    5923,
                    5302,
                    4458,
                    4541,
                    4332,
                    3784,
                    3387,
                    3285,
                    3606,
                    3840,
                    4590,
                    4656,
                    4390,
                    3846,
                    4475,
                    4302,
                    4266,
                    4845,
                    3574,
                    4576,
                    4866,
                    4294,
                    3785,
                    4326,
                    4602,
                    4780,
                    4792,
                    4905,
                    4150,
                    3820,
                    4338,
                    4725,
                    4694,
                    3805,
                    4153,
                    5191,
                    3873,
                    4758,
                    5895,
                    5130,
                    3542,
                    4661,
                    1115,
                    4334,
                    4634,
                    5204,
                    5058,
                    5115,
                    4727,
                    4484,
                    4940,
                    3351,
                    2710,
                    1996,
                    1842,
                    3544,
                    5345,
                    5046,
                    4713,
                    4763,
                    4785,
                    3659,
                    4760,
                    4511,
                    4274,
                    4539,
                    3641,
                    4352,
                    4795,
                    2395,
                    5423,
                    5010,
                    4630,
                    4120,
                    3907,
                    4839,
                    5202,
                    2429,
                    2918,
                    3570,
                    4456,
                    4826,
                    4765,
                    4985,
                    5409,
                    5511,
                    5117,
                    4563,
                    2416,
                    2913,
                    3644,
                    5217,
                    5041,
                    4570,
                    4748,
                    2424,
                    4195,
                    4304,
                    4308,
                    4381,
                    4187,
                    4687,
                    3894,
                    2659,
                    3747,
                    627,
                    3331,
                    3669,
                    4068,
                    4186,
                    3974,
                    4046,
                    3926,
                    3649,
                    4035,
                    4205,
                    4109,
                    2933,
                    3368,
                    4067,
                    3717,
                    4486,
                    4195,
                    1817,
                    3053,
                    3392,
                    3663,
                    3520,
                    2765,
                    1607,
                    2566,
                    1495,
                    2792,
                    3068,
                    3071,
                    3867,
                    2914,
                    3613,
                    3727,
                    3940,
                    3614,
                    3485,
                    3811,
                    2594,
                    705,
                    3322,
                    3620,
                    3190,
                    2743,
                    3310,
                    3523,
                    3740,
                    3709,
                    3577,
                    2739,
                    2431,
                    3403,
                    3750,
                    2660,
                    3068,
                    2209,
                    1011,
                    754,
                    1317,
                    1162,
                    2302,
                    2423,
                    2999,
                    2485,
                    2294,
                    1951,
                    2236,
                    2368,
                    3272,
                    4098,
                    4521,
                    3425,
                    2376,
                    3598,
                    2177,
                    4097,
                    3214,
                    2493,
                    2311,
                    2298,
                    2935,
                    3376,
                    3292,
                    3163,
                    1301,
                    1977,
                    2432,
                    4339,
                    4270,
                    4075,
                    3456,
                    4023,
                    3243,
                    3624,
                    4509,
                    4579,
                    3761,
                    4151,
                    2832,
                    2947,
                    3784,
                    4375,
                    2802,
                    3830,
                    3831,
                    2169,
                    1529,
                    3422,
                    3922,
                    4169,
                    3005,
                    4154,
                    4318,
                    2689,
                    3129,
                    3777,
                    4773,
                    5062,
                    3487,
                    2732,
                    3389,
                    4322,
                    4363,
                    1834,
                    4990,
                    3194,
                    4066,
                    3423,
                    3333,
                    3956,
                    4916,
                    5382,
                    4569,
                    4118,
                    4911,
                    5298,
                    5847,
                    6312,
                    6192,
                    4378,
                    7836,
                    5892,
                    6153,
                    6093,
                    6230,
                    6871,
                    8362,
                    3372,
                    4996,
                    5558,
                    5102,
                    5698,
                    6133,
                    5459,
                    6235,
                    6041,
                    5936,
                    6772,
                    6436,
                    6457,
                    6460,
                    6857,
                    5169,
                    5585,
                    5918,
                    4862,
                    5409,
                    6398,
                    7460,
                    7132,
                    6370,
                    6691,
                    4367,
                    6565,
                    7290,
                    6624,
                    1027,
                    3214,
                    5633,
                    6196,
                    5026,
                    6233,
                    4220,
                    6304,
                    5572,
                    5740,
                    6169,
                    6421,
                    6296,
                    6883,
                    6359,
                    6273,
                    5728,
                    4717,
                    6572,
                    7030,
                    7429,
                    6118,
                    2843,
                    5115,
                    7424,
                    7384,
                    7639,
                    8294,
                    7129,
                    4359,
                    6073,
                    5260,
                    6770,
                    6734,
                    6536,
                    6591,
                    6043,
                    5743,
                    6855,
                    7338,
                    4127,
                    8120,
                    7641,
                    6998,
                    7001,
                    7055,
                    7494,
                    7736,
                    7498,
                    6598,
                    6664,
                    4972,
                    7421,
                    7363,
                    7665,
                    7702,
                    6978,
                    5099,
                    6825,
                    6211,
                    5905,
                    5823,
                    7458,
                    6891,
                    6779,
                    7442,
                    7335,
                    6879,
                    5463,
                    5687,
                    5531,
                    6227,
                    6660,
                    7403,
                    6241,
                    6207,
                    4840,
                    4672,
                    6569,
                    6290,
                    7264,
                    7446,
                    7499,
                    6969,
                    6031,
                    6830,
                    6786,
                    5713,
                    6591,
                    5870,
                    4459,
                    7410,
                    6966,
                    7592,
                    8173,
                    6861,
                    6904,
                    6685,
                    6597,
                    7105,
                    7216,
                    7580,
                    7261,
                    7175,
                    6824,
                    5464,
                    7013,
                    7273,
                    7534,
                    7286,
                    5786,
                    6299,
                    6544,
                    6883,
                    6784,
                    7347,
                    7605,
                    7148,
                    7865,
                    4549,
                    6530,
                    7006,
                    7375,
                    7765,
                    7582,
                    6053,
                    5255,
                    6917,
                    7040,
                    7697,
                    7713,
                    7350,
                    6140,
                    5810,
                    6034,
                    6864,
                    7112,
                    6203,
                    7504,
                    5976,
                    8227,
                    7525,
                    7767,
                    7870,
                    7804,
                    8009,
                    8714,
                    7333,
                    6869,
                    4073,
                    7591,
                    7720,
                    8167,
                    8395,
                    7907,
                    7436,
                    7538,
                    7733,
                    7393,
                    7415,
                    8555,
                    6889,
                    6778,
                    4639,
                    7572,
                    7328,
                    8156,
                    7965,
                    3510,
                    5478,
                    6392,
                    7691,
                    7570,
                    7282,
                    7109,
                    6639,
                    5875,
                    7534,
                    7461,
                    7509,
                    5424,
                    8090,
                    6824,
                    7058,
                    7466,
                    7693,
                    7359,
                    7444,
                    7852,
                    4459,
                    22,
                    1096,
                    5566,
                    5986,
                    5847,
                    5138,
                    5107,
                    5259,
                    5686,
                    5035,
                    5315,
                    5992,
                    6536,
                    6852,
                    6269,
                    4094,
                    5495,
                    5445,
                    5698,
                    5629,
                    4669,
                    5499,
                    5634,
                    5146,
                    2425,
                    3910,
                    2277,
                    2424,
                    5087,
                    3959,
                    5260,
                    5323,
                    5668,
                    5191,
                    4649,
                    6234,
                    6606,
                    5729,
                    5375,
                    5008,
                    5582,
                    3228,
                    5170,
                    5501,
                    5319,
                    5532,
                    5611,
                    5047,
                    3786,
                    4585,
                    5557,
                    5267,
                    4128,
                    3623,
                    1749,
                    1787,
                    920,
                    1013,
                    441,
                    2114,
                    3095,
                    1341,
                    1796,
                    2729
                  ],
                  "y0": " ",
                  "yaxis": "y"
                }
              ],
              "layout": {
                "boxmode": "group",
                "legend": {
                  "tracegroupgap": 0
                },
                "margin": {
                  "t": 60
                },
                "template": {
                  "data": {
                    "bar": [
                      {
                        "error_x": {
                          "color": "#2a3f5f"
                        },
                        "error_y": {
                          "color": "#2a3f5f"
                        },
                        "marker": {
                          "line": {
                            "color": "#E5ECF6",
                            "width": 0.5
                          },
                          "pattern": {
                            "fillmode": "overlay",
                            "size": 10,
                            "solidity": 0.2
                          }
                        },
                        "type": "bar"
                      }
                    ],
                    "barpolar": [
                      {
                        "marker": {
                          "line": {
                            "color": "#E5ECF6",
                            "width": 0.5
                          },
                          "pattern": {
                            "fillmode": "overlay",
                            "size": 10,
                            "solidity": 0.2
                          }
                        },
                        "type": "barpolar"
                      }
                    ],
                    "carpet": [
                      {
                        "aaxis": {
                          "endlinecolor": "#2a3f5f",
                          "gridcolor": "white",
                          "linecolor": "white",
                          "minorgridcolor": "white",
                          "startlinecolor": "#2a3f5f"
                        },
                        "baxis": {
                          "endlinecolor": "#2a3f5f",
                          "gridcolor": "white",
                          "linecolor": "white",
                          "minorgridcolor": "white",
                          "startlinecolor": "#2a3f5f"
                        },
                        "type": "carpet"
                      }
                    ],
                    "choropleth": [
                      {
                        "colorbar": {
                          "outlinewidth": 0,
                          "ticks": ""
                        },
                        "type": "choropleth"
                      }
                    ],
                    "contour": [
                      {
                        "colorbar": {
                          "outlinewidth": 0,
                          "ticks": ""
                        },
                        "colorscale": [
                          [
                            0,
                            "#0d0887"
                          ],
                          [
                            0.1111111111111111,
                            "#46039f"
                          ],
                          [
                            0.2222222222222222,
                            "#7201a8"
                          ],
                          [
                            0.3333333333333333,
                            "#9c179e"
                          ],
                          [
                            0.4444444444444444,
                            "#bd3786"
                          ],
                          [
                            0.5555555555555556,
                            "#d8576b"
                          ],
                          [
                            0.6666666666666666,
                            "#ed7953"
                          ],
                          [
                            0.7777777777777778,
                            "#fb9f3a"
                          ],
                          [
                            0.8888888888888888,
                            "#fdca26"
                          ],
                          [
                            1,
                            "#f0f921"
                          ]
                        ],
                        "type": "contour"
                      }
                    ],
                    "contourcarpet": [
                      {
                        "colorbar": {
                          "outlinewidth": 0,
                          "ticks": ""
                        },
                        "type": "contourcarpet"
                      }
                    ],
                    "heatmap": [
                      {
                        "colorbar": {
                          "outlinewidth": 0,
                          "ticks": ""
                        },
                        "colorscale": [
                          [
                            0,
                            "#0d0887"
                          ],
                          [
                            0.1111111111111111,
                            "#46039f"
                          ],
                          [
                            0.2222222222222222,
                            "#7201a8"
                          ],
                          [
                            0.3333333333333333,
                            "#9c179e"
                          ],
                          [
                            0.4444444444444444,
                            "#bd3786"
                          ],
                          [
                            0.5555555555555556,
                            "#d8576b"
                          ],
                          [
                            0.6666666666666666,
                            "#ed7953"
                          ],
                          [
                            0.7777777777777778,
                            "#fb9f3a"
                          ],
                          [
                            0.8888888888888888,
                            "#fdca26"
                          ],
                          [
                            1,
                            "#f0f921"
                          ]
                        ],
                        "type": "heatmap"
                      }
                    ],
                    "heatmapgl": [
                      {
                        "colorbar": {
                          "outlinewidth": 0,
                          "ticks": ""
                        },
                        "colorscale": [
                          [
                            0,
                            "#0d0887"
                          ],
                          [
                            0.1111111111111111,
                            "#46039f"
                          ],
                          [
                            0.2222222222222222,
                            "#7201a8"
                          ],
                          [
                            0.3333333333333333,
                            "#9c179e"
                          ],
                          [
                            0.4444444444444444,
                            "#bd3786"
                          ],
                          [
                            0.5555555555555556,
                            "#d8576b"
                          ],
                          [
                            0.6666666666666666,
                            "#ed7953"
                          ],
                          [
                            0.7777777777777778,
                            "#fb9f3a"
                          ],
                          [
                            0.8888888888888888,
                            "#fdca26"
                          ],
                          [
                            1,
                            "#f0f921"
                          ]
                        ],
                        "type": "heatmapgl"
                      }
                    ],
                    "histogram": [
                      {
                        "marker": {
                          "pattern": {
                            "fillmode": "overlay",
                            "size": 10,
                            "solidity": 0.2
                          }
                        },
                        "type": "histogram"
                      }
                    ],
                    "histogram2d": [
                      {
                        "colorbar": {
                          "outlinewidth": 0,
                          "ticks": ""
                        },
                        "colorscale": [
                          [
                            0,
                            "#0d0887"
                          ],
                          [
                            0.1111111111111111,
                            "#46039f"
                          ],
                          [
                            0.2222222222222222,
                            "#7201a8"
                          ],
                          [
                            0.3333333333333333,
                            "#9c179e"
                          ],
                          [
                            0.4444444444444444,
                            "#bd3786"
                          ],
                          [
                            0.5555555555555556,
                            "#d8576b"
                          ],
                          [
                            0.6666666666666666,
                            "#ed7953"
                          ],
                          [
                            0.7777777777777778,
                            "#fb9f3a"
                          ],
                          [
                            0.8888888888888888,
                            "#fdca26"
                          ],
                          [
                            1,
                            "#f0f921"
                          ]
                        ],
                        "type": "histogram2d"
                      }
                    ],
                    "histogram2dcontour": [
                      {
                        "colorbar": {
                          "outlinewidth": 0,
                          "ticks": ""
                        },
                        "colorscale": [
                          [
                            0,
                            "#0d0887"
                          ],
                          [
                            0.1111111111111111,
                            "#46039f"
                          ],
                          [
                            0.2222222222222222,
                            "#7201a8"
                          ],
                          [
                            0.3333333333333333,
                            "#9c179e"
                          ],
                          [
                            0.4444444444444444,
                            "#bd3786"
                          ],
                          [
                            0.5555555555555556,
                            "#d8576b"
                          ],
                          [
                            0.6666666666666666,
                            "#ed7953"
                          ],
                          [
                            0.7777777777777778,
                            "#fb9f3a"
                          ],
                          [
                            0.8888888888888888,
                            "#fdca26"
                          ],
                          [
                            1,
                            "#f0f921"
                          ]
                        ],
                        "type": "histogram2dcontour"
                      }
                    ],
                    "mesh3d": [
                      {
                        "colorbar": {
                          "outlinewidth": 0,
                          "ticks": ""
                        },
                        "type": "mesh3d"
                      }
                    ],
                    "parcoords": [
                      {
                        "line": {
                          "colorbar": {
                            "outlinewidth": 0,
                            "ticks": ""
                          }
                        },
                        "type": "parcoords"
                      }
                    ],
                    "pie": [
                      {
                        "automargin": true,
                        "type": "pie"
                      }
                    ],
                    "scatter": [
                      {
                        "fillpattern": {
                          "fillmode": "overlay",
                          "size": 10,
                          "solidity": 0.2
                        },
                        "type": "scatter"
                      }
                    ],
                    "scatter3d": [
                      {
                        "line": {
                          "colorbar": {
                            "outlinewidth": 0,
                            "ticks": ""
                          }
                        },
                        "marker": {
                          "colorbar": {
                            "outlinewidth": 0,
                            "ticks": ""
                          }
                        },
                        "type": "scatter3d"
                      }
                    ],
                    "scattercarpet": [
                      {
                        "marker": {
                          "colorbar": {
                            "outlinewidth": 0,
                            "ticks": ""
                          }
                        },
                        "type": "scattercarpet"
                      }
                    ],
                    "scattergeo": [
                      {
                        "marker": {
                          "colorbar": {
                            "outlinewidth": 0,
                            "ticks": ""
                          }
                        },
                        "type": "scattergeo"
                      }
                    ],
                    "scattergl": [
                      {
                        "marker": {
                          "colorbar": {
                            "outlinewidth": 0,
                            "ticks": ""
                          }
                        },
                        "type": "scattergl"
                      }
                    ],
                    "scattermapbox": [
                      {
                        "marker": {
                          "colorbar": {
                            "outlinewidth": 0,
                            "ticks": ""
                          }
                        },
                        "type": "scattermapbox"
                      }
                    ],
                    "scatterpolar": [
                      {
                        "marker": {
                          "colorbar": {
                            "outlinewidth": 0,
                            "ticks": ""
                          }
                        },
                        "type": "scatterpolar"
                      }
                    ],
                    "scatterpolargl": [
                      {
                        "marker": {
                          "colorbar": {
                            "outlinewidth": 0,
                            "ticks": ""
                          }
                        },
                        "type": "scatterpolargl"
                      }
                    ],
                    "scatterternary": [
                      {
                        "marker": {
                          "colorbar": {
                            "outlinewidth": 0,
                            "ticks": ""
                          }
                        },
                        "type": "scatterternary"
                      }
                    ],
                    "surface": [
                      {
                        "colorbar": {
                          "outlinewidth": 0,
                          "ticks": ""
                        },
                        "colorscale": [
                          [
                            0,
                            "#0d0887"
                          ],
                          [
                            0.1111111111111111,
                            "#46039f"
                          ],
                          [
                            0.2222222222222222,
                            "#7201a8"
                          ],
                          [
                            0.3333333333333333,
                            "#9c179e"
                          ],
                          [
                            0.4444444444444444,
                            "#bd3786"
                          ],
                          [
                            0.5555555555555556,
                            "#d8576b"
                          ],
                          [
                            0.6666666666666666,
                            "#ed7953"
                          ],
                          [
                            0.7777777777777778,
                            "#fb9f3a"
                          ],
                          [
                            0.8888888888888888,
                            "#fdca26"
                          ],
                          [
                            1,
                            "#f0f921"
                          ]
                        ],
                        "type": "surface"
                      }
                    ],
                    "table": [
                      {
                        "cells": {
                          "fill": {
                            "color": "#EBF0F8"
                          },
                          "line": {
                            "color": "white"
                          }
                        },
                        "header": {
                          "fill": {
                            "color": "#C8D4E3"
                          },
                          "line": {
                            "color": "white"
                          }
                        },
                        "type": "table"
                      }
                    ]
                  },
                  "layout": {
                    "annotationdefaults": {
                      "arrowcolor": "#2a3f5f",
                      "arrowhead": 0,
                      "arrowwidth": 1
                    },
                    "autotypenumbers": "strict",
                    "coloraxis": {
                      "colorbar": {
                        "outlinewidth": 0,
                        "ticks": ""
                      }
                    },
                    "colorscale": {
                      "diverging": [
                        [
                          0,
                          "#8e0152"
                        ],
                        [
                          0.1,
                          "#c51b7d"
                        ],
                        [
                          0.2,
                          "#de77ae"
                        ],
                        [
                          0.3,
                          "#f1b6da"
                        ],
                        [
                          0.4,
                          "#fde0ef"
                        ],
                        [
                          0.5,
                          "#f7f7f7"
                        ],
                        [
                          0.6,
                          "#e6f5d0"
                        ],
                        [
                          0.7,
                          "#b8e186"
                        ],
                        [
                          0.8,
                          "#7fbc41"
                        ],
                        [
                          0.9,
                          "#4d9221"
                        ],
                        [
                          1,
                          "#276419"
                        ]
                      ],
                      "sequential": [
                        [
                          0,
                          "#0d0887"
                        ],
                        [
                          0.1111111111111111,
                          "#46039f"
                        ],
                        [
                          0.2222222222222222,
                          "#7201a8"
                        ],
                        [
                          0.3333333333333333,
                          "#9c179e"
                        ],
                        [
                          0.4444444444444444,
                          "#bd3786"
                        ],
                        [
                          0.5555555555555556,
                          "#d8576b"
                        ],
                        [
                          0.6666666666666666,
                          "#ed7953"
                        ],
                        [
                          0.7777777777777778,
                          "#fb9f3a"
                        ],
                        [
                          0.8888888888888888,
                          "#fdca26"
                        ],
                        [
                          1,
                          "#f0f921"
                        ]
                      ],
                      "sequentialminus": [
                        [
                          0,
                          "#0d0887"
                        ],
                        [
                          0.1111111111111111,
                          "#46039f"
                        ],
                        [
                          0.2222222222222222,
                          "#7201a8"
                        ],
                        [
                          0.3333333333333333,
                          "#9c179e"
                        ],
                        [
                          0.4444444444444444,
                          "#bd3786"
                        ],
                        [
                          0.5555555555555556,
                          "#d8576b"
                        ],
                        [
                          0.6666666666666666,
                          "#ed7953"
                        ],
                        [
                          0.7777777777777778,
                          "#fb9f3a"
                        ],
                        [
                          0.8888888888888888,
                          "#fdca26"
                        ],
                        [
                          1,
                          "#f0f921"
                        ]
                      ]
                    },
                    "colorway": [
                      "#636efa",
                      "#EF553B",
                      "#00cc96",
                      "#ab63fa",
                      "#FFA15A",
                      "#19d3f3",
                      "#FF6692",
                      "#B6E880",
                      "#FF97FF",
                      "#FECB52"
                    ],
                    "font": {
                      "color": "#2a3f5f"
                    },
                    "geo": {
                      "bgcolor": "white",
                      "lakecolor": "white",
                      "landcolor": "#E5ECF6",
                      "showlakes": true,
                      "showland": true,
                      "subunitcolor": "white"
                    },
                    "hoverlabel": {
                      "align": "left"
                    },
                    "hovermode": "closest",
                    "mapbox": {
                      "style": "light"
                    },
                    "paper_bgcolor": "white",
                    "plot_bgcolor": "#E5ECF6",
                    "polar": {
                      "angularaxis": {
                        "gridcolor": "white",
                        "linecolor": "white",
                        "ticks": ""
                      },
                      "bgcolor": "#E5ECF6",
                      "radialaxis": {
                        "gridcolor": "white",
                        "linecolor": "white",
                        "ticks": ""
                      }
                    },
                    "scene": {
                      "xaxis": {
                        "backgroundcolor": "#E5ECF6",
                        "gridcolor": "white",
                        "gridwidth": 2,
                        "linecolor": "white",
                        "showbackground": true,
                        "ticks": "",
                        "zerolinecolor": "white"
                      },
                      "yaxis": {
                        "backgroundcolor": "#E5ECF6",
                        "gridcolor": "white",
                        "gridwidth": 2,
                        "linecolor": "white",
                        "showbackground": true,
                        "ticks": "",
                        "zerolinecolor": "white"
                      },
                      "zaxis": {
                        "backgroundcolor": "#E5ECF6",
                        "gridcolor": "white",
                        "gridwidth": 2,
                        "linecolor": "white",
                        "showbackground": true,
                        "ticks": "",
                        "zerolinecolor": "white"
                      }
                    },
                    "shapedefaults": {
                      "line": {
                        "color": "#2a3f5f"
                      }
                    },
                    "ternary": {
                      "aaxis": {
                        "gridcolor": "white",
                        "linecolor": "white",
                        "ticks": ""
                      },
                      "baxis": {
                        "gridcolor": "white",
                        "linecolor": "white",
                        "ticks": ""
                      },
                      "bgcolor": "#E5ECF6",
                      "caxis": {
                        "gridcolor": "white",
                        "linecolor": "white",
                        "ticks": ""
                      }
                    },
                    "title": {
                      "x": 0.05
                    },
                    "xaxis": {
                      "automargin": true,
                      "gridcolor": "white",
                      "linecolor": "white",
                      "ticks": "",
                      "title": {
                        "standoff": 15
                      },
                      "zerolinecolor": "white",
                      "zerolinewidth": 2
                    },
                    "yaxis": {
                      "automargin": true,
                      "gridcolor": "white",
                      "linecolor": "white",
                      "ticks": "",
                      "title": {
                        "standoff": 15
                      },
                      "zerolinecolor": "white",
                      "zerolinewidth": 2
                    }
                  }
                },
                "title": {
                  "text": "Hubungan antara Cuaca dan Jumlah Sewa"
                },
                "xaxis": {
                  "anchor": "y",
                  "domain": [
                    0,
                    1
                  ],
                  "title": {
                    "text": "Situasi Cuaca"
                  }
                },
                "yaxis": {
                  "anchor": "x",
                  "domain": [
                    0,
                    1
                  ],
                  "title": {
                    "text": "Jumlah Sewa"
                  }
                }
              }
            }
          },
          "metadata": {},
          "output_type": "display_data"
        }
      ],
      "source": [
        "# Create box plot\n",
        "fig = px.box(df_day, x='weathersit', y='cnt')\n",
        "\n",
        "# Update layout\n",
        "fig.update_layout(title='Hubungan antara Cuaca dan Jumlah Sewa', xaxis_title='Situasi Cuaca', yaxis_title='Jumlah Sewa')\n",
        "\n",
        "# Show the plot\n",
        "fig.show()"
      ]
    },
    {
      "cell_type": "markdown",
      "metadata": {
        "id": "pXmqRre-CfAd"
      },
      "source": [
        "Pengaruh jumlah sewa sepeda per jam (hourly) berdasarkan cuaca"
      ]
    },
    {
      "cell_type": "code",
      "execution_count": 24,
      "metadata": {
        "colab": {
          "base_uri": "https://localhost:8080/",
          "height": 542
        },
        "id": "xwVYSiUV3KPz",
        "outputId": "4888a4e9-94a7-4722-c12b-f8137bb919ce"
      },
      "outputs": [
        {
          "data": {
            "application/vnd.plotly.v1+json": {
              "config": {
                "plotlyServerURL": "https://plot.ly"
              },
              "data": [
                {
                  "hovertemplate": "Kondisi Cuaca=1<br>Jam=%{x}<br>Jumlah Sewa=%{y}<extra></extra>",
                  "legendgroup": "1",
                  "line": {
                    "color": "#636efa",
                    "dash": "solid"
                  },
                  "marker": {
                    "symbol": "circle"
                  },
                  "mode": "lines",
                  "name": "1",
                  "orientation": "v",
                  "showlegend": true,
                  "type": "scatter",
                  "x": [
                    0,
                    1,
                    2,
                    3,
                    4,
                    5,
                    6,
                    7,
                    8,
                    9,
                    10,
                    11,
                    12,
                    13,
                    14,
                    15,
                    16,
                    17,
                    18,
                    19,
                    20,
                    21,
                    22,
                    23
                  ],
                  "xaxis": "x",
                  "y": [
                    59.16155419222904,
                    34.39591836734694,
                    22.817991631799163,
                    11.995604395604396,
                    6.413566739606127,
                    20.414686825053995,
                    79.16556291390728,
                    218.74266365688487,
                    361.3590909090909,
                    226.3916083916084,
                    192.47072072072072,
                    234.2841163310962,
                    281.97516930022573,
                    283.38876889848814,
                    269.46413502109704,
                    275.22886597938145,
                    335.7450980392157,
                    500.42998027613413,
                    458.44,
                    336.09626719056973,
                    244.86923076923077,
                    186.82651072124756,
                    142.60117878192534,
                    93.98170731707317
                  ],
                  "yaxis": "y"
                },
                {
                  "hovertemplate": "Kondisi Cuaca=2<br>Jam=%{x}<br>Jumlah Sewa=%{y}<extra></extra>",
                  "legendgroup": "2",
                  "line": {
                    "color": "#EF553B",
                    "dash": "solid"
                  },
                  "marker": {
                    "symbol": "circle"
                  },
                  "mode": "lines",
                  "name": "2",
                  "orientation": "v",
                  "showlegend": true,
                  "type": "scatter",
                  "x": [
                    0,
                    1,
                    2,
                    3,
                    4,
                    5,
                    6,
                    7,
                    8,
                    9,
                    10,
                    11,
                    12,
                    13,
                    14,
                    15,
                    16,
                    17,
                    18,
                    19,
                    20,
                    21,
                    22,
                    23
                  ],
                  "xaxis": "x",
                  "y": [
                    47.23243243243243,
                    35.54189944134078,
                    25.49171270718232,
                    12.452127659574469,
                    6.721311475409836,
                    20.141463414634146,
                    74.61290322580645,
                    224.7336448598131,
                    391.28384279475983,
                    226.8483606557377,
                    159.4695652173913,
                    182.67811158798284,
                    225.8695652173913,
                    225.85576923076923,
                    208.65463917525773,
                    227.81460674157304,
                    299.64,
                    422.9047619047619,
                    390.4177215189873,
                    282.025,
                    204.54285714285714,
                    151.81645569620252,
                    116.82317073170732,
                    85.17159763313609
                  ],
                  "yaxis": "y"
                },
                {
                  "hovertemplate": "Kondisi Cuaca=3<br>Jam=%{x}<br>Jumlah Sewa=%{y}<extra></extra>",
                  "legendgroup": "3",
                  "line": {
                    "color": "#00cc96",
                    "dash": "solid"
                  },
                  "marker": {
                    "symbol": "circle"
                  },
                  "mode": "lines",
                  "name": "3",
                  "orientation": "v",
                  "showlegend": true,
                  "type": "scatter",
                  "x": [
                    0,
                    1,
                    2,
                    3,
                    4,
                    5,
                    6,
                    7,
                    8,
                    9,
                    10,
                    11,
                    12,
                    13,
                    14,
                    15,
                    16,
                    17,
                    18,
                    19,
                    20,
                    21,
                    22,
                    23
                  ],
                  "xaxis": "x",
                  "y": [
                    28.115384615384617,
                    17.12962962962963,
                    14.839285714285714,
                    6.944444444444445,
                    4.684210526315789,
                    13.877551020408163,
                    55.981818181818184,
                    131.07142857142858,
                    213.77586206896552,
                    128.9814814814815,
                    77.77358490566037,
                    85.76595744680851,
                    137.25454545454545,
                    116.06896551724138,
                    122.08196721311475,
                    138.06060606060606,
                    167.18840579710144,
                    275.9868421052632,
                    271.04347826086956,
                    179.52542372881356,
                    126.20588235294117,
                    98.52631578947368,
                    70.34545454545454,
                    49.37313432835821
                  ],
                  "yaxis": "y"
                },
                {
                  "hovertemplate": "Kondisi Cuaca=4<br>Jam=%{x}<br>Jumlah Sewa=%{y}<extra></extra>",
                  "legendgroup": "4",
                  "line": {
                    "color": "#ab63fa",
                    "dash": "solid"
                  },
                  "marker": {
                    "symbol": "circle"
                  },
                  "mode": "lines",
                  "name": "4",
                  "orientation": "v",
                  "showlegend": true,
                  "type": "scatter",
                  "x": [
                    1,
                    16,
                    18
                  ],
                  "xaxis": "x",
                  "y": [
                    23,
                    36,
                    164
                  ],
                  "yaxis": "y"
                }
              ],
              "layout": {
                "legend": {
                  "title": {
                    "text": "Kondisi Cuaca"
                  },
                  "tracegroupgap": 0
                },
                "template": {
                  "data": {
                    "bar": [
                      {
                        "error_x": {
                          "color": "#2a3f5f"
                        },
                        "error_y": {
                          "color": "#2a3f5f"
                        },
                        "marker": {
                          "line": {
                            "color": "#E5ECF6",
                            "width": 0.5
                          },
                          "pattern": {
                            "fillmode": "overlay",
                            "size": 10,
                            "solidity": 0.2
                          }
                        },
                        "type": "bar"
                      }
                    ],
                    "barpolar": [
                      {
                        "marker": {
                          "line": {
                            "color": "#E5ECF6",
                            "width": 0.5
                          },
                          "pattern": {
                            "fillmode": "overlay",
                            "size": 10,
                            "solidity": 0.2
                          }
                        },
                        "type": "barpolar"
                      }
                    ],
                    "carpet": [
                      {
                        "aaxis": {
                          "endlinecolor": "#2a3f5f",
                          "gridcolor": "white",
                          "linecolor": "white",
                          "minorgridcolor": "white",
                          "startlinecolor": "#2a3f5f"
                        },
                        "baxis": {
                          "endlinecolor": "#2a3f5f",
                          "gridcolor": "white",
                          "linecolor": "white",
                          "minorgridcolor": "white",
                          "startlinecolor": "#2a3f5f"
                        },
                        "type": "carpet"
                      }
                    ],
                    "choropleth": [
                      {
                        "colorbar": {
                          "outlinewidth": 0,
                          "ticks": ""
                        },
                        "type": "choropleth"
                      }
                    ],
                    "contour": [
                      {
                        "colorbar": {
                          "outlinewidth": 0,
                          "ticks": ""
                        },
                        "colorscale": [
                          [
                            0,
                            "#0d0887"
                          ],
                          [
                            0.1111111111111111,
                            "#46039f"
                          ],
                          [
                            0.2222222222222222,
                            "#7201a8"
                          ],
                          [
                            0.3333333333333333,
                            "#9c179e"
                          ],
                          [
                            0.4444444444444444,
                            "#bd3786"
                          ],
                          [
                            0.5555555555555556,
                            "#d8576b"
                          ],
                          [
                            0.6666666666666666,
                            "#ed7953"
                          ],
                          [
                            0.7777777777777778,
                            "#fb9f3a"
                          ],
                          [
                            0.8888888888888888,
                            "#fdca26"
                          ],
                          [
                            1,
                            "#f0f921"
                          ]
                        ],
                        "type": "contour"
                      }
                    ],
                    "contourcarpet": [
                      {
                        "colorbar": {
                          "outlinewidth": 0,
                          "ticks": ""
                        },
                        "type": "contourcarpet"
                      }
                    ],
                    "heatmap": [
                      {
                        "colorbar": {
                          "outlinewidth": 0,
                          "ticks": ""
                        },
                        "colorscale": [
                          [
                            0,
                            "#0d0887"
                          ],
                          [
                            0.1111111111111111,
                            "#46039f"
                          ],
                          [
                            0.2222222222222222,
                            "#7201a8"
                          ],
                          [
                            0.3333333333333333,
                            "#9c179e"
                          ],
                          [
                            0.4444444444444444,
                            "#bd3786"
                          ],
                          [
                            0.5555555555555556,
                            "#d8576b"
                          ],
                          [
                            0.6666666666666666,
                            "#ed7953"
                          ],
                          [
                            0.7777777777777778,
                            "#fb9f3a"
                          ],
                          [
                            0.8888888888888888,
                            "#fdca26"
                          ],
                          [
                            1,
                            "#f0f921"
                          ]
                        ],
                        "type": "heatmap"
                      }
                    ],
                    "heatmapgl": [
                      {
                        "colorbar": {
                          "outlinewidth": 0,
                          "ticks": ""
                        },
                        "colorscale": [
                          [
                            0,
                            "#0d0887"
                          ],
                          [
                            0.1111111111111111,
                            "#46039f"
                          ],
                          [
                            0.2222222222222222,
                            "#7201a8"
                          ],
                          [
                            0.3333333333333333,
                            "#9c179e"
                          ],
                          [
                            0.4444444444444444,
                            "#bd3786"
                          ],
                          [
                            0.5555555555555556,
                            "#d8576b"
                          ],
                          [
                            0.6666666666666666,
                            "#ed7953"
                          ],
                          [
                            0.7777777777777778,
                            "#fb9f3a"
                          ],
                          [
                            0.8888888888888888,
                            "#fdca26"
                          ],
                          [
                            1,
                            "#f0f921"
                          ]
                        ],
                        "type": "heatmapgl"
                      }
                    ],
                    "histogram": [
                      {
                        "marker": {
                          "pattern": {
                            "fillmode": "overlay",
                            "size": 10,
                            "solidity": 0.2
                          }
                        },
                        "type": "histogram"
                      }
                    ],
                    "histogram2d": [
                      {
                        "colorbar": {
                          "outlinewidth": 0,
                          "ticks": ""
                        },
                        "colorscale": [
                          [
                            0,
                            "#0d0887"
                          ],
                          [
                            0.1111111111111111,
                            "#46039f"
                          ],
                          [
                            0.2222222222222222,
                            "#7201a8"
                          ],
                          [
                            0.3333333333333333,
                            "#9c179e"
                          ],
                          [
                            0.4444444444444444,
                            "#bd3786"
                          ],
                          [
                            0.5555555555555556,
                            "#d8576b"
                          ],
                          [
                            0.6666666666666666,
                            "#ed7953"
                          ],
                          [
                            0.7777777777777778,
                            "#fb9f3a"
                          ],
                          [
                            0.8888888888888888,
                            "#fdca26"
                          ],
                          [
                            1,
                            "#f0f921"
                          ]
                        ],
                        "type": "histogram2d"
                      }
                    ],
                    "histogram2dcontour": [
                      {
                        "colorbar": {
                          "outlinewidth": 0,
                          "ticks": ""
                        },
                        "colorscale": [
                          [
                            0,
                            "#0d0887"
                          ],
                          [
                            0.1111111111111111,
                            "#46039f"
                          ],
                          [
                            0.2222222222222222,
                            "#7201a8"
                          ],
                          [
                            0.3333333333333333,
                            "#9c179e"
                          ],
                          [
                            0.4444444444444444,
                            "#bd3786"
                          ],
                          [
                            0.5555555555555556,
                            "#d8576b"
                          ],
                          [
                            0.6666666666666666,
                            "#ed7953"
                          ],
                          [
                            0.7777777777777778,
                            "#fb9f3a"
                          ],
                          [
                            0.8888888888888888,
                            "#fdca26"
                          ],
                          [
                            1,
                            "#f0f921"
                          ]
                        ],
                        "type": "histogram2dcontour"
                      }
                    ],
                    "mesh3d": [
                      {
                        "colorbar": {
                          "outlinewidth": 0,
                          "ticks": ""
                        },
                        "type": "mesh3d"
                      }
                    ],
                    "parcoords": [
                      {
                        "line": {
                          "colorbar": {
                            "outlinewidth": 0,
                            "ticks": ""
                          }
                        },
                        "type": "parcoords"
                      }
                    ],
                    "pie": [
                      {
                        "automargin": true,
                        "type": "pie"
                      }
                    ],
                    "scatter": [
                      {
                        "fillpattern": {
                          "fillmode": "overlay",
                          "size": 10,
                          "solidity": 0.2
                        },
                        "type": "scatter"
                      }
                    ],
                    "scatter3d": [
                      {
                        "line": {
                          "colorbar": {
                            "outlinewidth": 0,
                            "ticks": ""
                          }
                        },
                        "marker": {
                          "colorbar": {
                            "outlinewidth": 0,
                            "ticks": ""
                          }
                        },
                        "type": "scatter3d"
                      }
                    ],
                    "scattercarpet": [
                      {
                        "marker": {
                          "colorbar": {
                            "outlinewidth": 0,
                            "ticks": ""
                          }
                        },
                        "type": "scattercarpet"
                      }
                    ],
                    "scattergeo": [
                      {
                        "marker": {
                          "colorbar": {
                            "outlinewidth": 0,
                            "ticks": ""
                          }
                        },
                        "type": "scattergeo"
                      }
                    ],
                    "scattergl": [
                      {
                        "marker": {
                          "colorbar": {
                            "outlinewidth": 0,
                            "ticks": ""
                          }
                        },
                        "type": "scattergl"
                      }
                    ],
                    "scattermapbox": [
                      {
                        "marker": {
                          "colorbar": {
                            "outlinewidth": 0,
                            "ticks": ""
                          }
                        },
                        "type": "scattermapbox"
                      }
                    ],
                    "scatterpolar": [
                      {
                        "marker": {
                          "colorbar": {
                            "outlinewidth": 0,
                            "ticks": ""
                          }
                        },
                        "type": "scatterpolar"
                      }
                    ],
                    "scatterpolargl": [
                      {
                        "marker": {
                          "colorbar": {
                            "outlinewidth": 0,
                            "ticks": ""
                          }
                        },
                        "type": "scatterpolargl"
                      }
                    ],
                    "scatterternary": [
                      {
                        "marker": {
                          "colorbar": {
                            "outlinewidth": 0,
                            "ticks": ""
                          }
                        },
                        "type": "scatterternary"
                      }
                    ],
                    "surface": [
                      {
                        "colorbar": {
                          "outlinewidth": 0,
                          "ticks": ""
                        },
                        "colorscale": [
                          [
                            0,
                            "#0d0887"
                          ],
                          [
                            0.1111111111111111,
                            "#46039f"
                          ],
                          [
                            0.2222222222222222,
                            "#7201a8"
                          ],
                          [
                            0.3333333333333333,
                            "#9c179e"
                          ],
                          [
                            0.4444444444444444,
                            "#bd3786"
                          ],
                          [
                            0.5555555555555556,
                            "#d8576b"
                          ],
                          [
                            0.6666666666666666,
                            "#ed7953"
                          ],
                          [
                            0.7777777777777778,
                            "#fb9f3a"
                          ],
                          [
                            0.8888888888888888,
                            "#fdca26"
                          ],
                          [
                            1,
                            "#f0f921"
                          ]
                        ],
                        "type": "surface"
                      }
                    ],
                    "table": [
                      {
                        "cells": {
                          "fill": {
                            "color": "#EBF0F8"
                          },
                          "line": {
                            "color": "white"
                          }
                        },
                        "header": {
                          "fill": {
                            "color": "#C8D4E3"
                          },
                          "line": {
                            "color": "white"
                          }
                        },
                        "type": "table"
                      }
                    ]
                  },
                  "layout": {
                    "annotationdefaults": {
                      "arrowcolor": "#2a3f5f",
                      "arrowhead": 0,
                      "arrowwidth": 1
                    },
                    "autotypenumbers": "strict",
                    "coloraxis": {
                      "colorbar": {
                        "outlinewidth": 0,
                        "ticks": ""
                      }
                    },
                    "colorscale": {
                      "diverging": [
                        [
                          0,
                          "#8e0152"
                        ],
                        [
                          0.1,
                          "#c51b7d"
                        ],
                        [
                          0.2,
                          "#de77ae"
                        ],
                        [
                          0.3,
                          "#f1b6da"
                        ],
                        [
                          0.4,
                          "#fde0ef"
                        ],
                        [
                          0.5,
                          "#f7f7f7"
                        ],
                        [
                          0.6,
                          "#e6f5d0"
                        ],
                        [
                          0.7,
                          "#b8e186"
                        ],
                        [
                          0.8,
                          "#7fbc41"
                        ],
                        [
                          0.9,
                          "#4d9221"
                        ],
                        [
                          1,
                          "#276419"
                        ]
                      ],
                      "sequential": [
                        [
                          0,
                          "#0d0887"
                        ],
                        [
                          0.1111111111111111,
                          "#46039f"
                        ],
                        [
                          0.2222222222222222,
                          "#7201a8"
                        ],
                        [
                          0.3333333333333333,
                          "#9c179e"
                        ],
                        [
                          0.4444444444444444,
                          "#bd3786"
                        ],
                        [
                          0.5555555555555556,
                          "#d8576b"
                        ],
                        [
                          0.6666666666666666,
                          "#ed7953"
                        ],
                        [
                          0.7777777777777778,
                          "#fb9f3a"
                        ],
                        [
                          0.8888888888888888,
                          "#fdca26"
                        ],
                        [
                          1,
                          "#f0f921"
                        ]
                      ],
                      "sequentialminus": [
                        [
                          0,
                          "#0d0887"
                        ],
                        [
                          0.1111111111111111,
                          "#46039f"
                        ],
                        [
                          0.2222222222222222,
                          "#7201a8"
                        ],
                        [
                          0.3333333333333333,
                          "#9c179e"
                        ],
                        [
                          0.4444444444444444,
                          "#bd3786"
                        ],
                        [
                          0.5555555555555556,
                          "#d8576b"
                        ],
                        [
                          0.6666666666666666,
                          "#ed7953"
                        ],
                        [
                          0.7777777777777778,
                          "#fb9f3a"
                        ],
                        [
                          0.8888888888888888,
                          "#fdca26"
                        ],
                        [
                          1,
                          "#f0f921"
                        ]
                      ]
                    },
                    "colorway": [
                      "#636efa",
                      "#EF553B",
                      "#00cc96",
                      "#ab63fa",
                      "#FFA15A",
                      "#19d3f3",
                      "#FF6692",
                      "#B6E880",
                      "#FF97FF",
                      "#FECB52"
                    ],
                    "font": {
                      "color": "#2a3f5f"
                    },
                    "geo": {
                      "bgcolor": "white",
                      "lakecolor": "white",
                      "landcolor": "#E5ECF6",
                      "showlakes": true,
                      "showland": true,
                      "subunitcolor": "white"
                    },
                    "hoverlabel": {
                      "align": "left"
                    },
                    "hovermode": "closest",
                    "mapbox": {
                      "style": "light"
                    },
                    "paper_bgcolor": "white",
                    "plot_bgcolor": "#E5ECF6",
                    "polar": {
                      "angularaxis": {
                        "gridcolor": "white",
                        "linecolor": "white",
                        "ticks": ""
                      },
                      "bgcolor": "#E5ECF6",
                      "radialaxis": {
                        "gridcolor": "white",
                        "linecolor": "white",
                        "ticks": ""
                      }
                    },
                    "scene": {
                      "xaxis": {
                        "backgroundcolor": "#E5ECF6",
                        "gridcolor": "white",
                        "gridwidth": 2,
                        "linecolor": "white",
                        "showbackground": true,
                        "ticks": "",
                        "zerolinecolor": "white"
                      },
                      "yaxis": {
                        "backgroundcolor": "#E5ECF6",
                        "gridcolor": "white",
                        "gridwidth": 2,
                        "linecolor": "white",
                        "showbackground": true,
                        "ticks": "",
                        "zerolinecolor": "white"
                      },
                      "zaxis": {
                        "backgroundcolor": "#E5ECF6",
                        "gridcolor": "white",
                        "gridwidth": 2,
                        "linecolor": "white",
                        "showbackground": true,
                        "ticks": "",
                        "zerolinecolor": "white"
                      }
                    },
                    "shapedefaults": {
                      "line": {
                        "color": "#2a3f5f"
                      }
                    },
                    "ternary": {
                      "aaxis": {
                        "gridcolor": "white",
                        "linecolor": "white",
                        "ticks": ""
                      },
                      "baxis": {
                        "gridcolor": "white",
                        "linecolor": "white",
                        "ticks": ""
                      },
                      "bgcolor": "#E5ECF6",
                      "caxis": {
                        "gridcolor": "white",
                        "linecolor": "white",
                        "ticks": ""
                      }
                    },
                    "title": {
                      "x": 0.05
                    },
                    "xaxis": {
                      "automargin": true,
                      "gridcolor": "white",
                      "linecolor": "white",
                      "ticks": "",
                      "title": {
                        "standoff": 15
                      },
                      "zerolinecolor": "white",
                      "zerolinewidth": 2
                    },
                    "yaxis": {
                      "automargin": true,
                      "gridcolor": "white",
                      "linecolor": "white",
                      "ticks": "",
                      "title": {
                        "standoff": 15
                      },
                      "zerolinecolor": "white",
                      "zerolinewidth": 2
                    }
                  }
                },
                "title": {
                  "text": "Jumlah Sewa Sepeda per Jam Berdasarkan Cuaca"
                },
                "xaxis": {
                  "anchor": "y",
                  "domain": [
                    0,
                    1
                  ],
                  "title": {
                    "text": "Jam"
                  }
                },
                "yaxis": {
                  "anchor": "x",
                  "domain": [
                    0,
                    1
                  ],
                  "title": {
                    "text": "Jumlah Sewa"
                  }
                }
              }
            }
          },
          "metadata": {},
          "output_type": "display_data"
        }
      ],
      "source": [
        "# Group data berdasarkan cuaca dan hitung jumlah sewa per jam\n",
        "hourly_weather_counts = df_hour.groupby(['weathersit', 'hr'], as_index=False)['cnt'].mean()\n",
        "\n",
        "# Visualisasi menggunakan diagram garis\n",
        "fig = px.line(hourly_weather_counts, x='hr', y='cnt', color='weathersit',\n",
        "              labels={'hr': 'Jam', 'cnt': 'Jumlah Sewa', 'weathersit': 'Kondisi Cuaca'},\n",
        "              title='Jumlah Sewa Sepeda per Jam Berdasarkan Cuaca')\n",
        "fig.show()\n"
      ]
    },
    {
      "cell_type": "markdown",
      "metadata": {
        "id": "zsyZjqak8DC2"
      },
      "source": [
        "## Visualization & Explanatory Analysis"
      ]
    },
    {
      "cell_type": "markdown",
      "metadata": {
        "id": "HZxOiQ6n8DC2"
      },
      "source": [
        "### Pertanyaan 1: (Spesific)"
      ]
    },
    {
      "cell_type": "markdown",
      "metadata": {
        "id": "rwNOK5D2pYnV"
      },
      "source": [
        "Berapa jumlah perbandingan total sewa sepeda pada holiday dan workingday di tahun 2012?\n",
        "\n"
      ]
    },
    {
      "cell_type": "code",
      "execution_count": 25,
      "metadata": {
        "colab": {
          "base_uri": "https://localhost:8080/"
        },
        "id": "1swJUdAD8DC2",
        "outputId": "92b47128-1e26-401c-85d3-02621fa11b8a"
      },
      "outputs": [
        {
          "name": "stdout",
          "output_type": "stream",
          "text": [
            "Jumlah total sewa sepeda pada hari libur di tahun 2012: 48413 sepeda\n",
            "Jumlah total sewa sepeda pada weekday di tahun 2012: 1445728 sepeda\n"
          ]
        }
      ],
      "source": [
        "# Filter data untuk tahun 2012\n",
        "df_2012 = df_day[df_day['yr'] == 1]\n",
        "\n",
        "# Hitung jumlah total sewa sepeda pada hari libur dan weekday di tahun 2012\n",
        "total_sewa_holiday = df_2012[df_2012['holiday'] == 1]['cnt'].sum()\n",
        "total_sewa_weekday = df_2012[df_2012['weekday'] < 5]['cnt'].sum()\n",
        "\n",
        "print(f\"Jumlah total sewa sepeda pada hari libur di tahun 2012: {total_sewa_holiday} sepeda\")\n",
        "print(f\"Jumlah total sewa sepeda pada weekday di tahun 2012: {total_sewa_weekday} sepeda\")"
      ]
    },
    {
      "cell_type": "markdown",
      "metadata": {
        "id": "UjH8Go-o0XY5"
      },
      "source": [
        "Berdasarkan hasil diatas mendapatkan perbandingan total sewa sepeda pada holiday dan workingday pada tahun 2012 sebesar 0.0335 atau 3.35%"
      ]
    },
    {
      "cell_type": "markdown",
      "metadata": {
        "id": "DgHI7CiU8DC2"
      },
      "source": [
        "### Pertanyaan 2: (Measurable)"
      ]
    },
    {
      "cell_type": "markdown",
      "metadata": {
        "id": "fWH_uJ1xpwY4"
      },
      "source": [
        "Berapa prediksi jumlah sewa sepeda per jam (hourly) berdasarkan pengaturan lingkungan dan musiman?"
      ]
    },
    {
      "cell_type": "code",
      "execution_count": 26,
      "metadata": {
        "colab": {
          "base_uri": "https://localhost:8080/"
        },
        "id": "oNetYWfG4BxS",
        "outputId": "63b381ec-821f-4367-d044-3f727fe45e89"
      },
      "outputs": [
        {
          "name": "stdout",
          "output_type": "stream",
          "text": [
            "    hr  weathersit         cnt\n",
            "0    0           1   59.161554\n",
            "1    0           2   47.232432\n",
            "2    0           3   28.115385\n",
            "3    1           1   34.395918\n",
            "4    1           2   35.541899\n",
            "..  ..         ...         ...\n",
            "70  22           2  116.823171\n",
            "71  22           3   70.345455\n",
            "72  23           1   93.981707\n",
            "73  23           2   85.171598\n",
            "74  23           3   49.373134\n",
            "\n",
            "[75 rows x 3 columns]\n"
          ]
        }
      ],
      "source": [
        "# Membuat DataFrame baru yang berisi rata-rata jumlah sewa per jam berdasarkan cuaca\n",
        "hourly_weather_avg = df_hour.groupby(['hr', 'weathersit'], as_index=False)['cnt'].mean()\n",
        "\n",
        "# Menampilkan DataFrame hasil\n",
        "print(hourly_weather_avg)\n"
      ]
    },
    {
      "cell_type": "code",
      "execution_count": 27,
      "metadata": {
        "colab": {
          "base_uri": "https://localhost:8080/",
          "height": 300
        },
        "id": "DLBtTHo78Asv",
        "outputId": "3ab640cf-06ff-472f-a898-91b9f1d36409"
      },
      "outputs": [
        {
          "data": {
            "text/html": [
              "<div>\n",
              "<style scoped>\n",
              "    .dataframe tbody tr th:only-of-type {\n",
              "        vertical-align: middle;\n",
              "    }\n",
              "\n",
              "    .dataframe tbody tr th {\n",
              "        vertical-align: top;\n",
              "    }\n",
              "\n",
              "    .dataframe thead th {\n",
              "        text-align: right;\n",
              "    }\n",
              "</style>\n",
              "<table border=\"1\" class=\"dataframe\">\n",
              "  <thead>\n",
              "    <tr style=\"text-align: right;\">\n",
              "      <th></th>\n",
              "      <th>hr</th>\n",
              "      <th>weathersit</th>\n",
              "      <th>cnt</th>\n",
              "    </tr>\n",
              "  </thead>\n",
              "  <tbody>\n",
              "    <tr>\n",
              "      <th>count</th>\n",
              "      <td>75.000000</td>\n",
              "      <td>75.000000</td>\n",
              "      <td>75.000000</td>\n",
              "    </tr>\n",
              "    <tr>\n",
              "      <th>mean</th>\n",
              "      <td>11.506667</td>\n",
              "      <td>2.080000</td>\n",
              "      <td>158.386736</td>\n",
              "    </tr>\n",
              "    <tr>\n",
              "      <th>std</th>\n",
              "      <td>6.996859</td>\n",
              "      <td>0.896841</td>\n",
              "      <td>122.705899</td>\n",
              "    </tr>\n",
              "    <tr>\n",
              "      <th>min</th>\n",
              "      <td>0.000000</td>\n",
              "      <td>1.000000</td>\n",
              "      <td>4.684211</td>\n",
              "    </tr>\n",
              "    <tr>\n",
              "      <th>25%</th>\n",
              "      <td>5.500000</td>\n",
              "      <td>1.000000</td>\n",
              "      <td>48.302783</td>\n",
              "    </tr>\n",
              "    <tr>\n",
              "      <th>50%</th>\n",
              "      <td>12.000000</td>\n",
              "      <td>2.000000</td>\n",
              "      <td>138.060606</td>\n",
              "    </tr>\n",
              "    <tr>\n",
              "      <th>75%</th>\n",
              "      <td>17.500000</td>\n",
              "      <td>3.000000</td>\n",
              "      <td>227.331484</td>\n",
              "    </tr>\n",
              "    <tr>\n",
              "      <th>max</th>\n",
              "      <td>23.000000</td>\n",
              "      <td>4.000000</td>\n",
              "      <td>500.429980</td>\n",
              "    </tr>\n",
              "  </tbody>\n",
              "</table>\n",
              "</div>"
            ],
            "text/plain": [
              "              hr  weathersit         cnt\n",
              "count  75.000000   75.000000   75.000000\n",
              "mean   11.506667    2.080000  158.386736\n",
              "std     6.996859    0.896841  122.705899\n",
              "min     0.000000    1.000000    4.684211\n",
              "25%     5.500000    1.000000   48.302783\n",
              "50%    12.000000    2.000000  138.060606\n",
              "75%    17.500000    3.000000  227.331484\n",
              "max    23.000000    4.000000  500.429980"
            ]
          },
          "execution_count": 27,
          "metadata": {},
          "output_type": "execute_result"
        }
      ],
      "source": [
        "hourly_weather_avg.describe()"
      ]
    },
    {
      "cell_type": "markdown",
      "metadata": {
        "id": "z-MnspQX8GtZ"
      },
      "source": [
        "Berdasarkan informasi diatas, informasi yang diperoleh adalah rata-rata pada jam 11 pagi dengan  cuaca 2 (cloudy) dengan jumlah sebanyak 158 sepeda disewakan."
      ]
    },
    {
      "cell_type": "markdown",
      "metadata": {
        "id": "pXPM-S7cdduA"
      },
      "source": [
        "### Pertanyaan 3: (Time-bound)"
      ]
    },
    {
      "cell_type": "markdown",
      "metadata": {
        "id": "MNzOvzWGqqcG"
      },
      "source": [
        "Pada hari libur atau hari kerja, pada jam berapa sepanjang tahun 2012 terjadi peningkatan peminjaman sepeda yang paling signifikan?"
      ]
    },
    {
      "cell_type": "code",
      "execution_count": 28,
      "metadata": {
        "colab": {
          "base_uri": "https://localhost:8080/",
          "height": 542
        },
        "id": "dyTkTtew6nQI",
        "outputId": "9212283d-a9a8-466f-c48c-3dcd4a69a917"
      },
      "outputs": [
        {
          "data": {
            "application/vnd.plotly.v1+json": {
              "config": {
                "plotlyServerURL": "https://plot.ly"
              },
              "data": [
                {
                  "alignmentgroup": "True",
                  "hovertemplate": "holiday=0<br>Jam=%{x}<br>Jumlah Sewa=%{y}<br>workingday=%{marker.color}<extra></extra>",
                  "legendgroup": "",
                  "marker": {
                    "color": [
                      0,
                      0,
                      0,
                      0,
                      0,
                      0,
                      0,
                      0,
                      0,
                      0,
                      0,
                      0,
                      0,
                      0,
                      0,
                      0,
                      0,
                      0,
                      0,
                      0,
                      0,
                      0,
                      0,
                      0,
                      1,
                      1,
                      1,
                      1,
                      1,
                      1,
                      1,
                      1,
                      1,
                      1,
                      1,
                      1,
                      1,
                      1,
                      1,
                      1,
                      1,
                      1,
                      1,
                      1,
                      1,
                      1,
                      1,
                      1
                    ],
                    "coloraxis": "coloraxis",
                    "pattern": {
                      "shape": ""
                    }
                  },
                  "name": "",
                  "offsetgroup": "",
                  "orientation": "v",
                  "showlegend": false,
                  "textposition": "auto",
                  "type": "bar",
                  "x": [
                    0,
                    1,
                    2,
                    3,
                    4,
                    5,
                    6,
                    7,
                    8,
                    9,
                    10,
                    11,
                    12,
                    13,
                    14,
                    15,
                    16,
                    17,
                    18,
                    19,
                    20,
                    21,
                    22,
                    23,
                    0,
                    1,
                    2,
                    3,
                    4,
                    5,
                    6,
                    7,
                    8,
                    9,
                    10,
                    11,
                    12,
                    13,
                    14,
                    15,
                    16,
                    17,
                    18,
                    19,
                    20,
                    21,
                    22,
                    23
                  ],
                  "xaxis": "x",
                  "y": [
                    113.84761904761905,
                    89.24761904761905,
                    66.91346153846153,
                    31.36190476190476,
                    10.161904761904761,
                    9.790476190476191,
                    22.076190476190476,
                    49.476190476190474,
                    126.55238095238096,
                    216.44761904761904,
                    325.42857142857144,
                    402.0190476190476,
                    463.64761904761906,
                    470.65714285714284,
                    460.37142857142857,
                    451.83809523809526,
                    439.7238095238095,
                    399.5904761904762,
                    338.22857142857146,
                    276.64761904761906,
                    206.85714285714286,
                    168.34285714285716,
                    137.94285714285715,
                    104.58095238095238,
                    44.18875502008032,
                    19.358870967741936,
                    9.810483870967742,
                    5.4896265560165975,
                    6.03265306122449,
                    32,
                    127.50806451612904,
                    366.5483870967742,
                    604.508064516129,
                    302.39112903225805,
                    169.31048387096774,
                    198.7258064516129,
                    253.61290322580646,
                    250.3855421686747,
                    229.77510040160644,
                    255.99196787148594,
                    371.5421686746988,
                    656.1887550200803,
                    617,
                    437.76305220883535,
                    311.57028112449797,
                    228.95180722891567,
                    168.7991967871486,
                    108.8433734939759
                  ],
                  "yaxis": "y"
                },
                {
                  "alignmentgroup": "True",
                  "hovertemplate": "holiday=1<br>Jam=%{x}<br>Jumlah Sewa=%{y}<br>workingday=%{marker.color}<extra></extra>",
                  "legendgroup": "",
                  "marker": {
                    "color": [
                      0,
                      0,
                      0,
                      0,
                      0,
                      0,
                      0,
                      0,
                      0,
                      0,
                      0,
                      0,
                      0,
                      0,
                      0,
                      0,
                      0,
                      0,
                      0,
                      0,
                      0,
                      0,
                      0,
                      0
                    ],
                    "coloraxis": "coloraxis",
                    "pattern": {
                      "shape": ""
                    }
                  },
                  "name": "",
                  "offsetgroup": "",
                  "orientation": "v",
                  "showlegend": false,
                  "textposition": "auto",
                  "type": "bar",
                  "x": [
                    0,
                    1,
                    2,
                    3,
                    4,
                    5,
                    6,
                    7,
                    8,
                    9,
                    10,
                    11,
                    12,
                    13,
                    14,
                    15,
                    16,
                    17,
                    18,
                    19,
                    20,
                    21,
                    22,
                    23
                  ],
                  "xaxis": "x2",
                  "y": [
                    57.54545454545455,
                    39.45454545454545,
                    27.181818181818183,
                    13,
                    6.6,
                    12.727272727272727,
                    35.54545454545455,
                    103.81818181818181,
                    211.63636363636363,
                    202.9090909090909,
                    235.1818181818182,
                    293.27272727272725,
                    330.6363636363636,
                    346.8181818181818,
                    328.8181818181818,
                    306.72727272727275,
                    312.8181818181818,
                    352.72727272727275,
                    330.90909090909093,
                    266.90909090909093,
                    221,
                    171.36363636363637,
                    129.0909090909091,
                    67.45454545454545
                  ],
                  "yaxis": "y2"
                }
              ],
              "layout": {
                "annotations": [
                  {
                    "font": {},
                    "showarrow": false,
                    "text": "holiday=0",
                    "x": 0.245,
                    "xanchor": "center",
                    "xref": "paper",
                    "y": 1,
                    "yanchor": "bottom",
                    "yref": "paper"
                  },
                  {
                    "font": {},
                    "showarrow": false,
                    "text": "holiday=1",
                    "x": 0.755,
                    "xanchor": "center",
                    "xref": "paper",
                    "y": 1,
                    "yanchor": "bottom",
                    "yref": "paper"
                  }
                ],
                "barmode": "relative",
                "coloraxis": {
                  "colorbar": {
                    "title": {
                      "text": "workingday"
                    }
                  },
                  "colorscale": [
                    [
                      0,
                      "#0d0887"
                    ],
                    [
                      0.1111111111111111,
                      "#46039f"
                    ],
                    [
                      0.2222222222222222,
                      "#7201a8"
                    ],
                    [
                      0.3333333333333333,
                      "#9c179e"
                    ],
                    [
                      0.4444444444444444,
                      "#bd3786"
                    ],
                    [
                      0.5555555555555556,
                      "#d8576b"
                    ],
                    [
                      0.6666666666666666,
                      "#ed7953"
                    ],
                    [
                      0.7777777777777778,
                      "#fb9f3a"
                    ],
                    [
                      0.8888888888888888,
                      "#fdca26"
                    ],
                    [
                      1,
                      "#f0f921"
                    ]
                  ]
                },
                "legend": {
                  "tracegroupgap": 0
                },
                "template": {
                  "data": {
                    "bar": [
                      {
                        "error_x": {
                          "color": "#2a3f5f"
                        },
                        "error_y": {
                          "color": "#2a3f5f"
                        },
                        "marker": {
                          "line": {
                            "color": "#E5ECF6",
                            "width": 0.5
                          },
                          "pattern": {
                            "fillmode": "overlay",
                            "size": 10,
                            "solidity": 0.2
                          }
                        },
                        "type": "bar"
                      }
                    ],
                    "barpolar": [
                      {
                        "marker": {
                          "line": {
                            "color": "#E5ECF6",
                            "width": 0.5
                          },
                          "pattern": {
                            "fillmode": "overlay",
                            "size": 10,
                            "solidity": 0.2
                          }
                        },
                        "type": "barpolar"
                      }
                    ],
                    "carpet": [
                      {
                        "aaxis": {
                          "endlinecolor": "#2a3f5f",
                          "gridcolor": "white",
                          "linecolor": "white",
                          "minorgridcolor": "white",
                          "startlinecolor": "#2a3f5f"
                        },
                        "baxis": {
                          "endlinecolor": "#2a3f5f",
                          "gridcolor": "white",
                          "linecolor": "white",
                          "minorgridcolor": "white",
                          "startlinecolor": "#2a3f5f"
                        },
                        "type": "carpet"
                      }
                    ],
                    "choropleth": [
                      {
                        "colorbar": {
                          "outlinewidth": 0,
                          "ticks": ""
                        },
                        "type": "choropleth"
                      }
                    ],
                    "contour": [
                      {
                        "colorbar": {
                          "outlinewidth": 0,
                          "ticks": ""
                        },
                        "colorscale": [
                          [
                            0,
                            "#0d0887"
                          ],
                          [
                            0.1111111111111111,
                            "#46039f"
                          ],
                          [
                            0.2222222222222222,
                            "#7201a8"
                          ],
                          [
                            0.3333333333333333,
                            "#9c179e"
                          ],
                          [
                            0.4444444444444444,
                            "#bd3786"
                          ],
                          [
                            0.5555555555555556,
                            "#d8576b"
                          ],
                          [
                            0.6666666666666666,
                            "#ed7953"
                          ],
                          [
                            0.7777777777777778,
                            "#fb9f3a"
                          ],
                          [
                            0.8888888888888888,
                            "#fdca26"
                          ],
                          [
                            1,
                            "#f0f921"
                          ]
                        ],
                        "type": "contour"
                      }
                    ],
                    "contourcarpet": [
                      {
                        "colorbar": {
                          "outlinewidth": 0,
                          "ticks": ""
                        },
                        "type": "contourcarpet"
                      }
                    ],
                    "heatmap": [
                      {
                        "colorbar": {
                          "outlinewidth": 0,
                          "ticks": ""
                        },
                        "colorscale": [
                          [
                            0,
                            "#0d0887"
                          ],
                          [
                            0.1111111111111111,
                            "#46039f"
                          ],
                          [
                            0.2222222222222222,
                            "#7201a8"
                          ],
                          [
                            0.3333333333333333,
                            "#9c179e"
                          ],
                          [
                            0.4444444444444444,
                            "#bd3786"
                          ],
                          [
                            0.5555555555555556,
                            "#d8576b"
                          ],
                          [
                            0.6666666666666666,
                            "#ed7953"
                          ],
                          [
                            0.7777777777777778,
                            "#fb9f3a"
                          ],
                          [
                            0.8888888888888888,
                            "#fdca26"
                          ],
                          [
                            1,
                            "#f0f921"
                          ]
                        ],
                        "type": "heatmap"
                      }
                    ],
                    "heatmapgl": [
                      {
                        "colorbar": {
                          "outlinewidth": 0,
                          "ticks": ""
                        },
                        "colorscale": [
                          [
                            0,
                            "#0d0887"
                          ],
                          [
                            0.1111111111111111,
                            "#46039f"
                          ],
                          [
                            0.2222222222222222,
                            "#7201a8"
                          ],
                          [
                            0.3333333333333333,
                            "#9c179e"
                          ],
                          [
                            0.4444444444444444,
                            "#bd3786"
                          ],
                          [
                            0.5555555555555556,
                            "#d8576b"
                          ],
                          [
                            0.6666666666666666,
                            "#ed7953"
                          ],
                          [
                            0.7777777777777778,
                            "#fb9f3a"
                          ],
                          [
                            0.8888888888888888,
                            "#fdca26"
                          ],
                          [
                            1,
                            "#f0f921"
                          ]
                        ],
                        "type": "heatmapgl"
                      }
                    ],
                    "histogram": [
                      {
                        "marker": {
                          "pattern": {
                            "fillmode": "overlay",
                            "size": 10,
                            "solidity": 0.2
                          }
                        },
                        "type": "histogram"
                      }
                    ],
                    "histogram2d": [
                      {
                        "colorbar": {
                          "outlinewidth": 0,
                          "ticks": ""
                        },
                        "colorscale": [
                          [
                            0,
                            "#0d0887"
                          ],
                          [
                            0.1111111111111111,
                            "#46039f"
                          ],
                          [
                            0.2222222222222222,
                            "#7201a8"
                          ],
                          [
                            0.3333333333333333,
                            "#9c179e"
                          ],
                          [
                            0.4444444444444444,
                            "#bd3786"
                          ],
                          [
                            0.5555555555555556,
                            "#d8576b"
                          ],
                          [
                            0.6666666666666666,
                            "#ed7953"
                          ],
                          [
                            0.7777777777777778,
                            "#fb9f3a"
                          ],
                          [
                            0.8888888888888888,
                            "#fdca26"
                          ],
                          [
                            1,
                            "#f0f921"
                          ]
                        ],
                        "type": "histogram2d"
                      }
                    ],
                    "histogram2dcontour": [
                      {
                        "colorbar": {
                          "outlinewidth": 0,
                          "ticks": ""
                        },
                        "colorscale": [
                          [
                            0,
                            "#0d0887"
                          ],
                          [
                            0.1111111111111111,
                            "#46039f"
                          ],
                          [
                            0.2222222222222222,
                            "#7201a8"
                          ],
                          [
                            0.3333333333333333,
                            "#9c179e"
                          ],
                          [
                            0.4444444444444444,
                            "#bd3786"
                          ],
                          [
                            0.5555555555555556,
                            "#d8576b"
                          ],
                          [
                            0.6666666666666666,
                            "#ed7953"
                          ],
                          [
                            0.7777777777777778,
                            "#fb9f3a"
                          ],
                          [
                            0.8888888888888888,
                            "#fdca26"
                          ],
                          [
                            1,
                            "#f0f921"
                          ]
                        ],
                        "type": "histogram2dcontour"
                      }
                    ],
                    "mesh3d": [
                      {
                        "colorbar": {
                          "outlinewidth": 0,
                          "ticks": ""
                        },
                        "type": "mesh3d"
                      }
                    ],
                    "parcoords": [
                      {
                        "line": {
                          "colorbar": {
                            "outlinewidth": 0,
                            "ticks": ""
                          }
                        },
                        "type": "parcoords"
                      }
                    ],
                    "pie": [
                      {
                        "automargin": true,
                        "type": "pie"
                      }
                    ],
                    "scatter": [
                      {
                        "fillpattern": {
                          "fillmode": "overlay",
                          "size": 10,
                          "solidity": 0.2
                        },
                        "type": "scatter"
                      }
                    ],
                    "scatter3d": [
                      {
                        "line": {
                          "colorbar": {
                            "outlinewidth": 0,
                            "ticks": ""
                          }
                        },
                        "marker": {
                          "colorbar": {
                            "outlinewidth": 0,
                            "ticks": ""
                          }
                        },
                        "type": "scatter3d"
                      }
                    ],
                    "scattercarpet": [
                      {
                        "marker": {
                          "colorbar": {
                            "outlinewidth": 0,
                            "ticks": ""
                          }
                        },
                        "type": "scattercarpet"
                      }
                    ],
                    "scattergeo": [
                      {
                        "marker": {
                          "colorbar": {
                            "outlinewidth": 0,
                            "ticks": ""
                          }
                        },
                        "type": "scattergeo"
                      }
                    ],
                    "scattergl": [
                      {
                        "marker": {
                          "colorbar": {
                            "outlinewidth": 0,
                            "ticks": ""
                          }
                        },
                        "type": "scattergl"
                      }
                    ],
                    "scattermapbox": [
                      {
                        "marker": {
                          "colorbar": {
                            "outlinewidth": 0,
                            "ticks": ""
                          }
                        },
                        "type": "scattermapbox"
                      }
                    ],
                    "scatterpolar": [
                      {
                        "marker": {
                          "colorbar": {
                            "outlinewidth": 0,
                            "ticks": ""
                          }
                        },
                        "type": "scatterpolar"
                      }
                    ],
                    "scatterpolargl": [
                      {
                        "marker": {
                          "colorbar": {
                            "outlinewidth": 0,
                            "ticks": ""
                          }
                        },
                        "type": "scatterpolargl"
                      }
                    ],
                    "scatterternary": [
                      {
                        "marker": {
                          "colorbar": {
                            "outlinewidth": 0,
                            "ticks": ""
                          }
                        },
                        "type": "scatterternary"
                      }
                    ],
                    "surface": [
                      {
                        "colorbar": {
                          "outlinewidth": 0,
                          "ticks": ""
                        },
                        "colorscale": [
                          [
                            0,
                            "#0d0887"
                          ],
                          [
                            0.1111111111111111,
                            "#46039f"
                          ],
                          [
                            0.2222222222222222,
                            "#7201a8"
                          ],
                          [
                            0.3333333333333333,
                            "#9c179e"
                          ],
                          [
                            0.4444444444444444,
                            "#bd3786"
                          ],
                          [
                            0.5555555555555556,
                            "#d8576b"
                          ],
                          [
                            0.6666666666666666,
                            "#ed7953"
                          ],
                          [
                            0.7777777777777778,
                            "#fb9f3a"
                          ],
                          [
                            0.8888888888888888,
                            "#fdca26"
                          ],
                          [
                            1,
                            "#f0f921"
                          ]
                        ],
                        "type": "surface"
                      }
                    ],
                    "table": [
                      {
                        "cells": {
                          "fill": {
                            "color": "#EBF0F8"
                          },
                          "line": {
                            "color": "white"
                          }
                        },
                        "header": {
                          "fill": {
                            "color": "#C8D4E3"
                          },
                          "line": {
                            "color": "white"
                          }
                        },
                        "type": "table"
                      }
                    ]
                  },
                  "layout": {
                    "annotationdefaults": {
                      "arrowcolor": "#2a3f5f",
                      "arrowhead": 0,
                      "arrowwidth": 1
                    },
                    "autotypenumbers": "strict",
                    "coloraxis": {
                      "colorbar": {
                        "outlinewidth": 0,
                        "ticks": ""
                      }
                    },
                    "colorscale": {
                      "diverging": [
                        [
                          0,
                          "#8e0152"
                        ],
                        [
                          0.1,
                          "#c51b7d"
                        ],
                        [
                          0.2,
                          "#de77ae"
                        ],
                        [
                          0.3,
                          "#f1b6da"
                        ],
                        [
                          0.4,
                          "#fde0ef"
                        ],
                        [
                          0.5,
                          "#f7f7f7"
                        ],
                        [
                          0.6,
                          "#e6f5d0"
                        ],
                        [
                          0.7,
                          "#b8e186"
                        ],
                        [
                          0.8,
                          "#7fbc41"
                        ],
                        [
                          0.9,
                          "#4d9221"
                        ],
                        [
                          1,
                          "#276419"
                        ]
                      ],
                      "sequential": [
                        [
                          0,
                          "#0d0887"
                        ],
                        [
                          0.1111111111111111,
                          "#46039f"
                        ],
                        [
                          0.2222222222222222,
                          "#7201a8"
                        ],
                        [
                          0.3333333333333333,
                          "#9c179e"
                        ],
                        [
                          0.4444444444444444,
                          "#bd3786"
                        ],
                        [
                          0.5555555555555556,
                          "#d8576b"
                        ],
                        [
                          0.6666666666666666,
                          "#ed7953"
                        ],
                        [
                          0.7777777777777778,
                          "#fb9f3a"
                        ],
                        [
                          0.8888888888888888,
                          "#fdca26"
                        ],
                        [
                          1,
                          "#f0f921"
                        ]
                      ],
                      "sequentialminus": [
                        [
                          0,
                          "#0d0887"
                        ],
                        [
                          0.1111111111111111,
                          "#46039f"
                        ],
                        [
                          0.2222222222222222,
                          "#7201a8"
                        ],
                        [
                          0.3333333333333333,
                          "#9c179e"
                        ],
                        [
                          0.4444444444444444,
                          "#bd3786"
                        ],
                        [
                          0.5555555555555556,
                          "#d8576b"
                        ],
                        [
                          0.6666666666666666,
                          "#ed7953"
                        ],
                        [
                          0.7777777777777778,
                          "#fb9f3a"
                        ],
                        [
                          0.8888888888888888,
                          "#fdca26"
                        ],
                        [
                          1,
                          "#f0f921"
                        ]
                      ]
                    },
                    "colorway": [
                      "#636efa",
                      "#EF553B",
                      "#00cc96",
                      "#ab63fa",
                      "#FFA15A",
                      "#19d3f3",
                      "#FF6692",
                      "#B6E880",
                      "#FF97FF",
                      "#FECB52"
                    ],
                    "font": {
                      "color": "#2a3f5f"
                    },
                    "geo": {
                      "bgcolor": "white",
                      "lakecolor": "white",
                      "landcolor": "#E5ECF6",
                      "showlakes": true,
                      "showland": true,
                      "subunitcolor": "white"
                    },
                    "hoverlabel": {
                      "align": "left"
                    },
                    "hovermode": "closest",
                    "mapbox": {
                      "style": "light"
                    },
                    "paper_bgcolor": "white",
                    "plot_bgcolor": "#E5ECF6",
                    "polar": {
                      "angularaxis": {
                        "gridcolor": "white",
                        "linecolor": "white",
                        "ticks": ""
                      },
                      "bgcolor": "#E5ECF6",
                      "radialaxis": {
                        "gridcolor": "white",
                        "linecolor": "white",
                        "ticks": ""
                      }
                    },
                    "scene": {
                      "xaxis": {
                        "backgroundcolor": "#E5ECF6",
                        "gridcolor": "white",
                        "gridwidth": 2,
                        "linecolor": "white",
                        "showbackground": true,
                        "ticks": "",
                        "zerolinecolor": "white"
                      },
                      "yaxis": {
                        "backgroundcolor": "#E5ECF6",
                        "gridcolor": "white",
                        "gridwidth": 2,
                        "linecolor": "white",
                        "showbackground": true,
                        "ticks": "",
                        "zerolinecolor": "white"
                      },
                      "zaxis": {
                        "backgroundcolor": "#E5ECF6",
                        "gridcolor": "white",
                        "gridwidth": 2,
                        "linecolor": "white",
                        "showbackground": true,
                        "ticks": "",
                        "zerolinecolor": "white"
                      }
                    },
                    "shapedefaults": {
                      "line": {
                        "color": "#2a3f5f"
                      }
                    },
                    "ternary": {
                      "aaxis": {
                        "gridcolor": "white",
                        "linecolor": "white",
                        "ticks": ""
                      },
                      "baxis": {
                        "gridcolor": "white",
                        "linecolor": "white",
                        "ticks": ""
                      },
                      "bgcolor": "#E5ECF6",
                      "caxis": {
                        "gridcolor": "white",
                        "linecolor": "white",
                        "ticks": ""
                      }
                    },
                    "title": {
                      "x": 0.05
                    },
                    "xaxis": {
                      "automargin": true,
                      "gridcolor": "white",
                      "linecolor": "white",
                      "ticks": "",
                      "title": {
                        "standoff": 15
                      },
                      "zerolinecolor": "white",
                      "zerolinewidth": 2
                    },
                    "yaxis": {
                      "automargin": true,
                      "gridcolor": "white",
                      "linecolor": "white",
                      "ticks": "",
                      "title": {
                        "standoff": 15
                      },
                      "zerolinecolor": "white",
                      "zerolinewidth": 2
                    }
                  }
                },
                "title": {
                  "text": "Rata-Rata Jumlah Sewa Sepeda per Jam pada Hari Libur dan Hari Kerja (Tahun 2012)"
                },
                "xaxis": {
                  "anchor": "y",
                  "domain": [
                    0,
                    0.49
                  ],
                  "title": {
                    "text": "Jam"
                  }
                },
                "xaxis2": {
                  "anchor": "y2",
                  "domain": [
                    0.51,
                    1
                  ],
                  "matches": "x",
                  "title": {
                    "text": "Jam"
                  }
                },
                "yaxis": {
                  "anchor": "x",
                  "domain": [
                    0,
                    1
                  ],
                  "title": {
                    "text": "Jumlah Sewa"
                  }
                },
                "yaxis2": {
                  "anchor": "x2",
                  "domain": [
                    0,
                    1
                  ],
                  "matches": "y",
                  "showticklabels": false
                }
              }
            }
          },
          "metadata": {},
          "output_type": "display_data"
        }
      ],
      "source": [
        "import plotly.express as px\n",
        "\n",
        "# Filter data untuk tahun 2012 saja\n",
        "df_2012 = df_hour[df_hour['yr'] == 1]\n",
        "\n",
        "# Group data berdasarkan hari libur atau hari kerja dan jam, lalu hitung rata-rata jumlah sewa sepeda\n",
        "hourly_day_type_avg = df_2012.groupby(['holiday', 'workingday', 'hr'], as_index=False)['cnt'].mean()\n",
        "\n",
        "\n",
        "# Visualisasi menggunakan diagram batang\n",
        "fig = px.bar(hourly_day_type_avg, x='hr', y='cnt', color='workingday',\n",
        "             facet_col='holiday', labels={'hr': 'Jam', 'cnt': 'Jumlah Sewa'},\n",
        "             title='Rata-Rata Jumlah Sewa Sepeda per Jam pada Hari Libur dan Hari Kerja (Tahun 2012)')\n",
        "\n",
        "fig.show()"
      ]
    },
    {
      "cell_type": "markdown",
      "metadata": {
        "id": "n6lY_s3Q9Ajd"
      },
      "source": [
        "Diperoleh informasi pada workingday peak hour penyewaan sepeda sebanyak 656 unit."
      ]
    },
    {
      "cell_type": "markdown",
      "metadata": {
        "id": "_WeHlCeX8DC2"
      },
      "source": [
        "## Conclusion"
      ]
    },
    {
      "cell_type": "markdown",
      "metadata": {
        "id": "ZTcyR48Y8DC2"
      },
      "source": [
        "- Conclution pertanyaan 1\n",
        "Dengan melihat perbandingan tersebut, dapat disimpulkan bahwa pada tahun 2012, mayoritas sewa sepeda terjadi pada hari kerja, sementara hari libur memiliki kontribusi yang lebih rendah terhadap total sewa sepeda. Hal ini mungkin disebabkan oleh pola aktivitas masyarakat yang cenderung menggunakan sepeda lebih banyak pada hari-hari kerja dibandingkan dengan hari libur.\n",
        "\n",
        "- Conclution pertanyaan 2\n",
        "Dengan mellihat hasil pivot table, informasi yang diperoleh adalah rata-rata pada jam 11 pagi dengan cuaca 2 (cloudy) dengan jumlah sebanyak 158 sepeda disewakan. Pengaruh cuaca mempengaruhi variasi jumlah penyewaan sepeda, dimana cuaca yang kurang cerah dapat mengurangi minat sewa sepeda pada jam tersebut.\n",
        "\n",
        "- Conclution pertanyaan 3\n",
        "Pada hari kerja (workingday), terlihat pola yang umum, dimana jumlah sewa sepeda cenderung meningkat pada pagi hari menurun selama siang, dan meningkat lagi pada sore hingga malam. Puncak sewa sepeda terlihat pada jam 8 pagi dan 5 sore, yang dapat dikaitkan dengan jam berangkat dan pulang kerja."
      ]
    },
    {
      "cell_type": "markdown",
      "metadata": {
        "id": "hiPn_DyW7UOX"
      },
      "source": [
        "Teknik RFM Analysis"
      ]
    },
    {
      "cell_type": "markdown",
      "metadata": {
        "id": "wmLNu1Xo7aXJ"
      },
      "source": [
        "Recency (informasi terbaru pelanggan berinteraksi dengan bisnis), Frequency (seberapa sering pelanggan berinteraksi), dan Monetary (seberapa banyak uang yang dihabiskan)"
      ]
    },
    {
      "cell_type": "code",
      "execution_count": 29,
      "metadata": {
        "colab": {
          "base_uri": "https://localhost:8080/"
        },
        "id": "6f7dTe-n7JN0",
        "outputId": "41f2cc91-03f0-4f67-c77f-c32def412855"
      },
      "outputs": [
        {
          "name": "stdout",
          "output_type": "stream",
          "text": [
            "   registered  Recency  Frequency  Monetary\n",
            "0           0       38         24        35\n",
            "1           1        0        201       294\n",
            "2           2        1        245       648\n",
            "3           3        0        294      1154\n",
            "4           4        3        307      1602\n"
          ]
        }
      ],
      "source": [
        "# Menghitung rfm\n",
        "current_date = max(df_hour['dteday'])\n",
        "rfm_df = df_hour.groupby('registered').agg({\n",
        "    'dteday': lambda x: (current_date - x.max()).days,  # Recency\n",
        "    'instant': 'count',  # Frequency\n",
        "    'cnt': 'sum'  # Monetary\n",
        "}).reset_index()\n",
        "\n",
        "# Mengganti nama kolom\n",
        "rfm_df.columns = ['registered', 'Recency', 'Frequency', 'Monetary']\n",
        "\n",
        "# Tampilkan hasil\n",
        "print(rfm_df.head())"
      ]
    },
    {
      "cell_type": "markdown",
      "metadata": {
        "id": "bDFRX4go7Q5V"
      },
      "source": [
        "Teknik Clustering"
      ]
    },
    {
      "cell_type": "markdown",
      "metadata": {
        "id": "iBk9I13c7xYm"
      },
      "source": [
        "Teknik mengelompokkan data berdasarkan fiturnya."
      ]
    },
    {
      "cell_type": "code",
      "execution_count": 30,
      "metadata": {
        "colab": {
          "base_uri": "https://localhost:8080/"
        },
        "id": "XztqXtee7DXH",
        "outputId": "821deae8-fac2-4e54-dbf8-0710a29650a4"
      },
      "outputs": [
        {
          "name": "stdout",
          "output_type": "stream",
          "text": [
            "   registered  Frequency  Monetary  cluster\n",
            "0           0         24        35        0\n",
            "1           1        201       294        0\n",
            "2           2        245       648        0\n",
            "3           3        294      1154        0\n",
            "4           4        307      1602        0\n"
          ]
        }
      ],
      "source": [
        "# Menyiapkan data yang akan digunakan untuk clustering\n",
        "X = rfm_df[['Frequency', 'Monetary']]\n",
        "\n",
        "# Menentukan jumlah cluster\n",
        "n_clusters = 3\n",
        "kmeans = KMeans(n_clusters=n_clusters)\n",
        "\n",
        "# Melakukan clustering\n",
        "rfm_df['cluster'] = kmeans.fit_predict(X)\n",
        "\n",
        "print(rfm_df[['registered', 'Frequency', 'Monetary', 'cluster']].head())"
      ]
    },
    {
      "cell_type": "code",
      "execution_count": 31,
      "metadata": {
        "colab": {
          "base_uri": "https://localhost:8080/"
        },
        "id": "zsmf6_FV6TEq",
        "outputId": "3e8fd3c3-64cb-4c41-d228-257a815deeeb"
      },
      "outputs": [
        {
          "name": "stdout",
          "output_type": "stream",
          "text": [
            "   cluster  registered\n",
            "0        0      206067\n",
            "1        1       33829\n",
            "2        2       65817\n"
          ]
        }
      ],
      "source": [
        "# Menghitung total pengguna berdasarkan cluster\n",
        "cluster_totals = rfm_df.groupby('cluster')['registered'].sum().reset_index()\n",
        "\n",
        "print(cluster_totals)"
      ]
    }
  ],
  "metadata": {
    "colab": {
      "provenance": []
    },
    "kernelspec": {
      "display_name": "Python 3",
      "language": "python",
      "name": "python3"
    },
    "language_info": {
      "codemirror_mode": {
        "name": "ipython",
        "version": 3
      },
      "file_extension": ".py",
      "mimetype": "text/x-python",
      "name": "python",
      "nbconvert_exporter": "python",
      "pygments_lexer": "ipython3",
      "version": "3.10.0"
    },
    "orig_nbformat": 4,
    "vscode": {
      "interpreter": {
        "hash": "972b3bf27e332e87b5379f2791f6ef9dfc79c71018c370b0d7423235e20fe4d7"
      }
    }
  },
  "nbformat": 4,
  "nbformat_minor": 0
}
